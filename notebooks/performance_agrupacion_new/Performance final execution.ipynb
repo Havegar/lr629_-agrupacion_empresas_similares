{
 "cells": [
  {
   "cell_type": "markdown",
   "id": "137e8f9f-4a57-4c0a-b08a-454ce3559be4",
   "metadata": {},
   "source": [
    "### Verificacion de AMI en particion grafo completo basado en gridsearch"
   ]
  },
  {
   "cell_type": "code",
   "execution_count": 1,
   "id": "f4f030d2-9ce9-472d-b70c-b5d2c58581c9",
   "metadata": {},
   "outputs": [],
   "source": [
    "import pandas as pd"
   ]
  },
  {
   "cell_type": "code",
   "execution_count": 2,
   "id": "01e3e05c-40a1-45d1-98b2-9f44ff664699",
   "metadata": {},
   "outputs": [],
   "source": [
    "df=pd.read_csv('/home/cdsw/data/processed/resultados_finales/louvain/louvain_all.csv')"
   ]
  },
  {
   "cell_type": "code",
   "execution_count": 3,
   "id": "66355d5a-b092-41c2-8339-1a7026e9671e",
   "metadata": {},
   "outputs": [],
   "source": [
    "df= df.dropna()"
   ]
  },
  {
   "cell_type": "code",
   "execution_count": 4,
   "id": "0d63effb-a11e-41fc-8f53-a4376c7b6ee6",
   "metadata": {},
   "outputs": [],
   "source": [
    "from sklearn.metrics import adjusted_mutual_info_score\n",
    "ami_score = adjusted_mutual_info_score(df['COM_INICIAL'], df['comunidad_0.109257'])"
   ]
  },
  {
   "cell_type": "code",
   "execution_count": 5,
   "id": "434d6370-1fa6-45ea-b1ba-1b11f7a95e52",
   "metadata": {},
   "outputs": [
    {
     "name": "stdout",
     "output_type": "stream",
     "text": [
      "Índice AMI: 0.7248515866289793\n"
     ]
    }
   ],
   "source": [
    "print(f\"Índice AMI: {ami_score}\")"
   ]
  },
  {
   "cell_type": "markdown",
   "id": "30f763c8-510d-4c43-8807-01d7c5903ade",
   "metadata": {},
   "source": [
    "Se verifica la coherencia del valor de AMI con respecto al valor optimo del GridSearch."
   ]
  },
  {
   "cell_type": "code",
   "execution_count": null,
   "id": "23428d35-33e8-4d70-8284-4ad890fb34c0",
   "metadata": {},
   "outputs": [],
   "source": []
  }
 ],
 "metadata": {
  "kernelspec": {
   "display_name": "Python 3 (ipykernel)",
   "language": "python",
   "name": "python3"
  },
  "language_info": {
   "codemirror_mode": {
    "name": "ipython",
    "version": 3
   },
   "file_extension": ".py",
   "mimetype": "text/x-python",
   "name": "python",
   "nbconvert_exporter": "python",
   "pygments_lexer": "ipython3",
   "version": "3.10.13"
  }
 },
 "nbformat": 4,
 "nbformat_minor": 5
}
