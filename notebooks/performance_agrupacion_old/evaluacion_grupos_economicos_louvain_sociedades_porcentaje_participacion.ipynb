{
 "cells": [
  {
   "cell_type": "markdown",
   "id": "ea8ce9e2-feee-4e39-9d13-71b8c11242d5",
   "metadata": {},
   "source": [
    "### Comparacion comunidades del algoritmo de Louvain con base de relaciones societarias con participacion societaria con data de grupos economicos reales"
   ]
  },
  {
   "cell_type": "code",
   "execution_count": 1,
   "id": "172dca0e-9d25-491d-97f0-f5b8f1593206",
   "metadata": {
    "tags": []
   },
   "outputs": [],
   "source": [
    "from pyspark.sql import SparkSession\n",
    "from pyspark.sql.functions import *\n",
    "from pyspark import SparkContext, SparkConf\n",
    "import pyspark\n",
    "import pandas as pd\n",
    "import warnings\n",
    "warnings.filterwarnings('ignore', category=DeprecationWarning)\n",
    "\n",
    "from pyspark_dist_explore import hist\n",
    "import matplotlib.pyplot as plt\n",
    "from pyspark.sql.types import StringType,TimestampType\n",
    "from sklearn.metrics import adjusted_mutual_info_score"
   ]
  },
  {
   "cell_type": "markdown",
   "id": "26b57b3d-285c-40fd-9ce0-9034562ff004",
   "metadata": {},
   "source": [
    "### Inicio de sesion en Spark"
   ]
  },
  {
   "cell_type": "code",
   "execution_count": 2,
   "id": "40b83dc1-0580-4da6-bed3-9fdaa721b36c",
   "metadata": {
    "tags": []
   },
   "outputs": [
    {
     "name": "stderr",
     "output_type": "stream",
     "text": [
      "Setting spark.hadoop.yarn.resourcemanager.principal to hvega.externo\n"
     ]
    }
   ],
   "source": [
    "spark = SparkSession.builder \\\n",
    "  .appName(\"Test\")  \\\n",
    "  .config(\"spark.yarn.access.hadoopFileSystems\",\"abfs://data@datalakesii.dfs.core.windows.net/\") \\\n",
    "  .config(\"spark.executor.memory\", \"24g\") \\\n",
    "  .config(\"spark.driver.memory\", \"12g\")\\\n",
    "  .config(\"spark.executor.cores\", \"12\") \\\n",
    "  .config(\"spark.executor.instances\", \"24\") \\\n",
    "  .config(\"spark.driver.maxResultSize\", \"12g\") \\\n",
    "  .getOrCreate()\n",
    "\n",
    "warnings.filterwarnings('ignore', category=DeprecationWarning)\n",
    "sc=spark.sparkContext\n",
    "sc.setLogLevel ('ERROR')\n",
    "spark.conf.set(\"spark.sql.parquet.int96RebaseModeInRead\", \"CORRECTED\")\n"
   ]
  },
  {
   "cell_type": "markdown",
   "id": "508056c9-c560-4446-8f8d-541cd8ed8bbe",
   "metadata": {},
   "source": [
    "En primer lugar, leemos la data de los grupos conocidos y quitamos los datos duplicados."
   ]
  },
  {
   "cell_type": "code",
   "execution_count": 3,
   "id": "96d4241d-1979-474d-9c93-5006fc09bcda",
   "metadata": {
    "tags": []
   },
   "outputs": [
    {
     "name": "stderr",
     "output_type": "stream",
     "text": [
      "                                                                                \r"
     ]
    }
   ],
   "source": [
    "data_test=spark.read.parquet(\"abfs://data@datalakesii.dfs.core.windows.net/DatosOrigen/LibSDF/GE_APIUX_ARFI_E\").createOrReplaceTempView(\"grupos_conocidos\")"
   ]
  },
  {
   "cell_type": "code",
   "execution_count": 4,
   "id": "586c7bc3-419a-4aa1-ae9f-ed31307753e6",
   "metadata": {
    "tags": []
   },
   "outputs": [
    {
     "name": "stderr",
     "output_type": "stream",
     "text": [
      "[Stage 1:>                                                          (0 + 1) / 1]\r"
     ]
    },
    {
     "name": "stdout",
     "output_type": "stream",
     "text": [
      "+--------------------+----+---+\n",
      "|          PARU_RUT_E| COM|  c|\n",
      "+--------------------+----+---+\n",
      "|+++4/3jzUwtDPSSo3...| 460|  1|\n",
      "|++7yFnLR2jk0Wr0e8...|2478|  1|\n",
      "|++WLg1DbuZQ0MUQEN...|2915|  2|\n",
      "|++YxswwB51l+3P6mO...|1799|  2|\n",
      "|++ggVpHHILx+9SGu8...|1141|  1|\n",
      "|++qoXOhoawzvRog9E...| 999|  1|\n",
      "|+/+yqr5XeK0rOoKkG...|3114|  1|\n",
      "|+/HrCRshGy4wSSO1V...| 126|  1|\n",
      "|+/JZf0TTOGVxNx9tj...| 325|  1|\n",
      "|+/R7TO3QchPVrRHn9...|1091|  1|\n",
      "|+/bsZuw7/ADsTou53...|2202|  1|\n",
      "|+/cJ7EBd5oKjQfhxu...|1018|  2|\n",
      "|+0dURcPCBYLGVKmIt...| 614|  1|\n",
      "|+0f/GM34xojh+tn7A...| 321|  1|\n",
      "|+0ut+stCHqH6UHSAh...|2659|  1|\n",
      "|+0yKx5GSw/Q5FoSrp...|1157|  3|\n",
      "|+1FNxAxXZVPFSdmBl...|1920|  1|\n",
      "|+1YKE5LQO+CE2nB6H...| 595|  1|\n",
      "|+1eDEaPXcR4UTQlQz...|1329|  1|\n",
      "|+1iuDsJuEu9oPjZFA...| 330|  1|\n",
      "+--------------------+----+---+\n",
      "only showing top 20 rows\n",
      "\n"
     ]
    },
    {
     "name": "stderr",
     "output_type": "stream",
     "text": [
      "                                                                                \r"
     ]
    }
   ],
   "source": [
    "spark.sql('select PARU_RUT_E, COM, count(*) as c from grupos_conocidos  group by PARU_RUT_E, COM order by PARU_RUT_E asc').createOrReplaceTempView(\"grupos_conocidos\")\n",
    "spark.sql('select *  from  grupos_conocidos').show()\n",
    "spark.sql('select PARU_RUT_E, COM from  grupos_conocidos').createOrReplaceTempView(\"grupos_conocidos\")\n"
   ]
  },
  {
   "cell_type": "code",
   "execution_count": 5,
   "id": "26e4ef51-40cb-495c-99f5-d726a76f8723",
   "metadata": {
    "tags": []
   },
   "outputs": [
    {
     "name": "stdout",
     "output_type": "stream",
     "text": [
      "+--------+\n",
      "|count(1)|\n",
      "+--------+\n",
      "|   18475|\n",
      "+--------+\n",
      "\n"
     ]
    }
   ],
   "source": [
    "spark.sql('select count(*) from  grupos_conocidos').show()"
   ]
  },
  {
   "cell_type": "markdown",
   "id": "2272585d-3b94-42cc-865f-372a53be654d",
   "metadata": {},
   "source": [
    "Esta es una query para poder filtrar los grupos conocidos cuando queramos un minimo de miembros en cada grupo conocido."
   ]
  },
  {
   "cell_type": "markdown",
   "id": "900e21f2-e442-4964-b588-47f24141bef8",
   "metadata": {},
   "source": [
    "### Lectura de datos de particion de Louvain para diferentes resoluciones"
   ]
  },
  {
   "cell_type": "code",
   "execution_count": 6,
   "id": "5af6879a-f56a-4282-9f2e-1ccdbb3f6689",
   "metadata": {
    "tags": []
   },
   "outputs": [
    {
     "name": "stderr",
     "output_type": "stream",
     "text": [
      "                                                                                \r"
     ]
    }
   ],
   "source": [
    "grupos_malla = spark.read.options(header=True,inferSchema=True,delimiter=\",\").csv(\"/home/cdsw/data/processed/louvain_malla_societaria_pesos/louvain_malla_societaria_pesos.csv\")"
   ]
  },
  {
   "cell_type": "markdown",
   "id": "2e7b887f-cc08-426f-b205-3926200bec12",
   "metadata": {},
   "source": [
    "Cambiamos los nombres de las columnas para no tener poblemas de lectura"
   ]
  },
  {
   "cell_type": "code",
   "execution_count": 7,
   "id": "225b729a-d743-4690-882a-584ce91044f0",
   "metadata": {
    "tags": []
   },
   "outputs": [],
   "source": [
    "grupos_malla = grupos_malla.withColumnRenamed(\"comunidad_0.0\", \"comunidad_00\") \\\n",
    "                           .withColumnRenamed(\"comunidad_0.1\", \"comunidad_01\") \\\n",
    "                           .withColumnRenamed(\"comunidad_0.2\", \"comunidad_02\") \\\n",
    "                           .withColumnRenamed(\"comunidad_0.3\", \"comunidad_03\") \\\n",
    "                           .withColumnRenamed(\"comunidad_0.4\", \"comunidad_04\") \\\n",
    "                           .withColumnRenamed(\"comunidad_0.5\", \"comunidad_05\") \\\n",
    "                           .withColumnRenamed(\"comunidad_0.6\", \"comunidad_06\") \\\n",
    "                           .withColumnRenamed(\"comunidad_0.7\", \"comunidad_07\") \\\n",
    "                           .withColumnRenamed(\"comunidad_0.8\", \"comunidad_08\") \\\n",
    "                           .withColumnRenamed(\"comunidad_0.9\", \"comunidad_09\") \\\n",
    "                           .withColumnRenamed(\"comunidad_1.0\", \"comunidad_10\")\n",
    "\n",
    "grupos_malla.createOrReplaceTempView(\"grupos_malla\")\n"
   ]
  },
  {
   "cell_type": "markdown",
   "id": "855de626-b57e-4c9a-b0fa-be01bcab9658",
   "metadata": {},
   "source": [
    "### Adjusted mutual info score para comunidades de Louvain y comunidades reales"
   ]
  },
  {
   "cell_type": "markdown",
   "id": "055b6c6d-7176-48cb-aec8-225cce16495c",
   "metadata": {},
   "source": [
    "El adjusted_mutual_info_score (AMI) es una métrica utilizada para evaluar la similitud entre dos agrupaciones o particiones de datos. Es una medida de cuánta información comparten dos agrupaciones, ajustada para tener en cuenta la probabilidad de que las agrupaciones coincidan al azar.\n",
    "\n",
    "El AMI se calcula utilizando la información mutua ajustada, que es una medida de cuánta información compartida hay entre dos agrupaciones, normalizada por la entropía de las agrupaciones individuales.\n",
    "\n",
    "El AMI devuelve un valor en el rango [0, 1]. Un valor de 1 indica una perfecta similitud entre las agrupaciones, mientras que un valor cercano a 0 indica que las agrupaciones son independientes. Un valor negativo indica que las agrupaciones son diferentes en comparación con lo que se esperaría al azar. Ahora este indice sera obtenido para cada resolucion de la particion de Louvain. "
   ]
  },
  {
   "cell_type": "code",
   "execution_count": 8,
   "id": "e031dcb6-e9bd-4f6a-9c40-2d0c273f25ea",
   "metadata": {
    "tags": []
   },
   "outputs": [
    {
     "name": "stderr",
     "output_type": "stream",
     "text": [
      "                                                                                \r"
     ]
    },
    {
     "data": {
      "text/plain": [
       "17803"
      ]
     },
     "execution_count": 8,
     "metadata": {},
     "output_type": "execute_result"
    }
   ],
   "source": [
    "df=spark.sql('select PARU_RUT_E,COM, TIPO, comunidad_00,comunidad_01,comunidad_02,comunidad_03,comunidad_04,comunidad_05,comunidad_06,comunidad_07,comunidad_08,comunidad_09,comunidad_10 from  grupos_conocidos left join grupos_malla on grupos_conocidos.PARU_RUT_E=grupos_malla.RUT_UNICO where grupos_malla.RUT_UNICO is not null').toPandas()\n",
    "len(df)"
   ]
  },
  {
   "cell_type": "code",
   "execution_count": 9,
   "id": "cc88b6fd-bad6-4581-89d5-76cb294847a9",
   "metadata": {
    "tags": []
   },
   "outputs": [
    {
     "data": {
      "image/png": "[encoded data removed]",
      "text/plain": [
       "<Figure size 720x432 with 1 Axes>"
      ]
     },
     "metadata": {
      "needs_background": "light"
     },
     "output_type": "display_data"
    }
   ],
   "source": [
    "# Extraer las columnas de resolución y las asignaciones reales\n",
    "columnas_resolucion = ['comunidad_00', 'comunidad_01', 'comunidad_02', 'comunidad_03', 'comunidad_04',\n",
    "                       'comunidad_05', 'comunidad_06', 'comunidad_07', 'comunidad_08', 'comunidad_09', 'comunidad_10']\n",
    "asignacion_real = df['COM']\n",
    "\n",
    "# Calcular el Índice de Ajuste Mutuo para cada columna de resolución\n",
    "ami_scores = []\n",
    "for columna in columnas_resolucion:\n",
    "    asignacion_predicha = df[columna]\n",
    "    ami = adjusted_mutual_info_score(asignacion_real, asignacion_predicha)\n",
    "    ami_scores.append(ami)\n",
    "\n",
    "# Graficar los resultados\n",
    "plt.figure(figsize=(10, 6))\n",
    "plt.bar(columnas_resolucion, ami_scores, color='skyblue')\n",
    "plt.xlabel('Columna de resolución')\n",
    "plt.ylabel('Índice de Ajuste Mutuo (AMI)')\n",
    "plt.title('Índice de Ajuste Mutuo para diferentes valores de resolución Louvain')\n",
    "plt.xticks(rotation=45)\n",
    "plt.ylim(0, 1)\n",
    "plt.grid(axis='y', linestyle='--', alpha=0.7)\n",
    "plt.tight_layout()\n",
    "plt.show()"
   ]
  },
  {
   "cell_type": "code",
   "execution_count": 10,
   "id": "44c338d5-8b35-4942-9221-2effd009912b",
   "metadata": {},
   "outputs": [
    {
     "name": "stdout",
     "output_type": "stream",
     "text": [
      "0.6665955564063331\n",
      "0.7112855258320938\n"
     ]
    }
   ],
   "source": [
    "import numpy as np\n",
    "promedio_ami = np.mean(ami_scores)\n",
    "maximo_ami = np.max(ami_scores)\n",
    "print(promedio_ami)\n",
    "print(maximo_ami)"
   ]
  },
  {
   "cell_type": "markdown",
   "id": "af109317-07a3-4379-aec7-7fed486bce53",
   "metadata": {},
   "source": [
    "Un valor de Adjusted Mutual Information (AMI) inferior a 0.2 indica una asociación muy débil o insignificante entre las particiones obtenidas por el algoritmo Louvain en diferentes resoluciones. El Adjusted Mutual Information mide la similitud entre dos agrupaciones, teniendo en cuenta la posibilidad de asociaciones aleatorias. Por lo tanto, un valor bajo de AMI sugiere que las agrupaciones no están relacionadas de manera significativa o que hay muy poca coincidencia entre ellas."
   ]
  },
  {
   "cell_type": "markdown",
   "id": "011e23c3-0a50-4463-96bc-448829092f4b",
   "metadata": {},
   "source": [
    "# Modularidad vs resolucion"
   ]
  },
  {
   "cell_type": "code",
   "execution_count": 12,
   "id": "90d2687d-0a38-4ab5-aa1b-d84ec3cc7cb6",
   "metadata": {
    "tags": []
   },
   "outputs": [],
   "source": [
    "df=pd.read_csv('/home/cdsw/data/processed/louvain_malla_societaria_pesos/resolucion_modularidad_sociedad_pesos.csv')"
   ]
  },
  {
   "cell_type": "code",
   "execution_count": 13,
   "id": "219d227e-b740-4b4c-b7a2-ca8b00baae7f",
   "metadata": {
    "tags": []
   },
   "outputs": [
    {
     "data": {
      "image/png": "[encoded data removed]",
      "text/plain": [
       "<Figure size 720x432 with 1 Axes>"
      ]
     },
     "metadata": {
      "needs_background": "light"
     },
     "output_type": "display_data"
    }
   ],
   "source": [
    "# Crear el gráfico\n",
    "plt.figure(figsize=(10, 6))\n",
    "plt.plot(df['resolucion'], df['modularidad'], marker='o', linestyle='-', color='b')\n",
    "plt.xlabel('Resolución')\n",
    "plt.ylabel('Modularidad')\n",
    "plt.title('Modularidad vs Resolución')\n",
    "plt.grid(True)\n",
    "plt.show()"
   ]
  },
  {
   "cell_type": "code",
   "execution_count": null,
   "id": "290c876a-3b46-4c16-a4c5-bb3524a25407",
   "metadata": {},
   "outputs": [],
   "source": []
  }
 ],
 "metadata": {
  "kernelspec": {
   "display_name": "Python 3 (ipykernel)",
   "language": "python",
   "name": "python3"
  },
  "language_info": {
   "codemirror_mode": {
    "name": "ipython",
    "version": 3
   },
   "file_extension": ".py",
   "mimetype": "text/x-python",
   "name": "python",
   "nbconvert_exporter": "python",
   "pygments_lexer": "ipython3",
   "version": "3.10.13"
  }
 },
 "nbformat": 4,
 "nbformat_minor": 5
}
