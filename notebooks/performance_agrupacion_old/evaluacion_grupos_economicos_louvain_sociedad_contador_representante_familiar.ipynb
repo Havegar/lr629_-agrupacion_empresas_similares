{
 "cells": [
  {
   "cell_type": "markdown",
   "id": "ea8ce9e2-feee-4e39-9d13-71b8c11242d5",
   "metadata": {},
   "source": [
    "### Comparacion comunidades del algoritmo de Louvain con base de relaciones societarias, contador, representante y familiares (hijo, conyuge) con datagrupos economicos reales"
   ]
  },
  {
   "cell_type": "code",
   "execution_count": 1,
   "id": "172dca0e-9d25-491d-97f0-f5b8f1593206",
   "metadata": {
    "tags": []
   },
   "outputs": [],
   "source": [
    "from pyspark.sql import SparkSession\n",
    "from pyspark.sql.functions import *\n",
    "from pyspark import SparkContext, SparkConf\n",
    "import pyspark\n",
    "import pandas as pd\n",
    "import warnings\n",
    "warnings.filterwarnings('ignore', category=DeprecationWarning)\n",
    "\n",
    "from pyspark_dist_explore import hist\n",
    "import matplotlib.pyplot as plt\n",
    "from pyspark.sql.types import StringType,TimestampType\n",
    "from sklearn.metrics import adjusted_mutual_info_score"
   ]
  },
  {
   "cell_type": "markdown",
   "id": "26b57b3d-285c-40fd-9ce0-9034562ff004",
   "metadata": {},
   "source": [
    "### Inicio de sesion en Spark"
   ]
  },
  {
   "cell_type": "code",
   "execution_count": 2,
   "id": "40b83dc1-0580-4da6-bed3-9fdaa721b36c",
   "metadata": {
    "tags": []
   },
   "outputs": [
    {
     "name": "stderr",
     "output_type": "stream",
     "text": [
      "Setting spark.hadoop.yarn.resourcemanager.principal to hvega.externo\n"
     ]
    }
   ],
   "source": [
    "spark = SparkSession.builder \\\n",
    "  .appName(\"Test\")  \\\n",
    "  .config(\"spark.yarn.access.hadoopFileSystems\",\"abfs://data@datalakesii.dfs.core.windows.net/\") \\\n",
    "  .config(\"spark.executor.memory\", \"24g\") \\\n",
    "  .config(\"spark.driver.memory\", \"12g\")\\\n",
    "  .config(\"spark.executor.cores\", \"12\") \\\n",
    "  .config(\"spark.executor.instances\", \"24\") \\\n",
    "  .config(\"spark.driver.maxResultSize\", \"12g\") \\\n",
    "  .getOrCreate()\n",
    "\n",
    "warnings.filterwarnings('ignore', category=DeprecationWarning)\n",
    "sc=spark.sparkContext\n",
    "sc.setLogLevel ('ERROR')\n",
    "spark.conf.set(\"spark.sql.parquet.int96RebaseModeInRead\", \"CORRECTED\")\n"
   ]
  },
  {
   "cell_type": "markdown",
   "id": "508056c9-c560-4446-8f8d-541cd8ed8bbe",
   "metadata": {},
   "source": [
    "En primer lugar, leemos la data de los grupos conocidos y quitamos los datos duplicados."
   ]
  },
  {
   "cell_type": "code",
   "execution_count": 3,
   "id": "96d4241d-1979-474d-9c93-5006fc09bcda",
   "metadata": {
    "tags": []
   },
   "outputs": [
    {
     "name": "stderr",
     "output_type": "stream",
     "text": [
      "                                                                                \r"
     ]
    }
   ],
   "source": [
    "data_test=spark.read.parquet(\"abfs://data@datalakesii.dfs.core.windows.net/DatosOrigen/LibSDF/GE_APIUX_ARFI_E\").createOrReplaceTempView(\"grupos_conocidos\")"
   ]
  },
  {
   "cell_type": "code",
   "execution_count": 4,
   "id": "586c7bc3-419a-4aa1-ae9f-ed31307753e6",
   "metadata": {
    "tags": []
   },
   "outputs": [
    {
     "name": "stderr",
     "output_type": "stream",
     "text": [
      "[Stage 1:>                                                          (0 + 1) / 1]\r"
     ]
    },
    {
     "name": "stdout",
     "output_type": "stream",
     "text": [
      "+--------------------+----+---+\n",
      "|          PARU_RUT_E| COM|  c|\n",
      "+--------------------+----+---+\n",
      "|+++4/3jzUwtDPSSo3...| 460|  1|\n",
      "|++7yFnLR2jk0Wr0e8...|2478|  1|\n",
      "|++WLg1DbuZQ0MUQEN...|2915|  2|\n",
      "|++YxswwB51l+3P6mO...|1799|  2|\n",
      "|++ggVpHHILx+9SGu8...|1141|  1|\n",
      "|++qoXOhoawzvRog9E...| 999|  1|\n",
      "|+/+yqr5XeK0rOoKkG...|3114|  1|\n",
      "|+/HrCRshGy4wSSO1V...| 126|  1|\n",
      "|+/JZf0TTOGVxNx9tj...| 325|  1|\n",
      "|+/R7TO3QchPVrRHn9...|1091|  1|\n",
      "|+/bsZuw7/ADsTou53...|2202|  1|\n",
      "|+/cJ7EBd5oKjQfhxu...|1018|  2|\n",
      "|+0dURcPCBYLGVKmIt...| 614|  1|\n",
      "|+0f/GM34xojh+tn7A...| 321|  1|\n",
      "|+0ut+stCHqH6UHSAh...|2659|  1|\n",
      "|+0yKx5GSw/Q5FoSrp...|1157|  3|\n",
      "|+1FNxAxXZVPFSdmBl...|1920|  1|\n",
      "|+1YKE5LQO+CE2nB6H...| 595|  1|\n",
      "|+1eDEaPXcR4UTQlQz...|1329|  1|\n",
      "|+1iuDsJuEu9oPjZFA...| 330|  1|\n",
      "+--------------------+----+---+\n",
      "only showing top 20 rows\n",
      "\n"
     ]
    },
    {
     "name": "stderr",
     "output_type": "stream",
     "text": [
      "                                                                                \r"
     ]
    }
   ],
   "source": [
    "spark.sql('select PARU_RUT_E, COM, count(*) as c from grupos_conocidos  group by PARU_RUT_E, COM order by PARU_RUT_E asc').createOrReplaceTempView(\"grupos_conocidos\")\n",
    "spark.sql('select *  from  grupos_conocidos').show()\n",
    "spark.sql('select PARU_RUT_E, COM from  grupos_conocidos').createOrReplaceTempView(\"grupos_conocidos\")\n"
   ]
  },
  {
   "cell_type": "code",
   "execution_count": 5,
   "id": "26e4ef51-40cb-495c-99f5-d726a76f8723",
   "metadata": {
    "tags": []
   },
   "outputs": [
    {
     "name": "stdout",
     "output_type": "stream",
     "text": [
      "+--------+\n",
      "|count(1)|\n",
      "+--------+\n",
      "|   18475|\n",
      "+--------+\n",
      "\n"
     ]
    }
   ],
   "source": [
    "spark.sql('select count(*) from  grupos_conocidos').show()"
   ]
  },
  {
   "cell_type": "markdown",
   "id": "2272585d-3b94-42cc-865f-372a53be654d",
   "metadata": {},
   "source": [
    "Esta es una query para poder filtrar los grupos conocidos cuando queramos un minimo de miembros en cada grupo conocido."
   ]
  },
  {
   "cell_type": "markdown",
   "id": "900e21f2-e442-4964-b588-47f24141bef8",
   "metadata": {},
   "source": [
    "### Lectura de datos de particion de Louvain para diferentes resoluciones"
   ]
  },
  {
   "cell_type": "code",
   "execution_count": 12,
   "id": "5af6879a-f56a-4282-9f2e-1ccdbb3f6689",
   "metadata": {
    "tags": []
   },
   "outputs": [
    {
     "name": "stderr",
     "output_type": "stream",
     "text": [
      "                                                                                \r"
     ]
    }
   ],
   "source": [
    "grupos_malla = spark.read.options(header=True,inferSchema=True,delimiter=\",\").csv(\"/home/cdsw/data/processed/louvain_malla_societaria_contador_representante_familiares/louvain_malla_societaria_contador_representante_familiares.csv\")"
   ]
  },
  {
   "cell_type": "code",
   "execution_count": 13,
   "id": "4cf3db2f-a9d5-4aed-b490-0c61092b1d55",
   "metadata": {
    "tags": []
   },
   "outputs": [
    {
     "name": "stderr",
     "output_type": "stream",
     "text": [
      "[Stage 22:>                                                         (0 + 1) / 1]\r"
     ]
    },
    {
     "name": "stdout",
     "output_type": "stream",
     "text": [
      "+--------------------+-------------+-------------+------------------+-------------+------------------+-------------+------------------+-------------+------------------+-------------+------------------+-------------+-----------------+-------------+------------------+-------------+------------------+-------------+------------------+-------------+------------------+-------------+------------------+\n",
      "|           RUT_UNICO|         TIPO|comunidad_0.0|   modularidad_0.0|comunidad_0.1|   modularidad_0.1|comunidad_0.2|   modularidad_0.2|comunidad_0.3|   modularidad_0.3|comunidad_0.4|   modularidad_0.4|comunidad_0.5|  modularidad_0.5|comunidad_0.6|   modularidad_0.6|comunidad_0.7|   modularidad_0.7|comunidad_0.8|   modularidad_0.8|comunidad_0.9|   modularidad_0.9|comunidad_1.0|   modularidad_1.0|\n",
      "+--------------------+-------------+-------------+------------------+-------------+------------------+-------------+------------------+-------------+------------------+-------------+------------------+-------------+-----------------+-------------+------------------+-------------+------------------+-------------+------------------+-------------+------------------+-------------+------------------+\n",
      "|+++OSb06k9OxVqpsU...|      PERSONA|      7039440|0.6177114992563442|       518349|0.8407268799312351|       521300|0.8409215113168589|       236862|0.8880159467883815|        22376|0.9090540669564077|         3004|0.915110403452901|          503|0.9176246887998493|          408|0.9187442793547878|          720|0.9191987884387988|         1047|0.9195492855921428|         1225|0.9196977203810246|\n",
      "|+++RS6Iokc5Pbp5+5...|      PERSONA|      3753420|0.6177114992563442|       823711|0.8407268799312351|       201985|0.8409215113168589|       147884|0.8880159467883815|        99007|0.9090540669564077|         1034|0.915110403452901|           26|0.9176246887998493|           78|0.9187442793547878|          260|0.9191987884387988|          124|0.9195492855921428|         1014|0.9196977203810246|\n",
      "|++00DcdTZAhzp008i...|      PERSONA|      2645523|0.6177114992563442|      1674449|0.8407268799312351|      1673140|0.8409215113168589|       317183|0.8880159467883815|        22680|0.9090540669564077|            4|0.915110403452901|           57|0.9176246887998493|          400|0.9187442793547878|           30|0.9191987884387988|          887|0.9195492855921428|          352|0.9196977203810246|\n",
      "|++0TZZ4dLrh7Mcrrq...|     SOCIEDAD|      1471991|0.6177114992563442|        57971|0.8407268799312351|       428033|0.8409215113168589|       153638|0.8880159467883815|        87612|0.9090540669564077|          111|0.915110403452901|          448|0.9176246887998493|          460|0.9187442793547878|          755|0.9191987884387988|         1366|0.9195492855921428|          383|0.9196977203810246|\n",
      "|++1Ijxv8EYognqql4...|      PERSONA|      1531731|0.6177114992563442|       244975|0.8407268799312351|       990690|0.8409215113168589|       197947|0.8880159467883815|        25643|0.9090540669564077|         5391|0.915110403452901|          935|0.9176246887998493|          707|0.9187442793547878|          931|0.9191987884387988|          151|0.9195492855921428|            7|0.9196977203810246|\n",
      "|++26dWqtB5ZHD5uK1...|      PERSONA|      1827718|0.6177114992563442|      1077971|0.8407268799312351|      1080210|0.8409215113168589|       592397|0.8880159467883815|        81895|0.9090540669564077|          198|0.915110403452901|           85|0.9176246887998493|          599|0.9187442793547878|         1047|0.9191987884387988|           31|0.9195492855921428|          303|0.9196977203810246|\n",
      "|++2IjwT++p6O2fIJ+...|REPRESENTANTE|      1880144|0.6177114992563442|       517414|0.8407268799312351|       520361|0.8409215113168589|       107659|0.8880159467883815|        43238|0.9090540669564077|          203|0.915110403452901|           80|0.9176246887998493|          147|0.9187442793547878|          317|0.9191987884387988|          329|0.9195492855921428|          316|0.9196977203810246|\n",
      "|++2mOmlMTMf8FP8AS...|      PERSONA|       708665|0.6177114992563442|      1153570|0.8407268799312351|      1155497|0.8409215113168589|       340185|0.8880159467883815|        27157|0.9090540669564077|          593|0.915110403452901|          762|0.9176246887998493|          163|0.9187442793547878|           48|0.9191987884387988|          538|0.9195492855921428|          102|0.9196977203810246|\n",
      "|++2q4x0L9oUxf/zV1...|      PERSONA|      2958891|0.6177114992563442|       494125|0.8407268799312351|         9882|0.8409215113168589|            1|0.8880159467883815|            1|0.9090540669564077|            1|0.915110403452901|           92|0.9176246887998493|           33|0.9187442793547878|           21|0.9191987884387988|          725|0.9195492855921428|           18|0.9196977203810246|\n",
      "|++4Ynd3mLo1nBaJ7E...|     SOCIEDAD|      3187562|0.6177114992563442|      1811721|0.8407268799312351|        69981|0.8409215113168589|       106587|0.8880159467883815|         2258|0.9090540669564077|           12|0.915110403452901|          994|0.9176246887998493|          434|0.9187442793547878|          304|0.9191987884387988|         1097|0.9195492855921428|          566|0.9196977203810246|\n",
      "|++68aqhS8NmmiwJ0a...|      PERSONA|      1620632|0.6177114992563442|       617828|0.8407268799312351|       620962|0.8409215113168589|            1|0.8880159467883815|        47607|0.9090540669564077|         2801|0.915110403452901|           46|0.9176246887998493|         1182|0.9187442793547878|          480|0.9191987884387988|         1442|0.9195492855921428|           15|0.9196977203810246|\n",
      "|++76gUpVG7mbsLrw/...|      PERSONA|      1464479|0.6177114992563442|      1451965|0.8407268799312351|      1451948|0.8409215113168589|       597023|0.8880159467883815|        83171|0.9090540669564077|         3315|0.915110403452901|          195|0.9176246887998493|         1093|0.9187442793547878|          773|0.9191987884387988|         1482|0.9195492855921428|         1113|0.9196977203810246|\n",
      "|++7GSarR9hnD2k5kb...|      PERSONA|      1869681|0.6177114992563442|       121642|0.8407268799312351|       684575|0.8409215113168589|       441879|0.8880159467883815|        42514|0.9090540669564077|            3|0.915110403452901|            3|0.9176246887998493|           28|0.9187442793547878|           73|0.9191987884387988|          185|0.9195492855921428|          186|0.9196977203810246|\n",
      "|++ALhEK6VIuLwIdli...|      PERSONA|      1159917|0.6177114992563442|       402420|0.8407268799312351|       302073|0.8409215113168589|       224173|0.8880159467883815|        39703|0.9090540669564077|            6|0.915110403452901|            4|0.9176246887998493|            3|0.9187442793547878|            9|0.9191987884387988|            3|0.9195492855921428|            3|0.9196977203810246|\n",
      "|++B09Ggvuwump4RLR...|      PERSONA|      2346598|0.6177114992563442|      1650866|0.8407268799312351|            1|0.8409215113168589|            1|0.8880159467883815|            1|0.9090540669564077|            1|0.915110403452901|            1|0.9176246887998493|            1|0.9187442793547878|            1|0.9191987884387988|            1|0.9195492855921428|          795|0.9196977203810246|\n",
      "|++BttxIm3VHYY8A2X...|      PERSONA|      5255982|0.6177114992563442|       946799|0.8407268799312351|       314561|0.8409215113168589|       143947|0.8880159467883815|        47890|0.9090540669564077|          804|0.915110403452901|           36|0.9176246887998493|          143|0.9187442793547878|           54|0.9191987884387988|          738|0.9195492855921428|          340|0.9196977203810246|\n",
      "|++Caq2tCTZVamYIfc...|REPRESENTANTE|      4392822|0.6177114992563442|            1|0.8407268799312351|            1|0.8409215113168589|            1|0.8880159467883815|            1|0.9090540669564077|            1|0.915110403452901|            1|0.9176246887998493|            1|0.9187442793547878|            1|0.9191987884387988|            1|0.9195492855921428|            1|0.9196977203810246|\n",
      "|++CnaHLm0T3aFHcyV...|      PERSONA|      3525375|0.6177114992563442|      1747210|0.8407268799312351|      1512724|0.8409215113168589|            1|0.8880159467883815|        54360|0.9090540669564077|          138|0.915110403452901|           12|0.9176246887998493|         1236|0.9187442793547878|          408|0.9191987884387988|            1|0.9195492855921428|         1629|0.9196977203810246|\n",
      "|++EwkDWHsZfnzAF28...|      PERSONA|      5461092|0.6177114992563442|      1687554|0.8407268799312351|       315905|0.8409215113168589|            1|0.8880159467883815|        49344|0.9090540669564077|           77|0.915110403452901|          449|0.9176246887998493|          927|0.9187442793547878|           96|0.9191987884387988|          127|0.9195492855921428|          239|0.9196977203810246|\n",
      "|++I7UjwrRn6+iYzhM...|      PERSONA|       188826|0.6177114992563442|       411049|0.8407268799312351|       413404|0.8409215113168589|       342191|0.8880159467883815|        11747|0.9090540669564077|            3|0.915110403452901|            3|0.9176246887998493|            4|0.9187442793547878|           58|0.9191987884387988|         1081|0.9195492855921428|           33|0.9196977203810246|\n",
      "+--------------------+-------------+-------------+------------------+-------------+------------------+-------------+------------------+-------------+------------------+-------------+------------------+-------------+-----------------+-------------+------------------+-------------+------------------+-------------+------------------+-------------+------------------+-------------+------------------+\n",
      "only showing top 20 rows\n",
      "\n"
     ]
    },
    {
     "name": "stderr",
     "output_type": "stream",
     "text": [
      "                                                                                \r"
     ]
    }
   ],
   "source": [
    "grupos_malla.show()"
   ]
  },
  {
   "cell_type": "markdown",
   "id": "2e7b887f-cc08-426f-b205-3926200bec12",
   "metadata": {},
   "source": [
    "Cambiamos los nombres de las columnas para no tener poblemas de lectura"
   ]
  },
  {
   "cell_type": "code",
   "execution_count": 7,
   "id": "225b729a-d743-4690-882a-584ce91044f0",
   "metadata": {
    "tags": []
   },
   "outputs": [],
   "source": [
    "grupos_malla = grupos_malla.withColumnRenamed(\"comunidad_0.0\", \"comunidad_00\") \\\n",
    "                           .withColumnRenamed(\"comunidad_0.1\", \"comunidad_01\") \\\n",
    "                           .withColumnRenamed(\"comunidad_0.2\", \"comunidad_02\") \\\n",
    "                           .withColumnRenamed(\"comunidad_0.3\", \"comunidad_03\") \\\n",
    "                           .withColumnRenamed(\"comunidad_0.4\", \"comunidad_04\") \\\n",
    "                           .withColumnRenamed(\"comunidad_0.5\", \"comunidad_05\") \\\n",
    "                           .withColumnRenamed(\"comunidad_0.6\", \"comunidad_06\") \\\n",
    "                           .withColumnRenamed(\"comunidad_0.7\", \"comunidad_07\") \\\n",
    "                           .withColumnRenamed(\"comunidad_0.8\", \"comunidad_08\") \\\n",
    "                           .withColumnRenamed(\"comunidad_0.9\", \"comunidad_09\") \\\n",
    "                           .withColumnRenamed(\"comunidad_1.0\", \"comunidad_10\")\n",
    "\n",
    "grupos_malla.createOrReplaceTempView(\"grupos_malla\")\n"
   ]
  },
  {
   "cell_type": "markdown",
   "id": "855de626-b57e-4c9a-b0fa-be01bcab9658",
   "metadata": {},
   "source": [
    "### Adjusted mutual info score para comunidades de Louvain y comunidades reales"
   ]
  },
  {
   "cell_type": "markdown",
   "id": "055b6c6d-7176-48cb-aec8-225cce16495c",
   "metadata": {},
   "source": [
    "El adjusted_mutual_info_score (AMI) es una métrica utilizada para evaluar la similitud entre dos agrupaciones o particiones de datos. Es una medida de cuánta información comparten dos agrupaciones, ajustada para tener en cuenta la probabilidad de que las agrupaciones coincidan al azar.\n",
    "\n",
    "El AMI se calcula utilizando la información mutua ajustada, que es una medida de cuánta información compartida hay entre dos agrupaciones, normalizada por la entropía de las agrupaciones individuales.\n",
    "\n",
    "El AMI devuelve un valor en el rango [0, 1]. Un valor de 1 indica una perfecta similitud entre las agrupaciones, mientras que un valor cercano a 0 indica que las agrupaciones son independientes. Un valor negativo indica que las agrupaciones son diferentes en comparación con lo que se esperaría al azar. Ahora este indice sera obtenido para cada resolucion de la particion de Louvain. "
   ]
  },
  {
   "cell_type": "code",
   "execution_count": 8,
   "id": "e031dcb6-e9bd-4f6a-9c40-2d0c273f25ea",
   "metadata": {
    "tags": []
   },
   "outputs": [
    {
     "name": "stderr",
     "output_type": "stream",
     "text": [
      "                                                                                \r"
     ]
    },
    {
     "data": {
      "text/plain": [
       "18469"
      ]
     },
     "execution_count": 8,
     "metadata": {},
     "output_type": "execute_result"
    }
   ],
   "source": [
    "df=spark.sql('select PARU_RUT_E,COM, TIPO, comunidad_00,comunidad_01,comunidad_02,comunidad_03,comunidad_04,comunidad_05,comunidad_06,comunidad_07,comunidad_08,comunidad_09,comunidad_10 from  grupos_conocidos left join grupos_malla on grupos_conocidos.PARU_RUT_E=grupos_malla.RUT_UNICO where grupos_malla.RUT_UNICO is not null').toPandas()\n",
    "\n",
    "len(df)"
   ]
  },
  {
   "cell_type": "code",
   "execution_count": 9,
   "id": "cc88b6fd-bad6-4581-89d5-76cb294847a9",
   "metadata": {
    "tags": []
   },
   "outputs": [
    {
     "data": {
      "image/png": "[encoded data removed]",
      "text/plain": [
       "<Figure size 720x432 with 1 Axes>"
      ]
     },
     "metadata": {
      "needs_background": "light"
     },
     "output_type": "display_data"
    }
   ],
   "source": [
    "# Extraer las columnas de resolución y las asignaciones reales\n",
    "columnas_resolucion = ['comunidad_00', 'comunidad_01', 'comunidad_02', 'comunidad_03', 'comunidad_04',\n",
    "                       'comunidad_05', 'comunidad_06', 'comunidad_07', 'comunidad_08', 'comunidad_09', 'comunidad_10']\n",
    "asignacion_real = df['COM']\n",
    "\n",
    "# Calcular el Índice de Ajuste Mutuo para cada columna de resolución\n",
    "ami_scores = []\n",
    "for columna in columnas_resolucion:\n",
    "    asignacion_predicha = df[columna]\n",
    "    ami = adjusted_mutual_info_score(asignacion_real, asignacion_predicha)\n",
    "    ami_scores.append(ami)\n",
    "\n",
    "# Graficar los resultados\n",
    "plt.figure(figsize=(10, 6))\n",
    "plt.bar(columnas_resolucion, ami_scores, color='skyblue')\n",
    "plt.xlabel('Columna de resolución')\n",
    "plt.ylabel('Índice de Ajuste Mutuo (AMI)')\n",
    "plt.title('Índice de Ajuste Mutuo para diferentes valores de resolución Louvain')\n",
    "plt.xticks(rotation=45)\n",
    "plt.ylim(0, 1)\n",
    "plt.grid(axis='y', linestyle='--', alpha=0.7)\n",
    "plt.tight_layout()\n",
    "plt.show()\n"
   ]
  },
  {
   "cell_type": "code",
   "execution_count": 10,
   "id": "4234564b-dba7-4de0-b28f-432f8cb39ade",
   "metadata": {
    "tags": []
   },
   "outputs": [
    {
     "name": "stderr",
     "output_type": "stream",
     "text": [
      "                                                                                \r"
     ]
    }
   ],
   "source": [
    "df2=spark.sql('select PARU_RUT_E,COM, TIPO, comunidad_00,comunidad_01,comunidad_02,comunidad_03,comunidad_04,comunidad_05,comunidad_06,comunidad_07,comunidad_08,comunidad_09,comunidad_10 from  grupos_conocidos left join grupos_malla on grupos_conocidos.PARU_RUT_E=grupos_malla.RUT_UNICO where grupos_malla.RUT_UNICO is not null').toPandas()\n"
   ]
  },
  {
   "cell_type": "code",
   "execution_count": 11,
   "id": "4622954d-c3c1-44e3-9043-1c519166af3e",
   "metadata": {
    "tags": []
   },
   "outputs": [
    {
     "name": "stdout",
     "output_type": "stream",
     "text": [
      "0.3487794279909562\n",
      "0.7782454024523656\n"
     ]
    }
   ],
   "source": [
    "import numpy as np\n",
    "promedio_ami = np.mean(ami_scores)\n",
    "maximo_ami = np.max(ami_scores)\n",
    "print(promedio_ami)\n",
    "print(maximo_ami)"
   ]
  },
  {
   "cell_type": "markdown",
   "id": "57bbade0-399d-4603-807a-a3276550bc83",
   "metadata": {},
   "source": [
    "# Modularidad vs resolucion"
   ]
  },
  {
   "cell_type": "code",
   "execution_count": 16,
   "id": "fb924a4b-3730-4a75-b62d-94e1bc6a5fa7",
   "metadata": {
    "tags": []
   },
   "outputs": [],
   "source": [
    "df=pd.read_csv('/home/cdsw/data/processed/louvain_malla_societaria_contador_representante_familiares/resolucion_modularidad.csv')"
   ]
  },
  {
   "cell_type": "code",
   "execution_count": 18,
   "id": "635d77a5-506e-4b82-9fd1-f62537aee838",
   "metadata": {
    "tags": []
   },
   "outputs": [
    {
     "data": {
      "image/png": "[encoded data removed]",
      "text/plain": [
       "<Figure size 720x432 with 1 Axes>"
      ]
     },
     "metadata": {
      "needs_background": "light"
     },
     "output_type": "display_data"
    }
   ],
   "source": [
    "# Crear el gráfico\n",
    "plt.figure(figsize=(10, 6))\n",
    "plt.plot(df['resolucion'], df['modularidad'], marker='o', linestyle='-', color='b')\n",
    "plt.xlabel('Resolución')\n",
    "plt.ylabel('Modularidad')\n",
    "plt.title('Modularidad vs Resolución')\n",
    "plt.grid(True)\n",
    "plt.show()"
   ]
  },
  {
   "cell_type": "code",
   "execution_count": null,
   "id": "3f3c74d9-0e21-4dce-9023-4340f12cd010",
   "metadata": {},
   "outputs": [],
   "source": []
  }
 ],
 "metadata": {
  "kernelspec": {
   "display_name": "Python 3 (ipykernel)",
   "language": "python",
   "name": "python3"
  },
  "language_info": {
   "codemirror_mode": {
    "name": "ipython",
    "version": 3
   },
   "file_extension": ".py",
   "mimetype": "text/x-python",
   "name": "python",
   "nbconvert_exporter": "python",
   "pygments_lexer": "ipython3",
   "version": "3.10.13"
  }
 },
 "nbformat": 4,
 "nbformat_minor": 5
}
