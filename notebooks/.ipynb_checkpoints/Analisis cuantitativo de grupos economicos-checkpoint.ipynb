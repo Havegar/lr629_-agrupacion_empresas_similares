{
 "cells": [
  {
   "cell_type": "markdown",
   "id": "1fd70b96-f09c-4326-a42e-7bfca74e7ef5",
   "metadata": {},
   "source": [
    "### Estudio de grupos economicos \n",
    "\n",
    "Para realizar el estudio de caracteristicas sobre diferentes grupos, lo que se hara es analizar cada dato asociado a un contribuyente sin construir un dataframe completo, pues para ciertas variables hay mas de dos valores por contribuyente lo que puede llevar a distorsiones en las estadisticas."
   ]
  },
  {
   "cell_type": "code",
   "execution_count": 1,
   "id": "1863c32a-f106-4abd-8900-35b9415baf40",
   "metadata": {
    "tags": []
   },
   "outputs": [],
   "source": [
    "from pyspark.sql import SparkSession\n",
    "from pyspark.sql.functions import *\n",
    "from pyspark import SparkContext, SparkConf\n",
    "import pyspark\n",
    "import pandas as pd\n",
    "import seaborn as sns\n",
    "import matplotlib.pyplot as plt\n",
    "import warnings\n",
    "warnings.filterwarnings('ignore', category=DeprecationWarning)\n",
    "import matplotlib.pyplot as plt\n",
    "\n",
    "\n"
   ]
  },
  {
   "cell_type": "code",
   "execution_count": 3,
   "id": "fc675428-a0ab-49df-b8ac-7c37290d7400",
   "metadata": {
    "tags": []
   },
   "outputs": [],
   "source": [
    "spark = SparkSession.builder \\\n",
    "  .appName(\"Test\")  \\\n",
    "  .config(\"spark.kerberos.access.hadoopFileSystems\",\"abfs://data@datalakesii.dfs.core.windows.net/\") \\\n",
    "  .config(\"spark.executor.memory\", \"24g\") \\\n",
    "  .config(\"spark.driver.memory\", \"12g\")\\\n",
    "  .config(\"spark.executor.cores\", \"12\") \\\n",
    "  .config(\"spark.executor.instances\", \"24\") \\\n",
    "  .config(\"spark.driver.maxResultSize\", \"12g\") \\\n",
    "  .getOrCreate()\n",
    "warnings.filterwarnings('ignore', category=DeprecationWarning)\n",
    "sc=spark.sparkContext\n",
    "sc.setLogLevel ('ERROR')\n",
    "spark.conf.set(\"spark.sql.parquet.int96RebaseModeInRead\", \"CORRECTED\")\n",
    "spark.conf.set(\"spark.sql.parquet.enableVectorizedReader\",\"false\")\n",
    "spark.conf.set(\"spark.sql.parquet.int96RebaseModeInRead\", \"CORRECTED\")\n",
    "spark.conf.set(\"spark.sql.parquet.int96RebaseModeInWrite\", \"CORRECTED\")\n",
    "spark.conf.set(\"spark.sql.parquet.datetimeRebaseModeInRead\", \"CORRECTED\")\n",
    "spark.conf.set(\"spark.sql.parquet.datetimeRebaseModeInWrite\", \"CORRECTED\")"
   ]
  },
  {
   "cell_type": "markdown",
   "id": "08658284-f38a-40c7-b3f1-382a29c3d314",
   "metadata": {},
   "source": [
    "### Datos de grupos economicos conocidos\n",
    "\n",
    "Obtenemos la data de los grupos economicos conocidos."
   ]
  },
  {
   "cell_type": "code",
   "execution_count": 5,
   "id": "e67708cf-1cd0-455c-8e8f-0af10adfdc71",
   "metadata": {
    "tags": []
   },
   "outputs": [
    {
     "name": "stderr",
     "output_type": "stream",
     "text": [
      "                                                                                \r"
     ]
    }
   ],
   "source": [
    "spark.read.parquet(\"abfs://data@datalakesii.dfs.core.windows.net/DatosOrigen/LibSDF/GE_APIUX_ARFI_E\").createOrReplaceTempView(\"grupos_conocidos\")\n",
    "spark.sql('select PARU_RUT_E,COM, count(*) as c from grupos_conocidos group by PARU_RUT_E, COM order by PARU_RUT_E asc').createOrReplaceTempView(\"grupos_conocidos\")\n",
    "spark.sql('select PARU_RUT_E as CONT_RUT,COM from grupos_conocidos  order by PARU_RUT_E asc').createOrReplaceTempView(\"grupos_conocidos\")\n"
   ]
  },
  {
   "cell_type": "markdown",
   "id": "defe8ffe-9d51-4f43-be27-46ccbdcf5967",
   "metadata": {},
   "source": [
    "### Agregacion de familiaridad "
   ]
  },
  {
   "cell_type": "code",
   "execution_count": null,
   "id": "abc3275b-b26c-4486-91b2-9debde8fad01",
   "metadata": {
    "tags": []
   },
   "outputs": [],
   "source": [
    "familiaridad=spark.read.parquet(\"abfs://data@datalakesii.dfs.core.windows.net/DatoOrigen/lr-629/Oscuridad/final/familiaridad\")\n",
    "familiaridad.createOrReplaceTempView(\"familiaridad\")\n",
    "familiaridad=spark.sql('select CONT_RUT,COM,TASA_FAMILIARIDAD from  grupos_conocidos left join familiaridad on grupos_conocidos.CONT_RUT=familiaridad.RUT_SOCIEDAD').toPandas()\n"
   ]
  },
  {
   "cell_type": "code",
   "execution_count": null,
   "id": "98b13e08-b62f-46dc-a8b2-d22ddc1cf41f",
   "metadata": {
    "tags": []
   },
   "outputs": [],
   "source": [
    "# Gráfico de distribución de TASA_FAMILIARIDAD\n",
    "plt.figure(figsize=(10, 6))\n",
    "sns.histplot(data=familiaridad, x='TASA_FAMILIARIDAD', bins=30, kde=True)\n",
    "plt.title('Distribución de TASA_FAMILIARIDAD')\n",
    "plt.xlabel('TASA_FAMILIARIDAD')\n",
    "plt.ylabel('Frecuencia')\n",
    "plt.show()\n",
    "\n",
    "\n",
    "# Obtener los 5 grupos COM más grandes\n",
    "top_5_com = familiaridad['COM'].value_counts().nlargest(5).index\n",
    "\n",
    "# Filtrar el DataFrame para incluir solo las filas correspondientes a los 5 grupos más grandes\n",
    "df_top_5 = familiaridad[familiaridad['COM'].isin(top_5_com)]\n",
    "\n",
    "# Gráfico de violín de TASA_FAMILIARIDAD para los 5 grupos COM más grandes\n",
    "plt.figure(figsize=(10, 6))\n",
    "sns.violinplot(data=df_top_5, x='COM', y='TASA_FAMILIARIDAD')\n",
    "plt.title('Distribución de TASA_FAMILIARIDAD para los 5 grupos COM más grandes')\n",
    "plt.xlabel('COM')\n",
    "plt.ylabel('TASA_FAMILIARIDAD')\n",
    "plt.xticks(rotation=45)\n",
    "plt.show()\n",
    "\n",
    "\n",
    "# Calcular el valor promedio de TASA_FAMILIARIDAD para cada grupo COM\n",
    "promedio_por_com = familiaridad.groupby('COM')['TASA_FAMILIARIDAD'].mean()\n",
    "\n",
    "# Crear un histograma para mostrar la distribución de los promedios de TASA_FAMILIARIDAD por COM\n",
    "plt.figure(figsize=(10, 6))\n",
    "sns.histplot(promedio_por_com, bins=20, kde=True, color='skyblue')\n",
    "plt.title('Distribución del promedio de TASA_FAMILIARIDAD por COM')\n",
    "plt.xlabel('Promedio de TASA_FAMILIARIDAD')\n",
    "plt.ylabel('Frecuencia')\n",
    "plt.tight_layout()\n",
    "plt.show()\n",
    "\n",
    "\n"
   ]
  },
  {
   "cell_type": "markdown",
   "id": "b648a8b2-4307-454f-9b39-7e9825f76971",
   "metadata": {},
   "source": [
    "### Agregacion de oscuridad"
   ]
  },
  {
   "cell_type": "code",
   "execution_count": null,
   "id": "bdd2466b-3a0d-4f7d-afb3-285076c0d44f",
   "metadata": {
    "tags": []
   },
   "outputs": [],
   "source": [
    "oscuridad=spark.read.parquet(\"abfs://data@datalakesii.dfs.core.windows.net/DatoOrigen/lr-629/Oscuridad/final/oscuridad\")\n",
    "oscuridad.createOrReplaceTempView(\"oscuridad\")\n",
    "oscuridad=spark.sql('select grupos_conocidos.CONT_RUT,COM,Value as OSCURIDAD from grupos_conocidos left join oscuridad on grupos_conocidos.CONT_RUT=oscuridad.CONT_RUT').toPandas()\n"
   ]
  },
  {
   "cell_type": "code",
   "execution_count": null,
   "id": "2a387c54-f92b-45af-a7cc-4033b9636634",
   "metadata": {
    "tags": []
   },
   "outputs": [],
   "source": [
    "# Gráfico de distribución de OSCURIDAD\n",
    "plt.figure(figsize=(10, 6))\n",
    "sns.histplot(data=oscuridad, x='OSCURIDAD', bins=30, kde=True)\n",
    "plt.title('Distribución de OSCURIDAD')\n",
    "plt.xlabel('OSCURIDAD')\n",
    "plt.ylabel('Frecuencia')\n",
    "plt.show()\n",
    "\n",
    "# Obtener los 5 grupos COM más grandes\n",
    "top_5_com = oscuridad['COM'].value_counts().nlargest(5).index\n",
    "\n",
    "# Filtrar el DataFrame para incluir solo las filas correspondientes a los 5 grupos más grandes\n",
    "df_top_5 = oscuridad[oscuridad['COM'].isin(top_5_com)]\n",
    "\n",
    "# Gráfico de violín de OSCURIDAD para los 5 grupos COM más grandes\n",
    "plt.figure(figsize=(10, 6))\n",
    "sns.violinplot(data=df_top_5, x='COM', y='OSCURIDAD')\n",
    "plt.title('Distribución de OSCURIDAD para los 5 grupos COM más grandes')\n",
    "plt.xlabel('COM')\n",
    "plt.ylabel('OSCURIDAD')\n",
    "plt.xticks(rotation=45)\n",
    "plt.show()\n",
    "\n",
    "# Calcular el valor promedio de OSCURIDAD para cada grupo COM\n",
    "promedio_por_com = oscuridad.groupby('COM')['OSCURIDAD'].mean()\n",
    "\n",
    "# Crear un histograma para mostrar la distribución de los promedios de OSCURIDAD por COM\n",
    "plt.figure(figsize=(10, 6))\n",
    "sns.histplot(promedio_por_com, bins=20, kde=True, color='skyblue')\n",
    "plt.title('Distribución del promedio de OSCURIDAD por COM')\n",
    "plt.xlabel('Promedio de OSCURIDAD')\n",
    "plt.ylabel('Frecuencia')\n",
    "plt.tight_layout()\n",
    "plt.show()"
   ]
  },
  {
   "cell_type": "markdown",
   "id": "8f455d0c-891b-4b60-8958-af858663a4dd",
   "metadata": {},
   "source": [
    "### Agregacion de contadores"
   ]
  },
  {
   "cell_type": "code",
   "execution_count": null,
   "id": "394fd23b-9283-4ca7-89a8-50dffae317d3",
   "metadata": {
    "tags": []
   },
   "outputs": [],
   "source": [
    "\n",
    "spark.sql('select * from libsdf.arfi_contadores_e').createOrReplaceTempView(\"contadores\")\n",
    "contadores=spark.sql('select grupos_conocidos.CONT_RUT, COM, RUT_CONTADOR from grupos_conocidos left join contadores on grupos_conocidos.CONT_RUT=contadores.CONT_RUT').toPandas()"
   ]
  },
  {
   "cell_type": "code",
   "execution_count": null,
   "id": "0806146b-2757-4376-b0d9-9d84cc64cd07",
   "metadata": {
    "tags": []
   },
   "outputs": [],
   "source": [
    "# Encontrar los 15 valores más repetidos en general en la columna RUT_CONTADOR\n",
    "top_15_repetidos = contadores['RUT_CONTADOR'].value_counts().nlargest(15)\n",
    "\n",
    "# Gráfico de barras de los 15 valores más repetidos en general\n",
    "plt.figure(figsize=(12, 6))\n",
    "sns.barplot(x=top_15_repetidos.index, y=top_15_repetidos.values)\n",
    "plt.title('Top 15 valores más repetidos en general')\n",
    "plt.xlabel('RUT_CONTADOR')\n",
    "plt.ylabel('Frecuencia')\n",
    "plt.xticks(rotation=45)\n",
    "plt.tight_layout()\n",
    "plt.show()\n",
    "\n",
    "def calculate_mode(series):\n",
    "    try:\n",
    "        mode = series.mode().iloc[0]\n",
    "    except IndexError:\n",
    "        mode = None\n",
    "    return mode\n",
    "\n",
    "# Calcular las modas de RUT_CONTADOR para cada COM\n",
    "modas_por_com = contadores.groupby('COM')['RUT_CONTADOR'].apply(calculate_mode)\n",
    "# Filtrar las modas que no son nulas\n",
    "modas_filtradas = modas_por_com.dropna()\n",
    "\n",
    "# Seleccionar las 15 modas más frecuentes\n",
    "top_15_modas = modas_filtradas.value_counts().nlargest(15)\n",
    "\n",
    "# Crear un gráfico de barras para las 15 modas más frecuentes\n",
    "plt.figure(figsize=(10, 6))\n",
    "top_15_modas.plot(kind='bar', color='skyblue')\n",
    "plt.title('Top 15 Modas de RUT_CONTADOR por COM')\n",
    "plt.xlabel('RUT_CONTADOR')\n",
    "plt.ylabel('Frecuencia')\n",
    "plt.xticks(rotation=45, ha='right')\n",
    "plt.tight_layout()\n",
    "plt.show()"
   ]
  },
  {
   "cell_type": "markdown",
   "id": "d4b9559e-abf6-4cd5-9257-523e42c7a41e",
   "metadata": {},
   "source": [
    "### Agregacion de direcciones"
   ]
  },
  {
   "cell_type": "code",
   "execution_count": null,
   "id": "67002ddc-0248-4bb1-9a52-ed29631f3570",
   "metadata": {},
   "outputs": [],
   "source": [
    "spark.sql('select CONT_RUT,DIRE_COD_COMUNA_VO from dw.dw_trn_direcciones_e').createOrReplaceTempView(\"direccion\")\n",
    "spark.sql('select grupos_conocidos.CONT_RUT,COM, DIRE_COD_COMUNA_VO from grupos_conocidos left join direccion on grupos_conocidos.CONT_RUT=direccion.CONT_RUT').createOrReplaceTempView(\"grupos_aux\")\n",
    "spark.sql('select * from dw.dim_comuna').createOrReplaceTempView(\"dim_comuna\")\n",
    "\n",
    "direccion=spark.sql('select CONT_RUT, COM,COMU_DES_COMUNA as COMUNA from grupos_aux left join dim_comuna on grupos_aux.DIRE_COD_COMUNA_VO=dim_comuna.COMU_COD_COMUNA').toPandas()"
   ]
  },
  {
   "cell_type": "code",
   "execution_count": null,
   "id": "9450e2f1-ade9-44c9-a21e-f117669cbf03",
   "metadata": {
    "tags": []
   },
   "outputs": [],
   "source": [
    "# Encontrar los 15 valores más repetidos en general en la columna COMUNA\n",
    "top_15_repetidos_comuna = direccion['COMUNA'].value_counts().nlargest(15)\n",
    "\n",
    "# Gráfico de barras de los 15 valores más repetidos en general\n",
    "plt.figure(figsize=(12, 6))\n",
    "sns.barplot(x=top_15_repetidos_comuna.index, y=top_15_repetidos_comuna.values)\n",
    "plt.title('Top 15 valores más repetidos en general en COMUNA')\n",
    "plt.xlabel('COMUNA')\n",
    "plt.ylabel('Frecuencia')\n",
    "plt.xticks(rotation=45)\n",
    "plt.tight_layout()\n",
    "plt.show()\n",
    "\n",
    "def calculate_mode(series):\n",
    "    try:\n",
    "        mode = series.mode().iloc[0]\n",
    "    except IndexError:\n",
    "        mode = None\n",
    "    return mode\n",
    "\n",
    "# Calcular las modas de COMUNA para cada COM\n",
    "modas_por_com = direccion.groupby('COM')['COMUNA'].apply(calculate_mode)\n",
    "# Filtrar las modas que no son nulas\n",
    "modas_filtradas = modas_por_com.dropna()\n",
    "\n",
    "# Seleccionar las 15 modas más frecuentes\n",
    "top_15_modas = modas_filtradas.value_counts().nlargest(15)\n",
    "\n",
    "# Crear un gráfico de barras para las 15 modas más frecuentes\n",
    "plt.figure(figsize=(10, 6))\n",
    "top_15_modas.plot(kind='bar', color='skyblue')\n",
    "plt.title('Top 15 Modas de COMUNA por COM')\n",
    "plt.xlabel('COMUNA')\n",
    "plt.ylabel('Frecuencia')\n",
    "plt.xticks(rotation=45, ha='right')\n",
    "plt.tight_layout()\n",
    "plt.show()"
   ]
  },
  {
   "cell_type": "markdown",
   "id": "c929ebca-76b0-45b7-b2db-9c99c6abdb03",
   "metadata": {},
   "source": [
    "### Agregacion de mails"
   ]
  },
  {
   "cell_type": "code",
   "execution_count": null,
   "id": "ca1d66ec-e649-4919-85e2-e1f959cfa5ba",
   "metadata": {},
   "outputs": [],
   "source": [
    "spark.sql('select * from dw.dw_trn_contribuyentes_e').createOrReplaceTempView(\"mails\")\n",
    "mails=spark.sql('select grupos_conocidos.CONT_RUT, COM, CONT_E_MAIL_VO as MAIL from grupos_conocidos left join mails on grupos_conocidos.CONT_RUT=mails.CONT_RUT').toPandas()"
   ]
  },
  {
   "cell_type": "code",
   "execution_count": null,
   "id": "c67b8f9e-fc81-4c40-8433-075c271638ae",
   "metadata": {
    "tags": []
   },
   "outputs": [],
   "source": [
    "# Encontrar los 15 valores más repetidos en general en la columna MAILS\n",
    "top_10_repetidos_mails = mails['MAIL'].value_counts().nlargest(10)\n",
    "\n",
    "# Gráfico de barras de los 15 valores más repetidos en general\n",
    "plt.figure(figsize=(12, 6))\n",
    "sns.barplot(x=top_10_repetidos_mails.index, y=top_10_repetidos_mails.values)\n",
    "plt.title('Top 15 valores más repetidos en general en MAIL')\n",
    "plt.xlabel('MAIL')\n",
    "plt.ylabel('Frecuencia')\n",
    "plt.xticks(rotation=45)\n",
    "plt.tight_layout()\n",
    "plt.show()\n",
    "\n",
    "def calculate_mode(series):\n",
    "    try:\n",
    "        mode = series.mode().iloc[0]\n",
    "    except IndexError:\n",
    "        mode = None\n",
    "    return mode\n",
    "\n",
    "# Calcular las modas de MAILS para cada COM\n",
    "modas_por_com = mails.groupby('COM')['MAIL'].apply(calculate_mode)\n",
    "# Filtrar las modas que no son nulas\n",
    "modas_filtradas = modas_por_com.dropna()\n",
    "\n",
    "# Seleccionar las 15 modas más frecuentes\n",
    "top_15_modas = modas_filtradas.value_counts().nlargest(10)\n",
    "\n",
    "# Crear un gráfico de barras para las 15 modas más frecuentes\n",
    "plt.figure(figsize=(10, 6))\n",
    "top_15_modas.plot(kind='bar', color='skyblue')\n",
    "plt.title('Top 15 Modas de MAIL por COM')\n",
    "plt.xlabel('MAIL')\n",
    "plt.ylabel('Frecuencia')\n",
    "plt.xticks(rotation=45, ha='right')\n",
    "plt.tight_layout()\n",
    "plt.show()\n"
   ]
  },
  {
   "cell_type": "markdown",
   "id": "a3f120cb-35a8-4941-a4d9-9ac8ce653b87",
   "metadata": {},
   "source": [
    "### Agregacion de patrimonios"
   ]
  },
  {
   "cell_type": "code",
   "execution_count": null,
   "id": "516a25bd-2803-407d-84c2-2b851d138cfd",
   "metadata": {
    "tags": []
   },
   "outputs": [],
   "source": [
    "spark.sql('select * from libsdf.patrimonio_at2021_eh').createOrReplaceTempView(\"patrimonio\")"
   ]
  },
  {
   "cell_type": "code",
   "execution_count": null,
   "id": "f098a6f7-3015-489e-af36-4b47cbb2213b",
   "metadata": {
    "tags": []
   },
   "outputs": [],
   "source": [
    "spark.sql('select * from patrimonio').show()"
   ]
  },
  {
   "cell_type": "code",
   "execution_count": null,
   "id": "ad8a7adf-ade1-4b9a-af5c-547cfe769a54",
   "metadata": {
    "tags": []
   },
   "outputs": [],
   "source": [
    "\n",
    "#spark.sql('select * from libsdf.patrimonio_at2021_eh').createOrReplaceTempView(\"patrimonio\")\n",
    "#spark.sql('select grupos_conocidos.CONT_RUT, COMUNIDAD, FAMILIARIDAD, OSCURIDAD, RUT_CONTADOR,COMUNA, PROVINCIA, REGION, MAIL, PATR_AT as PATRIMONIO_2021 from grupos_conocidos left join patrimonio on grupos_conocidos.CONT_RUT=patrimonio.RUT').createOrReplaceTempView(\"grupos_conocidos\")\n"
   ]
  },
  {
   "cell_type": "code",
   "execution_count": null,
   "id": "f82005f3-5372-4c40-81e0-4ef9cf47b18d",
   "metadata": {
    "tags": []
   },
   "outputs": [],
   "source": [
    "#spark.read.parquet(\"abfs://data@datalakesii.dfs.core.windows.net/DatosOrigen/LibSDF/GE_APIUX_ARFI_E\").createOrReplaceTempView(\"grupos_conocidos\")\n",
    "#spark.sql('select * from grupos_conocidos left join patrimonio on grupos_conocidos.PARU_RUT_E=patrimonio.RUT').createOrReplaceTempView(\"grupos_conocidos\")\n",
    "\n"
   ]
  },
  {
   "cell_type": "markdown",
   "id": "4c05df4d-f542-4117-bd4b-55247336e5d8",
   "metadata": {},
   "source": [
    "### Agregacion de rubros asociados"
   ]
  },
  {
   "cell_type": "code",
   "execution_count": null,
   "id": "6f4fddfc-8232-464a-9226-b285a5463b5d",
   "metadata": {
    "tags": []
   },
   "outputs": [],
   "source": [
    "spark.sql('select * from dw.dw_trn_actividad_economica_e').createOrReplaceTempView(\"acteco\")\n"
   ]
  },
  {
   "cell_type": "code",
   "execution_count": null,
   "id": "27beb301-88f6-48f0-87f7-7ccb28e4d6b9",
   "metadata": {
    "tags": []
   },
   "outputs": [],
   "source": [
    "spark.sql('select grupos_conocidos.CONT_RUT, COM,ACTECO_COD_ACTECO from grupos_conocidos left join acteco on grupos_conocidos.CONT_RUT=acteco.CONT_RUT').createOrReplaceTempView(\"grupos_conocidos_auxiliar\")"
   ]
  },
  {
   "cell_type": "code",
   "execution_count": null,
   "id": "d2a2177d-f433-4431-acb1-849b0ce53264",
   "metadata": {
    "tags": []
   },
   "outputs": [],
   "source": [
    "spark.sql('select * from dw.dw_dim_actividad_economica_e').createOrReplaceTempView(\"acteco_aux\")"
   ]
  },
  {
   "cell_type": "code",
   "execution_count": null,
   "id": "b85f5117-7783-44d5-ae40-42a635af34a1",
   "metadata": {},
   "outputs": [],
   "source": [
    "acteco=spark.sql('select grupos_conocidos_auxiliar.CONT_RUT, COM, ACEC_DES_ACTECO,ACEC_DES_SUBRUBRO, ACEC_DES_RUBRO  from grupos_conocidos_auxiliar left join acteco_aux on grupos_conocidos_auxiliar.ACTECO_COD_ACTECO=acteco_aux.ACEC_COD_ACTECO').toPandas()\n",
    "#spark.sql('select * from grupos_conocidos left join actecto_dimensiones on grupos_conocidos.ACTECO_COD_ACTECO=acteco_dimensiones.ACEC_COD_ACTECO').show()\n"
   ]
  },
  {
   "cell_type": "code",
   "execution_count": null,
   "id": "60102d92-f26b-4a1d-926e-8abd981879ee",
   "metadata": {
    "tags": []
   },
   "outputs": [],
   "source": [
    "# Encontrar los 15 valores más repetidos en general en la columna ACEC_DES_SUBRUBRO\n",
    "top_15_repetidos_subrubro = acteco['ACEC_DES_SUBRUBRO'].value_counts().nlargest(15)\n",
    "\n",
    "# Gráfico de barras horizontales de los 15 valores más repetidos en general\n",
    "plt.figure(figsize=(10, 8))\n",
    "sns.barplot(x=top_15_repetidos_subrubro.values, y=top_15_repetidos_subrubro.index, orient='h')\n",
    "plt.title('Top 15 valores más repetidos en general en ACEC_DES_SUBRUBRO')\n",
    "plt.xlabel('Frecuencia')\n",
    "plt.ylabel('ACEC_DES_SUBRUBRO')\n",
    "plt.tight_layout()\n",
    "plt.show()\n",
    "\n",
    "# Calcular las modas de ACEC_DES_SUBRUBRO para cada COM\n",
    "modas_subrubro_por_com = acteco.groupby('COM')['ACEC_DES_SUBRUBRO'].apply(calculate_mode)\n",
    "# Filtrar las modas que no son nulas\n",
    "modas_subrubro_filtradas = modas_subrubro_por_com.dropna()\n",
    "\n",
    "# Seleccionar las 15 modas más frecuentes\n",
    "top_15_modas_subrubro = modas_subrubro_filtradas.value_counts().nlargest(15)\n",
    "\n",
    "# Crear un gráfico de barras horizontales para las 15 modas más frecuentes de ACEC_DES_SUBRUBRO\n",
    "plt.figure(figsize=(10, 8))\n",
    "sns.barplot(x=top_15_modas_subrubro.values, y=top_15_modas_subrubro.index, orient='h', palette='viridis')\n",
    "plt.title('Top 15 Modas de ACEC_DES_SUBRUBRO por COM')\n",
    "plt.xlabel('Frecuencia')\n",
    "plt.ylabel('ACEC_DES_SUBRUBRO')\n",
    "plt.tight_layout()\n",
    "plt.show()\n",
    "\n"
   ]
  },
  {
   "cell_type": "code",
   "execution_count": null,
   "id": "d206feee-9405-4d48-be78-b24811c37ed1",
   "metadata": {},
   "outputs": [],
   "source": [
    "# Encontrar los 15 valores más repetidos en general en la columna ACEC_DES_ACTECO\n",
    "top_15_repetidos_acteco = acteco['ACEC_DES_ACTECO'].value_counts().nlargest(15)\n",
    "\n",
    "# Gráfico de barras horizontales de los 15 valores más repetidos en general\n",
    "plt.figure(figsize=(10, 8))\n",
    "sns.barplot(x=top_15_repetidos_acteco.values, y=top_15_repetidos_acteco.index, orient='h')\n",
    "plt.title('Top 15 valores más repetidos en general en ACEC_DES_ACTECO')\n",
    "plt.xlabel('Frecuencia')\n",
    "plt.ylabel('ACEC_DES_ACTECO')\n",
    "plt.tight_layout()\n",
    "plt.show()\n",
    "\n",
    "# Calcular las modas de ACEC_DES_ACTECO para cada COM\n",
    "modas_acteco_por_com = acteco.groupby('COM')['ACEC_DES_ACTECO'].apply(calculate_mode)\n",
    "# Filtrar las modas que no son nulas\n",
    "modas_acteco_filtradas = modas_acteco_por_com.dropna()\n",
    "\n",
    "# Seleccionar las 15 modas más frecuentes\n",
    "top_15_modas_acteco = modas_acteco_filtradas.value_counts().nlargest(15)\n",
    "\n",
    "# Crear un gráfico de barras horizontales para las 15 modas más frecuentes de ACEC_DES_ACTECO\n",
    "plt.figure(figsize=(10, 8))\n",
    "sns.barplot(x=top_15_modas_acteco.values, y=top_15_modas_acteco.index, orient='h', palette='viridis')\n",
    "plt.title('Top 15 Modas de ACEC_DES_ACTECO por COM')\n",
    "plt.xlabel('Frecuencia')\n",
    "plt.ylabel('ACEC_DES_ACTECO')\n",
    "plt.tight_layout()\n",
    "plt.show()\n"
   ]
  },
  {
   "cell_type": "code",
   "execution_count": null,
   "id": "e54bcbbc-21ce-4750-b5b1-ded1d626f88a",
   "metadata": {
    "tags": []
   },
   "outputs": [],
   "source": [
    "# Encontrar los 15 valores más repetidos en general en la columna ACEC_DES_RUBRO\n",
    "top_15_repetidos_rubro = acteco['ACEC_DES_RUBRO'].value_counts().nlargest(15)\n",
    "\n",
    "# Gráfico de barras horizontales de los 15 valores más repetidos en general\n",
    "plt.figure(figsize=(10, 8))\n",
    "sns.barplot(x=top_15_repetidos_rubro.values, y=top_15_repetidos_rubro.index, orient='h')\n",
    "plt.title('Top 15 valores más repetidos en general en ACEC_DES_RUBRO')\n",
    "plt.xlabel('Frecuencia')\n",
    "plt.ylabel('ACEC_DES_RUBRO')\n",
    "plt.tight_layout()\n",
    "plt.show()\n",
    "\n",
    "# Calcular las modas de ACEC_DES_RUBRO para cada COM\n",
    "modas_rubro_por_com = acteco.groupby('COM')['ACEC_DES_RUBRO'].apply(calculate_mode)\n",
    "# Filtrar las modas que no son nulas\n",
    "modas_rubro_filtradas = modas_rubro_por_com.dropna()\n",
    "\n",
    "# Seleccionar las 15 modas más frecuentes\n",
    "top_15_modas_rubro = modas_rubro_filtradas.value_counts().nlargest(15)\n",
    "\n",
    "# Crear un gráfico de barras horizontales para las 15 modas más frecuentes de ACEC_DES_RUBRO\n",
    "plt.figure(figsize=(10, 8))\n",
    "sns.barplot(x=top_15_modas_rubro.values, y=top_15_modas_rubro.index, orient='h', palette='viridis')\n",
    "plt.title('Top 15 Modas de ACEC_DES_RUBRO por COM')\n",
    "plt.xlabel('Frecuencia')\n",
    "plt.ylabel('ACEC_DES_RUBRO')\n",
    "plt.tight_layout()\n",
    "plt.show()\n"
   ]
  },
  {
   "cell_type": "markdown",
   "id": "c06a2651-ae51-4f2a-ad2b-b0020db52d1d",
   "metadata": {},
   "source": [
    "### Directores "
   ]
  },
  {
   "cell_type": "code",
   "execution_count": 4,
   "id": "f2169ce4-36f8-4f33-91c7-914f9fbdca92",
   "metadata": {
    "tags": []
   },
   "outputs": [
    {
     "name": "stderr",
     "output_type": "stream",
     "text": [
      "Hive Session ID = 4edee553-8341-4927-9da9-c1eb532a662e\n"
     ]
    }
   ],
   "source": [
    "spark.conf.set(\"spark.sql.parquet.int96RebaseModeInRead\", \"CORRECTED\")\n",
    "spark.conf.set(\"spark.sql.parquet.enableVectorizedReader\",\"false\")\n",
    "spark.conf.set(\"spark.sql.parquet.int96RebaseModeInRead\", \"CORRECTED\")\n",
    "spark.conf.set(\"spark.sql.parquet.int96RebaseModeInWrite\", \"CORRECTED\")\n",
    "spark.conf.set(\"spark.sql.parquet.datetimeRebaseModeInRead\", \"CORRECTED\")\n",
    "spark.conf.set(\"spark.sql.parquet.datetimeRebaseModeInWrite\", \"CORRECTED\")\n",
    "\n",
    "spark.sql(\"select * from dw.dw_trn_djr_f1879_e\").createOrReplaceTempView(\"F1879\")"
   ]
  },
  {
   "cell_type": "code",
   "execution_count": 42,
   "id": "04174dca-5456-4475-b2cc-60d104a1175e",
   "metadata": {
    "tags": []
   },
   "outputs": [
    {
     "name": "stderr",
     "output_type": "stream",
     "text": [
      "                                                                                \r"
     ]
    }
   ],
   "source": [
    "\n",
    "a=spark.read.parquet(\"abfs://data@datalakesii.dfs.core.windows.net/DatosOrigen/DW/DW_TRN_DJR_F1879_E\")"
   ]
  },
  {
   "cell_type": "code",
   "execution_count": 43,
   "id": "fd61df8f-9b61-4f14-9c6d-902abcf74042",
   "metadata": {
    "tags": []
   },
   "outputs": [],
   "source": [
    "a.createOrReplaceTempView(\"F1879\")"
   ]
  },
  {
   "cell_type": "code",
   "execution_count": 44,
   "id": "950eb9e9-444a-4e1a-b456-4fa9e2d785ef",
   "metadata": {
    "tags": []
   },
   "outputs": [
    {
     "name": "stderr",
     "output_type": "stream",
     "text": [
      "[Stage 64:>                                                         (0 + 1) / 1]\r"
     ]
    },
    {
     "name": "stdout",
     "output_type": "stream",
     "text": [
      "+------------------------+------------------+-------------+---------------------+--------------------+-------+--------------------+-----------------+--------------------+------------+--------------------+----------------+---------------+-----------------+-----------------+-----------------+-----------------+------------------+---------------------+--------------------+--------------------+-------------+--------------------+------------+----------+--------------+---------------+---------------+---------------+----------------------+-------------------------+-----------------------+--------------------+----+\n",
      "|PERI_AGNO_MES_TRIBUTARIO|HEADER_FORM_KEY_VO|TIFO_COD_FORM|TIFO_COD_FORM_VERSION|            CONT_RUT|CONT_DV|  F1879_RUT_DECLA_VO|F1879_DV_DECLA_VO|       CONT_RUT_INFO|CONT_DV_INFO|   F1879_RUT_INFO_VO|F1879_DV_INFO_VO|F1879_RETE_HONO|F1879_RETE_DIRE10|F1879_RETE_DIRE20|F1879_CERTIFICADO|F1879_CORRELATIVO|F1879_PERIODO_PAGO|F1879_RETE_HONO_ARTES|F1879_RETE_HONO_ISLA|      F1879_RUT_FNCR|F1879_DV_FNCR|       CONT_RUT_FNCR|CONT_DV_FNCR|F1879_SEVE|F1879_BORRA_VO|F1879_ORIGEN_VO|F1879_ESTADO_VX|TIMO_COD_MONEDA|F1879_FECHA_CONVERSION|F1879_FECHA_EXTRACCION_SO|F1879_PAGO_PRESTAMO_C29|F1879_FECHA_CARGA_DW|_c33|\n",
      "+------------------------+------------------+-------------+---------------------+--------------------+-------+--------------------+-----------------+--------------------+------------+--------------------+----------------+---------------+-----------------+-----------------+-----------------+-----------------+------------------+---------------------+--------------------+--------------------+-------------+--------------------+------------+----------+--------------+---------------+---------------+---------------+----------------------+-------------------------+-----------------------+--------------------+----+\n",
      "|                  200800|          27625216|        F1879|                    8|f7U4XQSofGs8rKz5H...|      3|f7U4XQSofGs8rKz5H...|                3|ar2xjfWs1hJGgY3Xr...|           4|ar2xjfWs1hJGgY3Xr...|               4|          10080|                0|                0|          0000001|             null|              null|                 null|                null|jZi8Pt+LlMPNahXB8...|            9|jZi8Pt+LlMPNahXB8...|           9|         O|          null|           null|           null|              1|                  null|      2008-11-21 15:59:20|                   null| 2008-11-21 16:06:39|null|\n",
      "|                  200800|          27625216|        F1879|                    8|f7U4XQSofGs8rKz5H...|      3|f7U4XQSofGs8rKz5H...|                3|m3eW+lvPJ+jHUwYQL...|           1|m3eW+lvPJ+jHUwYQL...|               1|           1406|                0|                0|          0000002|             null|              null|                 null|                null|jZi8Pt+LlMPNahXB8...|            9|jZi8Pt+LlMPNahXB8...|           9|         O|          null|           null|           null|              1|                  null|      2008-11-21 15:59:20|                   null| 2008-11-21 16:06:39|null|\n",
      "|                  200800|          27625216|        F1879|                    8|f7U4XQSofGs8rKz5H...|      3|f7U4XQSofGs8rKz5H...|                3|InkD6L0Te6285PKK0...|           6|InkD6L0Te6285PKK0...|               6|          20793|                0|                0|          0000003|             null|              null|                 null|                null|jZi8Pt+LlMPNahXB8...|            9|jZi8Pt+LlMPNahXB8...|           9|         O|          null|           null|           null|              1|                  null|      2008-11-21 15:59:20|                   null| 2008-11-21 16:06:39|null|\n",
      "|                  200800|          27625216|        F1879|                    8|f7U4XQSofGs8rKz5H...|      3|f7U4XQSofGs8rKz5H...|                3|VpugdkLZXHE1n5VfU...|           7|VpugdkLZXHE1n5VfU...|               7|           2903|                0|                0|          0000004|             null|              null|                 null|                null|jZi8Pt+LlMPNahXB8...|            9|jZi8Pt+LlMPNahXB8...|           9|         O|          null|           null|           null|              1|                  null|      2008-11-21 15:59:20|                   null| 2008-11-21 16:06:39|null|\n",
      "|                  200800|          27625216|        F1879|                    8|f7U4XQSofGs8rKz5H...|      3|f7U4XQSofGs8rKz5H...|                3|m77jTAnx2Pff1Ao20...|           8|m77jTAnx2Pff1Ao20...|               8|           1406|                0|                0|          0000005|             null|              null|                 null|                null|jZi8Pt+LlMPNahXB8...|            9|jZi8Pt+LlMPNahXB8...|           9|         O|          null|           null|           null|              1|                  null|      2008-11-21 15:59:20|                   null| 2008-11-21 16:06:39|null|\n",
      "|                  200800|          27625216|        F1879|                    8|f7U4XQSofGs8rKz5H...|      3|f7U4XQSofGs8rKz5H...|                3|Vk1o63N4ULvG6QIK6...|           7|Vk1o63N4ULvG6QIK6...|               7|           2468|                0|                0|          0000006|             null|              null|                 null|                null|jZi8Pt+LlMPNahXB8...|            9|jZi8Pt+LlMPNahXB8...|           9|         O|          null|           null|           null|              1|                  null|      2008-11-21 15:59:20|                   null| 2008-11-21 16:06:39|null|\n",
      "|                  200800|          27625216|        F1879|                    8|f7U4XQSofGs8rKz5H...|      3|f7U4XQSofGs8rKz5H...|                3|5/wYurgyIckSBKRfZ...|           3|5/wYurgyIckSBKRfZ...|               3|         174781|                0|                0|          0000007|             null|              null|                 null|                null|jZi8Pt+LlMPNahXB8...|            9|jZi8Pt+LlMPNahXB8...|           9|         O|          null|           null|           null|              1|                  null|      2008-11-21 15:59:20|                   null| 2008-11-21 16:06:39|null|\n",
      "|                  200800|          27625216|        F1879|                    8|f7U4XQSofGs8rKz5H...|      3|f7U4XQSofGs8rKz5H...|                3|dYJN1rtSs1eE902Lh...|           K|dYJN1rtSs1eE902Lh...|               K|           2222|                0|                0|          0000008|             null|              null|                 null|                null|jZi8Pt+LlMPNahXB8...|            9|jZi8Pt+LlMPNahXB8...|           9|         O|          null|           null|           null|              1|                  null|      2008-11-21 15:59:20|                   null| 2008-11-21 16:06:39|null|\n",
      "|                  200800|          27625216|        F1879|                    8|f7U4XQSofGs8rKz5H...|      3|f7U4XQSofGs8rKz5H...|                3|iIZA8cRV35aUmWiZh...|           2|iIZA8cRV35aUmWiZh...|               2|           3334|                0|                0|          0000009|             null|              null|                 null|                null|jZi8Pt+LlMPNahXB8...|            9|jZi8Pt+LlMPNahXB8...|           9|         O|          null|           null|           null|              1|                  null|      2008-11-21 15:59:20|                   null| 2008-11-21 16:06:39|null|\n",
      "|                  200800|          27625216|        F1879|                    8|f7U4XQSofGs8rKz5H...|      3|f7U4XQSofGs8rKz5H...|                3|EnClj/rze8cTDPnD/...|           9|EnClj/rze8cTDPnD/...|               9|           2222|                0|                0|          0000010|             null|              null|                 null|                null|jZi8Pt+LlMPNahXB8...|            9|jZi8Pt+LlMPNahXB8...|           9|         O|          null|           null|           null|              1|                  null|      2008-11-21 15:59:20|                   null| 2008-11-21 16:06:39|null|\n",
      "|                  200800|          27625216|        F1879|                    8|f7U4XQSofGs8rKz5H...|      3|f7U4XQSofGs8rKz5H...|                3|oXy8iJe01ZWgBKX0M...|           9|oXy8iJe01ZWgBKX0M...|               9|           3588|                0|                0|          0000011|             null|              null|                 null|                null|jZi8Pt+LlMPNahXB8...|            9|jZi8Pt+LlMPNahXB8...|           9|         O|          null|           null|           null|              1|                  null|      2008-11-21 15:59:20|                   null| 2008-11-21 16:06:39|null|\n",
      "|                  200800|          27625216|        F1879|                    8|f7U4XQSofGs8rKz5H...|      3|f7U4XQSofGs8rKz5H...|                3|i0eHMK0XBOkBrFrqv...|           6|i0eHMK0XBOkBrFrqv...|               6|         372088|                0|                0|          0000012|             null|              null|                 null|                null|jZi8Pt+LlMPNahXB8...|            9|jZi8Pt+LlMPNahXB8...|           9|         O|          null|           null|           null|              1|                  null|      2008-11-21 15:59:20|                   null| 2008-11-21 16:06:39|null|\n",
      "|                  200800|          27625216|        F1879|                    8|f7U4XQSofGs8rKz5H...|      3|f7U4XQSofGs8rKz5H...|                3|PIuUiBhUKw+dO58yi...|           9|PIuUiBhUKw+dO58yi...|               9|           3816|                0|                0|          0000013|             null|              null|                 null|                null|jZi8Pt+LlMPNahXB8...|            9|jZi8Pt+LlMPNahXB8...|           9|         O|          null|           null|           null|              1|                  null|      2008-11-21 15:59:20|                   null| 2008-11-21 16:06:39|null|\n",
      "|                  200800|          27625216|        F1879|                    8|f7U4XQSofGs8rKz5H...|      3|f7U4XQSofGs8rKz5H...|                3|WVkRfemWpu+rB3F0U...|           1|WVkRfemWpu+rB3F0U...|               1|           4044|                0|                0|          0000014|             null|              null|                 null|                null|jZi8Pt+LlMPNahXB8...|            9|jZi8Pt+LlMPNahXB8...|           9|         O|          null|           null|           null|              1|                  null|      2008-11-21 15:59:20|                   null| 2008-11-21 16:06:39|null|\n",
      "|                  200800|          27625216|        F1879|                    8|f7U4XQSofGs8rKz5H...|      3|f7U4XQSofGs8rKz5H...|                3|rntGaQv7iPzliJvfv...|           0|rntGaQv7iPzliJvfv...|               0|          48634|                0|                0|          0000015|             null|              null|                 null|                null|jZi8Pt+LlMPNahXB8...|            9|jZi8Pt+LlMPNahXB8...|           9|         O|          null|           null|           null|              1|                  null|      2008-11-21 15:59:20|                   null| 2008-11-21 16:06:39|null|\n",
      "|                  200800|          27625216|        F1879|                    8|f7U4XQSofGs8rKz5H...|      3|f7U4XQSofGs8rKz5H...|                3|S9Zp+1naKh4vnBOns...|           0|S9Zp+1naKh4vnBOns...|               0|           3778|                0|                0|          0000016|             null|              null|                 null|                null|jZi8Pt+LlMPNahXB8...|            9|jZi8Pt+LlMPNahXB8...|           9|         O|          null|           null|           null|              1|                  null|      2008-11-21 15:59:20|                   null| 2008-11-21 16:06:39|null|\n",
      "|                  200800|          27625216|        F1879|                    8|f7U4XQSofGs8rKz5H...|      3|f7U4XQSofGs8rKz5H...|                3|G61LC3ySVCVpf78X2...|           8|G61LC3ySVCVpf78X2...|               8|          45051|                0|                0|          0000017|             null|              null|                 null|                null|jZi8Pt+LlMPNahXB8...|            9|jZi8Pt+LlMPNahXB8...|           9|         O|          null|           null|           null|              1|                  null|      2008-11-21 15:59:20|                   null| 2008-11-21 16:06:39|null|\n",
      "|                  200800|          27625216|        F1879|                    8|f7U4XQSofGs8rKz5H...|      3|f7U4XQSofGs8rKz5H...|                3|vqwjyLAz1mPhaIg1t...|           1|vqwjyLAz1mPhaIg1t...|               1|           3588|                0|                0|          0000018|             null|              null|                 null|                null|jZi8Pt+LlMPNahXB8...|            9|jZi8Pt+LlMPNahXB8...|           9|         O|          null|           null|           null|              1|                  null|      2008-11-21 15:59:20|                   null| 2008-11-21 16:06:39|null|\n",
      "|                  200800|          27625216|        F1879|                    8|f7U4XQSofGs8rKz5H...|      3|f7U4XQSofGs8rKz5H...|                3|+VLKSOg6zGnnecFod...|           4|+VLKSOg6zGnnecFod...|               4|         364536|                0|                0|          0000019|             null|              null|                 null|                null|jZi8Pt+LlMPNahXB8...|            9|jZi8Pt+LlMPNahXB8...|           9|         O|          null|           null|           null|              1|                  null|      2008-11-21 15:59:20|                   null| 2008-11-21 16:06:39|null|\n",
      "|                  200800|          27625216|        F1879|                    8|f7U4XQSofGs8rKz5H...|      3|f7U4XQSofGs8rKz5H...|                3|bw6hueBwPxxL8jdHr...|           7|bw6hueBwPxxL8jdHr...|               7|          10110|                0|                0|          0000020|             null|              null|                 null|                null|jZi8Pt+LlMPNahXB8...|            9|jZi8Pt+LlMPNahXB8...|           9|         O|          null|           null|           null|              1|                  null|      2008-11-21 15:59:20|                   null| 2008-11-21 16:06:39|null|\n",
      "+------------------------+------------------+-------------+---------------------+--------------------+-------+--------------------+-----------------+--------------------+------------+--------------------+----------------+---------------+-----------------+-----------------+-----------------+-----------------+------------------+---------------------+--------------------+--------------------+-------------+--------------------+------------+----------+--------------+---------------+---------------+---------------+----------------------+-------------------------+-----------------------+--------------------+----+\n",
      "only showing top 20 rows\n",
      "\n"
     ]
    },
    {
     "name": "stderr",
     "output_type": "stream",
     "text": [
      "                                                                                \r"
     ]
    }
   ],
   "source": [
    "a.show()"
   ]
  },
  {
   "cell_type": "code",
   "execution_count": 31,
   "id": "166f03a5-6ff4-469d-af53-e65cc66701a4",
   "metadata": {
    "tags": []
   },
   "outputs": [],
   "source": [
    "#a=spark.sql('select * from F1879')"
   ]
  },
  {
   "cell_type": "code",
   "execution_count": null,
   "id": "08c99eed-2bf9-4b10-84ff-7233fcbb9ea2",
   "metadata": {},
   "outputs": [],
   "source": []
  },
  {
   "cell_type": "code",
   "execution_count": 45,
   "id": "840523a9-3439-4665-936e-2260c2ecbe1b",
   "metadata": {
    "tags": []
   },
   "outputs": [
    {
     "name": "stderr",
     "output_type": "stream",
     "text": [
      "[Stage 65:>                                                         (0 + 1) / 1]\r"
     ]
    },
    {
     "name": "stdout",
     "output_type": "stream",
     "text": [
      "+--------------------+----+\n",
      "|           CONT_RUT1| COM|\n",
      "+--------------------+----+\n",
      "|+++4/3jzUwtDPSSo3...| 460|\n",
      "|++7yFnLR2jk0Wr0e8...|2478|\n",
      "|++WLg1DbuZQ0MUQEN...|2915|\n",
      "|++YxswwB51l+3P6mO...|1799|\n",
      "|++ggVpHHILx+9SGu8...|1141|\n",
      "|++qoXOhoawzvRog9E...| 999|\n",
      "|+/+yqr5XeK0rOoKkG...|3114|\n",
      "|+/HrCRshGy4wSSO1V...| 126|\n",
      "|+/JZf0TTOGVxNx9tj...| 325|\n",
      "|+/R7TO3QchPVrRHn9...|1091|\n",
      "|+/bsZuw7/ADsTou53...|2202|\n",
      "|+/cJ7EBd5oKjQfhxu...|1018|\n",
      "|+0dURcPCBYLGVKmIt...| 614|\n",
      "|+0f/GM34xojh+tn7A...| 321|\n",
      "|+0ut+stCHqH6UHSAh...|2659|\n",
      "|+0yKx5GSw/Q5FoSrp...|1157|\n",
      "|+1FNxAxXZVPFSdmBl...|1920|\n",
      "|+1YKE5LQO+CE2nB6H...| 595|\n",
      "|+1eDEaPXcR4UTQlQz...|1329|\n",
      "|+1iuDsJuEu9oPjZFA...| 330|\n",
      "+--------------------+----+\n",
      "only showing top 20 rows\n",
      "\n"
     ]
    },
    {
     "name": "stderr",
     "output_type": "stream",
     "text": [
      "                                                                                \r"
     ]
    }
   ],
   "source": [
    "b=spark.sql('select CONT_RUT as CONT_RUT1, COM  from grupos_conocidos')\n",
    "b.show()"
   ]
  },
  {
   "cell_type": "code",
   "execution_count": null,
   "id": "7ff1800a-fc02-4ccf-b245-221ffa5eb000",
   "metadata": {},
   "outputs": [],
   "source": [
    "join "
   ]
  },
  {
   "cell_type": "code",
   "execution_count": 33,
   "id": "5648ca2f-b7ab-4cec-91cb-3c4d4681c901",
   "metadata": {
    "tags": []
   },
   "outputs": [],
   "source": [
    "spark.sql('select CONT_RUT, CONT_RUT_INFO from F1879 where F1879_RETE_DIRE10>0 OR F1879_RETE_DIRE20>0').createOrReplaceTempView(\"F1879\")"
   ]
  },
  {
   "cell_type": "code",
   "execution_count": null,
   "id": "58469167-2f80-4147-b381-14951af33cce",
   "metadata": {},
   "outputs": [],
   "source": []
  },
  {
   "cell_type": "code",
   "execution_count": 46,
   "id": "c401cc5a-70d8-4ece-a53a-2f75ae4f3318",
   "metadata": {
    "tags": []
   },
   "outputs": [],
   "source": [
    "c=spark.sql('select * from F1879')\n",
    "#c=a.select(\"CONT_RUT, CONT_RUT_INFO\").filter"
   ]
  },
  {
   "cell_type": "code",
   "execution_count": 47,
   "id": "2e34cb19-0f6c-434b-9f87-404337b55ae1",
   "metadata": {
    "tags": []
   },
   "outputs": [],
   "source": [
    "spark.conf.set(\"spark.sql.parquet.int96RebaseModeInRead\", \"CORRECTED\")\n",
    "spark.conf.set(\"spark.sql.parquet.enableVectorizedReader\",\"false\")\n",
    "spark.conf.set(\"spark.sql.parquet.int96RebaseModeInRead\", \"CORRECTED\")\n",
    "spark.conf.set(\"spark.sql.parquet.int96RebaseModeInWrite\", \"CORRECTED\")\n",
    "spark.conf.set(\"spark.sql.parquet.datetimeRebaseModeInRead\", \"CORRECTED\")\n",
    "spark.conf.set(\"spark.sql.parquet.datetimeRebaseModeInWrite\", \"CORRECTED\")"
   ]
  },
  {
   "cell_type": "code",
   "execution_count": null,
   "id": "64d07475-aa95-4528-8268-93965273f84d",
   "metadata": {},
   "outputs": [],
   "source": [
    "#empDF.join(deptDF,empDF.emp_dept_id ==  deptDF.dept_id,\"left\").show(truncate=False)"
   ]
  },
  {
   "cell_type": "code",
   "execution_count": 48,
   "id": "180d9970-14ed-4388-abe4-74e5c422b1ad",
   "metadata": {
    "tags": []
   },
   "outputs": [],
   "source": [
    "f=c.join(b,c.CONT_RUT ==  b.CONT_RUT1,\"left\")"
   ]
  },
  {
   "cell_type": "code",
   "execution_count": 50,
   "id": "361bfac2-1725-4bec-9983-51da72ec87c0",
   "metadata": {
    "tags": []
   },
   "outputs": [
    {
     "name": "stderr",
     "output_type": "stream",
     "text": [
      "[Stage 75:>                                                         (0 + 1) / 1]\r"
     ]
    },
    {
     "name": "stdout",
     "output_type": "stream",
     "text": [
      "+------------------------+------------------+-------------+---------------------+--------------------+-------+--------------------+-----------------+--------------------+------------+--------------------+----------------+---------------+-----------------+-----------------+-----------------+-----------------+------------------+---------------------+--------------------+--------------------+-------------+--------------------+------------+----------+--------------+---------------+---------------+---------------+----------------------+-------------------------+-----------------------+--------------------+----+---------+----+\n",
      "|PERI_AGNO_MES_TRIBUTARIO|HEADER_FORM_KEY_VO|TIFO_COD_FORM|TIFO_COD_FORM_VERSION|            CONT_RUT|CONT_DV|  F1879_RUT_DECLA_VO|F1879_DV_DECLA_VO|       CONT_RUT_INFO|CONT_DV_INFO|   F1879_RUT_INFO_VO|F1879_DV_INFO_VO|F1879_RETE_HONO|F1879_RETE_DIRE10|F1879_RETE_DIRE20|F1879_CERTIFICADO|F1879_CORRELATIVO|F1879_PERIODO_PAGO|F1879_RETE_HONO_ARTES|F1879_RETE_HONO_ISLA|      F1879_RUT_FNCR|F1879_DV_FNCR|       CONT_RUT_FNCR|CONT_DV_FNCR|F1879_SEVE|F1879_BORRA_VO|F1879_ORIGEN_VO|F1879_ESTADO_VX|TIMO_COD_MONEDA|F1879_FECHA_CONVERSION|F1879_FECHA_EXTRACCION_SO|F1879_PAGO_PRESTAMO_C29|F1879_FECHA_CARGA_DW|_c33|CONT_RUT1| COM|\n",
      "+------------------------+------------------+-------------+---------------------+--------------------+-------+--------------------+-----------------+--------------------+------------+--------------------+----------------+---------------+-----------------+-----------------+-----------------+-----------------+------------------+---------------------+--------------------+--------------------+-------------+--------------------+------------+----------+--------------+---------------+---------------+---------------+----------------------+-------------------------+-----------------------+--------------------+----+---------+----+\n",
      "|                  200800|          27625216|        F1879|                    8|f7U4XQSofGs8rKz5H...|      3|f7U4XQSofGs8rKz5H...|                3|ar2xjfWs1hJGgY3Xr...|           4|ar2xjfWs1hJGgY3Xr...|               4|          10080|                0|                0|          0000001|             null|              null|                 null|                null|jZi8Pt+LlMPNahXB8...|            9|jZi8Pt+LlMPNahXB8...|           9|         O|          null|           null|           null|              1|                  null|      2008-11-21 15:59:20|                   null| 2008-11-21 16:06:39|null|     null|null|\n",
      "|                  200800|          27625216|        F1879|                    8|f7U4XQSofGs8rKz5H...|      3|f7U4XQSofGs8rKz5H...|                3|m3eW+lvPJ+jHUwYQL...|           1|m3eW+lvPJ+jHUwYQL...|               1|           1406|                0|                0|          0000002|             null|              null|                 null|                null|jZi8Pt+LlMPNahXB8...|            9|jZi8Pt+LlMPNahXB8...|           9|         O|          null|           null|           null|              1|                  null|      2008-11-21 15:59:20|                   null| 2008-11-21 16:06:39|null|     null|null|\n",
      "|                  200800|          27625216|        F1879|                    8|f7U4XQSofGs8rKz5H...|      3|f7U4XQSofGs8rKz5H...|                3|InkD6L0Te6285PKK0...|           6|InkD6L0Te6285PKK0...|               6|          20793|                0|                0|          0000003|             null|              null|                 null|                null|jZi8Pt+LlMPNahXB8...|            9|jZi8Pt+LlMPNahXB8...|           9|         O|          null|           null|           null|              1|                  null|      2008-11-21 15:59:20|                   null| 2008-11-21 16:06:39|null|     null|null|\n",
      "+------------------------+------------------+-------------+---------------------+--------------------+-------+--------------------+-----------------+--------------------+------------+--------------------+----------------+---------------+-----------------+-----------------+-----------------+-----------------+------------------+---------------------+--------------------+--------------------+-------------+--------------------+------------+----------+--------------+---------------+---------------+---------------+----------------------+-------------------------+-----------------------+--------------------+----+---------+----+\n",
      "only showing top 3 rows\n",
      "\n"
     ]
    },
    {
     "name": "stderr",
     "output_type": "stream",
     "text": [
      "                                                                                \r"
     ]
    }
   ],
   "source": [
    "f.show(3)"
   ]
  },
  {
   "cell_type": "code",
   "execution_count": 51,
   "id": "cbe9ee4b-df8f-474b-b97f-897470f9a754",
   "metadata": {
    "tags": []
   },
   "outputs": [
    {
     "name": "stdout",
     "output_type": "stream",
     "text": [
      "+---------+----+--------------------+\n",
      "|CONT_RUT1| COM|       CONT_RUT_INFO|\n",
      "+---------+----+--------------------+\n",
      "|     null|null|ar2xjfWs1hJGgY3Xr...|\n",
      "|     null|null|m3eW+lvPJ+jHUwYQL...|\n",
      "|     null|null|InkD6L0Te6285PKK0...|\n",
      "+---------+----+--------------------+\n",
      "only showing top 3 rows\n",
      "\n"
     ]
    }
   ],
   "source": [
    "f.select(\"CONT_RUT1\",\"COM\",\"CONT_RUT_INFO\").show(3)"
   ]
  },
  {
   "cell_type": "code",
   "execution_count": null,
   "id": "2e08a4e9-7e6e-422d-a7e4-9454636bb10e",
   "metadata": {},
   "outputs": [],
   "source": []
  },
  {
   "cell_type": "code",
   "execution_count": 52,
   "id": "bdef1910-c669-4441-a05f-ad6e31737b89",
   "metadata": {
    "tags": []
   },
   "outputs": [],
   "source": [
    "salida=f.select(\"CONT_RUT1\",\"COM\",\"CONT_RUT_INFO\").filter(\"CONT_RUT1 is not null\")"
   ]
  },
  {
   "cell_type": "code",
   "execution_count": 53,
   "id": "ec1d8037-4eea-454b-84af-45a4a5592c07",
   "metadata": {
    "tags": []
   },
   "outputs": [
    {
     "name": "stdout",
     "output_type": "stream",
     "text": [
      "+--------------------+----+--------------------+\n",
      "|           CONT_RUT1| COM|       CONT_RUT_INFO|\n",
      "+--------------------+----+--------------------+\n",
      "|4a+1bVQ3ECSHktMct...|1734|OhK2d9YlOVecM7U9A...|\n",
      "|4a+1bVQ3ECSHktMct...|1734|KsxvqdN8Y+AqHce7z...|\n",
      "|4a+1bVQ3ECSHktMct...|1734|gDDhfvJ69XpKQpeBk...|\n",
      "+--------------------+----+--------------------+\n",
      "only showing top 3 rows\n",
      "\n"
     ]
    },
    {
     "name": "stderr",
     "output_type": "stream",
     "text": [
      "                                                                                \r"
     ]
    }
   ],
   "source": [
    "salida.show(3)"
   ]
  },
  {
   "cell_type": "code",
   "execution_count": 54,
   "id": "4966a06d-8c5a-48db-940b-002186ac8ab4",
   "metadata": {
    "tags": []
   },
   "outputs": [
    {
     "data": {
      "text/plain": [
       "'spark.sql.parquet.writeLegacyFormat=true'"
      ]
     },
     "execution_count": 54,
     "metadata": {},
     "output_type": "execute_result"
    }
   ],
   "source": [
    "\"spark.sql.parquet.writeLegacyFormat=true\""
   ]
  },
  {
   "cell_type": "code",
   "execution_count": 55,
   "id": "909e28fa-65a5-46bf-bf69-4fd1e563f10c",
   "metadata": {
    "tags": []
   },
   "outputs": [],
   "source": [
    "spark.conf.set(\"spark.sql.parquet.writeLegacyFormat\", \"true\")"
   ]
  },
  {
   "cell_type": "code",
   "execution_count": 56,
   "id": "db2fc2bf-299b-4f47-b4cb-1f27ae9e9420",
   "metadata": {
    "tags": []
   },
   "outputs": [
    {
     "name": "stderr",
     "output_type": "stream",
     "text": [
      "                                                                                \r"
     ]
    },
    {
     "data": {
      "text/plain": [
       "19866524"
      ]
     },
     "execution_count": 56,
     "metadata": {},
     "output_type": "execute_result"
    }
   ],
   "source": [
    "salida.count()"
   ]
  },
  {
   "cell_type": "code",
   "execution_count": null,
   "id": "0aa6dc9d-e300-47f9-b069-c413829a9d73",
   "metadata": {},
   "outputs": [],
   "source": []
  },
  {
   "cell_type": "code",
   "execution_count": 57,
   "id": "a06813dd-bf3e-4633-8ee2-5e90530137d2",
   "metadata": {
    "tags": []
   },
   "outputs": [
    {
     "name": "stdout",
     "output_type": "stream",
     "text": [
      "root\n",
      " |-- CONT_RUT1: string (nullable = true)\n",
      " |-- COM: integer (nullable = true)\n",
      " |-- CONT_RUT_INFO: string (nullable = true)\n",
      "\n"
     ]
    }
   ],
   "source": [
    "salida.printSchema()"
   ]
  },
  {
   "cell_type": "code",
   "execution_count": 58,
   "id": "60ff3e9a-eb29-4b4b-957b-28d09f3c10be",
   "metadata": {
    "tags": []
   },
   "outputs": [
    {
     "name": "stderr",
     "output_type": "stream",
     "text": [
      "                                                                                \r"
     ]
    }
   ],
   "source": [
    "salidaPandas=salida.toPandas()"
   ]
  },
  {
   "cell_type": "code",
   "execution_count": 59,
   "id": "451ba5a4-b6ac-470b-9805-4c222d193f30",
   "metadata": {
    "tags": []
   },
   "outputs": [
    {
     "data": {
      "text/html": [
       "<div>\n",
       "<style scoped>\n",
       "    .dataframe tbody tr th:only-of-type {\n",
       "        vertical-align: middle;\n",
       "    }\n",
       "\n",
       "    .dataframe tbody tr th {\n",
       "        vertical-align: top;\n",
       "    }\n",
       "\n",
       "    .dataframe thead th {\n",
       "        text-align: right;\n",
       "    }\n",
       "</style>\n",
       "<table border=\"1\" class=\"dataframe\">\n",
       "  <thead>\n",
       "    <tr style=\"text-align: right;\">\n",
       "      <th></th>\n",
       "      <th>CONT_RUT1</th>\n",
       "      <th>COM</th>\n",
       "      <th>CONT_RUT_INFO</th>\n",
       "    </tr>\n",
       "  </thead>\n",
       "  <tbody>\n",
       "    <tr>\n",
       "      <th>0</th>\n",
       "      <td>4a+1bVQ3ECSHktMctHRjZg==</td>\n",
       "      <td>1734</td>\n",
       "      <td>OhK2d9YlOVecM7U9AVc3Mw==</td>\n",
       "    </tr>\n",
       "    <tr>\n",
       "      <th>1</th>\n",
       "      <td>4a+1bVQ3ECSHktMctHRjZg==</td>\n",
       "      <td>1734</td>\n",
       "      <td>KsxvqdN8Y+AqHce7zrANeA==</td>\n",
       "    </tr>\n",
       "    <tr>\n",
       "      <th>2</th>\n",
       "      <td>4a+1bVQ3ECSHktMctHRjZg==</td>\n",
       "      <td>1734</td>\n",
       "      <td>gDDhfvJ69XpKQpeBkgVEyQ==</td>\n",
       "    </tr>\n",
       "    <tr>\n",
       "      <th>3</th>\n",
       "      <td>4a+1bVQ3ECSHktMctHRjZg==</td>\n",
       "      <td>1734</td>\n",
       "      <td>y+zrz7elPXtqeb684EAQvQ==</td>\n",
       "    </tr>\n",
       "    <tr>\n",
       "      <th>4</th>\n",
       "      <td>4a+1bVQ3ECSHktMctHRjZg==</td>\n",
       "      <td>1734</td>\n",
       "      <td>IXtw8gcVudn23YMgP7II9A==</td>\n",
       "    </tr>\n",
       "  </tbody>\n",
       "</table>\n",
       "</div>"
      ],
      "text/plain": [
       "                  CONT_RUT1   COM             CONT_RUT_INFO\n",
       "0  4a+1bVQ3ECSHktMctHRjZg==  1734  OhK2d9YlOVecM7U9AVc3Mw==\n",
       "1  4a+1bVQ3ECSHktMctHRjZg==  1734  KsxvqdN8Y+AqHce7zrANeA==\n",
       "2  4a+1bVQ3ECSHktMctHRjZg==  1734  gDDhfvJ69XpKQpeBkgVEyQ==\n",
       "3  4a+1bVQ3ECSHktMctHRjZg==  1734  y+zrz7elPXtqeb684EAQvQ==\n",
       "4  4a+1bVQ3ECSHktMctHRjZg==  1734  IXtw8gcVudn23YMgP7II9A=="
      ]
     },
     "execution_count": 59,
     "metadata": {},
     "output_type": "execute_result"
    }
   ],
   "source": [
    "salidaPandas.head(5)"
   ]
  },
  {
   "cell_type": "code",
   "execution_count": 60,
   "id": "64d1ead9-78fa-405e-bd4e-6d48bd57c0ba",
   "metadata": {
    "tags": []
   },
   "outputs": [],
   "source": [
    "salidaPandas.to_csv('salidaPandas.csv')"
   ]
  },
  {
   "cell_type": "code",
   "execution_count": 20,
   "id": "bb4c1d3f-ea00-441d-b7bd-142e723aec23",
   "metadata": {
    "tags": []
   },
   "outputs": [],
   "source": [
    "salida.createOrReplaceTempView(\"directores\")"
   ]
  },
  {
   "cell_type": "code",
   "execution_count": 13,
   "id": "72dd904f-8ad8-4e56-813b-28bfd104492c",
   "metadata": {
    "tags": []
   },
   "outputs": [
    {
     "name": "stderr",
     "output_type": "stream",
     "text": [
      "24/04/15 19:48:37 ERROR TaskSetManager: Task 7 in stage 11.0 failed 4 times; aborting job\n"
     ]
    },
    {
     "ename": "Py4JJavaError",
     "evalue": "An error occurred while calling o114.showString.\n: org.apache.spark.SparkException: Job aborted due to stage failure: Task 7 in stage 11.0 failed 4 times, most recent failure: Lost task 7.3 in stage 11.0 (TID 34) (10.244.48.21 executor 15): org.apache.spark.sql.execution.QueryExecutionException: Encounter error while reading parquet files. One possible cause: Parquet column cannot be converted in the corresponding files. Details: \n\tat org.apache.spark.sql.errors.QueryExecutionErrors$.cannotReadParquetFilesError(QueryExecutionErrors.scala:577)\n\tat org.apache.spark.sql.execution.datasources.FileScanRDD$$anon$1.nextIterator(FileScanRDD.scala:200)\n\tat org.apache.spark.sql.execution.datasources.FileScanRDD$$anon$1.hasNext(FileScanRDD.scala:104)\n\tat scala.collection.Iterator$$anon$10.hasNext(Iterator.scala:458)\n\tat org.apache.spark.sql.catalyst.expressions.GeneratedClass$GeneratedIteratorForCodegenStage3.agg_doAggregateWithoutKey_0$(Unknown Source)\n\tat org.apache.spark.sql.catalyst.expressions.GeneratedClass$GeneratedIteratorForCodegenStage3.processNext(Unknown Source)\n\tat org.apache.spark.sql.execution.BufferedRowIterator.hasNext(BufferedRowIterator.java:43)\n\tat org.apache.spark.sql.execution.WholeStageCodegenExec$$anon$1.hasNext(WholeStageCodegenExec.scala:759)\n\tat scala.collection.Iterator$$anon$10.hasNext(Iterator.scala:458)\n\tat org.apache.spark.shuffle.sort.BypassMergeSortShuffleWriter.write(BypassMergeSortShuffleWriter.java:140)\n\tat org.apache.spark.shuffle.ShuffleWriteProcessor.write(ShuffleWriteProcessor.scala:59)\n\tat org.apache.spark.scheduler.ShuffleMapTask.runTask(ShuffleMapTask.scala:99)\n\tat org.apache.spark.scheduler.ShuffleMapTask.runTask(ShuffleMapTask.scala:52)\n\tat org.apache.spark.scheduler.Task.run(Task.scala:131)\n\tat org.apache.spark.executor.Executor$TaskRunner.$anonfun$run$3(Executor.scala:506)\n\tat org.apache.spark.util.Utils$.tryWithSafeFinally(Utils.scala:1491)\n\tat org.apache.spark.executor.Executor$TaskRunner.run(Executor.scala:509)\n\tat java.util.concurrent.ThreadPoolExecutor.runWorker(ThreadPoolExecutor.java:1149)\n\tat java.util.concurrent.ThreadPoolExecutor$Worker.run(ThreadPoolExecutor.java:624)\n\tat java.lang.Thread.run(Thread.java:750)\nCaused by: org.apache.parquet.io.ParquetDecodingException: Can not read value at 1 in block 0 in file abfs://data@datalakesii.dfs.core.windows.net/DatosOrigen/DW/DW_TRN_DJR_F1879_E/part-00001-51ac1a73-cc1a-42c0-9a32-f42e184500f2-c000.snappy.parquet\n\tat org.apache.parquet.hadoop.InternalParquetRecordReader.nextKeyValue(InternalParquetRecordReader.java:251)\n\tat org.apache.parquet.hadoop.ParquetRecordReader.nextKeyValue(ParquetRecordReader.java:207)\n\tat org.apache.spark.sql.execution.datasources.RecordReaderIterator.hasNext(RecordReaderIterator.scala:39)\n\tat org.apache.spark.sql.execution.datasources.RecordReaderIterator$$anon$1.hasNext(RecordReaderIterator.scala:61)\n\tat org.apache.spark.sql.execution.datasources.FileScanRDD$$anon$1.hasNext(FileScanRDD.scala:104)\n\tat org.apache.spark.sql.execution.datasources.FileScanRDD$$anon$1.nextIterator(FileScanRDD.scala:191)\n\t... 18 more\nCaused by: java.lang.ClassCastException\n\nDriver stacktrace:\n\tat org.apache.spark.scheduler.DAGScheduler.failJobAndIndependentStages(DAGScheduler.scala:2454)\n\tat org.apache.spark.scheduler.DAGScheduler.$anonfun$abortStage$2(DAGScheduler.scala:2403)\n\tat org.apache.spark.scheduler.DAGScheduler.$anonfun$abortStage$2$adapted(DAGScheduler.scala:2402)\n\tat scala.collection.mutable.ResizableArray.foreach(ResizableArray.scala:62)\n\tat scala.collection.mutable.ResizableArray.foreach$(ResizableArray.scala:55)\n\tat scala.collection.mutable.ArrayBuffer.foreach(ArrayBuffer.scala:49)\n\tat org.apache.spark.scheduler.DAGScheduler.abortStage(DAGScheduler.scala:2402)\n\tat org.apache.spark.scheduler.DAGScheduler.$anonfun$handleTaskSetFailed$1(DAGScheduler.scala:1160)\n\tat org.apache.spark.scheduler.DAGScheduler.$anonfun$handleTaskSetFailed$1$adapted(DAGScheduler.scala:1160)\n\tat scala.Option.foreach(Option.scala:407)\n\tat org.apache.spark.scheduler.DAGScheduler.handleTaskSetFailed(DAGScheduler.scala:1160)\n\tat org.apache.spark.scheduler.DAGSchedulerEventProcessLoop.doOnReceive(DAGScheduler.scala:2642)\n\tat org.apache.spark.scheduler.DAGSchedulerEventProcessLoop.onReceive(DAGScheduler.scala:2584)\n\tat org.apache.spark.scheduler.DAGSchedulerEventProcessLoop.onReceive(DAGScheduler.scala:2573)\n\tat org.apache.spark.util.EventLoop$$anon$1.run(EventLoop.scala:49)\nCaused by: org.apache.spark.sql.execution.QueryExecutionException: Encounter error while reading parquet files. One possible cause: Parquet column cannot be converted in the corresponding files. Details: \n\tat org.apache.spark.sql.errors.QueryExecutionErrors$.cannotReadParquetFilesError(QueryExecutionErrors.scala:577)\n\tat org.apache.spark.sql.execution.datasources.FileScanRDD$$anon$1.nextIterator(FileScanRDD.scala:200)\n\tat org.apache.spark.sql.execution.datasources.FileScanRDD$$anon$1.hasNext(FileScanRDD.scala:104)\n\tat scala.collection.Iterator$$anon$10.hasNext(Iterator.scala:458)\n\tat org.apache.spark.sql.catalyst.expressions.GeneratedClass$GeneratedIteratorForCodegenStage3.agg_doAggregateWithoutKey_0$(Unknown Source)\n\tat org.apache.spark.sql.catalyst.expressions.GeneratedClass$GeneratedIteratorForCodegenStage3.processNext(Unknown Source)\n\tat org.apache.spark.sql.execution.BufferedRowIterator.hasNext(BufferedRowIterator.java:43)\n\tat org.apache.spark.sql.execution.WholeStageCodegenExec$$anon$1.hasNext(WholeStageCodegenExec.scala:759)\n\tat scala.collection.Iterator$$anon$10.hasNext(Iterator.scala:458)\n\tat org.apache.spark.shuffle.sort.BypassMergeSortShuffleWriter.write(BypassMergeSortShuffleWriter.java:140)\n\tat org.apache.spark.shuffle.ShuffleWriteProcessor.write(ShuffleWriteProcessor.scala:59)\n\tat org.apache.spark.scheduler.ShuffleMapTask.runTask(ShuffleMapTask.scala:99)\n\tat org.apache.spark.scheduler.ShuffleMapTask.runTask(ShuffleMapTask.scala:52)\n\tat org.apache.spark.scheduler.Task.run(Task.scala:131)\n\tat org.apache.spark.executor.Executor$TaskRunner.$anonfun$run$3(Executor.scala:506)\n\tat org.apache.spark.util.Utils$.tryWithSafeFinally(Utils.scala:1491)\n\tat org.apache.spark.executor.Executor$TaskRunner.run(Executor.scala:509)\n\tat java.util.concurrent.ThreadPoolExecutor.runWorker(ThreadPoolExecutor.java:1149)\n\tat java.util.concurrent.ThreadPoolExecutor$Worker.run(ThreadPoolExecutor.java:624)\n\tat java.lang.Thread.run(Thread.java:750)\nCaused by: org.apache.parquet.io.ParquetDecodingException: Can not read value at 1 in block 0 in file abfs://data@datalakesii.dfs.core.windows.net/DatosOrigen/DW/DW_TRN_DJR_F1879_E/part-00001-51ac1a73-cc1a-42c0-9a32-f42e184500f2-c000.snappy.parquet\n\tat org.apache.parquet.hadoop.InternalParquetRecordReader.nextKeyValue(InternalParquetRecordReader.java:251)\n\tat org.apache.parquet.hadoop.ParquetRecordReader.nextKeyValue(ParquetRecordReader.java:207)\n\tat org.apache.spark.sql.execution.datasources.RecordReaderIterator.hasNext(RecordReaderIterator.scala:39)\n\tat org.apache.spark.sql.execution.datasources.RecordReaderIterator$$anon$1.hasNext(RecordReaderIterator.scala:61)\n\tat org.apache.spark.sql.execution.datasources.FileScanRDD$$anon$1.hasNext(FileScanRDD.scala:104)\n\tat org.apache.spark.sql.execution.datasources.FileScanRDD$$anon$1.nextIterator(FileScanRDD.scala:191)\n\t... 18 more\nCaused by: java.lang.ClassCastException\n",
     "output_type": "error",
     "traceback": [
      "\u001b[0;31m---------------------------------------------------------------------------\u001b[0m",
      "\u001b[0;31mPy4JJavaError\u001b[0m                             Traceback (most recent call last)",
      "Cell \u001b[0;32mIn[13], line 4\u001b[0m\n\u001b[1;32m      2\u001b[0m spark\u001b[38;5;241m.\u001b[39msql(\u001b[38;5;124m'\u001b[39m\u001b[38;5;124mselect CONT_RUT1 as CONT_RUT, COM, CONT_RUT_INFO from directores where CONT_RUT1 is not null\u001b[39m\u001b[38;5;124m'\u001b[39m)\u001b[38;5;241m.\u001b[39mcreateOrReplaceTempView(\u001b[38;5;124m\"\u001b[39m\u001b[38;5;124mdirectores\u001b[39m\u001b[38;5;124m\"\u001b[39m)\n\u001b[1;32m      3\u001b[0m directores\u001b[38;5;241m=\u001b[39mspark\u001b[38;5;241m.\u001b[39msql(\u001b[38;5;124m'\u001b[39m\u001b[38;5;124mselect count(*) from directores\u001b[39m\u001b[38;5;124m'\u001b[39m)\n\u001b[0;32m----> 4\u001b[0m \u001b[43mdirectores\u001b[49m\u001b[38;5;241;43m.\u001b[39;49m\u001b[43mshow\u001b[49m\u001b[43m(\u001b[49m\u001b[43m)\u001b[49m\n",
      "File \u001b[0;32m/opt/spark/python/lib/pyspark.zip/pyspark/sql/dataframe.py:494\u001b[0m, in \u001b[0;36mDataFrame.show\u001b[0;34m(self, n, truncate, vertical)\u001b[0m\n\u001b[1;32m    491\u001b[0m     \u001b[38;5;28;01mraise\u001b[39;00m \u001b[38;5;167;01mTypeError\u001b[39;00m(\u001b[38;5;124m\"\u001b[39m\u001b[38;5;124mParameter \u001b[39m\u001b[38;5;124m'\u001b[39m\u001b[38;5;124mvertical\u001b[39m\u001b[38;5;124m'\u001b[39m\u001b[38;5;124m must be a bool\u001b[39m\u001b[38;5;124m\"\u001b[39m)\n\u001b[1;32m    493\u001b[0m \u001b[38;5;28;01mif\u001b[39;00m \u001b[38;5;28misinstance\u001b[39m(truncate, \u001b[38;5;28mbool\u001b[39m) \u001b[38;5;129;01mand\u001b[39;00m truncate:\n\u001b[0;32m--> 494\u001b[0m     \u001b[38;5;28mprint\u001b[39m(\u001b[38;5;28;43mself\u001b[39;49m\u001b[38;5;241;43m.\u001b[39;49m\u001b[43m_jdf\u001b[49m\u001b[38;5;241;43m.\u001b[39;49m\u001b[43mshowString\u001b[49m\u001b[43m(\u001b[49m\u001b[43mn\u001b[49m\u001b[43m,\u001b[49m\u001b[43m \u001b[49m\u001b[38;5;241;43m20\u001b[39;49m\u001b[43m,\u001b[49m\u001b[43m \u001b[49m\u001b[43mvertical\u001b[49m\u001b[43m)\u001b[49m)\n\u001b[1;32m    495\u001b[0m \u001b[38;5;28;01melse\u001b[39;00m:\n\u001b[1;32m    496\u001b[0m     \u001b[38;5;28;01mtry\u001b[39;00m:\n",
      "File \u001b[0;32m/usr/local/lib/python3.10/site-packages/py4j/java_gateway.py:1304\u001b[0m, in \u001b[0;36mJavaMember.__call__\u001b[0;34m(self, *args)\u001b[0m\n\u001b[1;32m   1298\u001b[0m command \u001b[38;5;241m=\u001b[39m proto\u001b[38;5;241m.\u001b[39mCALL_COMMAND_NAME \u001b[38;5;241m+\u001b[39m\\\n\u001b[1;32m   1299\u001b[0m     \u001b[38;5;28mself\u001b[39m\u001b[38;5;241m.\u001b[39mcommand_header \u001b[38;5;241m+\u001b[39m\\\n\u001b[1;32m   1300\u001b[0m     args_command \u001b[38;5;241m+\u001b[39m\\\n\u001b[1;32m   1301\u001b[0m     proto\u001b[38;5;241m.\u001b[39mEND_COMMAND_PART\n\u001b[1;32m   1303\u001b[0m answer \u001b[38;5;241m=\u001b[39m \u001b[38;5;28mself\u001b[39m\u001b[38;5;241m.\u001b[39mgateway_client\u001b[38;5;241m.\u001b[39msend_command(command)\n\u001b[0;32m-> 1304\u001b[0m return_value \u001b[38;5;241m=\u001b[39m \u001b[43mget_return_value\u001b[49m\u001b[43m(\u001b[49m\n\u001b[1;32m   1305\u001b[0m \u001b[43m    \u001b[49m\u001b[43manswer\u001b[49m\u001b[43m,\u001b[49m\u001b[43m \u001b[49m\u001b[38;5;28;43mself\u001b[39;49m\u001b[38;5;241;43m.\u001b[39;49m\u001b[43mgateway_client\u001b[49m\u001b[43m,\u001b[49m\u001b[43m \u001b[49m\u001b[38;5;28;43mself\u001b[39;49m\u001b[38;5;241;43m.\u001b[39;49m\u001b[43mtarget_id\u001b[49m\u001b[43m,\u001b[49m\u001b[43m \u001b[49m\u001b[38;5;28;43mself\u001b[39;49m\u001b[38;5;241;43m.\u001b[39;49m\u001b[43mname\u001b[49m\u001b[43m)\u001b[49m\n\u001b[1;32m   1307\u001b[0m \u001b[38;5;28;01mfor\u001b[39;00m temp_arg \u001b[38;5;129;01min\u001b[39;00m temp_args:\n\u001b[1;32m   1308\u001b[0m     temp_arg\u001b[38;5;241m.\u001b[39m_detach()\n",
      "File \u001b[0;32m/opt/spark/python/lib/pyspark.zip/pyspark/sql/utils.py:111\u001b[0m, in \u001b[0;36mcapture_sql_exception.<locals>.deco\u001b[0;34m(*a, **kw)\u001b[0m\n\u001b[1;32m    109\u001b[0m \u001b[38;5;28;01mdef\u001b[39;00m \u001b[38;5;21mdeco\u001b[39m(\u001b[38;5;241m*\u001b[39ma, \u001b[38;5;241m*\u001b[39m\u001b[38;5;241m*\u001b[39mkw):\n\u001b[1;32m    110\u001b[0m     \u001b[38;5;28;01mtry\u001b[39;00m:\n\u001b[0;32m--> 111\u001b[0m         \u001b[38;5;28;01mreturn\u001b[39;00m \u001b[43mf\u001b[49m\u001b[43m(\u001b[49m\u001b[38;5;241;43m*\u001b[39;49m\u001b[43ma\u001b[49m\u001b[43m,\u001b[49m\u001b[43m \u001b[49m\u001b[38;5;241;43m*\u001b[39;49m\u001b[38;5;241;43m*\u001b[39;49m\u001b[43mkw\u001b[49m\u001b[43m)\u001b[49m\n\u001b[1;32m    112\u001b[0m     \u001b[38;5;28;01mexcept\u001b[39;00m py4j\u001b[38;5;241m.\u001b[39mprotocol\u001b[38;5;241m.\u001b[39mPy4JJavaError \u001b[38;5;28;01mas\u001b[39;00m e:\n\u001b[1;32m    113\u001b[0m         converted \u001b[38;5;241m=\u001b[39m convert_exception(e\u001b[38;5;241m.\u001b[39mjava_exception)\n",
      "File \u001b[0;32m/usr/local/lib/python3.10/site-packages/py4j/protocol.py:326\u001b[0m, in \u001b[0;36mget_return_value\u001b[0;34m(answer, gateway_client, target_id, name)\u001b[0m\n\u001b[1;32m    324\u001b[0m value \u001b[38;5;241m=\u001b[39m OUTPUT_CONVERTER[\u001b[38;5;28mtype\u001b[39m](answer[\u001b[38;5;241m2\u001b[39m:], gateway_client)\n\u001b[1;32m    325\u001b[0m \u001b[38;5;28;01mif\u001b[39;00m answer[\u001b[38;5;241m1\u001b[39m] \u001b[38;5;241m==\u001b[39m REFERENCE_TYPE:\n\u001b[0;32m--> 326\u001b[0m     \u001b[38;5;28;01mraise\u001b[39;00m Py4JJavaError(\n\u001b[1;32m    327\u001b[0m         \u001b[38;5;124m\"\u001b[39m\u001b[38;5;124mAn error occurred while calling \u001b[39m\u001b[38;5;132;01m{0}\u001b[39;00m\u001b[38;5;132;01m{1}\u001b[39;00m\u001b[38;5;132;01m{2}\u001b[39;00m\u001b[38;5;124m.\u001b[39m\u001b[38;5;130;01m\\n\u001b[39;00m\u001b[38;5;124m\"\u001b[39m\u001b[38;5;241m.\u001b[39m\n\u001b[1;32m    328\u001b[0m         \u001b[38;5;28mformat\u001b[39m(target_id, \u001b[38;5;124m\"\u001b[39m\u001b[38;5;124m.\u001b[39m\u001b[38;5;124m\"\u001b[39m, name), value)\n\u001b[1;32m    329\u001b[0m \u001b[38;5;28;01melse\u001b[39;00m:\n\u001b[1;32m    330\u001b[0m     \u001b[38;5;28;01mraise\u001b[39;00m Py4JError(\n\u001b[1;32m    331\u001b[0m         \u001b[38;5;124m\"\u001b[39m\u001b[38;5;124mAn error occurred while calling \u001b[39m\u001b[38;5;132;01m{0}\u001b[39;00m\u001b[38;5;132;01m{1}\u001b[39;00m\u001b[38;5;132;01m{2}\u001b[39;00m\u001b[38;5;124m. Trace:\u001b[39m\u001b[38;5;130;01m\\n\u001b[39;00m\u001b[38;5;132;01m{3}\u001b[39;00m\u001b[38;5;130;01m\\n\u001b[39;00m\u001b[38;5;124m\"\u001b[39m\u001b[38;5;241m.\u001b[39m\n\u001b[1;32m    332\u001b[0m         \u001b[38;5;28mformat\u001b[39m(target_id, \u001b[38;5;124m\"\u001b[39m\u001b[38;5;124m.\u001b[39m\u001b[38;5;124m\"\u001b[39m, name, value))\n",
      "\u001b[0;31mPy4JJavaError\u001b[0m: An error occurred while calling o114.showString.\n: org.apache.spark.SparkException: Job aborted due to stage failure: Task 7 in stage 11.0 failed 4 times, most recent failure: Lost task 7.3 in stage 11.0 (TID 34) (10.244.48.21 executor 15): org.apache.spark.sql.execution.QueryExecutionException: Encounter error while reading parquet files. One possible cause: Parquet column cannot be converted in the corresponding files. Details: \n\tat org.apache.spark.sql.errors.QueryExecutionErrors$.cannotReadParquetFilesError(QueryExecutionErrors.scala:577)\n\tat org.apache.spark.sql.execution.datasources.FileScanRDD$$anon$1.nextIterator(FileScanRDD.scala:200)\n\tat org.apache.spark.sql.execution.datasources.FileScanRDD$$anon$1.hasNext(FileScanRDD.scala:104)\n\tat scala.collection.Iterator$$anon$10.hasNext(Iterator.scala:458)\n\tat org.apache.spark.sql.catalyst.expressions.GeneratedClass$GeneratedIteratorForCodegenStage3.agg_doAggregateWithoutKey_0$(Unknown Source)\n\tat org.apache.spark.sql.catalyst.expressions.GeneratedClass$GeneratedIteratorForCodegenStage3.processNext(Unknown Source)\n\tat org.apache.spark.sql.execution.BufferedRowIterator.hasNext(BufferedRowIterator.java:43)\n\tat org.apache.spark.sql.execution.WholeStageCodegenExec$$anon$1.hasNext(WholeStageCodegenExec.scala:759)\n\tat scala.collection.Iterator$$anon$10.hasNext(Iterator.scala:458)\n\tat org.apache.spark.shuffle.sort.BypassMergeSortShuffleWriter.write(BypassMergeSortShuffleWriter.java:140)\n\tat org.apache.spark.shuffle.ShuffleWriteProcessor.write(ShuffleWriteProcessor.scala:59)\n\tat org.apache.spark.scheduler.ShuffleMapTask.runTask(ShuffleMapTask.scala:99)\n\tat org.apache.spark.scheduler.ShuffleMapTask.runTask(ShuffleMapTask.scala:52)\n\tat org.apache.spark.scheduler.Task.run(Task.scala:131)\n\tat org.apache.spark.executor.Executor$TaskRunner.$anonfun$run$3(Executor.scala:506)\n\tat org.apache.spark.util.Utils$.tryWithSafeFinally(Utils.scala:1491)\n\tat org.apache.spark.executor.Executor$TaskRunner.run(Executor.scala:509)\n\tat java.util.concurrent.ThreadPoolExecutor.runWorker(ThreadPoolExecutor.java:1149)\n\tat java.util.concurrent.ThreadPoolExecutor$Worker.run(ThreadPoolExecutor.java:624)\n\tat java.lang.Thread.run(Thread.java:750)\nCaused by: org.apache.parquet.io.ParquetDecodingException: Can not read value at 1 in block 0 in file abfs://data@datalakesii.dfs.core.windows.net/DatosOrigen/DW/DW_TRN_DJR_F1879_E/part-00001-51ac1a73-cc1a-42c0-9a32-f42e184500f2-c000.snappy.parquet\n\tat org.apache.parquet.hadoop.InternalParquetRecordReader.nextKeyValue(InternalParquetRecordReader.java:251)\n\tat org.apache.parquet.hadoop.ParquetRecordReader.nextKeyValue(ParquetRecordReader.java:207)\n\tat org.apache.spark.sql.execution.datasources.RecordReaderIterator.hasNext(RecordReaderIterator.scala:39)\n\tat org.apache.spark.sql.execution.datasources.RecordReaderIterator$$anon$1.hasNext(RecordReaderIterator.scala:61)\n\tat org.apache.spark.sql.execution.datasources.FileScanRDD$$anon$1.hasNext(FileScanRDD.scala:104)\n\tat org.apache.spark.sql.execution.datasources.FileScanRDD$$anon$1.nextIterator(FileScanRDD.scala:191)\n\t... 18 more\nCaused by: java.lang.ClassCastException\n\nDriver stacktrace:\n\tat org.apache.spark.scheduler.DAGScheduler.failJobAndIndependentStages(DAGScheduler.scala:2454)\n\tat org.apache.spark.scheduler.DAGScheduler.$anonfun$abortStage$2(DAGScheduler.scala:2403)\n\tat org.apache.spark.scheduler.DAGScheduler.$anonfun$abortStage$2$adapted(DAGScheduler.scala:2402)\n\tat scala.collection.mutable.ResizableArray.foreach(ResizableArray.scala:62)\n\tat scala.collection.mutable.ResizableArray.foreach$(ResizableArray.scala:55)\n\tat scala.collection.mutable.ArrayBuffer.foreach(ArrayBuffer.scala:49)\n\tat org.apache.spark.scheduler.DAGScheduler.abortStage(DAGScheduler.scala:2402)\n\tat org.apache.spark.scheduler.DAGScheduler.$anonfun$handleTaskSetFailed$1(DAGScheduler.scala:1160)\n\tat org.apache.spark.scheduler.DAGScheduler.$anonfun$handleTaskSetFailed$1$adapted(DAGScheduler.scala:1160)\n\tat scala.Option.foreach(Option.scala:407)\n\tat org.apache.spark.scheduler.DAGScheduler.handleTaskSetFailed(DAGScheduler.scala:1160)\n\tat org.apache.spark.scheduler.DAGSchedulerEventProcessLoop.doOnReceive(DAGScheduler.scala:2642)\n\tat org.apache.spark.scheduler.DAGSchedulerEventProcessLoop.onReceive(DAGScheduler.scala:2584)\n\tat org.apache.spark.scheduler.DAGSchedulerEventProcessLoop.onReceive(DAGScheduler.scala:2573)\n\tat org.apache.spark.util.EventLoop$$anon$1.run(EventLoop.scala:49)\nCaused by: org.apache.spark.sql.execution.QueryExecutionException: Encounter error while reading parquet files. One possible cause: Parquet column cannot be converted in the corresponding files. Details: \n\tat org.apache.spark.sql.errors.QueryExecutionErrors$.cannotReadParquetFilesError(QueryExecutionErrors.scala:577)\n\tat org.apache.spark.sql.execution.datasources.FileScanRDD$$anon$1.nextIterator(FileScanRDD.scala:200)\n\tat org.apache.spark.sql.execution.datasources.FileScanRDD$$anon$1.hasNext(FileScanRDD.scala:104)\n\tat scala.collection.Iterator$$anon$10.hasNext(Iterator.scala:458)\n\tat org.apache.spark.sql.catalyst.expressions.GeneratedClass$GeneratedIteratorForCodegenStage3.agg_doAggregateWithoutKey_0$(Unknown Source)\n\tat org.apache.spark.sql.catalyst.expressions.GeneratedClass$GeneratedIteratorForCodegenStage3.processNext(Unknown Source)\n\tat org.apache.spark.sql.execution.BufferedRowIterator.hasNext(BufferedRowIterator.java:43)\n\tat org.apache.spark.sql.execution.WholeStageCodegenExec$$anon$1.hasNext(WholeStageCodegenExec.scala:759)\n\tat scala.collection.Iterator$$anon$10.hasNext(Iterator.scala:458)\n\tat org.apache.spark.shuffle.sort.BypassMergeSortShuffleWriter.write(BypassMergeSortShuffleWriter.java:140)\n\tat org.apache.spark.shuffle.ShuffleWriteProcessor.write(ShuffleWriteProcessor.scala:59)\n\tat org.apache.spark.scheduler.ShuffleMapTask.runTask(ShuffleMapTask.scala:99)\n\tat org.apache.spark.scheduler.ShuffleMapTask.runTask(ShuffleMapTask.scala:52)\n\tat org.apache.spark.scheduler.Task.run(Task.scala:131)\n\tat org.apache.spark.executor.Executor$TaskRunner.$anonfun$run$3(Executor.scala:506)\n\tat org.apache.spark.util.Utils$.tryWithSafeFinally(Utils.scala:1491)\n\tat org.apache.spark.executor.Executor$TaskRunner.run(Executor.scala:509)\n\tat java.util.concurrent.ThreadPoolExecutor.runWorker(ThreadPoolExecutor.java:1149)\n\tat java.util.concurrent.ThreadPoolExecutor$Worker.run(ThreadPoolExecutor.java:624)\n\tat java.lang.Thread.run(Thread.java:750)\nCaused by: org.apache.parquet.io.ParquetDecodingException: Can not read value at 1 in block 0 in file abfs://data@datalakesii.dfs.core.windows.net/DatosOrigen/DW/DW_TRN_DJR_F1879_E/part-00001-51ac1a73-cc1a-42c0-9a32-f42e184500f2-c000.snappy.parquet\n\tat org.apache.parquet.hadoop.InternalParquetRecordReader.nextKeyValue(InternalParquetRecordReader.java:251)\n\tat org.apache.parquet.hadoop.ParquetRecordReader.nextKeyValue(ParquetRecordReader.java:207)\n\tat org.apache.spark.sql.execution.datasources.RecordReaderIterator.hasNext(RecordReaderIterator.scala:39)\n\tat org.apache.spark.sql.execution.datasources.RecordReaderIterator$$anon$1.hasNext(RecordReaderIterator.scala:61)\n\tat org.apache.spark.sql.execution.datasources.FileScanRDD$$anon$1.hasNext(FileScanRDD.scala:104)\n\tat org.apache.spark.sql.execution.datasources.FileScanRDD$$anon$1.nextIterator(FileScanRDD.scala:191)\n\t... 18 more\nCaused by: java.lang.ClassCastException\n"
     ]
    }
   ],
   "source": [
    "f.createOrReplaceTempView(\"directores\")\n",
    "spark.sql('select CONT_RUT1 as CONT_RUT, COM, CONT_RUT_INFO from directores where CONT_RUT1 is not null').createOrReplaceTempView(\"directores\")\n",
    "directores=spark.sql('select count(*) from directores')\n",
    "directores.show()"
   ]
  },
  {
   "cell_type": "code",
   "execution_count": 21,
   "id": "c8c73d4e-a0fc-443b-913d-3ea11db1a1fa",
   "metadata": {},
   "outputs": [
    {
     "ename": "AnalysisException",
     "evalue": "Cannot resolve column name \"CONT_RUT_INFO\" among (count(1))",
     "output_type": "error",
     "traceback": [
      "\u001b[0;31m---------------------------------------------------------------------------\u001b[0m",
      "\u001b[0;31mAnalysisException\u001b[0m                         Traceback (most recent call last)",
      "Cell \u001b[0;32mIn[21], line 2\u001b[0m\n\u001b[1;32m      1\u001b[0m \u001b[38;5;66;03m# Encontrar los 15 valores más repetidos en general en la columna CONT_RUT_INFO\u001b[39;00m\n\u001b[0;32m----> 2\u001b[0m top_15_repetidos_directores \u001b[38;5;241m=\u001b[39m \u001b[43mdirectores\u001b[49m\u001b[43m[\u001b[49m\u001b[38;5;124;43m'\u001b[39;49m\u001b[38;5;124;43mCONT_RUT_INFO\u001b[39;49m\u001b[38;5;124;43m'\u001b[39;49m\u001b[43m]\u001b[49m\u001b[38;5;241m.\u001b[39mvalue_counts()\u001b[38;5;241m.\u001b[39mnlargest(\u001b[38;5;241m15\u001b[39m)\n\u001b[1;32m      4\u001b[0m \u001b[38;5;66;03m# Gráfico de barras horizontales de los 15 valores más repetidos en general\u001b[39;00m\n\u001b[1;32m      5\u001b[0m plt\u001b[38;5;241m.\u001b[39mfigure(figsize\u001b[38;5;241m=\u001b[39m(\u001b[38;5;241m10\u001b[39m, \u001b[38;5;241m8\u001b[39m))\n",
      "File \u001b[0;32m/opt/spark/python/lib/pyspark.zip/pyspark/sql/dataframe.py:1636\u001b[0m, in \u001b[0;36mDataFrame.__getitem__\u001b[0;34m(self, item)\u001b[0m\n\u001b[1;32m   1620\u001b[0m \u001b[38;5;250m\u001b[39m\u001b[38;5;124;03m\"\"\"Returns the column as a :class:`Column`.\u001b[39;00m\n\u001b[1;32m   1621\u001b[0m \n\u001b[1;32m   1622\u001b[0m \u001b[38;5;124;03m.. versionadded:: 1.3.0\u001b[39;00m\n\u001b[0;32m   (...)\u001b[0m\n\u001b[1;32m   1633\u001b[0m \u001b[38;5;124;03m[Row(age=5, name='Bob')]\u001b[39;00m\n\u001b[1;32m   1634\u001b[0m \u001b[38;5;124;03m\"\"\"\u001b[39;00m\n\u001b[1;32m   1635\u001b[0m \u001b[38;5;28;01mif\u001b[39;00m \u001b[38;5;28misinstance\u001b[39m(item, \u001b[38;5;28mstr\u001b[39m):\n\u001b[0;32m-> 1636\u001b[0m     jc \u001b[38;5;241m=\u001b[39m \u001b[38;5;28;43mself\u001b[39;49m\u001b[38;5;241;43m.\u001b[39;49m\u001b[43m_jdf\u001b[49m\u001b[38;5;241;43m.\u001b[39;49m\u001b[43mapply\u001b[49m\u001b[43m(\u001b[49m\u001b[43mitem\u001b[49m\u001b[43m)\u001b[49m\n\u001b[1;32m   1637\u001b[0m     \u001b[38;5;28;01mreturn\u001b[39;00m Column(jc)\n\u001b[1;32m   1638\u001b[0m \u001b[38;5;28;01melif\u001b[39;00m \u001b[38;5;28misinstance\u001b[39m(item, Column):\n",
      "File \u001b[0;32m/usr/local/lib/python3.10/site-packages/py4j/java_gateway.py:1304\u001b[0m, in \u001b[0;36mJavaMember.__call__\u001b[0;34m(self, *args)\u001b[0m\n\u001b[1;32m   1298\u001b[0m command \u001b[38;5;241m=\u001b[39m proto\u001b[38;5;241m.\u001b[39mCALL_COMMAND_NAME \u001b[38;5;241m+\u001b[39m\\\n\u001b[1;32m   1299\u001b[0m     \u001b[38;5;28mself\u001b[39m\u001b[38;5;241m.\u001b[39mcommand_header \u001b[38;5;241m+\u001b[39m\\\n\u001b[1;32m   1300\u001b[0m     args_command \u001b[38;5;241m+\u001b[39m\\\n\u001b[1;32m   1301\u001b[0m     proto\u001b[38;5;241m.\u001b[39mEND_COMMAND_PART\n\u001b[1;32m   1303\u001b[0m answer \u001b[38;5;241m=\u001b[39m \u001b[38;5;28mself\u001b[39m\u001b[38;5;241m.\u001b[39mgateway_client\u001b[38;5;241m.\u001b[39msend_command(command)\n\u001b[0;32m-> 1304\u001b[0m return_value \u001b[38;5;241m=\u001b[39m \u001b[43mget_return_value\u001b[49m\u001b[43m(\u001b[49m\n\u001b[1;32m   1305\u001b[0m \u001b[43m    \u001b[49m\u001b[43manswer\u001b[49m\u001b[43m,\u001b[49m\u001b[43m \u001b[49m\u001b[38;5;28;43mself\u001b[39;49m\u001b[38;5;241;43m.\u001b[39;49m\u001b[43mgateway_client\u001b[49m\u001b[43m,\u001b[49m\u001b[43m \u001b[49m\u001b[38;5;28;43mself\u001b[39;49m\u001b[38;5;241;43m.\u001b[39;49m\u001b[43mtarget_id\u001b[49m\u001b[43m,\u001b[49m\u001b[43m \u001b[49m\u001b[38;5;28;43mself\u001b[39;49m\u001b[38;5;241;43m.\u001b[39;49m\u001b[43mname\u001b[49m\u001b[43m)\u001b[49m\n\u001b[1;32m   1307\u001b[0m \u001b[38;5;28;01mfor\u001b[39;00m temp_arg \u001b[38;5;129;01min\u001b[39;00m temp_args:\n\u001b[1;32m   1308\u001b[0m     temp_arg\u001b[38;5;241m.\u001b[39m_detach()\n",
      "File \u001b[0;32m/opt/spark/python/lib/pyspark.zip/pyspark/sql/utils.py:117\u001b[0m, in \u001b[0;36mcapture_sql_exception.<locals>.deco\u001b[0;34m(*a, **kw)\u001b[0m\n\u001b[1;32m    113\u001b[0m converted \u001b[38;5;241m=\u001b[39m convert_exception(e\u001b[38;5;241m.\u001b[39mjava_exception)\n\u001b[1;32m    114\u001b[0m \u001b[38;5;28;01mif\u001b[39;00m \u001b[38;5;129;01mnot\u001b[39;00m \u001b[38;5;28misinstance\u001b[39m(converted, UnknownException):\n\u001b[1;32m    115\u001b[0m     \u001b[38;5;66;03m# Hide where the exception came from that shows a non-Pythonic\u001b[39;00m\n\u001b[1;32m    116\u001b[0m     \u001b[38;5;66;03m# JVM exception message.\u001b[39;00m\n\u001b[0;32m--> 117\u001b[0m     \u001b[38;5;28;01mraise\u001b[39;00m converted \u001b[38;5;28;01mfrom\u001b[39;00m \u001b[38;5;28;01mNone\u001b[39;00m\n\u001b[1;32m    118\u001b[0m \u001b[38;5;28;01melse\u001b[39;00m:\n\u001b[1;32m    119\u001b[0m     \u001b[38;5;28;01mraise\u001b[39;00m\n",
      "\u001b[0;31mAnalysisException\u001b[0m: Cannot resolve column name \"CONT_RUT_INFO\" among (count(1))"
     ]
    }
   ],
   "source": [
    "# Encontrar los 15 valores más repetidos en general en la columna CONT_RUT_INFO\n",
    "top_15_repetidos_directores = directores['CONT_RUT_INFO'].value_counts().nlargest(15)\n",
    "\n",
    "# Gráfico de barras horizontales de los 15 valores más repetidos en general\n",
    "plt.figure(figsize=(10, 8))\n",
    "sns.barplot(x=top_15_repetidos_directores.values, y=top_15_repetidos_directores.index, orient='h')\n",
    "plt.title('Top 15 valores más repetidos en general en CONT_RUT_INFO')\n",
    "plt.xlabel('Frecuencia')\n",
    "plt.ylabel('CONT_RUT_INFO')\n",
    "plt.tight_layout()\n",
    "plt.show()\n",
    "\n",
    "# Calcular las modas de CONT_RUT_INFO para cada COM\n",
    "modas_directores_por_com = directores.groupby('COM')['CONT_RUT_INFO'].apply(calculate_mode)\n",
    "# Filtrar las modas que no son nulas\n",
    "modas_directores_filtradas = modas_directores_por_com.dropna()\n",
    "\n",
    "# Seleccionar las 15 modas más frecuentes\n",
    "top_15_modas_directores = modas_directores_filtradas.value_counts().nlargest(15)\n",
    "\n",
    "# Crear un gráfico de barras horizontales para las 15 modas más frecuentes de CONT_RUT_INFO\n",
    "plt.figure(figsize=(10, 8))\n",
    "sns.barplot(x=top_15_modas_directores.values, y=top_15_modas_directores.index, orient='h', palette='viridis')\n",
    "plt.title('Top 15 Modas de CONT_RUT_INFO por COM')\n",
    "plt.xlabel('Frecuencia')\n",
    "plt.ylabel('CONT_RUT_INFO')\n",
    "plt.tight_layout()\n",
    "plt.show()\n"
   ]
  },
  {
   "cell_type": "code",
   "execution_count": null,
   "id": "ef1bcbbb-a70b-4a02-adca-57a6da682c6c",
   "metadata": {},
   "outputs": [],
   "source": []
  }
 ],
 "metadata": {
  "kernelspec": {
   "display_name": "Python 3 (ipykernel)",
   "language": "python",
   "name": "python3"
  },
  "language_info": {
   "codemirror_mode": {
    "name": "ipython",
    "version": 3
   },
   "file_extension": ".py",
   "mimetype": "text/x-python",
   "name": "python",
   "nbconvert_exporter": "python",
   "pygments_lexer": "ipython3",
   "version": "3.10.13"
  }
 },
 "nbformat": 4,
 "nbformat_minor": 5
}
