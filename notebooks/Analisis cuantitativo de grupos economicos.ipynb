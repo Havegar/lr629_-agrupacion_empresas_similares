{
 "cells": [
  {
   "cell_type": "markdown",
   "id": "1fd70b96-f09c-4326-a42e-7bfca74e7ef5",
   "metadata": {},
   "source": [
    "## Analisis cuantitativo de grupos economicos \n",
    "\n",
    "En este notebook se lleva a cabo un análisis cuantitativo de los grupos económicos, definidos según criterio experto. El objetivo es examinar diversas características de estos grupos, tanto categóricas como cuantitativas. Entre estas características se incluye, por ejemplo, la relación entre el patrimonio y el número de trabajadores. Este análisis proporcionará una visión integral del comportamiento de los grupos económicos en función de dichas variables."
   ]
  },
  {
   "cell_type": "markdown",
   "id": "40bd8217-4398-4850-b59c-6cff2957d266",
   "metadata": {},
   "source": [
    "### Se crea sesion de Spark"
   ]
  },
  {
   "cell_type": "code",
   "execution_count": 17,
   "id": "1863c32a-f106-4abd-8900-35b9415baf40",
   "metadata": {
    "tags": []
   },
   "outputs": [],
   "source": [
    "from pyspark.sql import SparkSession\n",
    "from pyspark.sql.functions import countDistinct\n",
    "from pyspark.sql.functions import *\n",
    "from pyspark import SparkContext, SparkConf\n",
    "import pyspark\n",
    "import pandas as pd\n",
    "import seaborn as sns\n",
    "import matplotlib.pyplot as plt\n",
    "import warnings\n",
    "warnings.filterwarnings('ignore', category=DeprecationWarning)\n",
    "import matplotlib.pyplot as plt\n",
    "from pyspark.sql.functions import expr"
   ]
  },
  {
   "cell_type": "code",
   "execution_count": 18,
   "id": "fc675428-a0ab-49df-b8ac-7c37290d7400",
   "metadata": {
    "tags": []
   },
   "outputs": [],
   "source": [
    "spark = SparkSession.builder \\\n",
    "  .appName(\"Test\")  \\\n",
    "  .config(\"spark.kerberos.access.hadoopFileSystems\",\"abfs://data@datalakesii.dfs.core.windows.net/\") \\\n",
    "  .config(\"spark.executor.memory\", \"16g\") \\\n",
    "  .config(\"spark.driver.memory\", \"12g\")\\\n",
    "  .config(\"spark.executor.cores\", \"2\") \\\n",
    "  .config(\"spark.driver.maxResultSize\", \"12g\") \\\n",
    "  .getOrCreate()\n",
    "warnings.filterwarnings('ignore', category=DeprecationWarning)\n",
    "sc=spark.sparkContext\n",
    "sc.setLogLevel ('ERROR')\n",
    "spark.conf.set(\"spark.sql.parquet.int96RebaseModeInRead\", \"CORRECTED\")\n",
    "spark.conf.set(\"spark.sql.parquet.enableVectorizedReader\",\"false\")\n",
    "spark.conf.set(\"spark.sql.parquet.int96RebaseModeInRead\", \"CORRECTED\")\n",
    "spark.conf.set(\"spark.sql.parquet.int96RebaseModeInWrite\", \"CORRECTED\")\n",
    "spark.conf.set(\"spark.sql.parquet.datetimeRebaseModeInRead\", \"CORRECTED\")\n",
    "spark.conf.set(\"spark.sql.parquet.datetimeRebaseModeInWrite\", \"CORRECTED\")"
   ]
  },
  {
   "cell_type": "markdown",
   "id": "08658284-f38a-40c7-b3f1-382a29c3d314",
   "metadata": {},
   "source": [
    "### Datos de grupos economicos conocidos\n",
    "\n",
    "Obtenemos la data de los grupos economicos conocidos desde el datalake."
   ]
  },
  {
   "cell_type": "code",
   "execution_count": 19,
   "id": "e67708cf-1cd0-455c-8e8f-0af10adfdc71",
   "metadata": {
    "tags": []
   },
   "outputs": [
    {
     "name": "stderr",
     "output_type": "stream",
     "text": [
      "                                                                                \r"
     ]
    }
   ],
   "source": [
    "spark.read.parquet(\"abfs://data@datalakesii.dfs.core.windows.net/DatosOrigen/LibSDF/GE_APIUX_ARFI_E\").createOrReplaceTempView(\"grupos_conocidos\")\n",
    "spark.sql('select PARU_RUT_E,COM, count(*) as c from grupos_conocidos group by PARU_RUT_E, COM order by PARU_RUT_E asc').createOrReplaceTempView(\"grupos_conocidos\")\n",
    "spark.sql('select PARU_RUT_E as CONT_RUT,COM from grupos_conocidos  order by PARU_RUT_E asc').createOrReplaceTempView(\"grupos_conocidos\")\n",
    "grupos_conocidos=spark.sql('select * from grupos_conocidos')"
   ]
  },
  {
   "cell_type": "code",
   "execution_count": null,
   "id": "cc17a7ce-fb42-4a08-9325-2bda98f49deb",
   "metadata": {
    "tags": []
   },
   "outputs": [],
   "source": [
    "spark.sql('select count(*) from grupos_conocidos').show()"
   ]
  },
  {
   "cell_type": "markdown",
   "id": "cca28e1b-cec9-4ed7-9547-cc1c8001a47f",
   "metadata": {},
   "source": [
    "Vemos que las sociedades de los grupos definidos son 18475"
   ]
  },
  {
   "cell_type": "markdown",
   "id": "b1d019dd-1ae3-40d9-9a53-3b4d754474b0",
   "metadata": {},
   "source": [
    "### Caracteristicas a analizar"
   ]
  },
  {
   "cell_type": "markdown",
   "id": "de759a07-4fb6-4a46-9d95-08ec52564b3d",
   "metadata": {
    "tags": []
   },
   "source": [
    "\n",
    "Lo que se hara es realizar un analisis estadistico de las siguientes variables y su correspondiente fuentes:\n",
    "\n",
    "- Familiaridad (libsdf.rel_familiares_aari_e)\n",
    "- Oscuridad \n",
    "- Contadores: (libsdf. arfi_contadores_e) \n",
    "- Direcciones (dw. dw_trn_direcciones_e)\n",
    "- Correos (dw. dw_trn_contribuyentes_e)\n",
    "- Patrimonio (libsdf. patrimonio_at2021_eh)\n",
    "- Rubro y sub Rubro (dw.dw_trn_actividad_economica_e y dw.dw_dim_actividad_economica_e)\n",
    "- Directores (dw. dw_trn_djr_f1879_e) filtrar por F1879_RETE_DIRE10 > 0 OR F1879_RETE_DIRE20 >0\n",
    "- Trabajadores (dw. dw_trn_djr_f1879_e y dw. dw_trn_djr_f1887_e)\n",
    "- Lugares de Venta (dwbgdata. header_dte_consolidada_sas_nom)"
   ]
  },
  {
   "cell_type": "markdown",
   "id": "defe8ffe-9d51-4f43-be27-46ccbdcf5967",
   "metadata": {},
   "source": [
    "### Agregacion de familiaridad \n",
    "\n",
    "Agregaremos la familiaridad ya calculada en el proyecto 1 de materia oscura tributaria. Este valor indica el porcentaje de familiares que se encuentra en el pool de personas naturales que esta liada a esa sociedad a traves de la malla societaria."
   ]
  },
  {
   "cell_type": "code",
   "execution_count": null,
   "id": "abc3275b-b26c-4486-91b2-9debde8fad01",
   "metadata": {
    "tags": []
   },
   "outputs": [],
   "source": [
    "familiaridad=spark.read.parquet(\"abfs://data@datalakesii.dfs.core.windows.net/DatoOrigen/lr-629/Oscuridad/final/familiaridad\")\n",
    "familiaridad.createOrReplaceTempView(\"familiaridad\")\n",
    "familiaridad=spark.sql('select CONT_RUT,COM,TASA_FAMILIARIDAD from  grupos_conocidos left join familiaridad on grupos_conocidos.CONT_RUT=familiaridad.RUT_SOCIEDAD where familiaridad.RUT_SOCIEDAD is not null')\n",
    "\n",
    "# Contar la cantidad de valores distintos en la columna CONT_RUT\n",
    "distinct_count = familiaridad.select('CONT_RUT').distinct().count()\n",
    "print(\"Cantidad de valores con familiaridad conocida:\", distinct_count)\n",
    "familiaridad=familiaridad.toPandas()"
   ]
  },
  {
   "cell_type": "code",
   "execution_count": null,
   "id": "98b13e08-b62f-46dc-a8b2-d22ddc1cf41f",
   "metadata": {
    "tags": []
   },
   "outputs": [],
   "source": [
    "# Gráfico de distribución de TASA_FAMILIARIDAD\n",
    "plt.figure(figsize=(10, 6))\n",
    "sns.histplot(data=familiaridad, x='TASA_FAMILIARIDAD', bins=30, kde=True)\n",
    "plt.title('Distribución de TASA_FAMILIARIDAD')\n",
    "plt.xlabel('TASA_FAMILIARIDAD')\n",
    "plt.ylabel('Frecuencia')\n",
    "plt.show()\n",
    "\n",
    "# Obtener los 5 grupos COM más grandes\n",
    "top_5_com = familiaridad['COM'].value_counts().nlargest(5).index\n",
    "\n",
    "# Filtrar el DataFrame para incluir solo las filas correspondientes a los 5 grupos más grandes\n",
    "df_top_5 = familiaridad[familiaridad['COM'].isin(top_5_com)]\n",
    "\n",
    "# Gráfico de violín de TASA_FAMILIARIDAD para los 5 grupos COM más grandes\n",
    "plt.figure(figsize=(10, 6))\n",
    "sns.violinplot(data=df_top_5, x='COM', y='TASA_FAMILIARIDAD')\n",
    "\n",
    "# Agregar el tamaño de cada grupo como etiquetas en el gráfico\n",
    "for i, com_size in enumerate(top_5_com):\n",
    "    size = df_top_5[df_top_5['COM'] == com_size].shape[0]\n",
    "    plt.text(i, df_top_5['TASA_FAMILIARIDAD'].max() + 0.1, f\"N={size}\", horizontalalignment='center')\n",
    "\n",
    "plt.title('Distribución de TASA_FAMILIARIDAD para los 5 grupos COM más grandes')\n",
    "plt.xlabel('COM')\n",
    "plt.ylabel('TASA_FAMILIARIDAD')\n",
    "plt.xticks(rotation=45)\n",
    "plt.show()\n",
    "\n",
    "\n",
    "# Calcular el valor promedio de TASA_FAMILIARIDAD para cada grupo COM\n",
    "promedio_por_com = familiaridad.groupby('COM')['TASA_FAMILIARIDAD'].mean()\n",
    "\n",
    "# Crear un histograma para mostrar la distribución de los promedios de TASA_FAMILIARIDAD por COM\n",
    "plt.figure(figsize=(10, 6))\n",
    "sns.histplot(promedio_por_com, bins=20, kde=True, color='skyblue')\n",
    "plt.title('Distribución del promedio de TASA_FAMILIARIDAD por COM')\n",
    "plt.xlabel('Promedio de TASA_FAMILIARIDAD')\n",
    "plt.ylabel('Frecuencia')\n",
    "plt.tight_layout()\n",
    "plt.show()\n",
    "\n",
    "\n"
   ]
  },
  {
   "cell_type": "markdown",
   "id": "62a49ae9-94b8-40fc-8422-6c2db799deac",
   "metadata": {},
   "source": [
    "- El primer grafico nos muestra la distribucion general (no asociada a un grupo) de la variable familiaridad, por lo cual se observa que la mayoria de sociedades tiene un valor bajo. Sin embargo, tambien hay valores en el rango 0 a 100, con algunos valores que se destacan del resto y que tienen un 100% de familiaridad.  \n",
    "\n",
    "- El segundo grafico nos muestra la distribucion del valor de familiaridad para los 5 grupos mas grandes, se puede observar que en general, distribuyen en torno a cero.\n",
    "\n",
    "- El tercer grafico muestra la distribucion de los promedios de familiaridad en cada grupo COM. Observamos un comportamiento similar al grafico 1, con valores promedio cercanos a cero en su mayoria."
   ]
  },
  {
   "cell_type": "markdown",
   "id": "b648a8b2-4307-454f-9b39-7e9825f76971",
   "metadata": {},
   "source": [
    "### Agregacion de oscuridad\n",
    "\n",
    "Se agrega la oscuridad, valor relacionado a la cantidad de informacion disponible para un contribuyente."
   ]
  },
  {
   "cell_type": "code",
   "execution_count": null,
   "id": "bdd2466b-3a0d-4f7d-afb3-285076c0d44f",
   "metadata": {
    "tags": []
   },
   "outputs": [],
   "source": [
    "oscuridad=spark.read.parquet(\"abfs://data@datalakesii.dfs.core.windows.net/DatoOrigen/lr-629/Oscuridad/final/oscuridad\")\n",
    "oscuridad.createOrReplaceTempView(\"oscuridad\")\n",
    "oscuridad=spark.sql('select grupos_conocidos.CONT_RUT,COM,Value as OSCURIDAD from grupos_conocidos left join oscuridad on grupos_conocidos.CONT_RUT=oscuridad.CONT_RUT where oscuridad.CONT_RUT is not null')\n",
    "\n",
    "# Contar la cantidad de valores distintos en la columna CONT_RUT\n",
    "distinct_count = oscuridad.select('CONT_RUT').distinct().count()\n",
    "print(\"Cantidad de valores con oscuridad conocida:\", distinct_count)\n",
    "\n",
    "oscuridad=oscuridad.toPandas()"
   ]
  },
  {
   "cell_type": "code",
   "execution_count": null,
   "id": "2a387c54-f92b-45af-a7cc-4033b9636634",
   "metadata": {
    "tags": []
   },
   "outputs": [],
   "source": [
    "# Gráfico de distribución de OSCURIDAD\n",
    "plt.figure(figsize=(10, 6))\n",
    "sns.histplot(data=oscuridad, x='OSCURIDAD', bins=30, kde=True)\n",
    "plt.title('Distribución de OSCURIDAD')\n",
    "plt.xlabel('OSCURIDAD')\n",
    "plt.ylabel('Frecuencia')\n",
    "plt.show()\n",
    "\n",
    "\n",
    "# Obtener los 5 grupos COM más grandes\n",
    "top_5_com = oscuridad['COM'].value_counts().nlargest(5).index\n",
    "\n",
    "# Filtrar el DataFrame para incluir solo las filas correspondientes a los 5 grupos más grandes\n",
    "df_top_5 = oscuridad[oscuridad['COM'].isin(top_5_com)]\n",
    "\n",
    "\n",
    "# Gráfico de violín de TASA_FAMILIARIDAD para los 5 grupos COM más grandes\n",
    "plt.figure(figsize=(10, 6))\n",
    "sns.violinplot(data=df_top_5, x='COM', y='OSCURIDAD')\n",
    "\n",
    "# Agregar el tamaño de cada grupo como etiquetas en el gráfico\n",
    "for i, com_size in enumerate(top_5_com):\n",
    "    size = df_top_5[df_top_5['COM'] == com_size].shape[0]\n",
    "    plt.text(i, df_top_5['OSCURIDAD'].max() + 0.1, f\"N={size}\", horizontalalignment='center')\n",
    "\n",
    "plt.title('Distribución de OSCURIDAD para los 5 grupos COM más grandes')\n",
    "plt.xlabel('COM')\n",
    "plt.ylabel('OSCURIDAD')\n",
    "plt.xticks(rotation=45)\n",
    "plt.show()\n",
    "\n",
    "# Calcular el valor promedio de OSCURIDAD para cada grupo COM\n",
    "promedio_por_com = oscuridad.groupby('COM')['OSCURIDAD'].mean()\n",
    "\n",
    "# Crear un histograma para mostrar la distribución de los promedios de OSCURIDAD por COM\n",
    "plt.figure(figsize=(10, 6))\n",
    "sns.histplot(promedio_por_com, bins=20, kde=True, color='skyblue')\n",
    "plt.title('Distribución del promedio de OSCURIDAD por COM')\n",
    "plt.xlabel('Promedio de OSCURIDAD')\n",
    "plt.ylabel('Frecuencia')\n",
    "plt.tight_layout()\n",
    "plt.show()"
   ]
  },
  {
   "cell_type": "markdown",
   "id": "f00947c5-a60b-4205-8e7c-e3232acd83dc",
   "metadata": {
    "tags": []
   },
   "source": [
    "- En el primer grafico, podemos ver la distribucion general de la variable oscuridad. Obtenemos que la mayoria de valores esta en torno a un valor 0.25 \n",
    "\n",
    "- En el segundo grafico, para los 5 grupos mas grandes, observamos que no hay una regularidad particular  en la distribucion de los valores, el promedio tiene a estar en torno a 0.25\n",
    "\n",
    "- En el primer grafico, podemos ver la distribucion general de la variable oscuridad. Obtenemos que la mayoria de valores esta en torno a un valor entre 0.2 y 0.4, con muy pocos valores sobre y debajo ese rango."
   ]
  },
  {
   "cell_type": "markdown",
   "id": "8f455d0c-891b-4b60-8958-af858663a4dd",
   "metadata": {},
   "source": [
    "### Agregacion de contadores\n",
    "\n",
    "Se agregara data disponible de los contadores para cada sociedad (en caso de que la haya)"
   ]
  },
  {
   "cell_type": "code",
   "execution_count": null,
   "id": "394fd23b-9283-4ca7-89a8-50dffae317d3",
   "metadata": {
    "tags": []
   },
   "outputs": [],
   "source": [
    "spark.sql('select * from libsdf.arfi_contadores_e').createOrReplaceTempView(\"contadores\")\n",
    "contadores=spark.sql('select grupos_conocidos.CONT_RUT, COM, RUT_CONTADOR from grupos_conocidos left join contadores on grupos_conocidos.CONT_RUT=contadores.CONT_RUT where contadores.CONT_RUT is not null')\n",
    "\n",
    "# Contar la cantidad de valores distintos en la columna CONT_RUT\n",
    "distinct_count = contadores.select('CONT_RUT').distinct().count()\n",
    "print(\"Cantidad de valores con contador conocido:\", distinct_count)\n",
    "\n",
    "contadores=contadores.toPandas()"
   ]
  },
  {
   "cell_type": "code",
   "execution_count": null,
   "id": "0806146b-2757-4376-b0d9-9d84cc64cd07",
   "metadata": {
    "tags": []
   },
   "outputs": [],
   "source": [
    "# Encontrar los 20 valores más repetidos en general en la columna RUT_CONTADOR\n",
    "top_15_repetidos = contadores['RUT_CONTADOR'].value_counts().nlargest(20)\n",
    "\n",
    "# Gráfico de barras de los 20 valores más repetidos en general\n",
    "plt.figure(figsize=(12, 6))\n",
    "sns.barplot(x=top_15_repetidos.index, y=top_15_repetidos.values)\n",
    "plt.title('Top 15 valores más repetidos en general')\n",
    "plt.xlabel('RUT_CONTADOR')\n",
    "plt.ylabel('Frecuencia')\n",
    "plt.xticks(rotation=45)\n",
    "plt.tight_layout()\n",
    "plt.show()\n",
    "\n",
    "def calculate_mode(series):\n",
    "    try:\n",
    "        mode = series.mode().iloc[0]\n",
    "    except IndexError:\n",
    "        mode = None\n",
    "    return mode\n",
    "\n",
    "# Calcular las modas de RUT_CONTADOR para cada COM\n",
    "modas_por_com = contadores.groupby('COM')['RUT_CONTADOR'].apply(calculate_mode)\n",
    "# Filtrar las modas que no son nulas\n",
    "modas_filtradas = modas_por_com.dropna()\n",
    "\n",
    "# Seleccionar las 15 modas más frecuentes\n",
    "top_20_modas = modas_filtradas.value_counts().nlargest(20)\n",
    "\n",
    "# Crear un gráfico de barras para las 20 modas más frecuentes\n",
    "plt.figure(figsize=(10, 6))\n",
    "top_20_modas.plot(kind='bar', color='skyblue')\n",
    "plt.title('Top 15 Modas de RUT_CONTADOR por COM')\n",
    "plt.xlabel('RUT_CONTADOR')\n",
    "plt.ylabel('Frecuencia')\n",
    "plt.xticks(rotation=45, ha='right')\n",
    "plt.tight_layout()\n",
    "plt.show()"
   ]
  },
  {
   "cell_type": "markdown",
   "id": "3ffaaa1d-df98-477e-aabc-9a5f0b8deeea",
   "metadata": {},
   "source": [
    "- En el primer grafico, vemos que existen valores repetidos con frecuencias mayores a 50 para dos valores de rut de contadores. Tambien se observa que hay mas valores repetidos con frecuencia sobre 20.\n",
    "\n",
    "- En el segundo grafico, se obtuvo la moda del contador para cada grupo. Luego se grafica la distribucion de las modas de cada grupo, y vemos que existe una repeticion de valores de estas modas donde incluso tenemos 10 grupos para los cuales la moda es la misma.\n",
    "\n",
    "- Este comportamiento de repeticion de las modas puede deberse al hecho que la contabilidad se realiza por empresas externas (se podria aislar este efecto teniendo la data adecuada).\n"
   ]
  },
  {
   "cell_type": "markdown",
   "id": "d4b9559e-abf6-4cd5-9257-523e42c7a41e",
   "metadata": {},
   "source": [
    "### Agregacion de direcciones\n",
    "\n",
    "Se agregara la data de las direcciones (en particular la comuna) para los contribuyentes en caso de haber informacion."
   ]
  },
  {
   "cell_type": "code",
   "execution_count": null,
   "id": "67002ddc-0248-4bb1-9a52-ed29631f3570",
   "metadata": {},
   "outputs": [],
   "source": [
    "spark.sql('select CONT_RUT,DIRE_COD_COMUNA_VO from dw.dw_trn_direcciones_e').createOrReplaceTempView(\"direccion\")\n",
    "spark.sql('select grupos_conocidos.CONT_RUT,COM, DIRE_COD_COMUNA_VO from grupos_conocidos left join direccion on grupos_conocidos.CONT_RUT=direccion.CONT_RUT').createOrReplaceTempView(\"grupos_aux\")\n",
    "spark.sql('select * from dw.dim_comuna').createOrReplaceTempView(\"dim_comuna\")\n",
    "\n",
    "direccion=spark.sql('select CONT_RUT, COM,COMU_DES_COMUNA as COMUNA from grupos_aux left join dim_comuna on grupos_aux.DIRE_COD_COMUNA_VO=dim_comuna.COMU_COD_COMUNA where dim_comuna.COMU_COD_COMUNA is not null')\n",
    "\n",
    "# Contar la cantidad de valores distintos en la columna CONT_RUT\n",
    "distinct_count = direccion.select('CONT_RUT').distinct().count()\n",
    "print(\"Cantidad de valores con direccion conocida:\", distinct_count)\n",
    "\n",
    "direccion=direccion.toPandas()"
   ]
  },
  {
   "cell_type": "code",
   "execution_count": null,
   "id": "9450e2f1-ade9-44c9-a21e-f117669cbf03",
   "metadata": {
    "tags": []
   },
   "outputs": [],
   "source": [
    "# Encontrar los 15 valores más repetidos en general en la columna COMUNA\n",
    "top_15_repetidos_comuna = direccion['COMUNA'].value_counts().nlargest(15)\n",
    "\n",
    "# Gráfico de barras de los 15 valores más repetidos en general\n",
    "plt.figure(figsize=(12, 6))\n",
    "sns.barplot(x=top_15_repetidos_comuna.index, y=top_15_repetidos_comuna.values)\n",
    "plt.title('Top 15 valores más repetidos en general en COMUNA')\n",
    "plt.xlabel('COMUNA')\n",
    "plt.ylabel('Frecuencia')\n",
    "plt.xticks(rotation=45)\n",
    "plt.tight_layout()\n",
    "plt.show()\n",
    "\n",
    "def calculate_mode(series):\n",
    "    try:\n",
    "        mode = series.mode().iloc[0]\n",
    "    except IndexError:\n",
    "        mode = None\n",
    "    return mode\n",
    "\n",
    "# Calcular las modas de COMUNA para cada COM\n",
    "modas_por_com = direccion.groupby('COM')['COMUNA'].apply(calculate_mode)\n",
    "# Filtrar las modas que no son nulas\n",
    "modas_filtradas = modas_por_com.dropna()\n",
    "\n",
    "# Seleccionar las 15 modas más frecuentes\n",
    "top_15_modas = modas_filtradas.value_counts().nlargest(15)\n",
    "\n",
    "# Crear un gráfico de barras para las 15 modas más frecuentes\n",
    "plt.figure(figsize=(10, 6))\n",
    "top_15_modas.plot(kind='bar', color='skyblue')\n",
    "plt.title('Top 15 Modas de COMUNA por COM')\n",
    "plt.xlabel('COMUNA')\n",
    "plt.ylabel('Frecuencia')\n",
    "plt.xticks(rotation=45, ha='right')\n",
    "plt.tight_layout()\n",
    "plt.show()"
   ]
  },
  {
   "cell_type": "markdown",
   "id": "9607818c-ca73-4027-a965-a218b85d9c30",
   "metadata": {},
   "source": [
    "- Del primer grafico, se puede observar que en general, la mayor cantidad de comunas asociadas son Las Condes, Santiago y Providencia.\n",
    "\n",
    "- Del segundo grafico, obteniendo la moda de la comuna asociada a la direccion de cada grupo, se puede obtener que se acentua la distribucion. Los valores mas repetidos para las comunidades en direccion siguen siendo Las Condes, Providencia y Santiago. Hay otras comunas de Santiago presentes, como tambien de la zona norte y sur del pais."
   ]
  },
  {
   "cell_type": "markdown",
   "id": "c929ebca-76b0-45b7-b2db-9c99c6abdb03",
   "metadata": {},
   "source": [
    "### Agregacion de mails\n",
    "\n",
    "Se hace el cruce con los mails asociados a los contribuyentes"
   ]
  },
  {
   "cell_type": "code",
   "execution_count": null,
   "id": "ed9cbd53-f38b-47fd-a75e-55b1e98e066d",
   "metadata": {
    "tags": []
   },
   "outputs": [],
   "source": [
    "spark.sql('select * from dw.dw_trn_contribuyentes_e').schema"
   ]
  },
  {
   "cell_type": "code",
   "execution_count": null,
   "id": "ca1d66ec-e649-4919-85e2-e1f959cfa5ba",
   "metadata": {},
   "outputs": [],
   "source": [
    "spark.sql('select * from dw.dw_trn_contribuyentes_e').createOrReplaceTempView(\"mails\")\n",
    "mails=spark.sql('select grupos_conocidos.CONT_RUT, COM, CONT_E_MAIL_VO as MAIL from grupos_conocidos left join mails on grupos_conocidos.CONT_RUT=mails.CONT_RUT where mails.CONT_RUT is not null')\n",
    "\n",
    "# Contar la cantidad de valores distintos en la columna CONT_RUT\n",
    "distinct_count = mails.select('CONT_RUT').distinct().count()\n",
    "print(\"Cantidad de valores con mails conocidos:\", distinct_count)\n",
    "\n",
    "mails=mails.toPandas()"
   ]
  },
  {
   "cell_type": "code",
   "execution_count": null,
   "id": "c67b8f9e-fc81-4c40-8433-075c271638ae",
   "metadata": {
    "tags": []
   },
   "outputs": [],
   "source": [
    "# Encontrar los 15 valores más repetidos en general en la columna MAILS\n",
    "top_15_repetidos_mails = mails['MAIL'].value_counts().nlargest(15)\n",
    "\n",
    "# Gráfico de barras de los 15 valores más repetidos en general\n",
    "plt.figure(figsize=(12, 6))\n",
    "sns.barplot(x=top_15_repetidos_mails.index, y=top_15_repetidos_mails.values)\n",
    "plt.title('Top 15 valores más repetidos en general en MAIL')\n",
    "plt.xlabel('MAIL')\n",
    "plt.ylabel('Frecuencia')\n",
    "plt.xticks(rotation=45)\n",
    "plt.tight_layout()\n",
    "plt.show()\n",
    "\n",
    "def calculate_mode(series):\n",
    "    try:\n",
    "        mode = series.mode().iloc[0]\n",
    "    except IndexError:\n",
    "        mode = None\n",
    "    return mode\n",
    "\n",
    "# Calcular las modas de MAILS para cada COM\n",
    "modas_por_com = mails.groupby('COM')['MAIL'].apply(calculate_mode)\n",
    "# Filtrar las modas que no son nulas\n",
    "modas_filtradas = modas_por_com.dropna()\n",
    "\n",
    "# Seleccionar las 20 modas más frecuentes\n",
    "top_20_modas = modas_filtradas.value_counts().nlargest(20)\n",
    "\n",
    "# Crear un gráfico de barras para las 20 modas más frecuentes\n",
    "plt.figure(figsize=(10, 6))\n",
    "top_20_modas.plot(kind='bar', color='skyblue')\n",
    "plt.title('Top 15 Modas de MAIL por COM')\n",
    "plt.xlabel('MAIL')\n",
    "plt.ylabel('Frecuencia')\n",
    "plt.xticks(rotation=45, ha='right')\n",
    "plt.tight_layout()\n",
    "plt.show()\n"
   ]
  },
  {
   "cell_type": "markdown",
   "id": "2474d35d-17b8-4400-b52f-52ccb386dd57",
   "metadata": {},
   "source": [
    "- En el primer grafico, se observa la distribucion de las direcciones de correo electronico de los contribuyentes, donde podemos observar repeticiones, incluso superando una frecuencia de 50.\n",
    "\n",
    "- En el segundo grafico, se tiene la moda de la direccion de correo electronico para cada grupo en distribucion, se puede observar que no existe una gran cantidad repeticiones de la modas de cada grupo, al contrario del primer graficos de data no agregada."
   ]
  },
  {
   "cell_type": "markdown",
   "id": "a3f120cb-35a8-4941-a4d9-9ac8ce653b87",
   "metadata": {},
   "source": [
    "### Agregacion de patrimonios"
   ]
  },
  {
   "cell_type": "markdown",
   "id": "799e0a25-f58d-4fe3-8bbd-197e1ecd8be0",
   "metadata": {},
   "source": [
    "Se lee la data de los patrimonios del archivo luego de la propagacion del patrimonio desde personas naturales a sociedades por medio de la malla societaria. El patrimonio se obtuvo desde dos fuentes."
   ]
  },
  {
   "cell_type": "code",
   "execution_count": null,
   "id": "516a25bd-2803-407d-84c2-2b851d138cfd",
   "metadata": {
    "tags": []
   },
   "outputs": [],
   "source": [
    "spark.read.parquet(\"abfs://data@datalakesii.dfs.core.windows.net/DatoOrigen/lr-629/Agrupacion_empresas_similares/patrimonio/patrimonios_completos\").createOrReplaceTempView(\"pat_2022\")"
   ]
  },
  {
   "cell_type": "code",
   "execution_count": null,
   "id": "ad8a7adf-ade1-4b9a-af5c-547cfe769a54",
   "metadata": {
    "tags": []
   },
   "outputs": [],
   "source": [
    "spark.sql('select grupos_conocidos.CONT_RUT,pat_2022.CONT_RUT,COM,Value as PATRIMONIO_222  from grupos_conocidos left join pat_2022 on grupos_conocidos.CONT_RUT=pat_2022.CONT_RUT where pat_2022.CONT_RUT is not null').createOrReplaceTempView(\"pat_grupos\")"
   ]
  },
  {
   "cell_type": "code",
   "execution_count": null,
   "id": "40fd331a-c76b-4e0e-908f-c9d33eb382ed",
   "metadata": {
    "tags": []
   },
   "outputs": [],
   "source": [
    "spark.sql(\"select count(*) from pat_grupos\").show()\n",
    "#Vemos que al usar los patrinomios completos(todos sus socios tienen patrimonio conocido) tenemos 4615 sociedades\n",
    "#de los grupos economicos con patrimonio conocido. "
   ]
  },
  {
   "cell_type": "markdown",
   "id": "2433359b-9b38-493a-a522-bb8fecc18928",
   "metadata": {},
   "source": [
    "Que es el numero de contribuyentes de los grupos economicos con patrimonio de socios completamente calculado. Comparemos con todos los patrimonios, incluso incompletos:"
   ]
  },
  {
   "cell_type": "code",
   "execution_count": null,
   "id": "fd5e9dde-37cf-41d2-8158-50da63f1738c",
   "metadata": {
    "tags": []
   },
   "outputs": [],
   "source": [
    "spark.read.parquet(\"abfs://data@datalakesii.dfs.core.windows.net/DatoOrigen/lr-629/Agrupacion_empresas_similares/patrimonio/patrimonios_incompletos\").createOrReplaceTempView(\"pat_2022_incompleto\")\n",
    "spark.sql('select  RUT_SOCIEDAD as CONT_RUT, SUM(PAT_2022) as PAT_2022 from pat_2022_incompleto group by RUT_SOCIEDAD').createOrReplaceTempView(\"pat_2022_incompleto\")\n",
    "spark.sql('select * from pat_2022_incompleto where PAT_2022 is not null').createOrReplaceTempView(\"pat_2022_incompleto\")"
   ]
  },
  {
   "cell_type": "code",
   "execution_count": null,
   "id": "fd8c54fb-98f3-4a3c-a58a-2de8a6261684",
   "metadata": {
    "tags": []
   },
   "outputs": [],
   "source": [
    "spark.sql('select grupos_conocidos.CONT_RUT,pat_2022_incompleto.PAT_2022,COM from grupos_conocidos left join pat_2022_incompleto on grupos_conocidos.CONT_RUT=pat_2022_incompleto.CONT_RUT where pat_2022_incompleto.CONT_RUT is not null').createOrReplaceTempView(\"pat_grupos_incompletos\")\n",
    "spark.sql(\"select count(*) from pat_grupos_incompletos\").show()\n",
    "\n",
    "#Cuando usamos la data con todos los patrimonios encontrados (incluso con los que no tienen todos sus socios con patrimonio conocido)\n",
    "# obtenemos 8364 sociedades de los grupos economicos. Usaremos esta data para la estadistica general."
   ]
  },
  {
   "cell_type": "markdown",
   "id": "725e635b-baa4-4ed3-bfcb-693dee742b76",
   "metadata": {},
   "source": [
    "Que es el valor de cruce de sociedades de grupos economicos con todos los patrimonios, completos e incompletos. "
   ]
  },
  {
   "cell_type": "code",
   "execution_count": null,
   "id": "60bf9904-d784-4817-aa91-0a6de078c1d4",
   "metadata": {
    "tags": []
   },
   "outputs": [],
   "source": [
    "spark.sql(\"select * from pat_grupos_incompletos\").show()"
   ]
  },
  {
   "cell_type": "markdown",
   "id": "9efb0332-ca23-4561-ae88-d3ab8df4724c",
   "metadata": {},
   "source": [
    "Veamos el numero de sociedades sobre cierto umbral"
   ]
  },
  {
   "cell_type": "code",
   "execution_count": null,
   "id": "978bbbfe-7c3c-4cf1-8879-04e238d98bb8",
   "metadata": {
    "tags": []
   },
   "outputs": [],
   "source": [
    "#Veamos cuantos valores sobre 8 mil millones de pesos en patrimonio hay\n",
    "spark.sql(\"select * from pat_grupos_incompletos where PAT_2022>8000000000 order by PAT_2022 desc\").show()\n",
    "spark.sql(\"select count(*) from pat_grupos_incompletos where PAT_2022>8000000000\").show()"
   ]
  },
  {
   "cell_type": "markdown",
   "id": "62c4c7ad-1e2f-4a32-ad92-86c008ba2f1b",
   "metadata": {},
   "source": [
    "Por lo que tenemos 529 sociedades con patrimonio sobre 8 mil millones de pesos."
   ]
  },
  {
   "cell_type": "code",
   "execution_count": null,
   "id": "9c696170-5663-484c-bb45-2f34639f3427",
   "metadata": {
    "tags": []
   },
   "outputs": [],
   "source": [
    "spark.sql(\"select * from pat_grupos_incompletos order by PAT_2022 desc\").show()"
   ]
  },
  {
   "cell_type": "markdown",
   "id": "4c96e0ad-5591-4f2c-ae71-81f117be5348",
   "metadata": {},
   "source": [
    "### Distribucion de patrimonios de sociedades incluyendo datos faltantes (patrimonio sesgado) y sin outliers"
   ]
  },
  {
   "cell_type": "code",
   "execution_count": null,
   "id": "21062db2-2e71-4ad4-b707-799cab6e7ee2",
   "metadata": {
    "tags": []
   },
   "outputs": [],
   "source": [
    "#Calcularemos la distribucion de los valores de patrimonio en general, incluyendo socios faltantes\n",
    "df_pandas=spark.sql(\"select * from pat_grupos_incompletos\").toPandas()\n",
    "\n",
    "# Calcular el primer y tercer cuartil\n",
    "q1 = df_pandas['PAT_2022'].quantile(0.25)\n",
    "q3 = df_pandas['PAT_2022'].quantile(0.75)\n",
    "\n",
    "# Calcular el rango intercuartil (IQR)\n",
    "iqr = q3 - q1\n",
    "\n",
    "# Calcular los límites inferior y superior del rango intercuartil\n",
    "lower_bound = q1 - 1.5 * iqr\n",
    "upper_bound = q3 + 1.5 * iqr\n",
    "\n",
    "# Filtrar el DataFrame para mantener solo los valores dentro del rango intercuartil\n",
    "filtered_df = df_pandas[(df_pandas['PAT_2022'] >= lower_bound) & (df_pandas['PAT_2022'] <= upper_bound)]\n",
    "\n",
    "# Crear el histograma con 20 bines para los datos filtrados\n",
    "plt.hist(filtered_df['PAT_2022'], bins=20, color='skyblue', edgecolor='black')\n",
    "\n",
    "# Añadir etiquetas y título\n",
    "plt.xlabel('PAT_2022')\n",
    "plt.ylabel('Frecuencia')\n",
    "plt.title('Histograma de Distribución de PAT_2022 (sin outliers)')\n",
    "\n",
    "# Mostrar el histograma\n",
    "plt.show()\n",
    "\n"
   ]
  },
  {
   "cell_type": "markdown",
   "id": "2f935f83-4bb8-4f3a-a0c5-35aa92256df7",
   "metadata": {},
   "source": [
    "### Distribucion de patrimonios totales de grupos de sociedades incluyendo datos faltantes (patrimonio sesgado) y sin outliers"
   ]
  },
  {
   "cell_type": "code",
   "execution_count": null,
   "id": "fe5c77a4-d739-4991-9eb8-92bb1c59f6eb",
   "metadata": {
    "tags": []
   },
   "outputs": [],
   "source": [
    "spark.sql(\"select COM, sum(PAT_2022) as SUM_PAT from pat_grupos_incompletos GROUP BY COM\").createOrReplaceTempView(\"aux\")\n",
    "spark.sql(\"select * from aux where SUM_PAT>2.5E10\").show()\n",
    "spark.sql(\"select count(*) from aux where SUM_PAT>2.5E10\").show()\n",
    "#"
   ]
  },
  {
   "cell_type": "markdown",
   "id": "27567327-3b54-4e6d-ad50-d1fe0b367d76",
   "metadata": {},
   "source": [
    "Tenemos 209 grupos donde la suma de los patrimonios es mayor a 2.5*10^10 pesos. Veamos lo que muestra la distribucion de totales por grupo."
   ]
  },
  {
   "cell_type": "code",
   "execution_count": null,
   "id": "746123df-eb1e-483e-a681-05f055a3fc0a",
   "metadata": {
    "tags": []
   },
   "outputs": [],
   "source": [
    "df_pandas=spark.sql(\"select COM, sum(PAT_2022) as SUM_PAT from pat_grupos_incompletos GROUP BY COM\").toPandas()\n",
    "\n",
    "# veamos la suma de los patrimonions de cada grupo\n",
    "# Calcular el primer y tercer cuartil\n",
    "q1 = df_pandas['SUM_PAT'].quantile(0.25)\n",
    "q3 = df_pandas['SUM_PAT'].quantile(0.75)\n",
    "\n",
    "# Calcular el rango intercuartil (IQR)\n",
    "iqr = q3 - q1\n",
    "\n",
    "# Calcular los límites inferior y superior del rango intercuartil\n",
    "lower_bound = q1 - 1.5 * iqr\n",
    "upper_bound = q3 + 1.5 * iqr\n",
    "\n",
    "# Filtrar el DataFrame para mantener solo los valores dentro del rango intercuartil\n",
    "filtered_df = df_pandas[(df_pandas['SUM_PAT'] >= lower_bound) & (df_pandas['SUM_PAT'] <= upper_bound)]\n",
    "\n",
    "# Crear el histograma con 20 bines para los datos filtrados\n",
    "plt.hist(filtered_df['SUM_PAT'], bins=20, color='skyblue', edgecolor='black')\n",
    "\n",
    "# Añadir etiquetas y título\n",
    "plt.xlabel('SUM_PAT')\n",
    "plt.ylabel('Frecuencia')\n",
    "plt.title('Histograma de Distribución de SUM_PAT (sin outliers)')\n",
    "\n",
    "# Mostrar el histograma\n",
    "plt.show()\n"
   ]
  },
  {
   "cell_type": "markdown",
   "id": "0b5bdf9f-c266-4769-8bd0-1a58f874562e",
   "metadata": {},
   "source": [
    "Podemos observar que la mayoria de valores de total de patrimonio por comunidad estan bajo los 2.5 10e10 pesos.Los valores outliers se presentan en la seccion anterior."
   ]
  },
  {
   "cell_type": "markdown",
   "id": "4c05df4d-f542-4117-bd4b-55247336e5d8",
   "metadata": {},
   "source": [
    "### Agregacion de rubros asociados"
   ]
  },
  {
   "cell_type": "code",
   "execution_count": null,
   "id": "6f4fddfc-8232-464a-9226-b285a5463b5d",
   "metadata": {
    "tags": []
   },
   "outputs": [],
   "source": [
    "spark.sql('select * from dw.dw_trn_actividad_economica_e').createOrReplaceTempView(\"acteco\")\n"
   ]
  },
  {
   "cell_type": "markdown",
   "id": "cf17328d-fbf9-4ac6-a978-648fbd1c731b",
   "metadata": {},
   "source": [
    "Primero se hace el cruce con la tabla de actividad economica y luego con la tabla con la descripcion de esos rubros."
   ]
  },
  {
   "cell_type": "code",
   "execution_count": null,
   "id": "27beb301-88f6-48f0-87f7-7ccb28e4d6b9",
   "metadata": {
    "tags": []
   },
   "outputs": [],
   "source": [
    "spark.sql('select grupos_conocidos.CONT_RUT, COM,ACTECO_COD_ACTECO from grupos_conocidos left join acteco on grupos_conocidos.CONT_RUT=acteco.CONT_RUT where acteco.CONT_RUT is not null').createOrReplaceTempView(\"grupos_conocidos_auxiliar\")"
   ]
  },
  {
   "cell_type": "code",
   "execution_count": null,
   "id": "d2a2177d-f433-4431-acb1-849b0ce53264",
   "metadata": {
    "tags": []
   },
   "outputs": [],
   "source": [
    "spark.sql('select * from dw.dw_dim_actividad_economica_e').createOrReplaceTempView(\"acteco_aux\")"
   ]
  },
  {
   "cell_type": "code",
   "execution_count": null,
   "id": "b85f5117-7783-44d5-ae40-42a635af34a1",
   "metadata": {},
   "outputs": [],
   "source": [
    "acteco=spark.sql('select grupos_conocidos_auxiliar.CONT_RUT, COM, ACEC_DES_ACTECO,ACEC_DES_SUBRUBRO, ACEC_DES_RUBRO  from grupos_conocidos_auxiliar left join acteco_aux on grupos_conocidos_auxiliar.ACTECO_COD_ACTECO=acteco_aux.ACEC_COD_ACTECO where acteco_aux.ACEC_COD_ACTECO is not null')\n",
    "# Contar la cantidad de valores distintos en la columna CONT_RUT\n",
    "distinct_count = acteco.select('CONT_RUT').distinct().count()\n",
    "print(\"Cantidad de valores con actividad economica conocida:\", distinct_count)\n",
    "\n",
    "acteco=acteco.toPandas()\n"
   ]
  },
  {
   "cell_type": "code",
   "execution_count": null,
   "id": "60102d92-f26b-4a1d-926e-8abd981879ee",
   "metadata": {
    "tags": []
   },
   "outputs": [],
   "source": [
    "# Encontrar los 15 valores más repetidos en general en la columna ACEC_DES_SUBRUBRO\n",
    "top_15_repetidos_subrubro = acteco['ACEC_DES_SUBRUBRO'].value_counts().nlargest(15)\n",
    "\n",
    "# Gráfico de barras horizontales de los 15 valores más repetidos en general\n",
    "plt.figure(figsize=(10, 8))\n",
    "sns.barplot(x=top_15_repetidos_subrubro.values, y=top_15_repetidos_subrubro.index, orient='h')\n",
    "plt.title('Top 15 valores más repetidos en general en ACEC_DES_SUBRUBRO')\n",
    "plt.xlabel('Frecuencia')\n",
    "plt.ylabel('ACEC_DES_SUBRUBRO')\n",
    "plt.tight_layout()\n",
    "plt.show()\n",
    "\n",
    "# Calcular las modas de ACEC_DES_SUBRUBRO para cada COM\n",
    "modas_subrubro_por_com = acteco.groupby('COM')['ACEC_DES_SUBRUBRO'].apply(calculate_mode)\n",
    "# Filtrar las modas que no son nulas\n",
    "modas_subrubro_filtradas = modas_subrubro_por_com.dropna()\n",
    "\n",
    "# Seleccionar las 15 modas más frecuentes\n",
    "top_15_modas_subrubro = modas_subrubro_filtradas.value_counts().nlargest(15)\n",
    "\n",
    "# Crear un gráfico de barras horizontales para las 15 modas más frecuentes de ACEC_DES_SUBRUBRO\n",
    "plt.figure(figsize=(10, 8))\n",
    "sns.barplot(x=top_15_modas_subrubro.values, y=top_15_modas_subrubro.index, orient='h', palette='viridis')\n",
    "plt.title('Top 15 Modas de ACEC_DES_SUBRUBRO por COM')\n",
    "plt.xlabel('Frecuencia')\n",
    "plt.ylabel('ACEC_DES_SUBRUBRO')\n",
    "plt.tight_layout()\n",
    "plt.show()\n"
   ]
  },
  {
   "cell_type": "markdown",
   "id": "d7cf34bc-3b22-46d3-a4c6-d25579ec273f",
   "metadata": {},
   "source": [
    "- En el primer grafico, obtenemos los valores mas repetidos del subrubro, estas son fondos de sociedades de inversion, consultorias, inmobiliarias y servicios financieros.\n",
    "\n",
    "- En el segundo grafico, se grafican las modas de los grupos economicos en cuanto a subrubro, nuevamente tenemos fondos de sociedades de inversion, consultorias, inmobiliarias y servicios financieros."
   ]
  },
  {
   "cell_type": "code",
   "execution_count": null,
   "id": "e54bcbbc-21ce-4750-b5b1-ded1d626f88a",
   "metadata": {
    "tags": []
   },
   "outputs": [],
   "source": [
    "# Encontrar los 15 valores más repetidos en general en la columna ACEC_DES_RUBRO\n",
    "top_15_repetidos_rubro = acteco['ACEC_DES_RUBRO'].value_counts().nlargest(15)\n",
    "\n",
    "# Gráfico de barras horizontales de los 15 valores más repetidos en general\n",
    "plt.figure(figsize=(10, 8))\n",
    "sns.barplot(x=top_15_repetidos_rubro.values, y=top_15_repetidos_rubro.index, orient='h')\n",
    "plt.title('Top 15 valores más repetidos en general en ACEC_DES_RUBRO')\n",
    "plt.xlabel('Frecuencia')\n",
    "plt.ylabel('ACEC_DES_RUBRO')\n",
    "plt.tight_layout()\n",
    "plt.show()\n",
    "\n",
    "# Calcular las modas de ACEC_DES_RUBRO para cada COM\n",
    "modas_rubro_por_com = acteco.groupby('COM')['ACEC_DES_RUBRO'].apply(calculate_mode)\n",
    "# Filtrar las modas que no son nulas\n",
    "modas_rubro_filtradas = modas_rubro_por_com.dropna()\n",
    "\n",
    "# Seleccionar las 15 modas más frecuentes\n",
    "top_15_modas_rubro = modas_rubro_filtradas.value_counts().nlargest(15)\n",
    "\n",
    "# Crear un gráfico de barras horizontales para las 15 modas más frecuentes de ACEC_DES_RUBRO\n",
    "plt.figure(figsize=(10, 8))\n",
    "sns.barplot(x=top_15_modas_rubro.values, y=top_15_modas_rubro.index, orient='h', palette='viridis')\n",
    "plt.title('Top 15 Modas de ACEC_DES_RUBRO por COM')\n",
    "plt.xlabel('Frecuencia')\n",
    "plt.ylabel('ACEC_DES_RUBRO')\n",
    "plt.tight_layout()\n",
    "plt.show()\n"
   ]
  },
  {
   "cell_type": "markdown",
   "id": "c6969be8-6928-4694-a77e-c310bca87dc4",
   "metadata": {},
   "source": [
    "- En el caso del rubro y sin agregar en moda pr comunidad, los valores mas repetidos son de actividades financieras y seguros, actividades profesionales, cientificas y tecnicas, comercio y reparacion de vehiculos.\n",
    "\n",
    "- Para las modas de los grupos, el patron se repite."
   ]
  },
  {
   "cell_type": "markdown",
   "id": "c06a2651-ae51-4f2a-ad2b-b0020db52d1d",
   "metadata": {},
   "source": [
    "### Directores \n",
    "\n",
    "Se lee la data que contiene los ruts informados de honorarios de directores"
   ]
  },
  {
   "cell_type": "code",
   "execution_count": null,
   "id": "04174dca-5456-4475-b2cc-60d104a1175e",
   "metadata": {
    "tags": []
   },
   "outputs": [],
   "source": [
    "a=spark.read.parquet(\"abfs://data@datalakesii.dfs.core.windows.net/DatosOrigen/DW/DW_TRN_DJR_F1879_E/part-00001-51ac1a73-cc1a-42c0-9a32-f42e184500f2-c000.snappy.parquet\")"
   ]
  },
  {
   "cell_type": "code",
   "execution_count": null,
   "id": "2c09c7f0-87e1-41d5-af12-4fad9155e90b",
   "metadata": {
    "tags": []
   },
   "outputs": [],
   "source": [
    "a.printSchema()"
   ]
  },
  {
   "cell_type": "code",
   "execution_count": null,
   "id": "f343c3a9-be94-4758-be84-e246a62195d7",
   "metadata": {
    "tags": []
   },
   "outputs": [],
   "source": [
    "s10=a.filter(a.F1879_RETE_DIRE10.isNotNull()).filter(a.F1879_RETE_DIRE10>0)\n",
    "s20=a.filter(a.F1879_RETE_DIRE20.isNotNull()).filter(a.F1879_RETE_DIRE20>0)"
   ]
  },
  {
   "cell_type": "code",
   "execution_count": null,
   "id": "5bf63cf4-2a0e-4d03-ada8-810440138428",
   "metadata": {
    "tags": []
   },
   "outputs": [],
   "source": [
    "# Seleccionar solo las columnas CONT_RUT y CONT_RUT_INFO de s10\n",
    "s10_selected = s10.select(\"CONT_RUT\", \"CONT_RUT_INFO\")\n",
    "s10_selected = s10_selected.withColumnRenamed(\"CONT_RUT\", \"CONT_RUT2\")\n",
    "\n",
    "# Seleccionar solo las columnas CONT_RUT y CONT_RUT_INFO de s20\n",
    "s20_selected = s20.select(\"CONT_RUT\", \"CONT_RUT_INFO\")\n",
    "s20_selected = s20_selected.withColumnRenamed(\"CONT_RUT\", \"CONT_RUT2\")"
   ]
  },
  {
   "cell_type": "code",
   "execution_count": null,
   "id": "738b7d47-cb64-47ce-9a00-a6d4ba1d9a52",
   "metadata": {
    "tags": []
   },
   "outputs": [],
   "source": [
    "# Unir los DataFrames s10_selected y s20_selected\n",
    "union_df = s10_selected.union(s20_selected)\n",
    "\n",
    "# Eliminar las filas duplicadas\n",
    "unique_df = union_df.dropDuplicates()\n",
    "\n",
    "# Mostrar el DataFrame resultante\n",
    "unique_df.show()"
   ]
  },
  {
   "cell_type": "code",
   "execution_count": null,
   "id": "3413262a-eb68-4f69-bd80-0d84cef098ea",
   "metadata": {
    "tags": []
   },
   "outputs": [],
   "source": [
    "joined_df = grupos_conocidos.join(unique_df, unique_df.CONT_RUT2 == grupos_conocidos.CONT_RUT, \"left\")\n"
   ]
  },
  {
   "cell_type": "code",
   "execution_count": null,
   "id": "36890cad-a4f7-4ad6-b23a-d6c7591f7bdb",
   "metadata": {
    "tags": []
   },
   "outputs": [],
   "source": [
    "# Filtrar las filas donde la columna COM no sea nula\n",
    "coincidencias_df = joined_df.filter(unique_df.CONT_RUT2.isNotNull())\n",
    "# Eliminar la segunda columna de cont_rut (asumiendo que se llama \"CONT_RUT_2\")\n",
    "coincidencias_df = coincidencias_df.drop(\"CONT_RUT2\")\n",
    "# Mostrar el DataFrame resultante\n",
    "coincidencias_df.show()"
   ]
  },
  {
   "cell_type": "code",
   "execution_count": null,
   "id": "db335ed6-bcb1-4815-813b-5ee04f3b9ae6",
   "metadata": {
    "tags": []
   },
   "outputs": [],
   "source": [
    "coincidencias_df.select(\"CONT_RUT\").distinct().count()"
   ]
  },
  {
   "cell_type": "code",
   "execution_count": null,
   "id": "7658a095-29f3-4ad6-9dee-2d3248c1cdfc",
   "metadata": {
    "tags": []
   },
   "outputs": [],
   "source": [
    "directores_df=coincidencias_df.toPandas()"
   ]
  },
  {
   "cell_type": "code",
   "execution_count": null,
   "id": "2ec75972-d64d-438d-868f-85d7c1d5e342",
   "metadata": {
    "tags": []
   },
   "outputs": [],
   "source": [
    "directores_df"
   ]
  },
  {
   "cell_type": "code",
   "execution_count": null,
   "id": "c8c73d4e-a0fc-443b-913d-3ea11db1a1fa",
   "metadata": {
    "tags": []
   },
   "outputs": [],
   "source": [
    "\n",
    "def calculate_mode(series):\n",
    "    try:\n",
    "        mode = series.mode().iloc[0]\n",
    "    except IndexError:\n",
    "        mode = None\n",
    "    return mode\n",
    "\n",
    "\n",
    "# Encontrar los 15 valores más repetidos en general en la columna CONT_RUT_INFO\n",
    "top_15_repetidos_directores = directores_df['CONT_RUT_INFO'].value_counts().nlargest(15)\n",
    "\n",
    "# Gráfico de barras horizontales de los 15 valores más repetidos en general\n",
    "plt.figure(figsize=(10, 8))\n",
    "sns.barplot(x=top_15_repetidos_directores.values, y=top_15_repetidos_directores.index, orient='h')\n",
    "plt.title('Top 15 valores más repetidos en general en CONT_RUT_INFO')\n",
    "plt.xlabel('Frecuencia')\n",
    "plt.ylabel('CONT_RUT_INFO')\n",
    "plt.tight_layout()\n",
    "plt.show()\n",
    "\n",
    "# Calcular las modas de CONT_RUT_INFO para cada COM\n",
    "modas_directores_por_com = directores_df.groupby('COM')['CONT_RUT_INFO'].apply(calculate_mode)\n",
    "# Filtrar las modas que no son nulas\n",
    "modas_directores_filtradas = modas_directores_por_com.dropna()\n",
    "\n",
    "# Seleccionar las 15 modas más frecuentes\n",
    "top_15_modas_directores = modas_directores_filtradas.value_counts().nlargest(15)\n",
    "\n",
    "# Crear un gráfico de barras horizontales para las 15 modas más frecuentes de CONT_RUT_INFO\n",
    "plt.figure(figsize=(10, 8))\n",
    "sns.barplot(x=top_15_modas_directores.values, y=top_15_modas_directores.index, orient='h', palette='viridis')\n",
    "plt.title('Top 15 Modas de CONT_RUT_INFO por COM')\n",
    "plt.xlabel('Frecuencia')\n",
    "plt.ylabel('CONT_RUT_INFO')\n",
    "plt.tight_layout()\n",
    "plt.show()\n"
   ]
  },
  {
   "cell_type": "markdown",
   "id": "c8e3b042-20b3-4b8f-a49a-f5f8793e634e",
   "metadata": {},
   "source": [
    "- Del primero grafico, es posible observar que se repiten en todas las sociedades sin considerar comunidades, hay repeticiones de directores en estas sociedades,con frecuencias de repeticion menor a 8.\n",
    "\n",
    "- En el segundo grafico, tambien se observa que hay grupos economicos cuyos directores mas frecuentes en el grupo se repiten en otros grupos una vez."
   ]
  },
  {
   "cell_type": "markdown",
   "id": "1bf79599-aec7-433b-b15a-47c75dab1d6c",
   "metadata": {},
   "source": [
    "### Cantidad de trabajadores dependientes y honorarios\n",
    "\n",
    "Para el analisis de trabajadores, tanto dependientes como a honorarios, utilizaremos la data procesada que se calcula en otro notebook mediante las declaraciones juradas del periodo correspondiente."
   ]
  },
  {
   "cell_type": "code",
   "execution_count": null,
   "id": "e83713a1-ebcc-459a-85be-cdd22a1ececd",
   "metadata": {
    "tags": []
   },
   "outputs": [],
   "source": [
    "workers=pd.read_csv('data/processed/trabajadores/trabajadores_last_declaration.csv', index_col=0 )"
   ]
  },
  {
   "cell_type": "code",
   "execution_count": null,
   "id": "5a1248bf-b83b-4419-bd7e-c03c4314c5c9",
   "metadata": {
    "tags": []
   },
   "outputs": [],
   "source": [
    "# Realizar un inner join en la columna 'CONT_RUT' donde 'COM' no sea null\n",
    "merged_df = grupos_conocidos.merge(workers, on='CONT_RUT', how='inner')\n",
    "\n",
    "# Seleccionar las columnas de interés\n",
    "columns_to_keep = ['CONT_RUT', 'COM', 'cantidad_trabajadores_honorarios', 'cantidad_trabajadores_dependientes']\n",
    "final_workers = merged_df[columns_to_keep]"
   ]
  },
  {
   "cell_type": "markdown",
   "id": "e96a1cb6-fc9a-4148-b76c-30727ad57ff7",
   "metadata": {},
   "source": [
    "La cantidad de datos que se cruzaron"
   ]
  },
  {
   "cell_type": "code",
   "execution_count": null,
   "id": "458303e0-371c-4e51-bf5b-019e29bf4acf",
   "metadata": {
    "tags": []
   },
   "outputs": [],
   "source": [
    "len(final_workers)"
   ]
  },
  {
   "cell_type": "markdown",
   "id": "9962d4dd-1701-4038-920b-66e18760b406",
   "metadata": {},
   "source": [
    "### Cantidad de trabajadores dependientes con outliers"
   ]
  },
  {
   "cell_type": "code",
   "execution_count": null,
   "id": "5d00212d-f862-43c2-9365-20f3e877ca64",
   "metadata": {
    "tags": []
   },
   "outputs": [],
   "source": [
    "# Gráfico de distribución de cantidad_trabajadores_dependientes\n",
    "plt.figure(figsize=(10, 6))\n",
    "sns.histplot(data=final_workers, x='cantidad_trabajadores_dependientes', bins=30, kde=True)\n",
    "plt.title('Distribución de cantidad_trabajadores_dependientes')\n",
    "plt.xlabel('cantidad_trabajadores_dependientes')\n",
    "plt.ylabel('Frecuencia')\n",
    "plt.show()\n",
    "\n",
    "# Obtener los 5 grupos COM más grandes\n",
    "top_5_com = final_workers['COM'].value_counts().nlargest(5).index\n",
    "\n",
    "# Filtrar el DataFrame para incluir solo las filas correspondientes a los 5 grupos más grandes\n",
    "df_top_5 = final_workers[final_workers['COM'].isin(top_5_com)]\n",
    "\n",
    "# Gráfico de violín de cantidad_trabajadores_dependientes para los 5 grupos COM más grandes\n",
    "plt.figure(figsize=(12, 8))\n",
    "sns.violinplot(data=df_top_5, x='COM', y='cantidad_trabajadores_dependientes')\n",
    "plt.title('Distribución de cantidad_trabajadores_dependientes para los 5 grupos COM más grandes')\n",
    "plt.xlabel('COM')\n",
    "plt.ylabel('cantidad_trabajadores_dependientes')\n",
    "plt.xticks(rotation=45)\n",
    "\n",
    "# Agregar texto con el tamaño de las comunidades más grandes\n",
    "for i, com in enumerate(top_5_com):\n",
    "    size = len(final_workers[final_workers['COM'] == com])\n",
    "    plt.text(i, df_top_5['cantidad_trabajadores_dependientes'].max() + 1, f\"{com} (N={size})\", ha='center')\n",
    "\n",
    "plt.tight_layout()\n",
    "plt.show()\n",
    "\n",
    "# Calcular el valor promedio de cantidad_trabajadores_dependientes para cada grupo COM\n",
    "promedio_por_com = final_workers.groupby('COM')['cantidad_trabajadores_dependientes'].mean()\n",
    "\n",
    "# Crear un histograma para mostrar la distribución de los promedios de cantidad_trabajadores_dependientes por COM\n",
    "plt.figure(figsize=(10, 6))\n",
    "sns.histplot(promedio_por_com, bins=10, kde=True, color='skyblue')\n",
    "plt.title('Distribución del promedio de cantidad_trabajadores_dependientes por COM')\n",
    "plt.xlabel('Promedio de cantidad_trabajadores_dependientes')\n",
    "plt.ylabel('Frecuencia')\n",
    "plt.tight_layout()\n",
    "plt.show()\n"
   ]
  },
  {
   "cell_type": "markdown",
   "id": "657a41ff-69d1-4546-b078-feddc1cc0544",
   "metadata": {},
   "source": [
    "- El primer grafico nos muestra la distribucion de la cantidad de trabajadores para todos los contribuyentes involucrados, el rango va de 0 a aproximadamente 35 mil, que corresponderia a empresas grandes.\n",
    "\n",
    "- El segundo grafico nos muestra, para los cinco grupos mas grandes, nos muestra la distribucion de la cantidad de trabajadores dependientes. La distribucion es amplia, lo que nos sugiere filtrar los outliers para un analisis posterior.\n",
    "\n",
    "- El tercer grafico muestra la distribucion del promedio de trabajadores dependientes para cada comunidad, obteniendose valores similares al grafico 1, por lo cual repetimos el analisis sin outliers."
   ]
  },
  {
   "cell_type": "markdown",
   "id": "dd317578-8950-4a79-bf11-2abcb1e16bec",
   "metadata": {},
   "source": [
    "### Cantidad de trabajadores dependientes sin  outliers"
   ]
  },
  {
   "cell_type": "code",
   "execution_count": null,
   "id": "150976fc-7118-4792-8e15-b72d668cfdf4",
   "metadata": {
    "tags": []
   },
   "outputs": [],
   "source": [
    "\n",
    "# Función para identificar y filtrar outliers utilizando el método de IQR\n",
    "def remove_outliers(df, column):\n",
    "    Q1 = df[column].quantile(0.25)\n",
    "    Q3 = df[column].quantile(0.75)\n",
    "    IQR = Q3 - Q1\n",
    "    lower_bound = Q1 - 1.5 * IQR\n",
    "    upper_bound = Q3 + 1.5 * IQR\n",
    "    outliers = df[(df[column] < lower_bound) | (df[column] > upper_bound)]\n",
    "    filtered_df = df[(df[column] >= lower_bound) & (df[column] <= upper_bound)]\n",
    "    return filtered_df, len(outliers)\n",
    "\n",
    "# Eliminar outliers de cantidad_trabajadores_dependientes y obtener el número de outliers\n",
    "final_workers_filtered, num_outliers = remove_outliers(final_workers, 'cantidad_trabajadores_dependientes')\n",
    "\n",
    "# Imprimir el número de outliers y el número de datos después de filtrar los outliers\n",
    "print(f\"Número de outliers eliminados: {num_outliers}\")\n",
    "print(f\"Número de datos después de filtrar outliers: {final_workers_filtered.shape[0]}\")\n",
    "\n",
    "# Gráfico de distribución de cantidad_trabajadores_dependientes sin outliers\n",
    "plt.figure(figsize=(10, 6))\n",
    "sns.histplot(data=final_workers_filtered, x='cantidad_trabajadores_dependientes', bins=30, kde=True)\n",
    "plt.title('Distribución de cantidad_trabajadores_dependientes sin outliers')\n",
    "plt.xlabel('cantidad_trabajadores_dependientes')\n",
    "plt.ylabel('Frecuencia')\n",
    "plt.show()\n",
    "\n",
    "\n",
    "\n",
    "# Calcular el valor promedio de cantidad_trabajadores_dependientes para cada grupo COM sin outliers\n",
    "promedio_por_com = final_workers_filtered.groupby('COM')['cantidad_trabajadores_dependientes'].mean()\n",
    "\n",
    "# Crear un histograma para mostrar la distribución de los promedios de cantidad_trabajadores_dependientes por COM sin outliers\n",
    "plt.figure(figsize=(10, 6))\n",
    "sns.histplot(promedio_por_com, bins=10, kde=True, color='skyblue')\n",
    "plt.title('Distribución del promedio de cantidad_trabajadores_dependientes por COM sin outliers')\n",
    "plt.xlabel('Promedio de cantidad_trabajadores_dependientes')\n",
    "plt.ylabel('Frecuencia')\n",
    "plt.tight_layout()\n",
    "plt.show()\n"
   ]
  },
  {
   "cell_type": "markdown",
   "id": "4c5eab1e-09c4-4795-b862-82d3583038c9",
   "metadata": {},
   "source": [
    "- Se puede observar del primer grafico que grafica la distribucion de trabajadores dependientes tiende a valores bajos, se observa que una parte importante de las sociedades tiene menos de 150 trabajadores dependientes.\n",
    "- Del segundo grafico, se observa una situacion similar, esta vez el promedio de trabajadores en general esta bajo 150."
   ]
  },
  {
   "cell_type": "markdown",
   "id": "e0228548-80da-4b55-a0c5-7f68f11a2317",
   "metadata": {},
   "source": [
    "### Cantidad de trabajadores independientes con outliers"
   ]
  },
  {
   "cell_type": "code",
   "execution_count": null,
   "id": "18d826ad-4f71-4dd7-859b-cf074368cfbb",
   "metadata": {
    "tags": []
   },
   "outputs": [],
   "source": [
    "import matplotlib.pyplot as plt\n",
    "import seaborn as sns\n",
    "\n",
    "# Gráfico de distribución de cantidad_trabajadores_honorarios\n",
    "plt.figure(figsize=(10, 6))\n",
    "sns.histplot(data=final_workers, x='cantidad_trabajadores_honorarios', bins=30, kde=True)\n",
    "plt.title('Distribución de cantidad_trabajadores_honorarios')\n",
    "plt.xlabel('cantidad_trabajadores_honorarios')\n",
    "plt.ylabel('Frecuencia')\n",
    "plt.show()\n",
    "\n",
    "# Obtener los 5 grupos COM más grandes\n",
    "top_5_com = final_workers['COM'].value_counts().nlargest(5).index\n",
    "\n",
    "# Filtrar el DataFrame para incluir solo las filas correspondientes a los 5 grupos más grandes\n",
    "df_top_5 = final_workers[final_workers['COM'].isin(top_5_com)]\n",
    "\n",
    "# Gráfico de violín de cantidad_trabajadores_honorarios para los 5 grupos COM más grandes\n",
    "plt.figure(figsize=(12, 8))\n",
    "sns.violinplot(data=df_top_5, x='COM', y='cantidad_trabajadores_honorarios')\n",
    "plt.title('Distribución de cantidad_trabajadores_honorarios para los 5 grupos COM más grandes')\n",
    "plt.xlabel('COM')\n",
    "plt.ylabel('cantidad_trabajadores_honorarios')\n",
    "plt.xticks(rotation=45)\n",
    "\n",
    "# Agregar texto con el tamaño de las comunidades más grandes\n",
    "for i, com in enumerate(top_5_com):\n",
    "    size = len(final_workers[final_workers['COM'] == com])\n",
    "    plt.text(i, df_top_5['cantidad_trabajadores_honorarios'].max() + 1, f\"{com} (N={size})\", ha='center')\n",
    "\n",
    "plt.tight_layout()\n",
    "plt.show()\n",
    "\n",
    "# Calcular el valor promedio de cantidad_trabajadores_honorarios para cada grupo COM\n",
    "promedio_por_com = final_workers.groupby('COM')['cantidad_trabajadores_honorarios'].mean()\n",
    "\n",
    "# Crear un histograma para mostrar la distribución de los promedios de cantidad_trabajadores_honorarios por COM\n",
    "plt.figure(figsize=(10, 6))\n",
    "sns.histplot(promedio_por_com, bins=10, kde=True, color='skyblue')\n",
    "plt.title('Distribución del promedio de cantidad_trabajadores_honorarios por COM')\n",
    "plt.xlabel('Promedio de cantidad_trabajadores_honorarios')\n",
    "plt.ylabel('Frecuencia')\n",
    "plt.tight_layout()\n",
    "plt.show()\n"
   ]
  },
  {
   "cell_type": "markdown",
   "id": "37eb7d53-ee97-438b-a8dd-5f68e7d8272d",
   "metadata": {},
   "source": [
    "- Se observa el mismo comportamiento que habiamos visto en los graficos de trabajadores dependientes, avidenciado en el grafico 2, donde se muestra la distribucion de trabajadores para los 5 grupos mas grandes. Se observa una alta dispersion, lo que sugiere quitar los outliers y hacer un nuevo analisis."
   ]
  },
  {
   "cell_type": "markdown",
   "id": "5741ee35-e298-49f4-ac24-0af38cd51348",
   "metadata": {},
   "source": [
    "### Cantidad de trabajadores independientes sin outliers"
   ]
  },
  {
   "cell_type": "code",
   "execution_count": 4,
   "id": "b9a77a8a-cb1b-4ded-9dbb-80a19365d5ee",
   "metadata": {
    "tags": []
   },
   "outputs": [
    {
     "ename": "NameError",
     "evalue": "name 'remove_outliers' is not defined",
     "output_type": "error",
     "traceback": [
      "\u001b[0;31m---------------------------------------------------------------------------\u001b[0m",
      "\u001b[0;31mNameError\u001b[0m                                 Traceback (most recent call last)",
      "Cell \u001b[0;32mIn[4], line 2\u001b[0m\n\u001b[1;32m      1\u001b[0m \u001b[38;5;66;03m# Eliminar outliers de cantidad_trabajadores_honorarios y obtener el número de outliers\u001b[39;00m\n\u001b[0;32m----> 2\u001b[0m final_workers_filtered, num_outliers \u001b[38;5;241m=\u001b[39m \u001b[43mremove_outliers\u001b[49m(final_workers, \u001b[38;5;124m'\u001b[39m\u001b[38;5;124mcantidad_trabajadores_honorarios\u001b[39m\u001b[38;5;124m'\u001b[39m)\n\u001b[1;32m      4\u001b[0m \u001b[38;5;66;03m# Imprimir el número de outliers y el número de datos después de filtrar los outliers\u001b[39;00m\n\u001b[1;32m      5\u001b[0m \u001b[38;5;28mprint\u001b[39m(\u001b[38;5;124mf\u001b[39m\u001b[38;5;124m\"\u001b[39m\u001b[38;5;124mNúmero de outliers eliminados: \u001b[39m\u001b[38;5;132;01m{\u001b[39;00mnum_outliers\u001b[38;5;132;01m}\u001b[39;00m\u001b[38;5;124m\"\u001b[39m)\n",
      "\u001b[0;31mNameError\u001b[0m: name 'remove_outliers' is not defined"
     ]
    }
   ],
   "source": [
    "\n",
    "# Eliminar outliers de cantidad_trabajadores_honorarios y obtener el número de outliers\n",
    "final_workers_filtered, num_outliers = remove_outliers(final_workers, 'cantidad_trabajadores_honorarios')\n",
    "\n",
    "# Imprimir el número de outliers y el número de datos después de filtrar los outliers\n",
    "print(f\"Número de outliers eliminados: {num_outliers}\")\n",
    "print(f\"Número de datos después de filtrar outliers: {final_workers_filtered.shape[0]}\")\n",
    "\n",
    "# Gráfico de distribución de cantidad_trabajadores_honorarios sin outliers\n",
    "plt.figure(figsize=(10, 6))\n",
    "sns.histplot(data=final_workers_filtered, x='cantidad_trabajadores_honorarios', bins=30, kde=True)\n",
    "plt.title('Distribución de cantidad_trabajadores_honorarios sin outliers')\n",
    "plt.xlabel('cantidad_trabajadores_honorarios')\n",
    "plt.ylabel('Frecuencia')\n",
    "plt.show()\n",
    "\n",
    "\n",
    "\n",
    "# Calcular el valor promedio de cantidad_trabajadores_honorarios para cada grupo COM sin outliers\n",
    "promedio_por_com = final_workers_filtered.groupby('COM')['cantidad_trabajadores_honorarios'].mean()\n",
    "\n",
    "# Crear un histograma para mostrar la distribución de los promedios de cantidad_trabajadores_honorarios por COM sin outliers\n",
    "plt.figure(figsize=(10, 6))\n",
    "sns.histplot(promedio_por_com, bins=10, kde=True, color='skyblue')\n",
    "plt.title('Distribución del promedio de cantidad_trabajadores_honorarios por COM sin outliers')\n",
    "plt.xlabel('Promedio de cantidad_trabajadores_honorarios')\n",
    "plt.ylabel('Frecuencia')\n",
    "plt.tight_layout()\n",
    "plt.show()\n"
   ]
  },
  {
   "cell_type": "markdown",
   "id": "e8896261-ac51-4bfc-95ad-9fed13306949",
   "metadata": {},
   "source": [
    "- Se puede observar, luego de retirar los outliers, en el primer grafico, que la gran mayoria de las sociedades tiene menos de 20 trabajadores independientes.\n",
    "- En el segundo grafico,que muestra la distribucion de los promedios de los trabajadores independientes en cada grupo, que la mayoria de los grupos tienen menos de 20 trabajadores independientes. "
   ]
  },
  {
   "cell_type": "markdown",
   "id": "ce64fc60-f535-450b-9c8b-7022a7c9c23c",
   "metadata": {},
   "source": [
    "### Centros de venta\n",
    "\n",
    "A continuacion se analizara si el contribyente vende hacia regiones extremas (norte  y sur) a partir de los documentos tributarios electronicos. "
   ]
  },
  {
   "cell_type": "code",
   "execution_count": 20,
   "id": "21ac3a89-d8dc-4cdf-9e1d-3cc429bc9e2f",
   "metadata": {
    "tags": []
   },
   "outputs": [
    {
     "name": "stderr",
     "output_type": "stream",
     "text": [
      "Hive Session ID = cba5126b-32a8-4f91-9aa8-7b1b20ea3e6d\n"
     ]
    }
   ],
   "source": [
    "spark.sql('select dhdr_rut_emisor, dhdr_cmna_origen from dwbgdata.header_dte_consolidada_enc_sas_analitica ').createOrReplaceTempView(\"documentos\")\n",
    "spark.sql('select dhdr_rut_emisor,COM,dhdr_cmna_origen from documentos left join grupos_conocidos on grupos_conocidos.cont_rut=documentos.dhdr_rut_emisor where COM is not null').createOrReplaceTempView(\"emitidos\")\n",
    "spark.sql('select * from libsdf.DICCIONARIO_CMNA_DTE_ARFI').createOrReplaceTempView(\"comunas\")\n",
    "spark.sql('select dhdr_rut_emisor,COM,comuna_obtenida from emitidos left join comunas on emitidos.dhdr_cmna_origen=comunas.dhdr_dir_origen').createOrReplaceTempView(\"puntos_venta\")"
   ]
  },
  {
   "cell_type": "code",
   "execution_count": 21,
   "id": "1acf3e78-0454-4486-9d15-9eb32c674976",
   "metadata": {
    "tags": []
   },
   "outputs": [],
   "source": [
    "spark.sql('select dhdr_rut_emisor,COM, comuna_obtenida, count(*) as c  from puntos_venta where dhdr_rut_emisor is not null group by dhdr_rut_emisor,COM,comuna_obtenida').createOrReplaceTempView(\"puntos_venta\")\n"
   ]
  },
  {
   "cell_type": "code",
   "execution_count": 22,
   "id": "69d66e16-4abb-428d-ba37-2942ce87d9d4",
   "metadata": {
    "tags": []
   },
   "outputs": [],
   "source": [
    "spark.sql('select dhdr_rut_emisor, COM,REPLACE(comuna_obtenida,\"�\", \"N\") AS comuna_obtenida from puntos_venta').createOrReplaceTempView(\"puntos_venta\")\n"
   ]
  },
  {
   "cell_type": "code",
   "execution_count": 23,
   "id": "eceefb44-8f53-411b-ae1f-9ae0148c7119",
   "metadata": {},
   "outputs": [],
   "source": [
    "spark.sql('select COMU_DES_COMUNA, COMU_DES_REGION from dw.dim_comuna').createOrReplaceTempView(\"comunas\")"
   ]
  },
  {
   "cell_type": "code",
   "execution_count": 24,
   "id": "3ffc7135-23b8-4f3f-80de-f4078d968675",
   "metadata": {},
   "outputs": [],
   "source": [
    "spark.sql('select  dhdr_rut_emisor,COM, comuna_obtenida,COMU_DES_COMUNA, COMU_DES_REGION from puntos_venta left join comunas on puntos_venta.comuna_obtenida=comunas.COMU_DES_COMUNA Where comuna_obtenida is not null and COMU_DES_COMUNA IS not  NULL').createOrReplaceTempView(\"puntos_venta_final\")\n"
   ]
  },
  {
   "cell_type": "code",
   "execution_count": 25,
   "id": "c2180f74-2f9c-4ded-b984-64ebb62877e6",
   "metadata": {},
   "outputs": [],
   "source": [
    "df=spark.sql('select * from puntos_venta_final')"
   ]
  },
  {
   "cell_type": "code",
   "execution_count": 26,
   "id": "0307256f-1ff6-4ff3-a970-a44f09b89939",
   "metadata": {
    "tags": []
   },
   "outputs": [],
   "source": [
    "# Definir los patrones de las regiones extremas\n",
    "# I region de Tarapaca\n",
    "# XV reion de Arica y Parinacota\n",
    "# XI regino de Aysen\n",
    "#XII region de Magallanes\n",
    "\n",
    "extreme_regions_norte = [\"XV R\", \"I RE\"]\n",
    "extreme_regions_sur = [\"XI R\",\"XII \"]\n",
    "\n",
    "# Añadir una nueva columna con los primeros tres caracteres de la región\n",
    "df = df.withColumn(\"region_prefix\", substring(col(\"COMU_DES_REGION\"), 1, 4))\n",
    "\n",
    "# Clasificar las regiones\n",
    "df = df.withColumn(\n",
    "    \"extremo_norte\",\n",
    "    when(col(\"region_prefix\").isin(extreme_regions_norte), 1).otherwise(0)\n",
    ")\n",
    "df = df.withColumn(\n",
    "    \"extremo_sur\",\n",
    "    when(col(\"region_prefix\").isin(extreme_regions_sur), 1).otherwise(0)\n",
    ")\n",
    "\n"
   ]
  },
  {
   "cell_type": "code",
   "execution_count": 27,
   "id": "d3c23002-ef2b-4f61-8504-ee7768a99298",
   "metadata": {
    "tags": []
   },
   "outputs": [],
   "source": [
    "# Agrupar por dhdr_rut_emisor y calcular la suma de extremo_norte y extremo_sur\n",
    "df_grouped = df.groupBy(\"dhdr_rut_emisor\",\"COM\").agg(\n",
    "    sum(\"extremo_norte\").alias(\"total_extremo_norte\"),\n",
    "    sum(\"extremo_sur\").alias(\"total_extremo_sur\")\n",
    ")\n",
    "\n",
    "# Crear una columna adicional que indique si distribuye al extremo norte y al extremo sur\n",
    "df_final = df_grouped.withColumn(\n",
    "    \"distribuye_extremos\",\n",
    "    when((col(\"total_extremo_norte\") > 0) & (col(\"total_extremo_sur\") > 0), \"si\").otherwise(\"no\")\n",
    ")\n"
   ]
  },
  {
   "cell_type": "code",
   "execution_count": 28,
   "id": "b93aa6e4-6ef0-4ae0-861e-aad0fe981377",
   "metadata": {
    "tags": []
   },
   "outputs": [
    {
     "name": "stderr",
     "output_type": "stream",
     "text": [
      "                                                                                \r"
     ]
    }
   ],
   "source": [
    "df_final=df_final.toPandas()"
   ]
  },
  {
   "cell_type": "code",
   "execution_count": null,
   "id": "1d5f35be-7921-4f76-ae9c-048b257a7fae",
   "metadata": {
    "tags": []
   },
   "outputs": [],
   "source": [
    "spark.stop()"
   ]
  },
  {
   "cell_type": "code",
   "execution_count": null,
   "id": "e89fc66c-3ed7-49e3-9750-81b6d5d7932f",
   "metadata": {},
   "outputs": [
    {
     "data": {
      "text/html": [
       "<div>\n",
       "<style scoped>\n",
       "    .dataframe tbody tr th:only-of-type {\n",
       "        vertical-align: middle;\n",
       "    }\n",
       "\n",
       "    .dataframe tbody tr th {\n",
       "        vertical-align: top;\n",
       "    }\n",
       "\n",
       "    .dataframe thead th {\n",
       "        text-align: right;\n",
       "    }\n",
       "</style>\n",
       "<table border=\"1\" class=\"dataframe\">\n",
       "  <thead>\n",
       "    <tr style=\"text-align: right;\">\n",
       "      <th></th>\n",
       "      <th>dhdr_rut_emisor</th>\n",
       "      <th>COM</th>\n",
       "      <th>total_extremo_norte</th>\n",
       "      <th>total_extremo_sur</th>\n",
       "      <th>distribuye_extremos</th>\n",
       "    </tr>\n",
       "  </thead>\n",
       "  <tbody>\n",
       "    <tr>\n",
       "      <th>0</th>\n",
       "      <td>Gq9Yil8BfFdgzQbcUDAG7w==</td>\n",
       "      <td>1699</td>\n",
       "      <td>1</td>\n",
       "      <td>0</td>\n",
       "      <td>no</td>\n",
       "    </tr>\n",
       "    <tr>\n",
       "      <th>1</th>\n",
       "      <td>SeTpFSKbXaLUfFxEboE5Lg==</td>\n",
       "      <td>3100</td>\n",
       "      <td>0</td>\n",
       "      <td>0</td>\n",
       "      <td>no</td>\n",
       "    </tr>\n",
       "    <tr>\n",
       "      <th>2</th>\n",
       "      <td>D7+t12BYU5svXrpZfOPJMQ==</td>\n",
       "      <td>948</td>\n",
       "      <td>0</td>\n",
       "      <td>0</td>\n",
       "      <td>no</td>\n",
       "    </tr>\n",
       "    <tr>\n",
       "      <th>3</th>\n",
       "      <td>bMBAuKtIeXNDrM6uJCXVsA==</td>\n",
       "      <td>2990</td>\n",
       "      <td>0</td>\n",
       "      <td>0</td>\n",
       "      <td>no</td>\n",
       "    </tr>\n",
       "    <tr>\n",
       "      <th>4</th>\n",
       "      <td>cdjQrzjIxdLy1eINImIZdA==</td>\n",
       "      <td>524</td>\n",
       "      <td>0</td>\n",
       "      <td>0</td>\n",
       "      <td>no</td>\n",
       "    </tr>\n",
       "    <tr>\n",
       "      <th>...</th>\n",
       "      <td>...</td>\n",
       "      <td>...</td>\n",
       "      <td>...</td>\n",
       "      <td>...</td>\n",
       "      <td>...</td>\n",
       "    </tr>\n",
       "    <tr>\n",
       "      <th>9885</th>\n",
       "      <td>9HQGZnjZ6ERYgLE5w4wW1w==</td>\n",
       "      <td>1534</td>\n",
       "      <td>0</td>\n",
       "      <td>0</td>\n",
       "      <td>no</td>\n",
       "    </tr>\n",
       "    <tr>\n",
       "      <th>9886</th>\n",
       "      <td>yLP6KOchLVnxTXJrwxzurg==</td>\n",
       "      <td>394</td>\n",
       "      <td>0</td>\n",
       "      <td>0</td>\n",
       "      <td>no</td>\n",
       "    </tr>\n",
       "    <tr>\n",
       "      <th>9887</th>\n",
       "      <td>iuMSj9OhR74brs7xSGhQQg==</td>\n",
       "      <td>937</td>\n",
       "      <td>0</td>\n",
       "      <td>0</td>\n",
       "      <td>no</td>\n",
       "    </tr>\n",
       "    <tr>\n",
       "      <th>9888</th>\n",
       "      <td>apJHGZDI09IdAJ2o5fqCjQ==</td>\n",
       "      <td>998</td>\n",
       "      <td>0</td>\n",
       "      <td>0</td>\n",
       "      <td>no</td>\n",
       "    </tr>\n",
       "    <tr>\n",
       "      <th>9889</th>\n",
       "      <td>c/hUubQZfuxvn3KMRQRhrA==</td>\n",
       "      <td>75</td>\n",
       "      <td>0</td>\n",
       "      <td>0</td>\n",
       "      <td>no</td>\n",
       "    </tr>\n",
       "  </tbody>\n",
       "</table>\n",
       "<p>9890 rows × 5 columns</p>\n",
       "</div>"
      ],
      "text/plain": [
       "               dhdr_rut_emisor   COM  total_extremo_norte  total_extremo_sur  \\\n",
       "0     Gq9Yil8BfFdgzQbcUDAG7w==  1699                    1                  0   \n",
       "1     SeTpFSKbXaLUfFxEboE5Lg==  3100                    0                  0   \n",
       "2     D7+t12BYU5svXrpZfOPJMQ==   948                    0                  0   \n",
       "3     bMBAuKtIeXNDrM6uJCXVsA==  2990                    0                  0   \n",
       "4     cdjQrzjIxdLy1eINImIZdA==   524                    0                  0   \n",
       "...                        ...   ...                  ...                ...   \n",
       "9885  9HQGZnjZ6ERYgLE5w4wW1w==  1534                    0                  0   \n",
       "9886  yLP6KOchLVnxTXJrwxzurg==   394                    0                  0   \n",
       "9887  iuMSj9OhR74brs7xSGhQQg==   937                    0                  0   \n",
       "9888  apJHGZDI09IdAJ2o5fqCjQ==   998                    0                  0   \n",
       "9889  c/hUubQZfuxvn3KMRQRhrA==    75                    0                  0   \n",
       "\n",
       "     distribuye_extremos  \n",
       "0                     no  \n",
       "1                     no  \n",
       "2                     no  \n",
       "3                     no  \n",
       "4                     no  \n",
       "...                  ...  \n",
       "9885                  no  \n",
       "9886                  no  \n",
       "9887                  no  \n",
       "9888                  no  \n",
       "9889                  no  \n",
       "\n",
       "[9890 rows x 5 columns]"
      ]
     },
     "execution_count": 29,
     "metadata": {},
     "output_type": "execute_result"
    }
   ],
   "source": [
    "df_final"
   ]
  },
  {
   "cell_type": "code",
   "execution_count": 32,
   "id": "ca86e450-7bb7-48d9-9b33-6c24a158531b",
   "metadata": {
    "tags": []
   },
   "outputs": [
    {
     "data": {
      "image/png": "[encoded data removed]",
      "text/plain": [
       "<Figure size 432x288 with 1 Axes>"
      ]
     },
     "metadata": {
      "needs_background": "light"
     },
     "output_type": "display_data"
    }
   ],
   "source": [
    "# Calcular los valores de 'distribuye_extremos'\n",
    "extremos_counts = df_final['distribuye_extremos'].value_counts()\n",
    "# Crear la gráfica de barras\n",
    "plt.bar(extremos_counts.index, extremos_counts.values, color=['red', 'green'])\n",
    "\n",
    "# Añadir etiquetas y título\n",
    "plt.xlabel('Distribuye a extremos')\n",
    "plt.ylabel('Cantidad')\n",
    "plt.title('Distribución de distribuciones a extremos')\n",
    "\n",
    "# Añadir etiquetas sobre las barras con el número correspondiente\n",
    "for i, value in enumerate(extremos_counts.values):\n",
    "    plt.text(i, value + 0.5, str(value), ha='center', va='bottom')\n",
    "\n",
    "# Mostrar la gráfica\n",
    "plt.show()"
   ]
  },
  {
   "cell_type": "markdown",
   "id": "23071289-dae5-424c-b48a-529c4aff99b4",
   "metadata": {},
   "source": [
    "A partir del grafico anterior y analizando la informacion por cada contribuyente, se evidencia que la gran mayoria no distribuye hacia los extremos del pais, o bien hacia solo un extremo. Sin embargo, hay una cantidad menor de contribuyentes que si vende hacia los extremos norte y sur. "
   ]
  },
  {
   "cell_type": "code",
   "execution_count": 1,
   "id": "3ca7ea6a-1675-494c-8b29-69e49c6a46e4",
   "metadata": {},
   "outputs": [
    {
     "ename": "NameError",
     "evalue": "name 'spark' is not defined",
     "output_type": "error",
     "traceback": [
      "\u001b[0;31m---------------------------------------------------------------------------\u001b[0m",
      "\u001b[0;31mNameError\u001b[0m                                 Traceback (most recent call last)",
      "Cell \u001b[0;32mIn[1], line 1\u001b[0m\n\u001b[0;32m----> 1\u001b[0m \u001b[43mspark\u001b[49m\u001b[38;5;241m.\u001b[39mstop()\n",
      "\u001b[0;31mNameError\u001b[0m: name 'spark' is not defined"
     ]
    }
   ],
   "source": [
    "spark.stop()"
   ]
  },
  {
   "cell_type": "code",
   "execution_count": 34,
   "id": "bb1d140f-e09a-4c16-84fe-f80325de1efc",
   "metadata": {},
   "outputs": [],
   "source": [
    "# Agrupar por 'COM' y determinar si al menos un RUT distribuye a extremos\n",
    "df_grouped = df_final.groupby('COM').agg({'distribuye_extremos': lambda x: 'si' if 'si' in x.values else 'no'}).reset_index()\n",
    "\n",
    "# Renombrar la columna\n",
    "df_grouped = df_grouped.rename(columns={'distribuye_extremos': 'distribuye_extremos_com'})"
   ]
  },
  {
   "cell_type": "code",
   "execution_count": 35,
   "id": "81f644a4-ca68-44e5-8b8e-88ed47e69370",
   "metadata": {
    "tags": []
   },
   "outputs": [
    {
     "data": {
      "image/png": "[encoded data removed]",
      "text/plain": [
       "<Figure size 432x288 with 1 Axes>"
      ]
     },
     "metadata": {
      "needs_background": "light"
     },
     "output_type": "display_data"
    }
   ],
   "source": [
    "# Contar cuántos 'COM' distribuyen a extremos y cuántos no\n",
    "extremos_counts_com = df_grouped['distribuye_extremos_com'].value_counts()\n",
    "\n",
    "# Crear la gráfica de barras\n",
    "plt.bar(extremos_counts_com.index, extremos_counts_com.values, color=['red', 'green'])\n",
    "\n",
    "# Añadir etiquetas y título\n",
    "plt.xlabel('Distribuye a extremos')\n",
    "plt.ylabel('Cantidad de COM')\n",
    "plt.title('Distribución de distribuciones a extremos por COM')\n",
    "\n",
    "# Añadir etiquetas sobre las barras con el número correspondiente\n",
    "for i, value in enumerate(extremos_counts_com.values):\n",
    "    plt.text(i, value + 0.5, str(value), ha='center', va='bottom')\n",
    "\n",
    "# Mostrar la gráfica\n",
    "plt.show()"
   ]
  },
  {
   "cell_type": "markdown",
   "id": "6ee03ec2-7b0d-44a2-901c-5b644b919061",
   "metadata": {},
   "source": [
    "Al analizar, a partir del grafico anterior por comunidad, vemos una cantidad significativa de grupos economcios que venden a ambas regiones extremas. "
   ]
  },
  {
   "cell_type": "markdown",
   "id": "6a001f12-fe1a-4b0f-beb2-23e9546956c3",
   "metadata": {},
   "source": [
    "### Conclusion:\n",
    "\n",
    "A partir de la data disponible, se puede caracterizar la informacion de los contribuyentes que pertenecen a grupos economicos definidos por criterio experto. Esta informacion se puede analizar de forma global o grupal. "
   ]
  },
  {
   "cell_type": "code",
   "execution_count": null,
   "id": "738ecae3-2a72-4649-b37d-788036035daf",
   "metadata": {},
   "outputs": [],
   "source": []
  }
 ],
 "metadata": {
  "kernelspec": {
   "display_name": "Python 3 (ipykernel)",
   "language": "python",
   "name": "python3"
  },
  "language_info": {
   "codemirror_mode": {
    "name": "ipython",
    "version": 3
   },
   "file_extension": ".py",
   "mimetype": "text/x-python",
   "name": "python",
   "nbconvert_exporter": "python",
   "pygments_lexer": "ipython3",
   "version": "3.10.13"
  }
 },
 "nbformat": 4,
 "nbformat_minor": 5
}
