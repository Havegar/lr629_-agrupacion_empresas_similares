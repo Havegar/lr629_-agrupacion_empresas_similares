{
 "cells": [
  {
   "cell_type": "markdown",
   "id": "702c3d05-18b5-4aca-8659-fa6be263d345",
   "metadata": {},
   "source": [
    "### IVA intra grupo y extra grupo en comunidades de grupos economicos"
   ]
  },
  {
   "cell_type": "markdown",
   "id": "449dde10-a50e-4cfe-8695-64cbaed79db9",
   "metadata": {
    "tags": []
   },
   "source": [
    "En este notebook se calcula el flujo intra y extragrupo en cada una de los grupos economicos definidos, asi como otras metricas asociadas."
   ]
  },
  {
   "cell_type": "markdown",
   "id": "35403938-010e-44b2-b406-3f3a552283e8",
   "metadata": {},
   "source": [
    "### Iniciar sesion en spark"
   ]
  },
  {
   "cell_type": "code",
   "execution_count": 44,
   "id": "5608526c-8aec-4dec-8714-6450d766f023",
   "metadata": {
    "tags": []
   },
   "outputs": [],
   "source": [
    "from pyspark.sql import SparkSession\n",
    "from pyspark.sql.functions import *\n",
    "from pyspark import SparkContext, SparkConf\n",
    "import pyspark\n",
    "import pandas as pd\n",
    "import warnings\n",
    "warnings.filterwarnings('ignore', category=DeprecationWarning)\n",
    "\n",
    "from pyspark_dist_explore import hist\n",
    "import matplotlib.pyplot as plt\n",
    "from pyspark.sql.types import StringType,TimestampType\n"
   ]
  },
  {
   "cell_type": "code",
   "execution_count": 45,
   "id": "69415a50-4994-484b-97f8-7f8654ad9e22",
   "metadata": {
    "tags": []
   },
   "outputs": [],
   "source": [
    "spark = SparkSession.builder \\\n",
    "  .appName(\"Test\")  \\\n",
    "  .config(\"spark.yarn.access.hadoopFileSystems\",\"abfs://data@datalakesii.dfs.core.windows.net/\") \\\n",
    "  .config(\"spark.executor.memory\", \"16g\") \\\n",
    "  .config(\"spark.driver.memory\", \"12g\")\\\n",
    "  .config(\"spark.executor.cores\", \"2\") \\\n",
    "  .config(\"spark.driver.maxResultSize\", \"12g\") \\\n",
    "  .getOrCreate()\n",
    "\n",
    "warnings.filterwarnings('ignore', category=DeprecationWarning)\n",
    "sc=spark.sparkContext\n",
    "sc.setLogLevel ('ERROR')\n",
    "spark.conf.set(\"spark.sql.parquet.int96RebaseModeInRead\", \"CORRECTED\")\n",
    "\n"
   ]
  },
  {
   "cell_type": "markdown",
   "id": "d89358be-09f3-4c3a-8ca5-8a5e36d7c025",
   "metadata": {},
   "source": [
    "### Datos de grupos economicos"
   ]
  },
  {
   "cell_type": "code",
   "execution_count": 46,
   "id": "7d0a9078-3997-4cfb-9e57-4186554e701a",
   "metadata": {
    "tags": []
   },
   "outputs": [
    {
     "name": "stdout",
     "output_type": "stream",
     "text": [
      "+--------------------+----+\n",
      "|            CONT_RUT| COM|\n",
      "+--------------------+----+\n",
      "|+++4/3jzUwtDPSSo3...| 460|\n",
      "|++7yFnLR2jk0Wr0e8...|2478|\n",
      "|++WLg1DbuZQ0MUQEN...|2915|\n",
      "|++YxswwB51l+3P6mO...|1799|\n",
      "|++ggVpHHILx+9SGu8...|1141|\n",
      "|++qoXOhoawzvRog9E...| 999|\n",
      "|+/+yqr5XeK0rOoKkG...|3114|\n",
      "|+/HrCRshGy4wSSO1V...| 126|\n",
      "|+/JZf0TTOGVxNx9tj...| 325|\n",
      "|+/R7TO3QchPVrRHn9...|1091|\n",
      "|+/bsZuw7/ADsTou53...|2202|\n",
      "|+/cJ7EBd5oKjQfhxu...|1018|\n",
      "|+0dURcPCBYLGVKmIt...| 614|\n",
      "|+0f/GM34xojh+tn7A...| 321|\n",
      "|+0ut+stCHqH6UHSAh...|2659|\n",
      "|+0yKx5GSw/Q5FoSrp...|1157|\n",
      "|+1FNxAxXZVPFSdmBl...|1920|\n",
      "|+1YKE5LQO+CE2nB6H...| 595|\n",
      "|+1eDEaPXcR4UTQlQz...|1329|\n",
      "|+1iuDsJuEu9oPjZFA...| 330|\n",
      "+--------------------+----+\n",
      "only showing top 20 rows\n",
      "\n"
     ]
    }
   ],
   "source": [
    "spark.read.parquet(\"abfs://data@datalakesii.dfs.core.windows.net/DatosOrigen/LibSDF/GE_APIUX_ARFI_E\").createOrReplaceTempView(\"grupos\")\n",
    "spark.sql('select PARU_RUT_E,COM, count(*) as c from grupos group by PARU_RUT_E, COM order by PARU_RUT_E asc').createOrReplaceTempView(\"grupos\")\n",
    "spark.sql('select PARU_RUT_E as CONT_RUT,COM from grupos  order by PARU_RUT_E asc').createOrReplaceTempView(\"grupos\")\n",
    "spark.sql('select * from grupos').show()"
   ]
  },
  {
   "cell_type": "markdown",
   "id": "b8b91151-5f9a-4be2-8faf-dab6a4b8cd15",
   "metadata": {},
   "source": [
    "### Informacion de los arcos comerciales "
   ]
  },
  {
   "cell_type": "code",
   "execution_count": 47,
   "id": "b8372db4-fbac-4fe9-81cd-7273213aebaf",
   "metadata": {
    "tags": []
   },
   "outputs": [],
   "source": [
    "spark.read.parquet(\"abfs://data@datalakesii.dfs.core.windows.net/DatosOrigen/LibSDF/JBA_ARCOS_E\").createOrReplaceTempView(\"arcos\")\n",
    "spark.sql('select PARU_RUT_E0 as emisor, PARU_RUT_E2 as receptor, Monto_iva from arcos where Monto_iva>0').createOrReplaceTempView(\"arcos\")\n"
   ]
  },
  {
   "cell_type": "markdown",
   "id": "34c27404-a277-401e-8a8b-3bcb6564a77a",
   "metadata": {},
   "source": [
    "### Cruce de grupos economicos con emisor y receptor del arco"
   ]
  },
  {
   "cell_type": "code",
   "execution_count": 48,
   "id": "1020bbb8-85b4-4e9a-ae77-53c0f77a9743",
   "metadata": {
    "tags": []
   },
   "outputs": [
    {
     "name": "stderr",
     "output_type": "stream",
     "text": [
      "[Stage 163:>                                                        (0 + 1) / 1]\r"
     ]
    },
    {
     "name": "stdout",
     "output_type": "stream",
     "text": [
      "+--------------------+----------------+--------------------+------------------+---------+\n",
      "|              emisor|comunidad_emisor|            receptor|comunidad_receptor|Monto_IVA|\n",
      "+--------------------+----------------+--------------------+------------------+---------+\n",
      "|+++4/3jzUwtDPSSo3...|             460|ABszgMcSyeqDOADH3...|              null|   483588|\n",
      "|+++4/3jzUwtDPSSo3...|             460|B69egPvHdCLmFLUn9...|              null|   622820|\n",
      "|+++4/3jzUwtDPSSo3...|             460|DN7mjSZwbbnmYguun...|              null|  1689480|\n",
      "|+++4/3jzUwtDPSSo3...|             460|KvIab/RtzKITBfm6x...|              null|   443916|\n",
      "|+++4/3jzUwtDPSSo3...|             460|QaLiEyp5aXzy/2NE/...|              null|  5441904|\n",
      "|+++4/3jzUwtDPSSo3...|             460|RoW0pFG+GHdTz7TIL...|              null|   626240|\n",
      "|+++4/3jzUwtDPSSo3...|             460|awn1vGJ0+HsBiLukr...|              null|   848768|\n",
      "|+++4/3jzUwtDPSSo3...|             460|fROwi9OYoxMmHbnfF...|              null|   174800|\n",
      "|+++4/3jzUwtDPSSo3...|             460|lukeuvqHM+ChBRP6H...|              null|    84459|\n",
      "|+++4/3jzUwtDPSSo3...|             460|mjj5lKD8vOButF1IV...|              null|   304000|\n",
      "|++/dFaxQQDYaKe8zO...|            null|Pb+o6zrpG+PBuzJj9...|               966|  3303764|\n",
      "|++/dFaxQQDYaKe8zO...|            null|aVUURd3X8TYkNXfn2...|               581|  4937410|\n",
      "|++/dFaxQQDYaKe8zO...|            null|ir1CQxdIVKIf7EKk5...|              2806|  3876078|\n",
      "|++/fV7MkjN3EYCFO8...|            null|2LYPlCiz3owf7W7tN...|                 9|    21185|\n",
      "|++/fV7MkjN3EYCFO8...|            null|7sN9kA8VsQT/Cfn5X...|              2187|    28310|\n",
      "|++/fV7MkjN3EYCFO8...|            null|P1WWYbsL5hbBua/i6...|               576|    52060|\n",
      "|++/h/1ILbNoegArRp...|            null|EqKjbnhxGyu3BkQMR...|              1442|   630323|\n",
      "|++0TZZ4dLrh7Mcrrq...|            null|iEn2yUp2JAd2MXS1l...|               234| 41540502|\n",
      "|++1JNpbthfwgogYLW...|            null|09SIaJCPskz1cGNsw...|              1956|     4629|\n",
      "|++1JNpbthfwgogYLW...|            null|16eQq3AOpZD/imlmw...|               232|    11173|\n",
      "+--------------------+----------------+--------------------+------------------+---------+\n",
      "only showing top 20 rows\n",
      "\n"
     ]
    },
    {
     "name": "stderr",
     "output_type": "stream",
     "text": [
      "                                                                                \r"
     ]
    }
   ],
   "source": [
    "spark.sql('select emisor,grupos.COM as comunidad_emisor, receptor, Monto_IVA from arcos left join grupos on arcos.emisor=grupos.CONT_RUT').createOrReplaceTempView('arcos')\n",
    "spark.sql('select  emisor,comunidad_emisor,receptor,grupos.COM as comunidad_receptor, Monto_IVA from arcos left join grupos on arcos.receptor=grupos.CONT_RUT').createOrReplaceTempView('arcos')\n",
    "spark.sql('select * from arcos where comunidad_emisor is not null or comunidad_receptor is not null').createOrReplaceTempView('arcos')\n",
    "spark.sql('select * from arcos').show()\n"
   ]
  },
  {
   "cell_type": "markdown",
   "id": "dc971f9d-bec9-462b-ab60-29e90e983986",
   "metadata": {},
   "source": [
    "### Emision extra grupo e intra grupo"
   ]
  },
  {
   "cell_type": "code",
   "execution_count": 49,
   "id": "748b3b55-d339-475c-ae1c-1175048d6a69",
   "metadata": {
    "tags": []
   },
   "outputs": [],
   "source": [
    "spark.sql('select comunidad_emisor as comunidad, sum(Monto_IVA) as emision_intragrupo from arcos where comunidad_emisor=comunidad_receptor and comunidad_emisor is not null group by comunidad_emisor order by comunidad_emisor asc').createOrReplaceTempView('emision_intra')\n",
    "spark.sql('select comunidad_emisor as comunidad, sum(Monto_IVA) as emision_extragrupo from arcos where comunidad_emisor<>comunidad_receptor and comunidad_emisor is not null group by comunidad_emisor order by comunidad_emisor asc').createOrReplaceTempView('emision_extra')"
   ]
  },
  {
   "cell_type": "markdown",
   "id": "be563540-351e-45b6-8dad-4301faa6192a",
   "metadata": {},
   "source": [
    "### Recepcion extra grupo e intra grupo"
   ]
  },
  {
   "cell_type": "code",
   "execution_count": 50,
   "id": "89077a92-e9f4-44e9-9e47-d79cfa4aa55d",
   "metadata": {
    "tags": []
   },
   "outputs": [],
   "source": [
    "spark.sql('select comunidad_receptor as comunidad, sum(Monto_IVA) as recepcion_intragrupo from arcos where comunidad_emisor=comunidad_receptor and comunidad_receptor is not null group by comunidad_receptor order by comunidad_receptor asc').createOrReplaceTempView('recepcion_intra')\n",
    "spark.sql('select comunidad_receptor as comunidad, sum(Monto_IVA) as recepcion_extragrupo from arcos where comunidad_emisor<>comunidad_receptor and comunidad_receptor is not null group by comunidad_receptor order by comunidad_receptor asc').createOrReplaceTempView('recepcion_extra')"
   ]
  },
  {
   "cell_type": "markdown",
   "id": "f983e0b0-d3d3-42df-a238-35a5180410a9",
   "metadata": {},
   "source": [
    "### Union de tablas"
   ]
  },
  {
   "cell_type": "code",
   "execution_count": 51,
   "id": "00383715-e395-4c16-865d-684682559095",
   "metadata": {
    "tags": []
   },
   "outputs": [],
   "source": [
    "spark.sql('select case when emision_intra.comunidad is null then emision_extra.comunidad else emision_intra.comunidad end as com, emision_intragrupo, emision_extragrupo from emision_intra full outer join emision_extra on emision_extra.comunidad=emision_intra.comunidad').createOrReplaceTempView('emision')\n",
    "spark.sql('select case when recepcion_intra.comunidad is null then recepcion_extra.comunidad else recepcion_intra.comunidad end as com, recepcion_intragrupo, recepcion_extragrupo from recepcion_intra full outer join recepcion_extra on recepcion_extra.comunidad=recepcion_intra.comunidad order by recepcion_intra.comunidad asc').createOrReplaceTempView('recepcion')"
   ]
  },
  {
   "cell_type": "code",
   "execution_count": 52,
   "id": "25743822-951c-4f6f-9a67-a4987c75c1a8",
   "metadata": {
    "tags": []
   },
   "outputs": [],
   "source": [
    "aux=spark.sql('select case when emision.com is null then recepcion.com else emision.com end as com, emision_intragrupo, emision_extragrupo,  recepcion_intragrupo, recepcion_extragrupo from emision full outer join recepcion on emision.com=recepcion.com')\n",
    "aux.createOrReplaceTempView('iva_comunidad')"
   ]
  },
  {
   "cell_type": "markdown",
   "id": "3a642ede-e0d7-45fe-b29b-f6e74e42e1e6",
   "metadata": {},
   "source": [
    "### Calculo de KPI's adicionales\n",
    "\n",
    "Se agregan lo siguientes indicadores que ayudan a identificar el flujo de IVA desde y hacia estos grupos:\n",
    "- Porcentaje de emision extra grupo\n",
    "- Porcentaje de recepcion extra grupo\n",
    "- Tasa de emision intra/extra grupo"
   ]
  },
  {
   "cell_type": "code",
   "execution_count": 53,
   "id": "839eaef8-198d-4817-a013-db729d420e57",
   "metadata": {
    "tags": []
   },
   "outputs": [],
   "source": [
    "spark.sql('select com, recepcion_extragrupo/(recepcion_intragrupo+recepcion_extragrupo)*100 as perct_recepcion_extra, recepcion_extragrupo,emision_extragrupo/(emision_intragrupo+emision_extragrupo)*100 as perct_emision_extra,emision_intragrupo,emision_extragrupo,emision_intragrupo/emision_extragrupo as tasa_emision_intra_extra from iva_comunidad').createOrReplaceTempView('iva_comunidad')"
   ]
  },
  {
   "cell_type": "markdown",
   "id": "46910629-e974-4faa-ab8f-e023a68b0c8a",
   "metadata": {},
   "source": [
    "Se agrega tambien el tamanio de la comunidad"
   ]
  },
  {
   "cell_type": "code",
   "execution_count": 54,
   "id": "70518440-5832-4f5d-90d2-592a8cd7bdd0",
   "metadata": {
    "tags": []
   },
   "outputs": [],
   "source": [
    "spark.sql('select COM as grupo ,count(*) as n_contribuyentes from grupos group by COM').createOrReplaceTempView('comunidad')\n",
    "spark.sql('select * from comunidad left join iva_comunidad on comunidad.grupo=iva_comunidad.COM').createOrReplaceTempView('iva_comunidad')"
   ]
  },
  {
   "cell_type": "markdown",
   "id": "818d108c-76ac-4893-811f-e954730c6599",
   "metadata": {},
   "source": [
    "### Datos procesados y ordenados descendentemente por tasa de emision intra/extra grupo"
   ]
  },
  {
   "cell_type": "code",
   "execution_count": 55,
   "id": "1e786f55-c5d7-4745-a848-80fd50738b08",
   "metadata": {
    "tags": []
   },
   "outputs": [
    {
     "name": "stderr",
     "output_type": "stream",
     "text": [
      "                                                                                \r"
     ]
    },
    {
     "data": {
      "text/html": [
       "<div>\n",
       "<style scoped>\n",
       "    .dataframe tbody tr th:only-of-type {\n",
       "        vertical-align: middle;\n",
       "    }\n",
       "\n",
       "    .dataframe tbody tr th {\n",
       "        vertical-align: top;\n",
       "    }\n",
       "\n",
       "    .dataframe thead th {\n",
       "        text-align: right;\n",
       "    }\n",
       "</style>\n",
       "<table border=\"1\" class=\"dataframe\">\n",
       "  <thead>\n",
       "    <tr style=\"text-align: right;\">\n",
       "      <th></th>\n",
       "      <th>grupo</th>\n",
       "      <th>n_contribuyentes</th>\n",
       "      <th>perct_recepcion_extra</th>\n",
       "      <th>recepcion_extragrupo</th>\n",
       "      <th>perct_emision_extra</th>\n",
       "      <th>emision_intragrupo</th>\n",
       "      <th>emision_extragrupo</th>\n",
       "      <th>tasa_emision_intra_extra</th>\n",
       "    </tr>\n",
       "  </thead>\n",
       "  <tbody>\n",
       "    <tr>\n",
       "      <th>0</th>\n",
       "      <td>317</td>\n",
       "      <td>3</td>\n",
       "      <td>82.393013</td>\n",
       "      <td>8.177363e+08</td>\n",
       "      <td>0.000988</td>\n",
       "      <td>1.747463e+08</td>\n",
       "      <td>1727.0</td>\n",
       "      <td>101184.870874</td>\n",
       "    </tr>\n",
       "    <tr>\n",
       "      <th>1</th>\n",
       "      <td>523</td>\n",
       "      <td>3</td>\n",
       "      <td>51.248538</td>\n",
       "      <td>4.746047e+08</td>\n",
       "      <td>0.007575</td>\n",
       "      <td>4.514797e+08</td>\n",
       "      <td>34200.0</td>\n",
       "      <td>13201.160848</td>\n",
       "    </tr>\n",
       "    <tr>\n",
       "      <th>2</th>\n",
       "      <td>2116</td>\n",
       "      <td>5</td>\n",
       "      <td>55.210833</td>\n",
       "      <td>1.011758e+10</td>\n",
       "      <td>0.014797</td>\n",
       "      <td>8.207774e+09</td>\n",
       "      <td>1214721.0</td>\n",
       "      <td>6756.921500</td>\n",
       "    </tr>\n",
       "    <tr>\n",
       "      <th>3</th>\n",
       "      <td>1043</td>\n",
       "      <td>5</td>\n",
       "      <td>27.185200</td>\n",
       "      <td>2.695851e+09</td>\n",
       "      <td>0.017495</td>\n",
       "      <td>7.220763e+09</td>\n",
       "      <td>1263500.0</td>\n",
       "      <td>5714.889216</td>\n",
       "    </tr>\n",
       "    <tr>\n",
       "      <th>4</th>\n",
       "      <td>2091</td>\n",
       "      <td>3</td>\n",
       "      <td>64.785662</td>\n",
       "      <td>4.026820e+07</td>\n",
       "      <td>0.037189</td>\n",
       "      <td>2.188784e+07</td>\n",
       "      <td>8143.0</td>\n",
       "      <td>2687.932580</td>\n",
       "    </tr>\n",
       "    <tr>\n",
       "      <th>5</th>\n",
       "      <td>2790</td>\n",
       "      <td>3</td>\n",
       "      <td>11.300500</td>\n",
       "      <td>3.469644e+08</td>\n",
       "      <td>0.041842</td>\n",
       "      <td>2.723381e+09</td>\n",
       "      <td>1140000.0</td>\n",
       "      <td>2388.930813</td>\n",
       "    </tr>\n",
       "    <tr>\n",
       "      <th>6</th>\n",
       "      <td>245</td>\n",
       "      <td>4</td>\n",
       "      <td>72.672344</td>\n",
       "      <td>6.029996e+08</td>\n",
       "      <td>0.053628</td>\n",
       "      <td>2.267515e+08</td>\n",
       "      <td>121667.0</td>\n",
       "      <td>1863.706141</td>\n",
       "    </tr>\n",
       "    <tr>\n",
       "      <th>7</th>\n",
       "      <td>1946</td>\n",
       "      <td>4</td>\n",
       "      <td>24.839114</td>\n",
       "      <td>1.510919e+09</td>\n",
       "      <td>0.071667</td>\n",
       "      <td>4.571903e+09</td>\n",
       "      <td>3278886.0</td>\n",
       "      <td>1394.346293</td>\n",
       "    </tr>\n",
       "    <tr>\n",
       "      <th>8</th>\n",
       "      <td>2984</td>\n",
       "      <td>3</td>\n",
       "      <td>12.219242</td>\n",
       "      <td>1.438307e+08</td>\n",
       "      <td>0.074815</td>\n",
       "      <td>1.033253e+09</td>\n",
       "      <td>773607.0</td>\n",
       "      <td>1335.630526</td>\n",
       "    </tr>\n",
       "    <tr>\n",
       "      <th>9</th>\n",
       "      <td>1112</td>\n",
       "      <td>64</td>\n",
       "      <td>18.801862</td>\n",
       "      <td>2.332278e+09</td>\n",
       "      <td>0.091232</td>\n",
       "      <td>1.007223e+10</td>\n",
       "      <td>9197483.0</td>\n",
       "      <td>1095.107091</td>\n",
       "    </tr>\n",
       "    <tr>\n",
       "      <th>10</th>\n",
       "      <td>1945</td>\n",
       "      <td>4</td>\n",
       "      <td>51.333791</td>\n",
       "      <td>2.580164e+09</td>\n",
       "      <td>0.112352</td>\n",
       "      <td>2.446085e+09</td>\n",
       "      <td>2751305.0</td>\n",
       "      <td>889.063554</td>\n",
       "    </tr>\n",
       "    <tr>\n",
       "      <th>11</th>\n",
       "      <td>989</td>\n",
       "      <td>14</td>\n",
       "      <td>17.711907</td>\n",
       "      <td>1.036994e+09</td>\n",
       "      <td>0.113202</td>\n",
       "      <td>4.817792e+09</td>\n",
       "      <td>5460042.0</td>\n",
       "      <td>882.372759</td>\n",
       "    </tr>\n",
       "    <tr>\n",
       "      <th>12</th>\n",
       "      <td>1987</td>\n",
       "      <td>3</td>\n",
       "      <td>19.038185</td>\n",
       "      <td>3.756955e+08</td>\n",
       "      <td>0.113238</td>\n",
       "      <td>1.597683e+09</td>\n",
       "      <td>1811239.0</td>\n",
       "      <td>882.094214</td>\n",
       "    </tr>\n",
       "    <tr>\n",
       "      <th>13</th>\n",
       "      <td>97</td>\n",
       "      <td>9</td>\n",
       "      <td>46.386674</td>\n",
       "      <td>2.967383e+09</td>\n",
       "      <td>0.178282</td>\n",
       "      <td>3.429676e+09</td>\n",
       "      <td>6125416.0</td>\n",
       "      <td>559.909150</td>\n",
       "    </tr>\n",
       "    <tr>\n",
       "      <th>14</th>\n",
       "      <td>2704</td>\n",
       "      <td>3</td>\n",
       "      <td>8.490938</td>\n",
       "      <td>9.672764e+07</td>\n",
       "      <td>0.311327</td>\n",
       "      <td>1.042459e+09</td>\n",
       "      <td>3255593.0</td>\n",
       "      <td>320.205580</td>\n",
       "    </tr>\n",
       "    <tr>\n",
       "      <th>15</th>\n",
       "      <td>1056</td>\n",
       "      <td>3</td>\n",
       "      <td>70.833802</td>\n",
       "      <td>2.173583e+08</td>\n",
       "      <td>0.318937</td>\n",
       "      <td>8.949845e+07</td>\n",
       "      <td>286357.0</td>\n",
       "      <td>312.541520</td>\n",
       "    </tr>\n",
       "    <tr>\n",
       "      <th>16</th>\n",
       "      <td>1884</td>\n",
       "      <td>2</td>\n",
       "      <td>6.939898</td>\n",
       "      <td>2.015413e+07</td>\n",
       "      <td>0.410671</td>\n",
       "      <td>2.702555e+08</td>\n",
       "      <td>1114438.0</td>\n",
       "      <td>242.503882</td>\n",
       "    </tr>\n",
       "    <tr>\n",
       "      <th>17</th>\n",
       "      <td>1466</td>\n",
       "      <td>3</td>\n",
       "      <td>64.149888</td>\n",
       "      <td>4.210342e+09</td>\n",
       "      <td>0.464071</td>\n",
       "      <td>2.352946e+09</td>\n",
       "      <td>10970259.0</td>\n",
       "      <td>214.484109</td>\n",
       "    </tr>\n",
       "    <tr>\n",
       "      <th>18</th>\n",
       "      <td>2386</td>\n",
       "      <td>3</td>\n",
       "      <td>7.445952</td>\n",
       "      <td>1.318736e+08</td>\n",
       "      <td>0.511431</td>\n",
       "      <td>1.639204e+09</td>\n",
       "      <td>8426500.0</td>\n",
       "      <td>194.529675</td>\n",
       "    </tr>\n",
       "    <tr>\n",
       "      <th>19</th>\n",
       "      <td>1153</td>\n",
       "      <td>2</td>\n",
       "      <td>99.765069</td>\n",
       "      <td>7.918886e+09</td>\n",
       "      <td>0.536119</td>\n",
       "      <td>1.864774e+07</td>\n",
       "      <td>100513.0</td>\n",
       "      <td>185.525634</td>\n",
       "    </tr>\n",
       "  </tbody>\n",
       "</table>\n",
       "</div>"
      ],
      "text/plain": [
       "    grupo  n_contribuyentes  perct_recepcion_extra  recepcion_extragrupo  \\\n",
       "0     317                 3              82.393013          8.177363e+08   \n",
       "1     523                 3              51.248538          4.746047e+08   \n",
       "2    2116                 5              55.210833          1.011758e+10   \n",
       "3    1043                 5              27.185200          2.695851e+09   \n",
       "4    2091                 3              64.785662          4.026820e+07   \n",
       "5    2790                 3              11.300500          3.469644e+08   \n",
       "6     245                 4              72.672344          6.029996e+08   \n",
       "7    1946                 4              24.839114          1.510919e+09   \n",
       "8    2984                 3              12.219242          1.438307e+08   \n",
       "9    1112                64              18.801862          2.332278e+09   \n",
       "10   1945                 4              51.333791          2.580164e+09   \n",
       "11    989                14              17.711907          1.036994e+09   \n",
       "12   1987                 3              19.038185          3.756955e+08   \n",
       "13     97                 9              46.386674          2.967383e+09   \n",
       "14   2704                 3               8.490938          9.672764e+07   \n",
       "15   1056                 3              70.833802          2.173583e+08   \n",
       "16   1884                 2               6.939898          2.015413e+07   \n",
       "17   1466                 3              64.149888          4.210342e+09   \n",
       "18   2386                 3               7.445952          1.318736e+08   \n",
       "19   1153                 2              99.765069          7.918886e+09   \n",
       "\n",
       "    perct_emision_extra  emision_intragrupo  emision_extragrupo  \\\n",
       "0              0.000988        1.747463e+08              1727.0   \n",
       "1              0.007575        4.514797e+08             34200.0   \n",
       "2              0.014797        8.207774e+09           1214721.0   \n",
       "3              0.017495        7.220763e+09           1263500.0   \n",
       "4              0.037189        2.188784e+07              8143.0   \n",
       "5              0.041842        2.723381e+09           1140000.0   \n",
       "6              0.053628        2.267515e+08            121667.0   \n",
       "7              0.071667        4.571903e+09           3278886.0   \n",
       "8              0.074815        1.033253e+09            773607.0   \n",
       "9              0.091232        1.007223e+10           9197483.0   \n",
       "10             0.112352        2.446085e+09           2751305.0   \n",
       "11             0.113202        4.817792e+09           5460042.0   \n",
       "12             0.113238        1.597683e+09           1811239.0   \n",
       "13             0.178282        3.429676e+09           6125416.0   \n",
       "14             0.311327        1.042459e+09           3255593.0   \n",
       "15             0.318937        8.949845e+07            286357.0   \n",
       "16             0.410671        2.702555e+08           1114438.0   \n",
       "17             0.464071        2.352946e+09          10970259.0   \n",
       "18             0.511431        1.639204e+09           8426500.0   \n",
       "19             0.536119        1.864774e+07            100513.0   \n",
       "\n",
       "    tasa_emision_intra_extra  \n",
       "0              101184.870874  \n",
       "1               13201.160848  \n",
       "2                6756.921500  \n",
       "3                5714.889216  \n",
       "4                2687.932580  \n",
       "5                2388.930813  \n",
       "6                1863.706141  \n",
       "7                1394.346293  \n",
       "8                1335.630526  \n",
       "9                1095.107091  \n",
       "10                889.063554  \n",
       "11                882.372759  \n",
       "12                882.094214  \n",
       "13                559.909150  \n",
       "14                320.205580  \n",
       "15                312.541520  \n",
       "16                242.503882  \n",
       "17                214.484109  \n",
       "18                194.529675  \n",
       "19                185.525634  "
      ]
     },
     "execution_count": 55,
     "metadata": {},
     "output_type": "execute_result"
    }
   ],
   "source": [
    "df=spark.sql('select grupo, n_contribuyentes,perct_recepcion_extra,recepcion_extragrupo, perct_emision_extra, emision_intragrupo, emision_extragrupo, tasa_emision_intra_extra from iva_comunidad order by tasa_emision_intra_extra desc').toPandas()\n",
    "df.head(20)"
   ]
  },
  {
   "cell_type": "markdown",
   "id": "2e3f4954-b8ed-4273-b259-449b49802d4e",
   "metadata": {},
   "source": [
    "### Graficos de distribucion de valores"
   ]
  },
  {
   "cell_type": "code",
   "execution_count": 56,
   "id": "2a10086f-8740-40c0-b150-c5dd8b3b1d54",
   "metadata": {},
   "outputs": [],
   "source": [
    "import pandas as pd\n",
    "import matplotlib.pyplot as plt\n",
    "import seaborn as sns\n",
    "\n",
    "def plot_histogram(dataframe, column_name):\n",
    "    \"\"\"\n",
    "    Genera un histograma de distribución para una columna dada de un DataFrame.\n",
    "\n",
    "    Args:\n",
    "    dataframe (pd.DataFrame): DataFrame que contiene la columna de interés.\n",
    "    column_name (str): Nombre de la columna para la cual se generará el histograma.\n",
    "    \"\"\"\n",
    "    \n",
    "    # Filtrar los valores no nulos de la columna\n",
    "    data = dataframe[column_name].dropna()\n",
    "    \n",
    "    # Configurar el tamaño de la figura\n",
    "    plt.figure(figsize=(10, 6))\n",
    "    \n",
    "    # Generar el histograma de distribución\n",
    "    sns.histplot(data, kde=True)\n",
    "    \n",
    "    # Añadir títulos y etiquetas\n",
    "    plt.title(f'Distribución de {column_name}')\n",
    "    plt.xlabel(column_name)\n",
    "    plt.ylabel('Frecuencia')\n",
    "    \n",
    "    # Mostrar el histograma\n",
    "    plt.show()"
   ]
  },
  {
   "cell_type": "code",
   "execution_count": 57,
   "id": "2cd5299e-0e44-4e3a-9db6-e31cc4764452",
   "metadata": {
    "tags": []
   },
   "outputs": [
    {
     "data": {
      "image/png": "[encoded data removed]",
      "text/plain": [
       "<Figure size 720x432 with 1 Axes>"
      ]
     },
     "metadata": {
      "needs_background": "light"
     },
     "output_type": "display_data"
    }
   ],
   "source": [
    "plot_histogram(df,'perct_recepcion_extra' )"
   ]
  },
  {
   "cell_type": "markdown",
   "id": "d4671586-71fb-4291-b4ed-e7eb10422566",
   "metadata": {},
   "source": [
    "- Se observa del grafico que las comunidades tienen una % de recepcion extra grupo con tendencia al 100%, lo que indica que la mayoria de comunidades recibe en casi todo el IVA desde afuera. Interesantes son los casos con este valor menor al 50% pues indicaria que mas de la mitad del IVA recibido viene del mismo grupo."
   ]
  },
  {
   "cell_type": "code",
   "execution_count": 58,
   "id": "f260d5a0-4f7f-4866-bb92-3368bf81b8d1",
   "metadata": {
    "tags": []
   },
   "outputs": [
    {
     "data": {
      "image/png": "[encoded data removed]",
      "text/plain": [
       "<Figure size 720x432 with 1 Axes>"
      ]
     },
     "metadata": {
      "needs_background": "light"
     },
     "output_type": "display_data"
    }
   ],
   "source": [
    "plot_histogram(df,'perct_emision_extra' )"
   ]
  },
  {
   "cell_type": "markdown",
   "id": "6dfa0403-7f26-453f-8bef-0b566dafdf6f",
   "metadata": {},
   "source": [
    "- De forma similar, el grafico de porcentaje de emision extra grupo indica que la mayoria de las comunidades emite su IVA al exterior del grupo. Sin embargo hay comunidades donde la mayoria se emite hacia el mismo grupo."
   ]
  },
  {
   "cell_type": "markdown",
   "id": "5e33bb53-c78b-4d13-ba6d-4f86b10c7115",
   "metadata": {},
   "source": [
    "Para las otras columnas, usaremos la tecnica IQR para visualizar los datos sin valores atipicos. "
   ]
  },
  {
   "cell_type": "code",
   "execution_count": 59,
   "id": "ccb9da3e-87e6-41cd-b6f1-207e8769ae23",
   "metadata": {
    "tags": []
   },
   "outputs": [],
   "source": [
    "def histograma_no_outliers(dataframe, column_name):\n",
    "    \"\"\"\n",
    "    Genera un histograma de distribución para una columna dada de un DataFrame.\n",
    "\n",
    "    Args:\n",
    "    dataframe (pd.DataFrame): DataFrame que contiene la columna de interés.\n",
    "    column_name (str): Nombre de la columna para la cual se generará el histograma.\n",
    "    \"\"\"\n",
    "    \n",
    "    # Filtrar los valores no nulos de la columna\n",
    "    data = dataframe[column_name].dropna()\n",
    "    \n",
    "    # Calcular el rango intercuartílico (IQR)\n",
    "    Q1 = data.quantile(0.25)\n",
    "    Q3 = data.quantile(0.75)\n",
    "    IQR = Q3 - Q1\n",
    "    \n",
    "    # Definir los límites para considerar outliers\n",
    "    lower_bound = Q1 - 1.5 * IQR\n",
    "    upper_bound = Q3 + 1.5 * IQR\n",
    "    \n",
    "    # Filtrar los valores dentro del rango de aceptación\n",
    "    data_filtered = data[(data >= lower_bound) & (data <= upper_bound)]\n",
    "    \n",
    "    # Configurar el tamaño de la figura\n",
    "    plt.figure(figsize=(10, 6))\n",
    "    \n",
    "    # Generar el histograma de distribución\n",
    "    sns.histplot(data_filtered, kde=True)\n",
    "    \n",
    "    # Añadir títulos y etiquetas\n",
    "    plt.title(f'Distribución de {column_name}')\n",
    "    plt.xlabel(column_name)\n",
    "    plt.ylabel('Frecuencia')\n",
    "    \n",
    "    # Mostrar el histograma\n",
    "    plt.show()"
   ]
  },
  {
   "cell_type": "code",
   "execution_count": 60,
   "id": "91203ac7-c6e1-475c-8ec8-85f9a8c680a1",
   "metadata": {
    "tags": []
   },
   "outputs": [
    {
     "data": {
      "image/png": "[encoded data removed]",
      "text/plain": [
       "<Figure size 720x432 with 1 Axes>"
      ]
     },
     "metadata": {
      "needs_background": "light"
     },
     "output_type": "display_data"
    },
    {
     "data": {
      "image/png": "[encoded data removed]",
      "text/plain": [
       "<Figure size 720x432 with 1 Axes>"
      ]
     },
     "metadata": {
      "needs_background": "light"
     },
     "output_type": "display_data"
    },
    {
     "data": {
      "image/png": "[encoded data removed]",
      "text/plain": [
       "<Figure size 720x432 with 1 Axes>"
      ]
     },
     "metadata": {
      "needs_background": "light"
     },
     "output_type": "display_data"
    }
   ],
   "source": [
    "histograma_no_outliers(df,'emision_extragrupo' )\n",
    "histograma_no_outliers(df,'emision_intragrupo' )\n",
    "histograma_no_outliers(df,'recepcion_extragrupo' )"
   ]
  },
  {
   "cell_type": "markdown",
   "id": "98c4a94c-6476-49f2-bad9-cc686888f7ed",
   "metadata": {
    "tags": []
   },
   "source": [
    "- En el primer grafico, luego de sacar los valores atipicos, observamos que la mayoria de los valores de emision extragrupo se encuentra bajo el valor 0.4e+10. \n",
    "- En el segundo grafico, para el caso de emision intragrupo, la mayoria de los valores esta bajo 1.5e+9.\n",
    "- En el tercer grafico, en el caso de la recepcion extragrupo, se observa que la mayoria de valores se encuentra bajo 2e+9. Notese que la emision intragrupo equivale a la recepcion intra grupo."
   ]
  },
  {
   "cell_type": "code",
   "execution_count": 61,
   "id": "4af2a694-6add-4362-b14c-c7fa901a4e46",
   "metadata": {
    "tags": []
   },
   "outputs": [
    {
     "data": {
      "image/png": "[encoded data removed]",
      "text/plain": [
       "<Figure size 720x432 with 1 Axes>"
      ]
     },
     "metadata": {
      "needs_background": "light"
     },
     "output_type": "display_data"
    }
   ],
   "source": [
    "histograma_no_outliers(df,'tasa_emision_intra_extra')"
   ]
  },
  {
   "cell_type": "markdown",
   "id": "566dad09-6229-404b-a2cc-fbc830f378b6",
   "metadata": {},
   "source": [
    "Observemos que sin valores atipicos, obtenemos que la distribucion de tasa de emision intra y extra tiene tendencia a valores bajos (lo cual corresponde a que la mayoria del IVA se emite hacia afuera)"
   ]
  },
  {
   "cell_type": "code",
   "execution_count": 62,
   "id": "45abcf0b-823c-49e2-af4f-37d1cdc241e9",
   "metadata": {
    "tags": []
   },
   "outputs": [
    {
     "data": {
      "text/plain": [
       "282"
      ]
     },
     "execution_count": 62,
     "metadata": {},
     "output_type": "execute_result"
    }
   ],
   "source": [
    "len(df[df['tasa_emision_intra_extra']>1])"
   ]
  },
  {
   "cell_type": "markdown",
   "id": "b536b149-9376-46aa-9040-b92c7001fb6b",
   "metadata": {},
   "source": [
    "Por lo cual existen 282 grupos donde la emision de IVA es mayor hacia adentro del grupo que hacia afuera.\n",
    "\n",
    "A continuacion se guarda este set de datos en la carpeta correspondiente para su utilizacion posterior."
   ]
  },
  {
   "cell_type": "code",
   "execution_count": 64,
   "id": "8f68e753-1a63-4697-b6ba-fca4936a85be",
   "metadata": {},
   "outputs": [],
   "source": [
    "df.to_csv('/home/cdsw/data/processed/iva_grupos_economicos/iva_grupos_economicos.csv', index=False)"
   ]
  },
  {
   "cell_type": "code",
   "execution_count": null,
   "id": "ddb53e12-d6ae-4427-9f43-3722fdd93cea",
   "metadata": {},
   "outputs": [],
   "source": []
  }
 ],
 "metadata": {
  "kernelspec": {
   "display_name": "Python 3 (ipykernel)",
   "language": "python",
   "name": "python3"
  },
  "language_info": {
   "codemirror_mode": {
    "name": "ipython",
    "version": 3
   },
   "file_extension": ".py",
   "mimetype": "text/x-python",
   "name": "python",
   "nbconvert_exporter": "python",
   "pygments_lexer": "ipython3",
   "version": "3.10.13"
  }
 },
 "nbformat": 4,
 "nbformat_minor": 5
}
