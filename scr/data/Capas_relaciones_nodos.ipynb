{
 "cells": [
  {
   "cell_type": "markdown",
   "id": "1278b2ea-eee6-41d8-a521-923625cb8263",
   "metadata": {
    "tags": []
   },
   "source": [
    "## Calculo de relaciones de diverso tipo, nodos, etiquetas, contibuyentes involucrados y cruce con grupos economicos previo a algoritmos de particion."
   ]
  },
  {
   "cell_type": "markdown",
   "id": "df7049a4-56c2-449e-99cd-d3a6c5f665d8",
   "metadata": {},
   "source": [
    "En este notebook se realizara la coleccion de diversas capas de relaciones. Se considera:\n",
    "- Uso de relaciones societarias, de representante y de contador.\n",
    "- Un peso para cada una de estas relaciones. En particular, para la malla societaria, se utilizara un valor de 0 a 1 correspondiente al valor de participacion.\n",
    "- Estas relaciones y nodos se guardaran en dos archivos correspondientes para su utilizacion posterior en el algoritmo de Louvain. \n",
    "- Se obtiene tambien un archivo con cada contribuyente y su tipo, dependiendo de la tabla de origen.\n",
    "- Se considera la reaccion de un diccionario que permite un estado inicial, considerando los grupos economicos establecidos por criterio experto. "
   ]
  },
  {
   "cell_type": "code",
   "execution_count": 1,
   "id": "91be637e-1e6d-4a03-a0b6-422d64d3cfc5",
   "metadata": {},
   "outputs": [],
   "source": [
    "from pyspark.sql import SparkSession\n",
    "from pyspark.sql.functions import *\n",
    "from pyspark import SparkContext, SparkConf\n",
    "from pyspark.sql.types import StructType, StructField, DoubleType\n",
    "from pyspark.sql.window import Window\n",
    "from pyspark.sql.functions import col, row_number, count, lit\n",
    "import community as community_louvain\n",
    "from pyspark.sql.functions import dense_rank"
   ]
  },
  {
   "cell_type": "code",
   "execution_count": 2,
   "id": "751f1297-352d-45b1-bccd-679d7ceb0884",
   "metadata": {
    "tags": []
   },
   "outputs": [
    {
     "name": "stdout",
     "output_type": "stream",
     "text": [
      "Note: to be able to use all crisp methods, you need to install some additional packages:  {'infomap', 'wurlitzer', 'leidenalg', 'bayanpy', 'graph_tool'}\n",
      "Note: to be able to use all crisp methods, you need to install some additional packages:  {'pyclustering', 'ASLPAw'}\n",
      "Note: to be able to use all crisp methods, you need to install some additional packages:  {'wurlitzer', 'infomap', 'leidenalg'}\n"
     ]
    }
   ],
   "source": [
    "import networkx as nx\n",
    "from cdlib import algorithms\n",
    "from networkx.algorithms.community.quality import modularity\n",
    "import os\n",
    "import json\n",
    "import pyspark\n",
    "import pandas as pd\n",
    "import seaborn as sns\n",
    "import matplotlib.pyplot as plt\n",
    "import warnings\n",
    "warnings.filterwarnings('ignore', category=DeprecationWarning)\n",
    "import matplotlib.pyplot as plt"
   ]
  },
  {
   "cell_type": "code",
   "execution_count": 3,
   "id": "b2c96ee8-c70e-49e1-8282-4b6c407776af",
   "metadata": {
    "tags": []
   },
   "outputs": [
    {
     "name": "stderr",
     "output_type": "stream",
     "text": [
      "Setting spark.hadoop.yarn.resourcemanager.principal to hvega.externo\n"
     ]
    }
   ],
   "source": [
    "spark = SparkSession.builder \\\n",
    "  .appName(\"Test\")  \\\n",
    "  .config(\"spark.kerberos.access.hadoopFileSystems\",\"abfs://data@datalakesii.dfs.core.windows.net/\") \\\n",
    "  .config(\"spark.executor.memory\", \"16g\") \\\n",
    "  .config(\"spark.driver.memory\", \"12g\")\\\n",
    "  .config(\"spark.executor.cores\", \"2\") \\\n",
    "  .config(\"spark.executor.instances\", \"2\") \\\n",
    "  .config(\"spark.driver.maxResultSize\", \"0\") \\\n",
    "  .getOrCreate()\n",
    "\n",
    "warnings.filterwarnings('ignore', category=DeprecationWarning)\n",
    "sc=spark.sparkContext\n",
    "sc.setLogLevel ('ERROR')\n",
    "spark.conf.set(\"spark.sql.parquet.int96RebaseModeInRead\", \"CORRECTED\")\n",
    "spark.conf.set(\"spark.sql.parquet.enableVectorizedReader\",\"false\")\n",
    "spark.conf.set(\"spark.sql.parquet.int96RebaseModeInRead\", \"CORRECTED\")\n",
    "spark.conf.set(\"spark.sql.parquet.int96RebaseModeInWrite\", \"CORRECTED\")\n",
    "spark.conf.set(\"spark.sql.parquet.datetimeRebaseModeInRead\", \"CORRECTED\")\n",
    "spark.conf.set(\"spark.sql.parquet.datetimeRebaseModeInWrite\", \"CORRECTED\")"
   ]
  },
  {
   "cell_type": "markdown",
   "id": "aa1504f2-58da-419a-ae30-aa56debb3bbb",
   "metadata": {},
   "source": [
    "## Lectura de la malla de socios"
   ]
  },
  {
   "cell_type": "code",
   "execution_count": 4,
   "id": "53eeb494-ac59-4697-b412-7cba0057db75",
   "metadata": {
    "tags": []
   },
   "outputs": [
    {
     "name": "stderr",
     "output_type": "stream",
     "text": [
      "Hive Session ID = d2020401-5305-43cc-8853-2ae9048429bd\n",
      "                                                                                \r"
     ]
    }
   ],
   "source": [
    "spark.sql('select RUT_SOCIEDAD,RUT_SOCIO,PORCENTAJE_CAPITAL,PORCENTAJE_UTILIDADES,PERI_AGNO_MES_TRIBUTARIO,FUENTE, count(*) as c from libsdf.jab_soc_2023_INOM group by RUT_SOCIEDAD,RUT_SOCIO,PORCENTAJE_CAPITAL,PORCENTAJE_UTILIDADES,PERI_AGNO_MES_TRIBUTARIO,FUENTE order by RUT_SOCIEDAD asc').createOrReplaceTempView(\"malla_societaria\")\n",
    "malla_noduplicados=spark.sql('select RUT_SOCIEDAD, RUT_SOCIO, PORCENTAJE_CAPITAL/100 as peso from malla_societaria  where RUT_SOCIEDAD is not null AND RUT_SOCIO is not null AND PORCENTAJE_CAPITAL is not null order by RUT_SOCIEDAD asc')\n",
    "malla_noduplicados.createOrReplaceTempView(\"malla_societaria\")\n",
    "df_relaciones_malla=malla_noduplicados.toPandas()\n",
    "\n",
    "df_relaciones_malla.to_csv('/home/cdsw/data/processed/nodos_relaciones_pregrupos_for_louvain/relaciones_malla_societaria.csv', index=False)"
   ]
  },
  {
   "cell_type": "markdown",
   "id": "633f93f6-e3d4-4b06-82a4-a7f828946456",
   "metadata": {},
   "source": [
    "## Labels de nodos (persona natural o sociedad) a partir de tabla de oscuridad de persona natural"
   ]
  },
  {
   "cell_type": "code",
   "execution_count": 5,
   "id": "bdf6cf4b-8447-4811-a60e-b0b84b26a8b0",
   "metadata": {
    "tags": []
   },
   "outputs": [
    {
     "name": "stderr",
     "output_type": "stream",
     "text": [
      "                                                                                \r"
     ]
    },
    {
     "name": "stdout",
     "output_type": "stream",
     "text": [
      "+--------+\n",
      "|count(1)|\n",
      "+--------+\n",
      "| 3891518|\n",
      "+--------+\n",
      "\n"
     ]
    },
    {
     "name": "stderr",
     "output_type": "stream",
     "text": [
      "[Stage 34:====================================================>   (13 + 1) / 14]\r"
     ]
    },
    {
     "name": "stdout",
     "output_type": "stream",
     "text": [
      "+-------------------------+\n",
      "|count(DISTINCT RUT_UNICO)|\n",
      "+-------------------------+\n",
      "|                  3891518|\n",
      "+-------------------------+\n",
      "\n"
     ]
    },
    {
     "name": "stderr",
     "output_type": "stream",
     "text": [
      "                                                                                \r"
     ]
    }
   ],
   "source": [
    "spark.sql('SELECT DISTINCT(RUT_SOCIEDAD) AS RUT_UNICO FROM malla_societaria UNION SELECT DISTINCT(RUT_SOCIO) AS RUT_UNICO FROM malla_societaria').createOrReplaceTempView(\"aux\")\n",
    "spark.sql('SELECT DISTINCT(RUT_UNICO) as RUT_UNICO FROM aux').createOrReplaceTempView(\"entidades\")\n",
    "spark.sql('select count(*) from entidades').show()\n",
    "spark.sql('select count(distinct(*)) from entidades').show()"
   ]
  },
  {
   "cell_type": "code",
   "execution_count": 6,
   "id": "54fab73a-de36-4845-9998-e0602eecd672",
   "metadata": {
    "tags": []
   },
   "outputs": [],
   "source": [
    "spark.sql('SELECT CONT_RUT, AVG(Valor) as Valor from libsdf.jab_materia_inom group by CONT_RUT').createOrReplaceTempView(\"naturales\")"
   ]
  },
  {
   "cell_type": "code",
   "execution_count": 7,
   "id": "5beb051c-a9e9-4fc5-89f7-5a2b614430c5",
   "metadata": {
    "tags": []
   },
   "outputs": [],
   "source": [
    "### guardamos los datos de todas las entidaddes de la malla societaria, indicando si se trata de una sociedad o persona natural\n",
    "spark.sql(\"select RUT_UNICO, CASE WHEN Valor IS NULL THEN 'SOCIEDAD' ELSE 'PERSONA' END AS TIPO  from entidades left join naturales on entidades.RUT_UNICO=naturales.CONT_RUT order by RUT_UNICO asc\").createOrReplaceTempView(\"entidades\")\n"
   ]
  },
  {
   "cell_type": "code",
   "execution_count": 8,
   "id": "b6ee92d5-3e69-4b1b-9308-c482e28bfa84",
   "metadata": {
    "tags": []
   },
   "outputs": [
    {
     "name": "stderr",
     "output_type": "stream",
     "text": [
      "[Stage 60:==============================================>         (10 + 2) / 12]\r"
     ]
    },
    {
     "name": "stdout",
     "output_type": "stream",
     "text": [
      "+--------+\n",
      "|count(1)|\n",
      "+--------+\n",
      "| 3891518|\n",
      "+--------+\n",
      "\n"
     ]
    },
    {
     "name": "stderr",
     "output_type": "stream",
     "text": [
      "                                                                                \r"
     ]
    }
   ],
   "source": [
    "spark.sql('select COUNT(*) from entidades').show()"
   ]
  },
  {
   "cell_type": "code",
   "execution_count": 9,
   "id": "14e2084e-288b-45e1-bc6e-0f58caf3d948",
   "metadata": {
    "jupyter": {
     "source_hidden": true
    },
    "tags": []
   },
   "outputs": [
    {
     "name": "stderr",
     "output_type": "stream",
     "text": [
      "[Stage 82:===================================================>    (11 + 1) / 12]\r"
     ]
    },
    {
     "name": "stdout",
     "output_type": "stream",
     "text": [
      "+-------------------------+\n",
      "|count(DISTINCT RUT_UNICO)|\n",
      "+-------------------------+\n",
      "|                  3891518|\n",
      "+-------------------------+\n",
      "\n"
     ]
    },
    {
     "name": "stderr",
     "output_type": "stream",
     "text": [
      "                                                                                \r"
     ]
    }
   ],
   "source": [
    "spark.sql('select COUNT(DISTINCT(RUT_UNICO)) from entidades').show()"
   ]
  },
  {
   "cell_type": "markdown",
   "id": "2d69e2c3-3c6e-4e6b-8949-1ccfebd75234",
   "metadata": {},
   "source": [
    "## Lectura de datos de familiares"
   ]
  },
  {
   "cell_type": "code",
   "execution_count": 10,
   "id": "437684b6-be86-4bd5-a49e-18d937c743f5",
   "metadata": {
    "tags": []
   },
   "outputs": [
    {
     "name": "stderr",
     "output_type": "stream",
     "text": [
      "[Stage 91:=======================================================>(57 + 1) / 58]\r"
     ]
    },
    {
     "name": "stdout",
     "output_type": "stream",
     "text": [
      "+-------------+--------+\n",
      "|TIPO_RELACION|       c|\n",
      "+-------------+--------+\n",
      "|      CONYUGE| 6416612|\n",
      "|         HIJO|25440150|\n",
      "+-------------+--------+\n",
      "\n"
     ]
    },
    {
     "name": "stderr",
     "output_type": "stream",
     "text": [
      "                                                                                \r"
     ]
    }
   ],
   "source": [
    "#Se lee la data,se descartan las entradas erroneas.\n",
    "# Selecionaremos solo las relaciones de  HIJO, CONYUGE\n",
    "spark.read.parquet(\"abfs://data@datalakesii.dfs.core.windows.net/DatosOrigen/LibSDF/REL_FAMILIARES_AARI_EH\").createOrReplaceTempView(\"familiares\")\n",
    "spark.sql('select * from familiares where CONT_RUT is not null AND RUT_FAM IS NOT NULL AND TIPO_RELACION IS NOT NULL order by CONT_RUT asc').createOrReplaceTempView(\"familiares\")\n",
    "spark.sql('select CONT_RUT, RUT_FAM, TIPO_RELACION from familiares where TIPO_RELACION <> \"TIPO_RELACION\" and CONT_RUT<> RUT_FAM').createOrReplaceTempView(\"familiares\")\n",
    "spark.sql('select CONT_RUT, RUT_FAM, TIPO_RELACION from familiares where (TIPO_RELACION =\"HIJO\" OR TIPO_RELACION =\"CONYUGE\")').createOrReplaceTempView(\"familiares\")\n",
    "spark.sql('select TIPO_RELACION, count(*) as c from familiares group by TIPO_RELACION').show()\n",
    "spark.sql('select CONT_RUT, RUT_FAM, count(*) as c from familiares group by CONT_RUT, RUT_FAM').createOrReplaceTempView(\"familiares\")\n",
    "spark.sql('select  CONT_RUT, RUT_FAM from familiares').createOrReplaceTempView(\"familiares\")"
   ]
  },
  {
   "cell_type": "markdown",
   "id": "f6be4d47-503b-4e91-ab22-721b698d4d93",
   "metadata": {},
   "source": [
    "## Construccion de relaciones  familiares"
   ]
  },
  {
   "cell_type": "code",
   "execution_count": null,
   "id": "8f6a9f7b-fce6-41e8-9116-c20764079eeb",
   "metadata": {
    "tags": []
   },
   "outputs": [
    {
     "name": "stderr",
     "output_type": "stream",
     "text": [
      "                                                                                \r"
     ]
    }
   ],
   "source": [
    "df_relaciones_familiares=spark.sql('select CONT_RUT,RUT_FAM, 1 as peso from familiares').toPandas()\n",
    "df_relaciones_familiares.to_csv('/home/cdsw/data/processed/nodos_relaciones_pregrupos_for_louvain/relaciones_familiares.csv', index=False)"
   ]
  },
  {
   "cell_type": "markdown",
   "id": "77c403e1-b3bb-4fc6-9fd4-9020ab69310e",
   "metadata": {},
   "source": [
    "## Agregacion de labels al pool de entidades"
   ]
  },
  {
   "cell_type": "code",
   "execution_count": null,
   "id": "8805847b-df03-4333-a14e-9fbeb9e28a54",
   "metadata": {
    "tags": []
   },
   "outputs": [],
   "source": [
    "# Se agregan los datos de las personas naturales familiares al pool de entidades\n",
    "spark.sql('SELECT DISTINCT(CONT_RUT) as RUT_UNICO, \"PERSONA\" AS TIPO FROM familiares UNION SELECT DISTINCT(RUT_FAM) as RUT_UNICO, \"PERSONA\" AS TIPO FROM familiares UNION SELECT RUT_UNICO, TIPO FROM entidades').createOrReplaceTempView(\"entidades\")\n",
    "spark.sql('SELECT RUT_UNICO, TIPO, count(*) as c from entidades group by RUT_UNICO,TIPO').createOrReplaceTempView(\"entidades\")\n",
    "spark.sql('SELECT RUT_UNICO, TIPO from entidades').createOrReplaceTempView(\"entidades\")\n",
    "\n",
    "spark.sql('select COUNT(*) from entidades').show()\n"
   ]
  },
  {
   "cell_type": "markdown",
   "id": "669e52c3-d0b7-4b2d-8dc9-97540d7d37b5",
   "metadata": {},
   "source": [
    "## Lectura de datos de contadores y definicion de tipos de RUT"
   ]
  },
  {
   "cell_type": "code",
   "execution_count": null,
   "id": "c0d231eb-0939-4308-a44f-8c016bae16a9",
   "metadata": {},
   "outputs": [],
   "source": [
    "spark.sql('SELECT * from libsdf.arfi_contadores_e WHERE CONT_RUT IS NOT NULL AND RUT_CONTADOR IS NOT NULL order by CONT_RUT asc').createOrReplaceTempView(\"data_contador\")\n",
    "spark.sql('SELECT CONT_RUT from data_contador').createOrReplaceTempView(\"tiene_contador\")\n",
    "spark.sql('select tiene_contador.CONT_RUT as RUT_UNICO, CASE WHEN Valor IS NULL THEN \"SOCIEDAD\" ELSE \"PERSONA\"  END AS TIPO from tiene_contador left join naturales on tiene_contador.CONT_RUT=naturales.CONT_RUT').createOrReplaceTempView(\"tiene_contador\")\n",
    "spark.sql('SELECT DISTINCT RUT_CONTADOR as RUT_UNICO, \"CONTADOR\" AS TIPO FROM data_contador').createOrReplaceTempView(\"contadores\")\n"
   ]
  },
  {
   "cell_type": "markdown",
   "id": "727ba7be-91e6-4da1-ba08-703075207bcd",
   "metadata": {},
   "source": [
    "## Construccion de relaciones de contadores"
   ]
  },
  {
   "cell_type": "code",
   "execution_count": null,
   "id": "438032f9-47e9-48d1-9335-605451d7a042",
   "metadata": {
    "tags": []
   },
   "outputs": [],
   "source": [
    "df_relaciones_contador=spark.sql('select CONT_RUT,RUT_CONTADOR, 0.25 as peso from data_contador WHERE CONT_RUT IS NOT NULL AND RUT_CONTADOR IS NOT NULL').toPandas()\n",
    "df_relaciones_contador.to_csv('/home/cdsw/data/processed/nodos_relaciones_pregrupos_for_louvain/relaciones_contador.csv', index=False)"
   ]
  },
  {
   "cell_type": "markdown",
   "id": "6822b991-3abd-41a7-869a-e15e49f3db20",
   "metadata": {},
   "source": [
    " ## Unificacion de data de contadores con data de malla societaria"
   ]
  },
  {
   "cell_type": "code",
   "execution_count": null,
   "id": "6988e75b-e066-4945-b10b-0916cb40094d",
   "metadata": {
    "tags": []
   },
   "outputs": [],
   "source": [
    "spark.sql('SELECT RUT_UNICO, TIPO FROM entidades UNION SELECT RUT_UNICO, TIPO FROM tiene_contador UNION SELECT RUT_UNICO, TIPO FROM contadores').createOrReplaceTempView(\"entidades\")\n",
    "spark.sql('SELECT RUT_UNICO, TIPO, count(*) as c from entidades group by RUT_UNICO,TIPO').createOrReplaceTempView(\"entidades\")\n",
    "spark.sql('SELECT RUT_UNICO, TIPO from entidades').createOrReplaceTempView(\"entidades\")\n",
    "# dejamos el label mas actual de cada nodo, en este caso se sobreescribe con el label 'contador'\n",
    "# spark.sql('SELECT RUT_UNICO, CASE  WHEN COUNT(*) > 1 AND SUM(CASE WHEN TIPO = \"CONTADOR\" THEN 1 ELSE 0 END) > 0 THEN \"CONTADOR\" ELSE MAX(TIPO) END AS TIPO FROM  entidades GROUP BY RUT_UNICO').createOrReplaceTempView(\"entidades\")\n"
   ]
  },
  {
   "cell_type": "markdown",
   "id": "1c70e6e0-370d-497e-a559-56a9c01f5b1f",
   "metadata": {},
   "source": [
    "## Lectura de datos de representantes y definicion de tipos de RUT"
   ]
  },
  {
   "cell_type": "code",
   "execution_count": null,
   "id": "dbd1dfeb-2a9d-4b41-9185-d3695f62f601",
   "metadata": {},
   "outputs": [],
   "source": [
    "spark.sql('SELECT repr_fecha_inicio_vo,cont_rut,cont_rut_representante,repr_fecha_termino_vo from dw.dw_trn_djr_representantes_e where cont_rut is not null and cont_rut_representante is not null order by cont_rut asc').createOrReplaceTempView(\"data_rep\")\n",
    "#filtramos los datos para seleccionar el representante o representantes vigentes el 2023\n",
    "spark.sql('SELECT repr_fecha_inicio_vo,cont_rut,cont_rut_representante,repr_fecha_termino_vo  FROM  data_rep  WHERE  repr_fecha_inicio_vo < \"2024-01-01\" AND (repr_fecha_termino_vo IS NULL OR repr_fecha_termino_vo > \"2023-01-01\") order by repr_fecha_inicio_vo desc').createOrReplaceTempView(\"data_rep\")\n",
    "spark.sql('SELECT cont_rut as CONT_RUT,cont_rut_representante as CONT_RUT_REPRESENTANTE FROM  data_rep  ').createOrReplaceTempView(\"data_rep\")"
   ]
  },
  {
   "cell_type": "code",
   "execution_count": null,
   "id": "9104e7c1-ef00-456e-b067-0de2c9c12c77",
   "metadata": {},
   "outputs": [],
   "source": [
    "\n",
    "spark.sql('SELECT CONT_RUT from data_rep').createOrReplaceTempView(\"tiene_rep\")\n",
    "spark.sql('select tiene_rep.CONT_RUT as RUT_UNICO, CASE WHEN Valor IS NULL THEN \"SOCIEDAD\" ELSE \"PERSONA\"  END AS TIPO from tiene_rep left join naturales on tiene_rep.CONT_RUT=naturales.CONT_RUT').createOrReplaceTempView(\"tiene_rep\")\n",
    "spark.sql('SELECT DISTINCT CONT_RUT_REPRESENTANTE as RUT_UNICO, \"REPRESENTANTE\" AS TIPO FROM data_rep').createOrReplaceTempView(\"representantes\")"
   ]
  },
  {
   "cell_type": "markdown",
   "id": "ff84a8ac-2b2f-4c6f-a5ea-dedc00cfa61d",
   "metadata": {},
   "source": [
    "## Unificacion de data de representantes con data de malla societaria"
   ]
  },
  {
   "cell_type": "code",
   "execution_count": null,
   "id": "a04fbc56-37e7-4609-845a-9db06b90e7a8",
   "metadata": {},
   "outputs": [],
   "source": [
    "spark.sql('SELECT RUT_UNICO, TIPO FROM entidades UNION SELECT RUT_UNICO, TIPO FROM tiene_rep').createOrReplaceTempView(\"entidades1\")\n",
    "spark.sql('SELECT RUT_UNICO, TIPO FROM entidades1 UNION SELECT RUT_UNICO, TIPO FROM representantes').createOrReplaceTempView(\"entidades\")\n",
    "\n",
    "\n",
    "spark.sql('SELECT RUT_UNICO, TIPO, count(*) as c from entidades group by RUT_UNICO,TIPO').createOrReplaceTempView(\"entidades\")\n",
    "spark.sql('SELECT RUT_UNICO, TIPO from entidades').createOrReplaceTempView(\"entidades\")\n",
    "# dejamos el label mas actual de cada nodo, en este caso se sobreescribe con el label 'representante'\n",
    "#spark.sql('SELECT RUT_UNICO, CASE  WHEN COUNT(*) > 1 AND SUM(CASE WHEN TIPO = \"REPRESENTANTE\" THEN 1 ELSE 0 END) > 0 THEN \"REPRESENTANTE\" ELSE MAX(TIPO) END AS TIPO FROM  entidades GROUP BY RUT_UNICO').createOrReplaceTempView(\"entidades\")"
   ]
  },
  {
   "cell_type": "markdown",
   "id": "08e68b70-5bf1-492a-9873-10ff36266861",
   "metadata": {},
   "source": [
    "## Construccion de relaciones de representantes"
   ]
  },
  {
   "cell_type": "code",
   "execution_count": null,
   "id": "1851b042-1c33-447b-a2ae-95b4e40de3ec",
   "metadata": {},
   "outputs": [],
   "source": [
    "df_relaciones_representante=spark.sql('select *, 1 as peso from data_rep WHERE CONT_RUT IS NOT NULL AND CONT_RUT_REPRESENTANTE IS NOT NULL').toPandas()\n",
    "df_relaciones_representante.to_csv('/home/cdsw/data/processed/nodos_relaciones_pregrupos_for_louvain/relaciones_representante.csv', index=False)\n"
   ]
  },
  {
   "cell_type": "markdown",
   "id": "d4a2c7db-c3ea-466f-93b6-9ec6d20455cb",
   "metadata": {},
   "source": [
    "## Guardado en dataframe de pandas"
   ]
  },
  {
   "cell_type": "code",
   "execution_count": null,
   "id": "061bc559-623d-470b-8553-dae554baad46",
   "metadata": {},
   "outputs": [],
   "source": [
    "entidades_def=spark.sql('select * from entidades where RUT_UNICO is not null order by RUT_UNICO asc')\n",
    "entidades_def = entidades_def.groupBy(\"RUT_UNICO\").pivot(\"TIPO\").agg(lit(1)).fillna(0)\n",
    "entidades_def.select('*').count()\n",
    "entidades_def=entidades_def.withColumnRenamed(\"PERSONA\", \"NATURAL\")"
   ]
  },
  {
   "cell_type": "markdown",
   "id": "7cba447d-18ec-417b-a413-b03ee3c5e8c3",
   "metadata": {
    "tags": []
   },
   "source": [
    "## Agregacion de informacion de la particion de grupos economicos ya establecidos"
   ]
  },
  {
   "cell_type": "code",
   "execution_count": null,
   "id": "af3bfa91-1869-4571-baf6-755554101bf3",
   "metadata": {},
   "outputs": [],
   "source": [
    "spark.read.parquet(\"abfs://data@datalakesii.dfs.core.windows.net/DatosOrigen/LibSDF/GE_APIUX_ARFI_E\").createOrReplaceTempView(\"grupos_conocidos\")\n",
    "spark.sql('select PARU_RUT_E, COM, count(*) as c from grupos_conocidos  group by PARU_RUT_E, COM order by PARU_RUT_E asc').createOrReplaceTempView(\"grupos_conocidos\")"
   ]
  },
  {
   "cell_type": "code",
   "execution_count": null,
   "id": "bc281329-475d-4b19-bb42-12bbf4fe712f",
   "metadata": {},
   "outputs": [],
   "source": [
    "entidades_def.createOrReplaceTempView(\"entidades_def\")\n",
    "spark.sql('select *, COM as COM_INICIAL from entidades_def left join grupos_conocidos on entidades_def.RUT_UNICO =grupos_conocidos.PARU_RUT_E').createOrReplaceTempView(\"grupos_final\")\n",
    "grupos_previos=spark.sql('select * from grupos_final')\n",
    "\n"
   ]
  },
  {
   "cell_type": "code",
   "execution_count": null,
   "id": "794cf48a-1cc3-447b-bc9a-4fa1db72e1a6",
   "metadata": {
    "tags": []
   },
   "outputs": [],
   "source": [
    "grupos_previos=grupos_previos.select('RUT_UNICO','CONTADOR', 'NATURAL','REPRESENTANTE', 'SOCIEDAD','COM_INICIAL')"
   ]
  },
  {
   "cell_type": "code",
   "execution_count": null,
   "id": "0b8b6891-7187-4efa-87d1-1893ec66ca8c",
   "metadata": {
    "tags": []
   },
   "outputs": [],
   "source": [
    "grupos_previos=grupos_previos.toPandas()\n",
    "grupos_previos.to_csv('/home/cdsw/data/processed/nodos_relaciones_pregrupos_for_louvain/nodos.csv', index=False)\n"
   ]
  },
  {
   "cell_type": "markdown",
   "id": "92963a15-ea4f-4407-85e4-5608e999ba52",
   "metadata": {},
   "source": [
    "## Guardar el diccionario con agrupacion previa como un archivo JSON"
   ]
  },
  {
   "cell_type": "code",
   "execution_count": null,
   "id": "f7e8c138-3d4b-44c1-bd55-90d2e50249e9",
   "metadata": {},
   "outputs": [],
   "source": [
    "# Convertir a lista de diccionarios con orientación 'records'\n",
    "grupos_previos_list = grupos_previos.fillna({'COM_INICIAL': 0}).to_dict(orient='records')\n",
    "\n",
    "# Crear el diccionario con RUT_UNICO como clave y COM_INICIAL (con ceros donde sea nulo) como valor\n",
    "grupos_previos_dict = {entry['RUT_UNICO']: entry['COM_INICIAL'] for entry in grupos_previos_list}\n",
    "\n",
    "# Ruta del archivo\n",
    "filepath = '/home/cdsw/data/processed/nodos_relaciones_pregrupos_for_louvain/grupos_previos.json'\n",
    "\n",
    "# Guardar la lista de diccionarios como JSON\n",
    "with open(filepath, 'w') as file:\n",
    "    json.dump(grupos_previos_dict, file)\n"
   ]
  },
  {
   "cell_type": "code",
   "execution_count": null,
   "id": "cf1a5835-6d6a-4513-8cbc-b0cc68a70529",
   "metadata": {
    "tags": []
   },
   "outputs": [],
   "source": [
    "spark.stop()"
   ]
  },
  {
   "cell_type": "code",
   "execution_count": null,
   "id": "65a5c3d3-88ee-40e3-9ee1-381619a688e3",
   "metadata": {},
   "outputs": [],
   "source": []
  }
 ],
 "metadata": {
  "kernelspec": {
   "display_name": "Python 3 (ipykernel)",
   "language": "python",
   "name": "python3"
  },
  "language_info": {
   "codemirror_mode": {
    "name": "ipython",
    "version": 3
   },
   "file_extension": ".py",
   "mimetype": "text/x-python",
   "name": "python",
   "nbconvert_exporter": "python",
   "pygments_lexer": "ipython3",
   "version": "3.10.13"
  }
 },
 "nbformat": 4,
 "nbformat_minor": 5
}
