{
 "cells": [
  {
   "cell_type": "code",
   "execution_count": 1,
   "id": "f77fc576-96cf-49c6-a582-9c0e2f7a41ee",
   "metadata": {
    "tags": []
   },
   "outputs": [],
   "source": [
    "\n",
    "# ## Apiux & SII: calculo de patrimonio en personas juridicas usando como base la malla societaria y patrimonio de personas naturales\n",
    "\n",
    "# ## Henry Vega (henrry.vega@api-ux.com)\n",
    "# ## Data analyst\n",
    "\n",
    "from pyspark.sql import SparkSession\n",
    "from pyspark.sql.functions import *\n",
    "from pyspark import SparkContext, SparkConf\n",
    "import pyspark\n",
    "#warnings.filterwarnings('ignore', category=DeprecationWarning)"
   ]
  },
  {
   "cell_type": "code",
   "execution_count": 2,
   "id": "3b7d91be-5152-46eb-9dbb-6acac50b672c",
   "metadata": {
    "tags": []
   },
   "outputs": [
    {
     "name": "stderr",
     "output_type": "stream",
     "text": [
      "Setting spark.hadoop.yarn.resourcemanager.principal to hvega.externo\n"
     ]
    }
   ],
   "source": [
    "spark = SparkSession.builder \\\n",
    "      .appName(\"Ejecucion algoritmo XXX\")  \\\n",
    "      .config(\"spark.yarn.access.hadoopFileSystems\",\"abfs://data@datalakesii.dfs.core.windows.net/\") \\\n",
    "      .config(\"spark.executor.memory\", \"16g\") \\\n",
    "      .config(\"spark.driver.memory\", \"12g\")\\\n",
    "      .config(\"spark.executor.cores\", \"2\") \\\n",
    "      .config(\"spark.executor.instances\", \"10\") \\\n",
    "      .config(\"spark.driver.maxResultSize\", \"12g\") \\\n",
    "      .config(\"spark.default.parallelism\", \"20\") \\\n",
    "      .getOrCreate()\n"
   ]
  },
  {
   "cell_type": "code",
   "execution_count": 3,
   "id": "ec2beb71-d0a9-4f16-84bf-9ce73f01889b",
   "metadata": {
    "tags": []
   },
   "outputs": [
    {
     "name": "stderr",
     "output_type": "stream",
     "text": [
      "                                                                                \r"
     ]
    }
   ],
   "source": [
    "# ## Carga de relaciones societarias(depurada)\n",
    "# Se carga la data depurada anteriormente de relaciones societarias.\n",
    "\n",
    "spark.read.options(header=True,inferSchema=True,delimiter=\",\").csv(\"/home/cdsw/data/processed/patrimonio/malla_societaria/sociedades_participacion_capital_nozero.csv\").createOrReplaceTempView(\"sociedad\")\n"
   ]
  },
  {
   "cell_type": "code",
   "execution_count": 4,
   "id": "5cb83a9f-3b1c-4a5b-974a-5627c05145b4",
   "metadata": {
    "tags": []
   },
   "outputs": [
    {
     "name": "stderr",
     "output_type": "stream",
     "text": [
      "                                                                                \r"
     ]
    }
   ],
   "source": [
    "# Se usara el porcentaje de capital con el patrimonio de cada socio para poder establecer el valor de sociedad\n",
    "\n",
    "spark.sql(\"select  RUT_SOCIEDAD, RUT_SOCIO, mean(PORCENTAJE_CAPITAL) as PORCENTAJE_CAPITAL, mean(PORCENTAJE_UTILIDADES) as PORCENTAJE_UTILIDADES from sociedad group by RUT_SOCIEDAD, RUT_SOCIO\").createOrReplaceTempView(\"composicion\")\n",
    "\n",
    "spark.sql(\"select  RUT_SOCIEDAD, sum(PORCENTAJE_CAPITAL) as TOTAL_CAPITAL, SUM(PORCENTAJE_UTILIDADES) as TOTAL_UTILIDADES from composicion group by RUT_SOCIEDAD\").createOrReplaceTempView(\"composicion\")\n",
    "m=spark.sql(\"select * from composicion\").toPandas()\n"
   ]
  },
  {
   "cell_type": "code",
   "execution_count": 5,
   "id": "d3aee6b3-6718-4392-89f4-018cb48edb56",
   "metadata": {
    "tags": []
   },
   "outputs": [],
   "source": [
    "# Se utilizara el porcentaje de capital para hacer la transmision de patrimonio. En el proceso de limpieza de datos se considero las filas con valores no nulos de PORCENTAJE_CAPITAL. Se utilizara una tabla de composicion para poder normalizar los valores de oscuridad para cuando los valores de porcentajes de capital sumen diferente a 100%.\n",
    "\n",
    "# ## Tabla de ponderacion para el total de capital.\n",
    "\n",
    "spark.sql(\"select RUT_SOCIEDAD as CONT_RUT, TOTAL_CAPITAL as ponderador from composicion\").createOrReplaceTempView(\"composicion\")"
   ]
  },
  {
   "cell_type": "code",
   "execution_count": 6,
   "id": "bb7481d1-a4c0-496c-b5f6-3a279a547575",
   "metadata": {
    "tags": []
   },
   "outputs": [
    {
     "name": "stderr",
     "output_type": "stream",
     "text": [
      "Hive Session ID = 86be838c-d64d-4297-a4ea-baf90b810551\n"
     ]
    },
    {
     "data": {
      "text/plain": [
       "StructType(List(StructField(CONT_RUT,StringType,true),StructField(CONT_DV,StringType,true),StructField(TRAMO,StringType,true),StructField(PATR_TOTAL_2022,StringType,true)))"
      ]
     },
     "execution_count": 6,
     "metadata": {},
     "output_type": "execute_result"
    }
   ],
   "source": [
    "# ## Lectura de tabla de patrimonio 2022\n",
    "pat_2022=spark.sql(\"select * from libsdf.pat_gp_arfi_apiux_2022_e\")\n",
    "pat_2022.createOrReplaceTempView(\"pat_2022\")\n",
    "spark.sql('select * from pat_2022 ').schema"
   ]
  },
  {
   "cell_type": "code",
   "execution_count": 7,
   "id": "8dd59e8b-289e-4db5-ba27-117edb51d1e6",
   "metadata": {
    "tags": []
   },
   "outputs": [
    {
     "name": "stderr",
     "output_type": "stream",
     "text": [
      "[Stage 8:>                                                          (0 + 1) / 1]\r"
     ]
    },
    {
     "name": "stdout",
     "output_type": "stream",
     "text": [
      "+--------+\n",
      "|count(1)|\n",
      "+--------+\n",
      "|   54161|\n",
      "+--------+\n",
      "\n"
     ]
    },
    {
     "name": "stderr",
     "output_type": "stream",
     "text": [
      "                                                                                \r"
     ]
    }
   ],
   "source": [
    "spark.sql('SELECT *, CAST(REGEXP_REPLACE(PATR_TOTAL_2022, \",\", \"\") AS INT) AS PATR_TOTAL_2022_entero from pat_2022').createOrReplaceTempView(\"pat_2022\")\n",
    "spark.sql('SELECT CONT_RUT, PATR_TOTAL_2022_entero as PAT_2022 from pat_2022 where PATR_TOTAL_2022_entero>0').createOrReplaceTempView(\"pat_2022\")\n",
    "spark.sql(\"select count(*) from pat_2022\").show()"
   ]
  },
  {
   "cell_type": "code",
   "execution_count": 8,
   "id": "613fb357-491a-4d89-bedf-2917fb62de65",
   "metadata": {
    "tags": []
   },
   "outputs": [
    {
     "name": "stderr",
     "output_type": "stream",
     "text": [
      "[Stage 11:===============================================>        (17 + 3) / 20]\r"
     ]
    },
    {
     "name": "stdout",
     "output_type": "stream",
     "text": [
      "+--------+\n",
      "|count(1)|\n",
      "+--------+\n",
      "| 4582461|\n",
      "+--------+\n",
      "\n"
     ]
    },
    {
     "name": "stderr",
     "output_type": "stream",
     "text": [
      "                                                                                \r"
     ]
    }
   ],
   "source": [
    "spark.sql(\"select cont_rut as CONT_RUT,CAST(patrimonio_2022 AS INT) as PAT_2022 from libsdf.patrimonio_at2022_21_20 where patrimonio_2022>0 \").createOrReplaceTempView(\"altos_pat\")\n",
    "spark.sql(\"select count(*) from altos_pat\").show()"
   ]
  },
  {
   "cell_type": "code",
   "execution_count": 9,
   "id": "7277e833-aeb1-4f42-bf0d-77803c193112",
   "metadata": {},
   "outputs": [
    {
     "name": "stderr",
     "output_type": "stream",
     "text": [
      "[Stage 14:=====================================================>  (20 + 1) / 21]\r"
     ]
    },
    {
     "name": "stdout",
     "output_type": "stream",
     "text": [
      "+--------+\n",
      "|count(1)|\n",
      "+--------+\n",
      "| 4587460|\n",
      "+--------+\n",
      "\n"
     ]
    },
    {
     "name": "stderr",
     "output_type": "stream",
     "text": [
      "                                                                                \r"
     ]
    }
   ],
   "source": [
    "spark.sql('SELECT CONT_RUT, PAT_2022 FROM pat_2022 UNION SELECT CONT_RUT, PAT_2022 FROM altos_pat').createOrReplaceTempView(\"union_pat_altos_pat\")\n",
    "spark.sql('SELECT CONT_RUT, mean(PAT_2022) as PAT_2022 FROM union_pat_altos_pat group by CONT_RUT').createOrReplaceTempView(\"pat\")\n",
    "\n",
    "spark.sql(\"select count(*) from pat\").show()\n"
   ]
  },
  {
   "cell_type": "code",
   "execution_count": 10,
   "id": "ffc1f391-5780-408a-a3fd-740b673f4cf0",
   "metadata": {
    "tags": []
   },
   "outputs": [],
   "source": [
    "spark.sql(\"select  RUT_SOCIEDAD, RUT_SOCIO, mean(PORCENTAJE_CAPITAL) as PORCENTAJE_CAPITAL, mean(PORCENTAJE_UTILIDADES) as PORCENTAJE_UTILIDADES from sociedad group by RUT_SOCIEDAD, RUT_SOCIO\").createOrReplaceTempView(\"sociedad\")"
   ]
  },
  {
   "cell_type": "markdown",
   "id": "742c69b9-10d8-431b-8275-38baab2c8cd1",
   "metadata": {},
   "source": [
    "Primera iteracion\n",
    "\n",
    "Se realiza el cruce de la data societaria con la data de patrimonio 2022 de personas naturales (1re paso de calculo de materia oscura para sociedades completas). Hay sociedades donde no se completan todos los socios con patrimonio, por lo cual se discrimina mediante un contador de nulos de dicho campo para poder agregar la data y obtener un valor de oscuridad para un rut de soiedad donde todas las entradas de sus socios han sido completadas."
   ]
  },
  {
   "cell_type": "code",
   "execution_count": 11,
   "id": "817db5e1-dc70-46e3-8dd7-21a3bfbb852f",
   "metadata": {
    "tags": []
   },
   "outputs": [
    {
     "name": "stderr",
     "output_type": "stream",
     "text": [
      "                                                                                \r"
     ]
    },
    {
     "name": "stdout",
     "output_type": "stream",
     "text": [
      "+--------------------+--------------------+------------------+-------------+\n",
      "|        RUT_SOCIEDAD|           RUT_SOCIO|PORCENTAJE_CAPITAL|     PAT_2022|\n",
      "+--------------------+--------------------+------------------+-------------+\n",
      "|+++JjoAr1RQa1kY7r...|xO5P1s+Yeug4wKtb8...|             14.29|         null|\n",
      "|+++JjoAr1RQa1kY7r...|S2zsiazT64Jiu/sSE...|             85.71|         null|\n",
      "|+++P6tU1TAUNG0SZv...|8ejqjUOvnKKfMZSzj...|             100.0|         null|\n",
      "|+++UeiptXaAQD74N1...|5jgmhcvBN2sVp7Gh5...|              72.0|2.147483647E9|\n",
      "|+++UeiptXaAQD74N1...|QemGi6c6gkD3rdstn...|              28.0|  7.5308125E7|\n",
      "|+++VKgYcn1igYZjkT...|XRkbvgfaa5MRVblDF...|             100.0|         null|\n",
      "|+++VWXcqX/471v55m...|t9AEh7tBjjp3FKWzm...|               1.0|9.265492805E8|\n",
      "|+++VWXcqX/471v55m...|d/Gh1G45HEItM+byD...|              99.0|    3203827.5|\n",
      "|+++ZYfC4XA28yQEQd...|Rf14vs+327ZlNsQvX...|             100.0|   2.101449E7|\n",
      "|+++rmzjqUcW56fKfV...|VULdXIkUAxKz8BFIA...|              52.5|2.147483647E9|\n",
      "|+++rmzjqUcW56fKfV...|/SogFhjTgxloEfGYI...|              47.5|         null|\n",
      "|++/BNOl5Jzp3/53dg...|vkzKrESk+2mIrPN2k...|              20.0|         null|\n",
      "|++/BNOl5Jzp3/53dg...|ymLFBcIElT/XLhLlT...|              80.0|  5.4277673E7|\n",
      "|++/ILpGAKOZrH+0u+...|K3BDtZLATzJK/u2xk...|              50.0|         null|\n",
      "|++/ILpGAKOZrH+0u+...|VSDSGFi3SI0jGmj/Z...|              50.0|         null|\n",
      "|++/O0DVO8dUreJB37...|M5Es6UQcBIdMrEARV...|               1.0|         null|\n",
      "|++/O0DVO8dUreJB37...|7xFbJHM0rhVJe4iga...|              99.0|         null|\n",
      "|++/UTl2mwL/J484yK...|LxuWEPpbFk7A2Iind...|             100.0|  4.1990781E7|\n",
      "|++/dFaxQQDYaKe8zO...|lQ+jywhdl+H43AHiw...|              50.0|         null|\n",
      "|++/dFaxQQDYaKe8zO...|ZvW38n/QbAl+aaQwJ...|              50.0|         null|\n",
      "+--------------------+--------------------+------------------+-------------+\n",
      "only showing top 20 rows\n",
      "\n"
     ]
    },
    {
     "name": "stderr",
     "output_type": "stream",
     "text": [
      "                                                                                \r"
     ]
    },
    {
     "name": "stdout",
     "output_type": "stream",
     "text": [
      "+--------------------+-----+\n",
      "|       RUT_SOCIEDAD1|nulos|\n",
      "+--------------------+-----+\n",
      "|+++JjoAr1RQa1kY7r...|    2|\n",
      "|+++P6tU1TAUNG0SZv...|    1|\n",
      "|+++VKgYcn1igYZjkT...|    1|\n",
      "|+++rmzjqUcW56fKfV...|    1|\n",
      "|++/BNOl5Jzp3/53dg...|    1|\n",
      "|++/ILpGAKOZrH+0u+...|    2|\n",
      "|++/O0DVO8dUreJB37...|    2|\n",
      "|++/dFaxQQDYaKe8zO...|    2|\n",
      "|++/fV7MkjN3EYCFO8...|    2|\n",
      "|++/tLigzCfQxU6467...|    2|\n",
      "|++0TZZ4dLrh7Mcrrq...|    1|\n",
      "|++0hvpY1Z3Wx9DKo2...|    1|\n",
      "|++0kBAcf27iNKS5+c...|    1|\n",
      "|++1JNpbthfwgogYLW...|    2|\n",
      "|++2DK/e8a0qWOS7QA...|    2|\n",
      "|++2JWG4I/BtuVkRaz...|    1|\n",
      "|++2O7mw5x3lYgK44x...|    1|\n",
      "|++2eRGzgoveOZXA6V...|    1|\n",
      "|++3FYBfTE6Si69yVW...|    1|\n",
      "|++4XOUgYVCe4kq6Bg...|    1|\n",
      "+--------------------+-----+\n",
      "only showing top 20 rows\n",
      "\n"
     ]
    },
    {
     "name": "stderr",
     "output_type": "stream",
     "text": [
      "[Stage 73:=============================================>          (17 + 4) / 21]\r"
     ]
    },
    {
     "name": "stdout",
     "output_type": "stream",
     "text": [
      "+--------------------+--------------------+------------------+-----+--------------+\n",
      "|        RUT_SOCIEDAD|           RUT_SOCIO|PORCENTAJE_CAPITAL|nulos|      PAT_2022|\n",
      "+--------------------+--------------------+------------------+-----+--------------+\n",
      "|+++UeiptXaAQD74N1...|QemGi6c6gkD3rdstn...|              28.0| null|   7.5308125E7|\n",
      "|+++UeiptXaAQD74N1...|5jgmhcvBN2sVp7Gh5...|              72.0| null| 2.147483647E9|\n",
      "|+++VWXcqX/471v55m...|d/Gh1G45HEItM+byD...|              99.0| null|     3203827.5|\n",
      "|+++VWXcqX/471v55m...|t9AEh7tBjjp3FKWzm...|               1.0| null| 9.265492805E8|\n",
      "|+++ZYfC4XA28yQEQd...|Rf14vs+327ZlNsQvX...|             100.0| null|    2.101449E7|\n",
      "|++/UTl2mwL/J484yK...|LxuWEPpbFk7A2Iind...|             100.0| null|   4.1990781E7|\n",
      "|++0fvj6XSxmeV4no1...|mrnoh9uP16vfcYNyh...|              90.0| null|   6.3206213E7|\n",
      "|++0fvj6XSxmeV4no1...|wZ+qC6VPjjuYqiJ3K...|              10.0| null|   6.0012793E7|\n",
      "|++2aG5ztBIvGl/E0s...|cP/L5EFxY1um7QZpw...|              10.0| null|   8.2592151E7|\n",
      "|++2aG5ztBIvGl/E0s...|3sTU9CV92iDjQpnyW...|              40.0| null| 8.789370565E8|\n",
      "|++2aG5ztBIvGl/E0s...|cWrolxw7TsaUi+lIk...|              10.0| null|  3.09777423E8|\n",
      "|++2aG5ztBIvGl/E0s...|4sWTQCW7fKut1fSHY...|              40.0| null|1.0401428715E9|\n",
      "|++40/vrBPOK6RXSL8...|XDtp2rYrUusa4Iq+e...|             100.0| null|   3.3566024E7|\n",
      "|++4L5alWpdKm9Bt8E...|BL6BPitatCqyvxyaZ...|              25.0| null|     8260117.0|\n",
      "|++4L5alWpdKm9Bt8E...|hV4HNO/QJ5ljrCHyg...|              25.0| null|        1.73E7|\n",
      "|++4L5alWpdKm9Bt8E...|S/fRYKheOnSrvGye9...|              25.0| null|  1.95282022E8|\n",
      "|++4L5alWpdKm9Bt8E...|NARSMmbIZtXZ5X/RC...|              25.0| null|    4.669463E7|\n",
      "|++4bDjJxZJPO468EH...|ztqdyliPz6i3M9kV/...|              70.0| null| 2.147483647E9|\n",
      "|++4bDjJxZJPO468EH...|bX2zzihIbyVvd52BM...|              30.0| null| 2.147483647E9|\n",
      "|++500+9A6Vmu8wvdi...|tf9nUpf8iVegZqbHQ...|             100.0| null|   6.1052051E7|\n",
      "+--------------------+--------------------+------------------+-----+--------------+\n",
      "only showing top 20 rows\n",
      "\n"
     ]
    },
    {
     "name": "stderr",
     "output_type": "stream",
     "text": [
      "                                                                                \r"
     ]
    }
   ],
   "source": [
    "#Iteracion 0\n",
    "spark.sql(\"select * from sociedad left join pat on sociedad.RUT_SOCIO=pat.CONT_RUT order by sociedad.RUT_SOCIEDAD asc\").createOrReplaceTempView(\"sociedad\")\n",
    "\n",
    "spark.sql(\"select RUT_SOCIEDAD, RUT_SOCIO, PORCENTAJE_CAPITAL, PAT_2022 from sociedad\").createOrReplaceTempView(\"sociedad\")\n",
    "spark.sql(\"select * from sociedad \").show()\n",
    "spark.sql(\"select RUT_SOCIEDAD as RUT_SOCIEDAD1, count(*) as nulos  from sociedad where PAT_2022 is null group by RUT_SOCIEDAD order by RUT_SOCIEDAD ASC\").createOrReplaceTempView(\"aux\")\n",
    "spark.sql(\"select * from aux \").show()\n",
    "spark.sql(\"select RUT_SOCIEDAD,RUT_SOCIO,PORCENTAJE_CAPITAL, nulos, PAT_2022 from sociedad left join aux on sociedad.RUT_SOCIEDAD=aux.RUT_SOCIEDAD1 order by RUT_SOCIEDAD asc \").createOrReplaceTempView(\"aux\")\n",
    "spark.sql(\"select * from aux where nulos is null \").show()"
   ]
  },
  {
   "cell_type": "code",
   "execution_count": 12,
   "id": "866bac77-a539-457e-aa37-8100cc8a7e4b",
   "metadata": {
    "tags": []
   },
   "outputs": [],
   "source": [
    "# Junto con completar la data con los valores de oscuridad para sociedades completas, se agrega un ponderador. De esta forma, si una entidad tiene dos socios con oscuridad y la composicion suma diferente a 100%, se pondera proporcionalmente para que sumen 100%."
   ]
  },
  {
   "cell_type": "code",
   "execution_count": 13,
   "id": "0eb5df4c-33d7-45d2-b1ab-dd6c73e2a3b2",
   "metadata": {
    "tags": []
   },
   "outputs": [
    {
     "name": "stderr",
     "output_type": "stream",
     "text": [
      "                                                                                \r"
     ]
    },
    {
     "name": "stdout",
     "output_type": "stream",
     "text": [
      "+--------------------+--------------------+------------------+--------------+\n",
      "|        RUT_SOCIEDAD|           RUT_SOCIO|PORCENTAJE_CAPITAL|      PAT_2022|\n",
      "+--------------------+--------------------+------------------+--------------+\n",
      "|+++UeiptXaAQD74N1...|5jgmhcvBN2sVp7Gh5...|              72.0| 2.147483647E9|\n",
      "|+++UeiptXaAQD74N1...|QemGi6c6gkD3rdstn...|              28.0|   7.5308125E7|\n",
      "|+++VWXcqX/471v55m...|d/Gh1G45HEItM+byD...|              99.0|     3203827.5|\n",
      "|+++VWXcqX/471v55m...|t9AEh7tBjjp3FKWzm...|               1.0| 9.265492805E8|\n",
      "|+++ZYfC4XA28yQEQd...|Rf14vs+327ZlNsQvX...|             100.0|    2.101449E7|\n",
      "|++/UTl2mwL/J484yK...|LxuWEPpbFk7A2Iind...|             100.0|   4.1990781E7|\n",
      "|++0fvj6XSxmeV4no1...|mrnoh9uP16vfcYNyh...|              90.0|   6.3206213E7|\n",
      "|++0fvj6XSxmeV4no1...|wZ+qC6VPjjuYqiJ3K...|              10.0|   6.0012793E7|\n",
      "|++2aG5ztBIvGl/E0s...|cP/L5EFxY1um7QZpw...|              10.0|   8.2592151E7|\n",
      "|++2aG5ztBIvGl/E0s...|3sTU9CV92iDjQpnyW...|              40.0| 8.789370565E8|\n",
      "|++2aG5ztBIvGl/E0s...|4sWTQCW7fKut1fSHY...|              40.0|1.0401428715E9|\n",
      "|++2aG5ztBIvGl/E0s...|cWrolxw7TsaUi+lIk...|              10.0|  3.09777423E8|\n",
      "|++40/vrBPOK6RXSL8...|XDtp2rYrUusa4Iq+e...|             100.0|   3.3566024E7|\n",
      "|++4L5alWpdKm9Bt8E...|BL6BPitatCqyvxyaZ...|              25.0|     8260117.0|\n",
      "|++4L5alWpdKm9Bt8E...|NARSMmbIZtXZ5X/RC...|              25.0|    4.669463E7|\n",
      "|++4L5alWpdKm9Bt8E...|hV4HNO/QJ5ljrCHyg...|              25.0|        1.73E7|\n",
      "|++4L5alWpdKm9Bt8E...|S/fRYKheOnSrvGye9...|              25.0|  1.95282022E8|\n",
      "|++4bDjJxZJPO468EH...|ztqdyliPz6i3M9kV/...|              70.0| 2.147483647E9|\n",
      "|++4bDjJxZJPO468EH...|bX2zzihIbyVvd52BM...|              30.0| 2.147483647E9|\n",
      "|++500+9A6Vmu8wvdi...|tf9nUpf8iVegZqbHQ...|             100.0|   6.1052051E7|\n",
      "+--------------------+--------------------+------------------+--------------+\n",
      "only showing top 20 rows\n",
      "\n"
     ]
    },
    {
     "name": "stderr",
     "output_type": "stream",
     "text": [
      "                                                                                \r"
     ]
    },
    {
     "name": "stdout",
     "output_type": "stream",
     "text": [
      "+--------------------+---------------+\n",
      "|            CONT_RUT|     othervalue|\n",
      "+--------------------+---------------+\n",
      "|+++UeiptXaAQD74N1...|1.56727450084E9|\n",
      "|+++VWXcqX/471v55m...|  1.243728203E7|\n",
      "|+++ZYfC4XA28yQEQd...|     2.101449E7|\n",
      "|++/UTl2mwL/J484yK...|    4.1990781E7|\n",
      "|++0fvj6XSxmeV4no1...|    6.2886871E7|\n",
      "|++2aG5ztBIvGl/E0s...|  8.068689286E8|\n",
      "|++40/vrBPOK6RXSL8...|    3.3566024E7|\n",
      "|++4L5alWpdKm9Bt8E...|  6.688419225E7|\n",
      "|++4bDjJxZJPO468EH...|  2.147483647E9|\n",
      "|++500+9A6Vmu8wvdi...|    6.1052051E7|\n",
      "|++7xFy/9FbLHzCtmn...|    1.3088094E7|\n",
      "|++7yFnLR2jk0Wr0e8...|7.87360835675E8|\n",
      "|++7yc2t/5eFjyGHnT...|    1.8862183E7|\n",
      "|++8yrddEhyjEVxjMJ...|    1.7857147E7|\n",
      "|++ADTgoTIuaqdg7q5...|      3873444.0|\n",
      "|++ASy6KjK+xIa2zAI...|   8.80692393E8|\n",
      "|++AiMoL6dLpbU4OeP...|  1.065433326E9|\n",
      "|++AidU2ndM/UGI/RD...|    1.7915835E8|\n",
      "|++BCOAZ6qEHTeUBtw...|    3.5178348E7|\n",
      "|++C5vdn7A2eRP1B3g...|  1.266298685E8|\n",
      "+--------------------+---------------+\n",
      "only showing top 20 rows\n",
      "\n"
     ]
    },
    {
     "name": "stderr",
     "output_type": "stream",
     "text": [
      "                                                                                \r"
     ]
    },
    {
     "name": "stdout",
     "output_type": "stream",
     "text": [
      "+--------------------+---------------+\n",
      "|            CONT_RUT|          Value|\n",
      "+--------------------+---------------+\n",
      "|+++UeiptXaAQD74N1...|1.56727450084E9|\n",
      "|+++VWXcqX/471v55m...|  1.243728203E7|\n",
      "|+++ZYfC4XA28yQEQd...|     2.101449E7|\n",
      "|++/UTl2mwL/J484yK...|    4.1990781E7|\n",
      "|++0fvj6XSxmeV4no1...|    6.2886871E7|\n",
      "|++2aG5ztBIvGl/E0s...|  8.068689286E8|\n",
      "|++40/vrBPOK6RXSL8...|    3.3566024E7|\n",
      "|++4L5alWpdKm9Bt8E...|  6.688419225E7|\n",
      "|++4bDjJxZJPO468EH...|  2.147483647E9|\n",
      "|++500+9A6Vmu8wvdi...|    6.1052051E7|\n",
      "|++7xFy/9FbLHzCtmn...|    1.3088094E7|\n",
      "|++7yFnLR2jk0Wr0e8...|7.87360835675E8|\n",
      "|++7yc2t/5eFjyGHnT...|    1.8862183E7|\n",
      "|++8yrddEhyjEVxjMJ...|    1.7857147E7|\n",
      "|++ADTgoTIuaqdg7q5...|      3873444.0|\n",
      "|++ASy6KjK+xIa2zAI...|   8.80692393E8|\n",
      "|++AiMoL6dLpbU4OeP...|  1.065433326E9|\n",
      "|++AidU2ndM/UGI/RD...|    1.7915835E8|\n",
      "|++BCOAZ6qEHTeUBtw...|    3.5178348E7|\n",
      "|++C5vdn7A2eRP1B3g...|  1.266298685E8|\n",
      "+--------------------+---------------+\n",
      "only showing top 20 rows\n",
      "\n"
     ]
    },
    {
     "name": "stderr",
     "output_type": "stream",
     "text": [
      "[Stage 250:====================================================>  (20 + 1) / 21]\r"
     ]
    },
    {
     "name": "stdout",
     "output_type": "stream",
     "text": [
      "+--------------------+--------------+----------+\n",
      "|            CONT_RUT|         Value|ponderador|\n",
      "+--------------------+--------------+----------+\n",
      "|zzzEfsBUrus3+Lpvp...|  1.49550806E8|     100.0|\n",
      "|zzydn/q5KUdW0Pcyx...|  1.36950192E8|     100.0|\n",
      "|zzycSmylbx7abTn6L...|  4.21330307E8|     100.0|\n",
      "|zzy4xjR3eyeQeDulk...|   3.9403952E7|     100.0|\n",
      "|zzxn+AXDxM7o3dq6t...| 1.642731105E8|     100.0|\n",
      "|zzxiVVlRVmrHIZn8Z...|  1.14940842E8|     100.0|\n",
      "|zzw82ZqW8spQp27re...|   5.3330875E8|     100.0|\n",
      "|zzvkn2WcBhsERkZz5...|  4.14586045E7|     100.0|\n",
      "|zzuRJI0/j+9Kg8XUq...| 2.205758535E8|     100.0|\n",
      "|zzttlu6AW7fBR+QT5...|   2.3059132E7|     100.0|\n",
      "|zztiahFY7OZufBZsU...|  5.80273356E7|     100.0|\n",
      "|zztPoAxGDNkBcKOHb...|  1.75259232E8|     100.0|\n",
      "|zztIN7SsWnMIqkfIp...|   2.7279001E7|     100.0|\n",
      "|zzsvRDNgYgL8X9YBS...|  9.73684485E7|     100.0|\n",
      "|zzsbM16tZoOEyo1Vh...|   3.0671968E7|     100.0|\n",
      "|zzsHJY/ePJB1G/GW0...|   4.5605857E7|     100.0|\n",
      "|zzry8vr0qh0CNTySY...|2.0128139775E8|     100.0|\n",
      "|zzruxQtAd2RIDmgY6...| 3.702946775E7|     100.0|\n",
      "|zzroDwh4VaUrXdGiv...|  1.57849841E8|     100.0|\n",
      "|zzrPKxX9/9F46i1s3...|   2.8286113E7|     100.0|\n",
      "+--------------------+--------------+----------+\n",
      "only showing top 20 rows\n",
      "\n"
     ]
    },
    {
     "name": "stderr",
     "output_type": "stream",
     "text": [
      "                                                                                \r"
     ]
    }
   ],
   "source": [
    "#agregar la ponderacion adecuada\n",
    "\n",
    "spark.sql(\"select RUT_SOCIEDAD,RUT_SOCIO,PORCENTAJE_CAPITAL, PAT_2022 from aux where nulos is null\").createOrReplaceTempView(\"aux\")\n",
    "spark.sql(\"select * from aux\").show()\n",
    "spark.sql(\"select RUT_SOCIEDAD as CONT_RUT, SUM(PORCENTAJE_CAPITAL*PAT_2022*0.01) as othervalue from aux group by RUT_SOCIEDAD\").createOrReplaceTempView(\"pat\")\n",
    "spark.sql(\"select * from pat\").show()\n",
    "spark.sql(\"select CONT_RUT, othervalue as Value  from pat\").createOrReplaceTempView(\"pat\")\n",
    "spark.sql(\"select * from pat\").show()\n",
    "spark.sql(\"select pat.CONT_RUT as CONT_RUT,Value , ponderador from pat left join composicion on pat.CONT_RUT=composicion.CONT_RUT order by pat.CONT_RUT desc \").createOrReplaceTempView(\"pat\")\n",
    "spark.sql(\"select * from pat\").show()\n",
    "spark.sql(\"select CONT_RUT, Value /ponderador*100 as Value from pat \").createOrReplaceTempView(\"pat\")\n"
   ]
  },
  {
   "cell_type": "code",
   "execution_count": 14,
   "id": "828e040e-6471-47a7-814b-a49902733496",
   "metadata": {
    "tags": []
   },
   "outputs": [
    {
     "name": "stderr",
     "output_type": "stream",
     "text": [
      "                                                                                \r"
     ]
    }
   ],
   "source": [
    "tabla_auxiliar=spark.sql('select * from pat')\n",
    "tabla_auxiliar=tabla_auxiliar.toPandas()\n",
    "tabla_auxiliar.to_csv(\"/home/cdsw/data/processed/patrimonio/patrimonio_2022_aux.csv\", index=False)"
   ]
  },
  {
   "cell_type": "code",
   "execution_count": 15,
   "id": "45b32046-e5f3-4400-ace3-4d3287c5a706",
   "metadata": {
    "tags": []
   },
   "outputs": [
    {
     "name": "stderr",
     "output_type": "stream",
     "text": [
      "                                                                                \r"
     ]
    }
   ],
   "source": [
    "pat_aux=spark.sql(\"select * from pat\").toPandas()\n",
    "pat_aux['iterations']=0"
   ]
  },
  {
   "cell_type": "code",
   "execution_count": 16,
   "id": "6ff51380-f319-4286-a64c-73583e08369e",
   "metadata": {
    "tags": []
   },
   "outputs": [
    {
     "data": {
      "text/html": [
       "<div>\n",
       "<style scoped>\n",
       "    .dataframe tbody tr th:only-of-type {\n",
       "        vertical-align: middle;\n",
       "    }\n",
       "\n",
       "    .dataframe tbody tr th {\n",
       "        vertical-align: top;\n",
       "    }\n",
       "\n",
       "    .dataframe thead th {\n",
       "        text-align: right;\n",
       "    }\n",
       "</style>\n",
       "<table border=\"1\" class=\"dataframe\">\n",
       "  <thead>\n",
       "    <tr style=\"text-align: right;\">\n",
       "      <th></th>\n",
       "      <th>CONT_RUT</th>\n",
       "      <th>Value</th>\n",
       "      <th>iterations</th>\n",
       "    </tr>\n",
       "  </thead>\n",
       "  <tbody>\n",
       "    <tr>\n",
       "      <th>0</th>\n",
       "      <td>zzzEfsBUrus3+LpvpwcHig==</td>\n",
       "      <td>1.495508e+08</td>\n",
       "      <td>0</td>\n",
       "    </tr>\n",
       "    <tr>\n",
       "      <th>1</th>\n",
       "      <td>zzydn/q5KUdW0PcyxWSyzg==</td>\n",
       "      <td>1.369502e+08</td>\n",
       "      <td>0</td>\n",
       "    </tr>\n",
       "    <tr>\n",
       "      <th>2</th>\n",
       "      <td>zzycSmylbx7abTn6LsudIw==</td>\n",
       "      <td>4.213303e+08</td>\n",
       "      <td>0</td>\n",
       "    </tr>\n",
       "    <tr>\n",
       "      <th>3</th>\n",
       "      <td>zzy4xjR3eyeQeDulkMLsBw==</td>\n",
       "      <td>3.940395e+07</td>\n",
       "      <td>0</td>\n",
       "    </tr>\n",
       "    <tr>\n",
       "      <th>4</th>\n",
       "      <td>zzxn+AXDxM7o3dq6t1sAbA==</td>\n",
       "      <td>1.642731e+08</td>\n",
       "      <td>0</td>\n",
       "    </tr>\n",
       "    <tr>\n",
       "      <th>...</th>\n",
       "      <td>...</td>\n",
       "      <td>...</td>\n",
       "      <td>...</td>\n",
       "    </tr>\n",
       "    <tr>\n",
       "      <th>476448</th>\n",
       "      <td>++0fvj6XSxmeV4no1390og==</td>\n",
       "      <td>6.288687e+07</td>\n",
       "      <td>0</td>\n",
       "    </tr>\n",
       "    <tr>\n",
       "      <th>476449</th>\n",
       "      <td>++/UTl2mwL/J484yKcuZrg==</td>\n",
       "      <td>4.199078e+07</td>\n",
       "      <td>0</td>\n",
       "    </tr>\n",
       "    <tr>\n",
       "      <th>476450</th>\n",
       "      <td>+++ZYfC4XA28yQEQdCy5yw==</td>\n",
       "      <td>2.101449e+07</td>\n",
       "      <td>0</td>\n",
       "    </tr>\n",
       "    <tr>\n",
       "      <th>476451</th>\n",
       "      <td>+++VWXcqX/471v55mS2YiA==</td>\n",
       "      <td>1.243728e+07</td>\n",
       "      <td>0</td>\n",
       "    </tr>\n",
       "    <tr>\n",
       "      <th>476452</th>\n",
       "      <td>+++UeiptXaAQD74N1rCuIg==</td>\n",
       "      <td>1.567275e+09</td>\n",
       "      <td>0</td>\n",
       "    </tr>\n",
       "  </tbody>\n",
       "</table>\n",
       "<p>476453 rows × 3 columns</p>\n",
       "</div>"
      ],
      "text/plain": [
       "                        CONT_RUT         Value  iterations\n",
       "0       zzzEfsBUrus3+LpvpwcHig==  1.495508e+08           0\n",
       "1       zzydn/q5KUdW0PcyxWSyzg==  1.369502e+08           0\n",
       "2       zzycSmylbx7abTn6LsudIw==  4.213303e+08           0\n",
       "3       zzy4xjR3eyeQeDulkMLsBw==  3.940395e+07           0\n",
       "4       zzxn+AXDxM7o3dq6t1sAbA==  1.642731e+08           0\n",
       "...                          ...           ...         ...\n",
       "476448  ++0fvj6XSxmeV4no1390og==  6.288687e+07           0\n",
       "476449  ++/UTl2mwL/J484yKcuZrg==  4.199078e+07           0\n",
       "476450  +++ZYfC4XA28yQEQdCy5yw==  2.101449e+07           0\n",
       "476451  +++VWXcqX/471v55mS2YiA==  1.243728e+07           0\n",
       "476452  +++UeiptXaAQD74N1rCuIg==  1.567275e+09           0\n",
       "\n",
       "[476453 rows x 3 columns]"
      ]
     },
     "execution_count": 16,
     "metadata": {},
     "output_type": "execute_result"
    }
   ],
   "source": [
    "pat_aux"
   ]
  },
  {
   "cell_type": "code",
   "execution_count": 17,
   "id": "93543513-ba50-4c90-8bab-d40ea839288c",
   "metadata": {
    "tags": []
   },
   "outputs": [],
   "source": [
    "iter=10"
   ]
  },
  {
   "cell_type": "code",
   "execution_count": 18,
   "id": "b0486278-b13a-4bef-9997-06a5204f804b",
   "metadata": {
    "tags": []
   },
   "outputs": [
    {
     "name": "stderr",
     "output_type": "stream",
     "text": [
      "                                                                                \r"
     ]
    },
    {
     "name": "stdout",
     "output_type": "stream",
     "text": [
      "              Value     iterations\n",
      "count  5.019640e+05  501964.000000\n",
      "mean   2.464077e+08       0.050822\n",
      "std    3.970606e+08       0.219635\n",
      "min    0.000000e+00       0.000000\n",
      "25%    3.494416e+07       0.000000\n",
      "50%    8.734232e+07       0.000000\n",
      "75%    2.530663e+08       0.000000\n",
      "max    2.147484e+09       1.000000\n"
     ]
    },
    {
     "name": "stderr",
     "output_type": "stream",
     "text": [
      "                                                                                \r"
     ]
    },
    {
     "name": "stdout",
     "output_type": "stream",
     "text": [
      "              Value     iterations\n",
      "count  5.038290e+05  503829.000000\n",
      "mean   2.497687e+08       0.058375\n",
      "std    4.017231e+08       0.251089\n",
      "min    0.000000e+00       0.000000\n",
      "25%    3.509012e+07       0.000000\n",
      "50%    8.796122e+07       0.000000\n",
      "75%    2.566358e+08       0.000000\n",
      "max    2.147484e+09       2.000000\n"
     ]
    },
    {
     "name": "stderr",
     "output_type": "stream",
     "text": [
      "                                                                                \r"
     ]
    },
    {
     "name": "stdout",
     "output_type": "stream",
     "text": [
      "              Value     iterations\n",
      "count  5.044050e+05  504405.000000\n",
      "mean   2.508833e+08       0.062115\n",
      "std    4.033789e+08       0.272906\n",
      "min    0.000000e+00       0.000000\n",
      "25%    3.513113e+07       0.000000\n",
      "50%    8.814049e+07       0.000000\n",
      "75%    2.578198e+08       0.000000\n",
      "max    2.147484e+09       3.000000\n"
     ]
    },
    {
     "name": "stderr",
     "output_type": "stream",
     "text": [
      "                                                                                \r"
     ]
    },
    {
     "name": "stdout",
     "output_type": "stream",
     "text": [
      "              Value     iterations\n",
      "count  5.046250e+05  504625.000000\n",
      "mean   2.514201e+08       0.064014\n",
      "std    4.041887e+08       0.286744\n",
      "min    0.000000e+00       0.000000\n",
      "25%    3.515012e+07       0.000000\n",
      "50%    8.821384e+07       0.000000\n",
      "75%    2.584073e+08       0.000000\n",
      "max    2.147484e+09       4.000000\n"
     ]
    },
    {
     "name": "stderr",
     "output_type": "stream",
     "text": [
      "                                                                                \r"
     ]
    },
    {
     "name": "stdout",
     "output_type": "stream",
     "text": [
      "              Value     iterations\n",
      "count  5.046940e+05  504694.000000\n",
      "mean   2.516049e+08       0.064796\n",
      "std    4.045011e+08       0.293620\n",
      "min    0.000000e+00       0.000000\n",
      "25%    3.515608e+07       0.000000\n",
      "50%    8.823973e+07       0.000000\n",
      "75%    2.585590e+08       0.000000\n",
      "max    2.147484e+09       5.000000\n"
     ]
    },
    {
     "name": "stderr",
     "output_type": "stream",
     "text": [
      "                                                                                \r"
     ]
    },
    {
     "name": "stdout",
     "output_type": "stream",
     "text": [
      "              Value     iterations\n",
      "count  5.047280e+05  504728.000000\n",
      "mean   2.516967e+08       0.065259\n",
      "std    4.046939e+08       0.298374\n",
      "min    0.000000e+00       0.000000\n",
      "25%    3.515713e+07       0.000000\n",
      "50%    8.824359e+07       0.000000\n",
      "75%    2.586183e+08       0.000000\n",
      "max    2.147484e+09       6.000000\n"
     ]
    },
    {
     "name": "stderr",
     "output_type": "stream",
     "text": [
      "                                                                                \r"
     ]
    },
    {
     "name": "stdout",
     "output_type": "stream",
     "text": [
      "              Value     iterations\n",
      "count  5.047380e+05  504738.000000\n",
      "mean   2.517106e+08       0.065396\n",
      "std    4.047263e+08       0.299964\n",
      "min    0.000000e+00       0.000000\n",
      "25%    3.515734e+07       0.000000\n",
      "50%    8.824359e+07       0.000000\n",
      "75%    2.586290e+08       0.000000\n",
      "max    2.147484e+09       7.000000\n"
     ]
    },
    {
     "name": "stderr",
     "output_type": "stream",
     "text": [
      "                                                                                \r"
     ]
    },
    {
     "name": "stdout",
     "output_type": "stream",
     "text": [
      "              Value     iterations\n",
      "count  5.047470e+05  504747.000000\n",
      "mean   2.517068e+08       0.065552\n",
      "std    4.047237e+08       0.302030\n",
      "min    0.000000e+00       0.000000\n",
      "25%    3.515816e+07       0.000000\n",
      "50%    8.824217e+07       0.000000\n",
      "75%    2.586191e+08       0.000000\n",
      "max    2.147484e+09       8.000000\n"
     ]
    },
    {
     "name": "stderr",
     "output_type": "stream",
     "text": [
      "                                                                                \r"
     ]
    },
    {
     "name": "stdout",
     "output_type": "stream",
     "text": [
      "              Value     iterations\n",
      "count  5.047540e+05  504754.000000\n",
      "mean   2.517038e+08       0.065676\n",
      "std    4.047217e+08       0.303855\n",
      "min    0.000000e+00       0.000000\n",
      "25%    3.515887e+07       0.000000\n",
      "50%    8.824152e+07       0.000000\n",
      "75%    2.586095e+08       0.000000\n",
      "max    2.147484e+09       9.000000\n"
     ]
    }
   ],
   "source": [
    "for iteration in range(1,iter):\n",
    "    temp=spark.read.options(header=True,inferSchema=True,delimiter=\",\").csv(\"/home/cdsw/data/processed/patrimonio/patrimonio_2022_aux.csv\")\n",
    "    temp.createOrReplaceTempView(\"pat\")                                                       \n",
    "   # spark.read.parquet(\"abfs://data@datalakesii.dfs.core.windows.net/DatoOrigen/lr-629/Oscuridad/intermedia/oscuridad_aux\").createOrReplaceTempView(\"oscuridad\")\n",
    "    \n",
    "    spark.sql(\"select * from sociedad left join pat on sociedad.RUT_SOCIO=pat.CONT_RUT order by sociedad.RUT_SOCIEDAD asc\").createOrReplaceTempView(\"sociedad\")\n",
    "    spark.sql(\"select RUT_SOCIEDAD, RUT_SOCIO, PORCENTAJE_CAPITAL, CASE WHEN PAT_2022 is null THEN Value ELSE PAT_2022 END AS PAT_2022 from sociedad\").createOrReplaceTempView(\"sociedad\")\n",
    "    spark.sql(\"select RUT_SOCIEDAD, RUT_SOCIO, PORCENTAJE_CAPITAL, PAT_2022 from sociedad\").createOrReplaceTempView(\"sociedad\")\n",
    "    spark.sql(\"select RUT_SOCIEDAD as RUT_SOCIEDAD1, count(*) as nulos from sociedad where PAT_2022 is null group by RUT_SOCIEDAD order by RUT_SOCIEDAD ASC\").createOrReplaceTempView(\"aux\")\n",
    "    spark.sql(\"select RUT_SOCIEDAD,RUT_SOCIO,PORCENTAJE_CAPITAL, nulos, PAT_2022 from sociedad left join aux on sociedad.RUT_SOCIEDAD=aux.RUT_SOCIEDAD1 order by RUT_SOCIEDAD asc \").createOrReplaceTempView(\"aux\")\n",
    "    spark.sql(\"select RUT_SOCIEDAD,RUT_SOCIO,PORCENTAJE_CAPITAL, PAT_2022 from aux where nulos is null\").createOrReplaceTempView(\"aux\")\n",
    "    spark.sql(\"select RUT_SOCIEDAD as CONT_RUT, SUM(PORCENTAJE_CAPITAL*PAT_2022*0.01) as othervalue from aux group by RUT_SOCIEDAD\").createOrReplaceTempView(\"pat\")\n",
    "    spark.sql(\"select CONT_RUT, othervalue as Value from pat\").createOrReplaceTempView(\"pat\")\n",
    "    \n",
    "    spark.sql(\"select pat.CONT_RUT as CONT_RUT, Value,ponderador from pat left join composicion on pat.CONT_RUT=composicion.CONT_RUT order by pat.CONT_RUT asc \").createOrReplaceTempView(\"pat\")\n",
    "    #spark.sql(\"select * from oscuridad \").show()\n",
    "    spark.sql(\"select CONT_RUT, Value/ponderador*100 as Value from pat order by Value desc \").createOrReplaceTempView(\"pat\")\n",
    "\n",
    "    \n",
    "    #spark.sql(\"SELECT * FROM oscuridad\").write.mode('overwrite').format(\"parquet\").save(\"abfs://data@datalakesii.dfs.core.windows.net/DatoOrigen/lr-629/Oscuridad/intermedia/oscuridad_aux\")\n",
    "    \n",
    "    tabla_auxiliar=spark.sql('select * from pat')\n",
    "    tabla_auxiliar=tabla_auxiliar.toPandas()\n",
    "    tabla_auxiliar.to_csv(\"/home/cdsw/data/processed/patrimonio/patrimonio_2022_aux.csv\", index=False)\n",
    "    \n",
    "    pat=spark.sql(\"select * from pat\").toPandas()\n",
    "    pat['iterations']=iteration\n",
    "\n",
    "    pat=pat.merge(pat_aux, on = \"CONT_RUT\", how = \"left\")\n",
    "    pat['iterations']=pat[[\"iterations_x\", \"iterations_y\"]].min(axis=1)\n",
    "    pat = pat.rename(columns={'Value_x': 'Value'})\n",
    "    pat=pat[['CONT_RUT','Value','iterations']]\n",
    "    pat_aux=pat.iloc[:,:]\n",
    "    print(pat_aux.describe())\n",
    "\n"
   ]
  },
  {
   "cell_type": "code",
   "execution_count": 19,
   "id": "957804c9-6667-40a5-ab14-553c3e2fcda5",
   "metadata": {
    "tags": []
   },
   "outputs": [
    {
     "name": "stderr",
     "output_type": "stream",
     "text": [
      "                                                                                \r"
     ]
    }
   ],
   "source": [
    "# Convertir 'oscuridad_aux' a una lista de filas (tuplas)\n",
    "rows = [tuple(x) for x in pat_aux.to_numpy()]\n",
    "\n",
    "# Crear un DataFrame de Spark a partir de las filas\n",
    "\n",
    "from pyspark.sql.types import StructType, StructField, StringType, DoubleType, IntegerType\n",
    "\n",
    "# Especificar el esquema manualmente\n",
    "schema = StructType([\n",
    "    StructField(\"CONT_RUT\", StringType(), True),\n",
    "    StructField(\"Value\", DoubleType(), True),\n",
    "    StructField(\"iterations\", DoubleType(), True)\n",
    "])\n",
    "pat_aux = spark.createDataFrame(rows, schema=schema)\n",
    "pat_aux.write.mode('overwrite').format(\"parquet\").save(\"abfs://data@datalakesii.dfs.core.windows.net/DatoOrigen/lr-629/Agrupacion_empresas_similares/patrimonio/patrimonios_completos\")"
   ]
  },
  {
   "cell_type": "code",
   "execution_count": 20,
   "id": "0fb9dc6b-1998-4a90-ade0-ee7ad800ef47",
   "metadata": {
    "tags": []
   },
   "outputs": [
    {
     "name": "stderr",
     "output_type": "stream",
     "text": [
      "                                                                                \r"
     ]
    },
    {
     "data": {
      "text/plain": [
       "504752"
      ]
     },
     "execution_count": 20,
     "metadata": {},
     "output_type": "execute_result"
    }
   ],
   "source": [
    "pat_aux.filter(pat_aux['Value'] > 0).count()"
   ]
  },
  {
   "cell_type": "code",
   "execution_count": 21,
   "id": "17e7b261-d6a4-42d8-b1af-d0654f5ca8ad",
   "metadata": {
    "tags": []
   },
   "outputs": [
    {
     "name": "stderr",
     "output_type": "stream",
     "text": [
      "                                                                                \r"
     ]
    },
    {
     "data": {
      "text/plain": [
       "2"
      ]
     },
     "execution_count": 21,
     "metadata": {},
     "output_type": "execute_result"
    }
   ],
   "source": [
    "pat_aux.filter(pat_aux['Value'] == 0).count()"
   ]
  },
  {
   "cell_type": "code",
   "execution_count": 22,
   "id": "d007ce39-0771-4cd0-be37-352b9608bcb8",
   "metadata": {
    "tags": []
   },
   "outputs": [
    {
     "name": "stderr",
     "output_type": "stream",
     "text": [
      "                                                                                \r"
     ]
    }
   ],
   "source": [
    "sociedad=spark.sql(\"select * from sociedad\")\n",
    "sociedad.write.mode('overwrite').format(\"parquet\").save(\"abfs://data@datalakesii.dfs.core.windows.net/DatoOrigen/lr-629/Agrupacion_empresas_similares/patrimonio/patrimonios_incompletos\")"
   ]
  }
 ],
 "metadata": {
  "kernelspec": {
   "display_name": "Python 3 (ipykernel)",
   "language": "python",
   "name": "python3"
  },
  "language_info": {
   "codemirror_mode": {
    "name": "ipython",
    "version": 3
   },
   "file_extension": ".py",
   "mimetype": "text/x-python",
   "name": "python",
   "nbconvert_exporter": "python",
   "pygments_lexer": "ipython3",
   "version": "3.10.13"
  }
 },
 "nbformat": 4,
 "nbformat_minor": 5
}
