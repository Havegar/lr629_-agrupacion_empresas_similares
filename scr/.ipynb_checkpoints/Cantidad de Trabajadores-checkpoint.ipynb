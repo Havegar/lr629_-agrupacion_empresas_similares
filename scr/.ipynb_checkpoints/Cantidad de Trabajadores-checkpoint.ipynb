{
 "cells": [
  {
   "cell_type": "markdown",
   "id": "dfe34ac0-e112-4466-96ab-3ce6a4020cc9",
   "metadata": {
    "tags": []
   },
   "source": [
    "## Se importan las librerias necesarias para la ejecución del notebook y se crea la sesión de Spark"
   ]
  },
  {
   "cell_type": "code",
   "execution_count": 3,
   "id": "c4311828-66c1-4c77-b44c-cf9b7a235b7c",
   "metadata": {
    "tags": []
   },
   "outputs": [
    {
     "ename": "ModuleNotFoundError",
     "evalue": "No module named 'sklearn'",
     "output_type": "error",
     "traceback": [
      "\u001b[0;31m---------------------------------------------------------------------------\u001b[0m",
      "\u001b[0;31mModuleNotFoundError\u001b[0m                       Traceback (most recent call last)",
      "Cell \u001b[0;32mIn[3], line 14\u001b[0m\n\u001b[1;32m     11\u001b[0m warnings\u001b[38;5;241m.\u001b[39mfilterwarnings(\u001b[38;5;124m\"\u001b[39m\u001b[38;5;124mignore\u001b[39m\u001b[38;5;124m\"\u001b[39m)\n\u001b[1;32m     12\u001b[0m warnings\u001b[38;5;241m.\u001b[39mfilterwarnings(\u001b[38;5;124m\"\u001b[39m\u001b[38;5;124mignore\u001b[39m\u001b[38;5;124m\"\u001b[39m, category\u001b[38;5;241m=\u001b[39m\u001b[38;5;167;01mUserWarning\u001b[39;00m, module\u001b[38;5;241m=\u001b[39m\u001b[38;5;124m\"\u001b[39m\u001b[38;5;124mpyspark\u001b[39m\u001b[38;5;124m\"\u001b[39m)\n\u001b[0;32m---> 14\u001b[0m \u001b[38;5;28;01mfrom\u001b[39;00m \u001b[38;5;21;01msklearn\u001b[39;00m\u001b[38;5;21;01m.\u001b[39;00m\u001b[38;5;21;01mlinear_model\u001b[39;00m \u001b[38;5;28;01mimport\u001b[39;00m LogisticRegression, SGDClassifier\n\u001b[1;32m     15\u001b[0m \u001b[38;5;28;01mfrom\u001b[39;00m \u001b[38;5;21;01msklearn\u001b[39;00m\u001b[38;5;21;01m.\u001b[39;00m\u001b[38;5;21;01mensemble\u001b[39;00m \u001b[38;5;28;01mimport\u001b[39;00m RandomForestClassifier\n\u001b[1;32m     16\u001b[0m \u001b[38;5;28;01mfrom\u001b[39;00m \u001b[38;5;21;01mjoblib\u001b[39;00m \u001b[38;5;28;01mimport\u001b[39;00m dump, load\n",
      "\u001b[0;31mModuleNotFoundError\u001b[0m: No module named 'sklearn'"
     ]
    }
   ],
   "source": [
    "from pyspark.sql import SparkSession\n",
    "from pyspark.sql.functions import *\n",
    "import pandas as pd\n",
    "import numpy as np\n",
    "import time\n",
    "import os\n",
    "from pyspark.sql import functions as F\n",
    "from pyspark.sql.functions import col, expr, col, concat, lit\n",
    "from pyspark.sql.types import IntegerType\n",
    "import warnings\n",
    "warnings.filterwarnings(\"ignore\")\n",
    "warnings.filterwarnings(\"ignore\", category=UserWarning, module=\"pyspark\")\n",
    "\n",
    "from sklearn.linear_model import LogisticRegression, SGDClassifier\n",
    "from sklearn.ensemble import RandomForestClassifier\n",
    "from joblib import dump, load\n",
    "from sklearn.preprocessing import MinMaxScaler"
   ]
  },
  {
   "cell_type": "code",
   "execution_count": 4,
   "id": "d732d575-16d1-4310-83f9-0a562c2266b5",
   "metadata": {
    "tags": []
   },
   "outputs": [
    {
     "name": "stdout",
     "output_type": "stream",
     "text": [
      "Collecting sklearn\n",
      "  Using cached sklearn-0.0.post12.tar.gz (2.6 kB)\n",
      "  Preparing metadata (setup.py) ... \u001b[?25lerror\n",
      "  \u001b[1;31merror\u001b[0m: \u001b[1msubprocess-exited-with-error\u001b[0m\n",
      "  \n",
      "  \u001b[31m×\u001b[0m \u001b[32mpython setup.py egg_info\u001b[0m did not run successfully.\n",
      "  \u001b[31m│\u001b[0m exit code: \u001b[1;36m1\u001b[0m\n",
      "  \u001b[31m╰─>\u001b[0m \u001b[31m[15 lines of output]\u001b[0m\n",
      "  \u001b[31m   \u001b[0m The 'sklearn' PyPI package is deprecated, use 'scikit-learn'\n",
      "  \u001b[31m   \u001b[0m rather than 'sklearn' for pip commands.\n",
      "  \u001b[31m   \u001b[0m \n",
      "  \u001b[31m   \u001b[0m Here is how to fix this error in the main use cases:\n",
      "  \u001b[31m   \u001b[0m - use 'pip install scikit-learn' rather than 'pip install sklearn'\n",
      "  \u001b[31m   \u001b[0m - replace 'sklearn' by 'scikit-learn' in your pip requirements files\n",
      "  \u001b[31m   \u001b[0m   (requirements.txt, setup.py, setup.cfg, Pipfile, etc ...)\n",
      "  \u001b[31m   \u001b[0m - if the 'sklearn' package is used by one of your dependencies,\n",
      "  \u001b[31m   \u001b[0m   it would be great if you take some time to track which package uses\n",
      "  \u001b[31m   \u001b[0m   'sklearn' instead of 'scikit-learn' and report it to their issue tracker\n",
      "  \u001b[31m   \u001b[0m - as a last resort, set the environment variable\n",
      "  \u001b[31m   \u001b[0m   SKLEARN_ALLOW_DEPRECATED_SKLEARN_PACKAGE_INSTALL=True to avoid this error\n",
      "  \u001b[31m   \u001b[0m \n",
      "  \u001b[31m   \u001b[0m More information is available at\n",
      "  \u001b[31m   \u001b[0m https://github.com/scikit-learn/sklearn-pypi-package\n",
      "  \u001b[31m   \u001b[0m \u001b[31m[end of output]\u001b[0m\n",
      "  \n",
      "  \u001b[1;35mnote\u001b[0m: This error originates from a subprocess, and is likely not a problem with pip.\n",
      "\u001b[?25h\u001b[1;31merror\u001b[0m: \u001b[1mmetadata-generation-failed\u001b[0m\n",
      "\n",
      "\u001b[31m×\u001b[0m Encountered error while generating package metadata.\n",
      "\u001b[31m╰─>\u001b[0m See above for output.\n",
      "\n",
      "\u001b[1;35mnote\u001b[0m: This is an issue with the package mentioned above, not pip.\n",
      "\u001b[1;36mhint\u001b[0m: See above for details.\n"
     ]
    }
   ],
   "source": [
    "!pip install sklearn"
   ]
  },
  {
   "cell_type": "code",
   "execution_count": 5,
   "id": "568ea7c1-8548-4581-8fbc-58476daf237e",
   "metadata": {
    "tags": []
   },
   "outputs": [],
   "source": [
    "# spark.stop()"
   ]
  },
  {
   "cell_type": "code",
   "execution_count": 6,
   "id": "abc6a62b-9613-4efe-9557-eb0b5374a754",
   "metadata": {
    "tags": []
   },
   "outputs": [
    {
     "name": "stderr",
     "output_type": "stream",
     "text": [
      "24/04/08 21:28:56 WARN SparkConf: The configuration key 'spark.yarn.access.hadoopFileSystems' has been deprecated as of Spark 3.0 and may be removed in the future. Please use the new key 'spark.kerberos.access.hadoopFileSystems' instead.\n",
      "24/04/08 21:28:56 WARN SparkConf: The configuration key 'spark.yarn.access.hadoopFileSystems' has been deprecated as of Spark 3.0 and may be removed in the future. Please use the new key 'spark.kerberos.access.hadoopFileSystems' instead.\n",
      "Using Spark's default log4j profile: org/apache/spark/log4j-defaults.properties\n",
      "Setting default log level to \"WARN\".\n",
      "To adjust logging level use sc.setLogLevel(newLevel). For SparkR, use setLogLevel(newLevel).\n",
      "24/04/08 21:28:57 WARN SparkConf: The configuration key 'spark.yarn.access.hadoopFileSystems' has been deprecated as of Spark 3.0 and may be removed in the future. Please use the new key 'spark.kerberos.access.hadoopFileSystems' instead.\n",
      "24/04/08 21:28:57 WARN SparkConf: The configuration key 'spark.yarn.access.hadoopFileSystems' has been deprecated as of Spark 3.0 and may be removed in the future. Please use the new key 'spark.kerberos.access.hadoopFileSystems' instead.\n",
      "24/04/08 21:28:57 WARN SparkConf: The configuration key 'spark.yarn.access.hadoopFileSystems' has been deprecated as of Spark 3.0 and may be removed in the future. Please use the new key 'spark.kerberos.access.hadoopFileSystems' instead.\n",
      "24/04/08 21:28:58 WARN Utils: Service 'SparkUI' could not bind on port 20049. Attempting port 20050.\n"
     ]
    }
   ],
   "source": [
    "spark = SparkSession.builder \\\n",
    "    .appName(\"Test\") \\\n",
    "    .config(\"spark.yarn.access.hadoopFileSystems\",\"abfs://data@datalakesii.dfs.core.windows.net/\") \\\n",
    "    .master(\"local[*]\") \\\n",
    "    .getOrCreate()\n",
    "\n",
    "spark.conf.set(\"spark.sql.parquet.enableVectorizedReader\",\"false\")"
   ]
  },
  {
   "cell_type": "markdown",
   "id": "332d3897-2159-459a-aac9-60bf68dc01fa",
   "metadata": {
    "tags": []
   },
   "source": [
    "## DJ1887 y DJ1879"
   ]
  },
  {
   "cell_type": "markdown",
   "id": "ce041ad0-42bd-4b8c-9845-2297a6f3e4c1",
   "metadata": {},
   "source": [
    "### Cantidad de trabajadores con contrato y honorarios de la última declaración (más rentas)"
   ]
  },
  {
   "cell_type": "markdown",
   "id": "fa1fdc7a-3b64-48b9-a57f-97b43d9e41ac",
   "metadata": {
    "tags": []
   },
   "source": [
    "#### DJ1887"
   ]
  },
  {
   "cell_type": "markdown",
   "id": "ae5ab655-9bc2-4d37-adc2-de7ae4e96157",
   "metadata": {},
   "source": [
    "Se cargan las DJ1887 para los periodos de estudio"
   ]
  },
  {
   "cell_type": "code",
   "execution_count": 9,
   "id": "576df7b2-b6df-4c92-93d4-f46a45e5c525",
   "metadata": {
    "tags": []
   },
   "outputs": [],
   "source": [
    "dj1887 = spark.read.parquet(\"abfs://data@datalakesii.dfs.core.windows.net/DatosOrigen/DW/DW_TRN_DJR_F1887_E\")\n",
    "dj1887 = dj1887.filter((dj1887.PERI_AGNO_MES_TRIBUTARIO == 202000) | (dj1887.PERI_AGNO_MES_TRIBUTARIO == 202100) | (dj1887.PERI_AGNO_MES_TRIBUTARIO == 202200))"
   ]
  },
  {
   "cell_type": "markdown",
   "id": "fe3b2187-48d7-48fa-8c86-f38f719a6762",
   "metadata": {},
   "source": [
    "Se hace el join con el vector objetivo"
   ]
  },
  {
   "cell_type": "code",
   "execution_count": 10,
   "id": "6e900929-9503-4864-ba70-b3d4760169ff",
   "metadata": {
    "tags": []
   },
   "outputs": [],
   "source": [
    "#dj1887_vo = vo_spark.join(dj1887, (vo_spark.CONT_RUT_E == dj1887.CONT_RUT) & (vo_spark.CONT_DV_E == dj1887.CONT_DV) & (vo_spark.AGNOMES_INI >= dj1887.PERI_AGNO_MES_TRIBUTARIO), 'left')"
   ]
  },
  {
   "cell_type": "markdown",
   "id": "ab042ac5-761f-4a02-a829-abbeaee82f8c",
   "metadata": {},
   "source": [
    "Se agrupa por rut y periodo, y se calculan las sumas de la rentas de los empleados y la cantidad de estos."
   ]
  },
  {
   "cell_type": "code",
   "execution_count": 11,
   "id": "5929e1d8-9106-473c-a27f-4876db2405f5",
   "metadata": {
    "tags": []
   },
   "outputs": [
    {
     "name": "stderr",
     "output_type": "stream",
     "text": [
      "                                                                                \r"
     ]
    }
   ],
   "source": [
    "cols = ['CONT_RUT','CONT_DV','PERI_AGNO_MES_TRIBUTARIO','F1887_RENTA_TOTAL_EXENTA','F1887_RENTA_NETA','F1887_IMPTO_RETE','F1887_MAYOR_RETE','F1887_RENTA_EXEN','F1887_REBAJA_ZON','F1887_INGRESO_ENE_SA_C37','F1887_INGRESO_FEB_SA_C38','F1887_INGRESO_MAR_SA_C39','F1887_INGRESO_ABR_SA_C40','F1887_INGRESO_MAY_SA_C41','F1887_INGRESO_JUN_SA_C42','F1887_INGRESO_JUL_SA_C43','F1887_INGRESO_AGO_SA_C44','F1887_INGRESO_SEP_SA_C45','F1887_INGRESO_OCT_SA_C46','F1887_INGRESO_NOV_SA_C47','F1887_INGRESO_DIC_SA_C48']\n",
    "rentas = dj1887.select(cols).groupBy(cols[:3]).sum('F1887_RENTA_TOTAL_EXENTA','F1887_RENTA_NETA','F1887_IMPTO_RETE','F1887_MAYOR_RETE','F1887_RENTA_EXEN','F1887_REBAJA_ZON','F1887_INGRESO_ENE_SA_C37','F1887_INGRESO_FEB_SA_C38','F1887_INGRESO_MAR_SA_C39','F1887_INGRESO_ABR_SA_C40','F1887_INGRESO_MAY_SA_C41','F1887_INGRESO_JUN_SA_C42','F1887_INGRESO_JUL_SA_C43','F1887_INGRESO_AGO_SA_C44','F1887_INGRESO_SEP_SA_C45','F1887_INGRESO_OCT_SA_C46','F1887_INGRESO_NOV_SA_C47','F1887_INGRESO_DIC_SA_C48').toPandas()\n",
    "count_trabajadores = dj1887.groupBy(cols[:3]).agg(countDistinct('CONT_RUT_INFO').alias(\"cantidad_trabajadores\")).toPandas()"
   ]
  },
  {
   "cell_type": "markdown",
   "id": "79c7e41c-9805-428d-9206-c572a0cd6162",
   "metadata": {},
   "source": [
    "Se selecciona la última declaración respecto al PT del F29 asociado y al PT del inicio de la fiscalizacion"
   ]
  },
  {
   "cell_type": "code",
   "execution_count": 13,
   "id": "73f14742-645b-4944-a823-a51f7d4d5c5b",
   "metadata": {
    "tags": []
   },
   "outputs": [],
   "source": [
    "#df_count_rentas = count_trabajadores.merge(rentas, how='left', on=['CONT_RUT','CONT_DV','PERI_AGNO_MES_TRIBUTARIO'])\\\n",
    "                                    #.merge(vo_pd, how='left', left_on=['CONT_RUT','CONT_DV'], right_on=['CONT_RUT_E','CONT_DV_E'])"
   ]
  },
  {
   "cell_type": "code",
   "execution_count": 14,
   "id": "b2412c96-0019-45bb-908e-340e017b1618",
   "metadata": {
    "tags": []
   },
   "outputs": [],
   "source": [
    "df_count_rentas = count_trabajadores.merge(rentas, how='left', on=['CONT_RUT','CONT_DV','PERI_AGNO_MES_TRIBUTARIO'])"
   ]
  },
  {
   "cell_type": "code",
   "execution_count": 15,
   "id": "e9f2a79c-a37a-4ce5-906f-570f7de2cf9c",
   "metadata": {
    "tags": []
   },
   "outputs": [
    {
     "ename": "UndefinedVariableError",
     "evalue": "name 'AGNOMES_INI' is not defined",
     "output_type": "error",
     "traceback": [
      "\u001b[0;31m---------------------------------------------------------------------------\u001b[0m",
      "\u001b[0;31mKeyError\u001b[0m                                  Traceback (most recent call last)",
      "File \u001b[0;32m/usr/local/lib/python3.10/site-packages/pandas/core/computation/scope.py:231\u001b[0m, in \u001b[0;36mScope.resolve\u001b[0;34m(self, key, is_local)\u001b[0m\n\u001b[1;32m    230\u001b[0m \u001b[38;5;28;01mif\u001b[39;00m \u001b[38;5;28mself\u001b[39m\u001b[38;5;241m.\u001b[39mhas_resolvers:\n\u001b[0;32m--> 231\u001b[0m     \u001b[38;5;28;01mreturn\u001b[39;00m \u001b[38;5;28;43mself\u001b[39;49m\u001b[38;5;241;43m.\u001b[39;49m\u001b[43mresolvers\u001b[49m\u001b[43m[\u001b[49m\u001b[43mkey\u001b[49m\u001b[43m]\u001b[49m\n\u001b[1;32m    233\u001b[0m \u001b[38;5;66;03m# if we're here that means that we have no locals and we also have\u001b[39;00m\n\u001b[1;32m    234\u001b[0m \u001b[38;5;66;03m# no resolvers\u001b[39;00m\n",
      "File \u001b[0;32m/usr/local/lib/python3.10/collections/__init__.py:986\u001b[0m, in \u001b[0;36mChainMap.__getitem__\u001b[0;34m(self, key)\u001b[0m\n\u001b[1;32m    985\u001b[0m         \u001b[38;5;28;01mpass\u001b[39;00m\n\u001b[0;32m--> 986\u001b[0m \u001b[38;5;28;01mreturn\u001b[39;00m \u001b[38;5;28;43mself\u001b[39;49m\u001b[38;5;241;43m.\u001b[39;49m\u001b[38;5;21;43m__missing__\u001b[39;49m\u001b[43m(\u001b[49m\u001b[43mkey\u001b[49m\u001b[43m)\u001b[49m\n",
      "File \u001b[0;32m/usr/local/lib/python3.10/collections/__init__.py:978\u001b[0m, in \u001b[0;36mChainMap.__missing__\u001b[0;34m(self, key)\u001b[0m\n\u001b[1;32m    977\u001b[0m \u001b[38;5;28;01mdef\u001b[39;00m \u001b[38;5;21m__missing__\u001b[39m(\u001b[38;5;28mself\u001b[39m, key):\n\u001b[0;32m--> 978\u001b[0m     \u001b[38;5;28;01mraise\u001b[39;00m \u001b[38;5;167;01mKeyError\u001b[39;00m(key)\n",
      "\u001b[0;31mKeyError\u001b[0m: 'AGNOMES_INI'",
      "\nDuring handling of the above exception, another exception occurred:\n",
      "\u001b[0;31mKeyError\u001b[0m                                  Traceback (most recent call last)",
      "File \u001b[0;32m/usr/local/lib/python3.10/site-packages/pandas/core/computation/scope.py:242\u001b[0m, in \u001b[0;36mScope.resolve\u001b[0;34m(self, key, is_local)\u001b[0m\n\u001b[1;32m    238\u001b[0m \u001b[38;5;28;01mtry\u001b[39;00m:\n\u001b[1;32m    239\u001b[0m     \u001b[38;5;66;03m# last ditch effort we look in temporaries\u001b[39;00m\n\u001b[1;32m    240\u001b[0m     \u001b[38;5;66;03m# these are created when parsing indexing expressions\u001b[39;00m\n\u001b[1;32m    241\u001b[0m     \u001b[38;5;66;03m# e.g., df[df > 0]\u001b[39;00m\n\u001b[0;32m--> 242\u001b[0m     \u001b[38;5;28;01mreturn\u001b[39;00m \u001b[38;5;28;43mself\u001b[39;49m\u001b[38;5;241;43m.\u001b[39;49m\u001b[43mtemps\u001b[49m\u001b[43m[\u001b[49m\u001b[43mkey\u001b[49m\u001b[43m]\u001b[49m\n\u001b[1;32m    243\u001b[0m \u001b[38;5;28;01mexcept\u001b[39;00m \u001b[38;5;167;01mKeyError\u001b[39;00m \u001b[38;5;28;01mas\u001b[39;00m err:\n",
      "\u001b[0;31mKeyError\u001b[0m: 'AGNOMES_INI'",
      "\nThe above exception was the direct cause of the following exception:\n",
      "\u001b[0;31mUndefinedVariableError\u001b[0m                    Traceback (most recent call last)",
      "Cell \u001b[0;32mIn[15], line 2\u001b[0m\n\u001b[1;32m      1\u001b[0m \u001b[38;5;66;03m# ultimo desde el inicio de la fiscalización\u001b[39;00m\n\u001b[0;32m----> 2\u001b[0m dj1887_u_ini_fisc \u001b[38;5;241m=\u001b[39m \u001b[43mdf_count_rentas\u001b[49m\u001b[38;5;241;43m.\u001b[39;49m\u001b[43mquery\u001b[49m\u001b[43m(\u001b[49m\u001b[38;5;124;43m\"\u001b[39;49m\u001b[38;5;124;43m`AGNOMES_INI` >= `PERI_AGNO_MES_TRIBUTARIO`\u001b[39;49m\u001b[38;5;124;43m\"\u001b[39;49m\u001b[43m)\u001b[49m\\\n\u001b[1;32m      3\u001b[0m                                     \u001b[38;5;241m.\u001b[39msort_values(by\u001b[38;5;241m=\u001b[39m[\u001b[38;5;124m'\u001b[39m\u001b[38;5;124mCONT_RUT\u001b[39m\u001b[38;5;124m'\u001b[39m, \u001b[38;5;124m'\u001b[39m\u001b[38;5;124mPERI_AGNO_MES_TRIBUTARIO\u001b[39m\u001b[38;5;124m'\u001b[39m], ascending\u001b[38;5;241m=\u001b[39m\u001b[38;5;28;01mFalse\u001b[39;00m) \\\n\u001b[1;32m      4\u001b[0m                                     \u001b[38;5;241m.\u001b[39mgroupby([\u001b[38;5;124m'\u001b[39m\u001b[38;5;124mCONT_RUT\u001b[39m\u001b[38;5;124m'\u001b[39m,\u001b[38;5;124m'\u001b[39m\u001b[38;5;124mCONT_DV\u001b[39m\u001b[38;5;124m'\u001b[39m])\\\n\u001b[1;32m      5\u001b[0m                                     \u001b[38;5;241m.\u001b[39mfirst()\n\u001b[1;32m      7\u001b[0m \u001b[38;5;66;03m# ultimo desde el f29 asociado \u001b[39;00m\n\u001b[1;32m      8\u001b[0m dj1887_u_f29 \u001b[38;5;241m=\u001b[39m df_count_rentas\u001b[38;5;241m.\u001b[39mquery(\u001b[38;5;124m\"\u001b[39m\u001b[38;5;124m`F29_AGNO_MES_TRIBUTARIO` >= `PERI_AGNO_MES_TRIBUTARIO`\u001b[39m\u001b[38;5;124m\"\u001b[39m)\\\n\u001b[1;32m      9\u001b[0m                                 \u001b[38;5;241m.\u001b[39msort_values(by\u001b[38;5;241m=\u001b[39m[\u001b[38;5;124m'\u001b[39m\u001b[38;5;124mCONT_RUT\u001b[39m\u001b[38;5;124m'\u001b[39m, \u001b[38;5;124m'\u001b[39m\u001b[38;5;124mPERI_AGNO_MES_TRIBUTARIO\u001b[39m\u001b[38;5;124m'\u001b[39m], ascending\u001b[38;5;241m=\u001b[39m\u001b[38;5;28;01mFalse\u001b[39;00m) \\\n\u001b[1;32m     10\u001b[0m                                 \u001b[38;5;241m.\u001b[39mgroupby([\u001b[38;5;124m'\u001b[39m\u001b[38;5;124mCONT_RUT\u001b[39m\u001b[38;5;124m'\u001b[39m,\u001b[38;5;124m'\u001b[39m\u001b[38;5;124mCONT_DV\u001b[39m\u001b[38;5;124m'\u001b[39m])\\\n\u001b[1;32m     11\u001b[0m                                 \u001b[38;5;241m.\u001b[39mfirst()\n",
      "File \u001b[0;32m/usr/local/lib/python3.10/site-packages/pandas/core/frame.py:4599\u001b[0m, in \u001b[0;36mDataFrame.query\u001b[0;34m(self, expr, inplace, **kwargs)\u001b[0m\n\u001b[1;32m   4597\u001b[0m kwargs[\u001b[38;5;124m\"\u001b[39m\u001b[38;5;124mlevel\u001b[39m\u001b[38;5;124m\"\u001b[39m] \u001b[38;5;241m=\u001b[39m kwargs\u001b[38;5;241m.\u001b[39mpop(\u001b[38;5;124m\"\u001b[39m\u001b[38;5;124mlevel\u001b[39m\u001b[38;5;124m\"\u001b[39m, \u001b[38;5;241m0\u001b[39m) \u001b[38;5;241m+\u001b[39m \u001b[38;5;241m1\u001b[39m\n\u001b[1;32m   4598\u001b[0m kwargs[\u001b[38;5;124m\"\u001b[39m\u001b[38;5;124mtarget\u001b[39m\u001b[38;5;124m\"\u001b[39m] \u001b[38;5;241m=\u001b[39m \u001b[38;5;28;01mNone\u001b[39;00m\n\u001b[0;32m-> 4599\u001b[0m res \u001b[38;5;241m=\u001b[39m \u001b[38;5;28;43mself\u001b[39;49m\u001b[38;5;241;43m.\u001b[39;49m\u001b[43meval\u001b[49m\u001b[43m(\u001b[49m\u001b[43mexpr\u001b[49m\u001b[43m,\u001b[49m\u001b[43m \u001b[49m\u001b[38;5;241;43m*\u001b[39;49m\u001b[38;5;241;43m*\u001b[39;49m\u001b[43mkwargs\u001b[49m\u001b[43m)\u001b[49m\n\u001b[1;32m   4601\u001b[0m \u001b[38;5;28;01mtry\u001b[39;00m:\n\u001b[1;32m   4602\u001b[0m     result \u001b[38;5;241m=\u001b[39m \u001b[38;5;28mself\u001b[39m\u001b[38;5;241m.\u001b[39mloc[res]\n",
      "File \u001b[0;32m/usr/local/lib/python3.10/site-packages/pandas/core/frame.py:4725\u001b[0m, in \u001b[0;36mDataFrame.eval\u001b[0;34m(self, expr, inplace, **kwargs)\u001b[0m\n\u001b[1;32m   4722\u001b[0m     kwargs[\u001b[38;5;124m\"\u001b[39m\u001b[38;5;124mtarget\u001b[39m\u001b[38;5;124m\"\u001b[39m] \u001b[38;5;241m=\u001b[39m \u001b[38;5;28mself\u001b[39m\n\u001b[1;32m   4723\u001b[0m kwargs[\u001b[38;5;124m\"\u001b[39m\u001b[38;5;124mresolvers\u001b[39m\u001b[38;5;124m\"\u001b[39m] \u001b[38;5;241m=\u001b[39m \u001b[38;5;28mtuple\u001b[39m(kwargs\u001b[38;5;241m.\u001b[39mget(\u001b[38;5;124m\"\u001b[39m\u001b[38;5;124mresolvers\u001b[39m\u001b[38;5;124m\"\u001b[39m, ())) \u001b[38;5;241m+\u001b[39m resolvers\n\u001b[0;32m-> 4725\u001b[0m \u001b[38;5;28;01mreturn\u001b[39;00m \u001b[43m_eval\u001b[49m\u001b[43m(\u001b[49m\u001b[43mexpr\u001b[49m\u001b[43m,\u001b[49m\u001b[43m \u001b[49m\u001b[43minplace\u001b[49m\u001b[38;5;241;43m=\u001b[39;49m\u001b[43minplace\u001b[49m\u001b[43m,\u001b[49m\u001b[43m \u001b[49m\u001b[38;5;241;43m*\u001b[39;49m\u001b[38;5;241;43m*\u001b[39;49m\u001b[43mkwargs\u001b[49m\u001b[43m)\u001b[49m\n",
      "File \u001b[0;32m/usr/local/lib/python3.10/site-packages/pandas/core/computation/eval.py:336\u001b[0m, in \u001b[0;36meval\u001b[0;34m(expr, parser, engine, local_dict, global_dict, resolvers, level, target, inplace)\u001b[0m\n\u001b[1;32m    327\u001b[0m \u001b[38;5;66;03m# get our (possibly passed-in) scope\u001b[39;00m\n\u001b[1;32m    328\u001b[0m env \u001b[38;5;241m=\u001b[39m ensure_scope(\n\u001b[1;32m    329\u001b[0m     level \u001b[38;5;241m+\u001b[39m \u001b[38;5;241m1\u001b[39m,\n\u001b[1;32m    330\u001b[0m     global_dict\u001b[38;5;241m=\u001b[39mglobal_dict,\n\u001b[0;32m   (...)\u001b[0m\n\u001b[1;32m    333\u001b[0m     target\u001b[38;5;241m=\u001b[39mtarget,\n\u001b[1;32m    334\u001b[0m )\n\u001b[0;32m--> 336\u001b[0m parsed_expr \u001b[38;5;241m=\u001b[39m \u001b[43mExpr\u001b[49m\u001b[43m(\u001b[49m\u001b[43mexpr\u001b[49m\u001b[43m,\u001b[49m\u001b[43m \u001b[49m\u001b[43mengine\u001b[49m\u001b[38;5;241;43m=\u001b[39;49m\u001b[43mengine\u001b[49m\u001b[43m,\u001b[49m\u001b[43m \u001b[49m\u001b[43mparser\u001b[49m\u001b[38;5;241;43m=\u001b[39;49m\u001b[43mparser\u001b[49m\u001b[43m,\u001b[49m\u001b[43m \u001b[49m\u001b[43menv\u001b[49m\u001b[38;5;241;43m=\u001b[39;49m\u001b[43menv\u001b[49m\u001b[43m)\u001b[49m\n\u001b[1;32m    338\u001b[0m \u001b[38;5;28;01mif\u001b[39;00m engine \u001b[38;5;241m==\u001b[39m \u001b[38;5;124m\"\u001b[39m\u001b[38;5;124mnumexpr\u001b[39m\u001b[38;5;124m\"\u001b[39m \u001b[38;5;129;01mand\u001b[39;00m (\n\u001b[1;32m    339\u001b[0m     is_extension_array_dtype(parsed_expr\u001b[38;5;241m.\u001b[39mterms\u001b[38;5;241m.\u001b[39mreturn_type)\n\u001b[1;32m    340\u001b[0m     \u001b[38;5;129;01mor\u001b[39;00m \u001b[38;5;28mgetattr\u001b[39m(parsed_expr\u001b[38;5;241m.\u001b[39mterms, \u001b[38;5;124m\"\u001b[39m\u001b[38;5;124moperand_types\u001b[39m\u001b[38;5;124m\"\u001b[39m, \u001b[38;5;28;01mNone\u001b[39;00m) \u001b[38;5;129;01mis\u001b[39;00m \u001b[38;5;129;01mnot\u001b[39;00m \u001b[38;5;28;01mNone\u001b[39;00m\n\u001b[0;32m   (...)\u001b[0m\n\u001b[1;32m    344\u001b[0m     )\n\u001b[1;32m    345\u001b[0m ):\n\u001b[1;32m    346\u001b[0m     warnings\u001b[38;5;241m.\u001b[39mwarn(\n\u001b[1;32m    347\u001b[0m         \u001b[38;5;124m\"\u001b[39m\u001b[38;5;124mEngine has switched to \u001b[39m\u001b[38;5;124m'\u001b[39m\u001b[38;5;124mpython\u001b[39m\u001b[38;5;124m'\u001b[39m\u001b[38;5;124m because numexpr does not support \u001b[39m\u001b[38;5;124m\"\u001b[39m\n\u001b[1;32m    348\u001b[0m         \u001b[38;5;124m\"\u001b[39m\u001b[38;5;124mextension array dtypes. Please set your engine to python manually.\u001b[39m\u001b[38;5;124m\"\u001b[39m,\n\u001b[1;32m    349\u001b[0m         \u001b[38;5;167;01mRuntimeWarning\u001b[39;00m,\n\u001b[1;32m    350\u001b[0m         stacklevel\u001b[38;5;241m=\u001b[39mfind_stack_level(),\n\u001b[1;32m    351\u001b[0m     )\n",
      "File \u001b[0;32m/usr/local/lib/python3.10/site-packages/pandas/core/computation/expr.py:808\u001b[0m, in \u001b[0;36mExpr.__init__\u001b[0;34m(self, expr, engine, parser, env, level)\u001b[0m\n\u001b[1;32m    806\u001b[0m \u001b[38;5;28mself\u001b[39m\u001b[38;5;241m.\u001b[39mparser \u001b[38;5;241m=\u001b[39m parser\n\u001b[1;32m    807\u001b[0m \u001b[38;5;28mself\u001b[39m\u001b[38;5;241m.\u001b[39m_visitor \u001b[38;5;241m=\u001b[39m PARSERS[parser](\u001b[38;5;28mself\u001b[39m\u001b[38;5;241m.\u001b[39menv, \u001b[38;5;28mself\u001b[39m\u001b[38;5;241m.\u001b[39mengine, \u001b[38;5;28mself\u001b[39m\u001b[38;5;241m.\u001b[39mparser)\n\u001b[0;32m--> 808\u001b[0m \u001b[38;5;28mself\u001b[39m\u001b[38;5;241m.\u001b[39mterms \u001b[38;5;241m=\u001b[39m \u001b[38;5;28;43mself\u001b[39;49m\u001b[38;5;241;43m.\u001b[39;49m\u001b[43mparse\u001b[49m\u001b[43m(\u001b[49m\u001b[43m)\u001b[49m\n",
      "File \u001b[0;32m/usr/local/lib/python3.10/site-packages/pandas/core/computation/expr.py:827\u001b[0m, in \u001b[0;36mExpr.parse\u001b[0;34m(self)\u001b[0m\n\u001b[1;32m    823\u001b[0m \u001b[38;5;28;01mdef\u001b[39;00m \u001b[38;5;21mparse\u001b[39m(\u001b[38;5;28mself\u001b[39m):\n\u001b[1;32m    824\u001b[0m \u001b[38;5;250m    \u001b[39m\u001b[38;5;124;03m\"\"\"\u001b[39;00m\n\u001b[1;32m    825\u001b[0m \u001b[38;5;124;03m    Parse an expression.\u001b[39;00m\n\u001b[1;32m    826\u001b[0m \u001b[38;5;124;03m    \"\"\"\u001b[39;00m\n\u001b[0;32m--> 827\u001b[0m     \u001b[38;5;28;01mreturn\u001b[39;00m \u001b[38;5;28;43mself\u001b[39;49m\u001b[38;5;241;43m.\u001b[39;49m\u001b[43m_visitor\u001b[49m\u001b[38;5;241;43m.\u001b[39;49m\u001b[43mvisit\u001b[49m\u001b[43m(\u001b[49m\u001b[38;5;28;43mself\u001b[39;49m\u001b[38;5;241;43m.\u001b[39;49m\u001b[43mexpr\u001b[49m\u001b[43m)\u001b[49m\n",
      "File \u001b[0;32m/usr/local/lib/python3.10/site-packages/pandas/core/computation/expr.py:411\u001b[0m, in \u001b[0;36mBaseExprVisitor.visit\u001b[0;34m(self, node, **kwargs)\u001b[0m\n\u001b[1;32m    409\u001b[0m method \u001b[38;5;241m=\u001b[39m \u001b[38;5;124mf\u001b[39m\u001b[38;5;124m\"\u001b[39m\u001b[38;5;124mvisit_\u001b[39m\u001b[38;5;132;01m{\u001b[39;00m\u001b[38;5;28mtype\u001b[39m(node)\u001b[38;5;241m.\u001b[39m\u001b[38;5;18m__name__\u001b[39m\u001b[38;5;132;01m}\u001b[39;00m\u001b[38;5;124m\"\u001b[39m\n\u001b[1;32m    410\u001b[0m visitor \u001b[38;5;241m=\u001b[39m \u001b[38;5;28mgetattr\u001b[39m(\u001b[38;5;28mself\u001b[39m, method)\n\u001b[0;32m--> 411\u001b[0m \u001b[38;5;28;01mreturn\u001b[39;00m \u001b[43mvisitor\u001b[49m\u001b[43m(\u001b[49m\u001b[43mnode\u001b[49m\u001b[43m,\u001b[49m\u001b[43m \u001b[49m\u001b[38;5;241;43m*\u001b[39;49m\u001b[38;5;241;43m*\u001b[39;49m\u001b[43mkwargs\u001b[49m\u001b[43m)\u001b[49m\n",
      "File \u001b[0;32m/usr/local/lib/python3.10/site-packages/pandas/core/computation/expr.py:417\u001b[0m, in \u001b[0;36mBaseExprVisitor.visit_Module\u001b[0;34m(self, node, **kwargs)\u001b[0m\n\u001b[1;32m    415\u001b[0m     \u001b[38;5;28;01mraise\u001b[39;00m \u001b[38;5;167;01mSyntaxError\u001b[39;00m(\u001b[38;5;124m\"\u001b[39m\u001b[38;5;124monly a single expression is allowed\u001b[39m\u001b[38;5;124m\"\u001b[39m)\n\u001b[1;32m    416\u001b[0m expr \u001b[38;5;241m=\u001b[39m node\u001b[38;5;241m.\u001b[39mbody[\u001b[38;5;241m0\u001b[39m]\n\u001b[0;32m--> 417\u001b[0m \u001b[38;5;28;01mreturn\u001b[39;00m \u001b[38;5;28;43mself\u001b[39;49m\u001b[38;5;241;43m.\u001b[39;49m\u001b[43mvisit\u001b[49m\u001b[43m(\u001b[49m\u001b[43mexpr\u001b[49m\u001b[43m,\u001b[49m\u001b[43m \u001b[49m\u001b[38;5;241;43m*\u001b[39;49m\u001b[38;5;241;43m*\u001b[39;49m\u001b[43mkwargs\u001b[49m\u001b[43m)\u001b[49m\n",
      "File \u001b[0;32m/usr/local/lib/python3.10/site-packages/pandas/core/computation/expr.py:411\u001b[0m, in \u001b[0;36mBaseExprVisitor.visit\u001b[0;34m(self, node, **kwargs)\u001b[0m\n\u001b[1;32m    409\u001b[0m method \u001b[38;5;241m=\u001b[39m \u001b[38;5;124mf\u001b[39m\u001b[38;5;124m\"\u001b[39m\u001b[38;5;124mvisit_\u001b[39m\u001b[38;5;132;01m{\u001b[39;00m\u001b[38;5;28mtype\u001b[39m(node)\u001b[38;5;241m.\u001b[39m\u001b[38;5;18m__name__\u001b[39m\u001b[38;5;132;01m}\u001b[39;00m\u001b[38;5;124m\"\u001b[39m\n\u001b[1;32m    410\u001b[0m visitor \u001b[38;5;241m=\u001b[39m \u001b[38;5;28mgetattr\u001b[39m(\u001b[38;5;28mself\u001b[39m, method)\n\u001b[0;32m--> 411\u001b[0m \u001b[38;5;28;01mreturn\u001b[39;00m \u001b[43mvisitor\u001b[49m\u001b[43m(\u001b[49m\u001b[43mnode\u001b[49m\u001b[43m,\u001b[49m\u001b[43m \u001b[49m\u001b[38;5;241;43m*\u001b[39;49m\u001b[38;5;241;43m*\u001b[39;49m\u001b[43mkwargs\u001b[49m\u001b[43m)\u001b[49m\n",
      "File \u001b[0;32m/usr/local/lib/python3.10/site-packages/pandas/core/computation/expr.py:420\u001b[0m, in \u001b[0;36mBaseExprVisitor.visit_Expr\u001b[0;34m(self, node, **kwargs)\u001b[0m\n\u001b[1;32m    419\u001b[0m \u001b[38;5;28;01mdef\u001b[39;00m \u001b[38;5;21mvisit_Expr\u001b[39m(\u001b[38;5;28mself\u001b[39m, node, \u001b[38;5;241m*\u001b[39m\u001b[38;5;241m*\u001b[39mkwargs):\n\u001b[0;32m--> 420\u001b[0m     \u001b[38;5;28;01mreturn\u001b[39;00m \u001b[38;5;28;43mself\u001b[39;49m\u001b[38;5;241;43m.\u001b[39;49m\u001b[43mvisit\u001b[49m\u001b[43m(\u001b[49m\u001b[43mnode\u001b[49m\u001b[38;5;241;43m.\u001b[39;49m\u001b[43mvalue\u001b[49m\u001b[43m,\u001b[49m\u001b[43m \u001b[49m\u001b[38;5;241;43m*\u001b[39;49m\u001b[38;5;241;43m*\u001b[39;49m\u001b[43mkwargs\u001b[49m\u001b[43m)\u001b[49m\n",
      "File \u001b[0;32m/usr/local/lib/python3.10/site-packages/pandas/core/computation/expr.py:411\u001b[0m, in \u001b[0;36mBaseExprVisitor.visit\u001b[0;34m(self, node, **kwargs)\u001b[0m\n\u001b[1;32m    409\u001b[0m method \u001b[38;5;241m=\u001b[39m \u001b[38;5;124mf\u001b[39m\u001b[38;5;124m\"\u001b[39m\u001b[38;5;124mvisit_\u001b[39m\u001b[38;5;132;01m{\u001b[39;00m\u001b[38;5;28mtype\u001b[39m(node)\u001b[38;5;241m.\u001b[39m\u001b[38;5;18m__name__\u001b[39m\u001b[38;5;132;01m}\u001b[39;00m\u001b[38;5;124m\"\u001b[39m\n\u001b[1;32m    410\u001b[0m visitor \u001b[38;5;241m=\u001b[39m \u001b[38;5;28mgetattr\u001b[39m(\u001b[38;5;28mself\u001b[39m, method)\n\u001b[0;32m--> 411\u001b[0m \u001b[38;5;28;01mreturn\u001b[39;00m \u001b[43mvisitor\u001b[49m\u001b[43m(\u001b[49m\u001b[43mnode\u001b[49m\u001b[43m,\u001b[49m\u001b[43m \u001b[49m\u001b[38;5;241;43m*\u001b[39;49m\u001b[38;5;241;43m*\u001b[39;49m\u001b[43mkwargs\u001b[49m\u001b[43m)\u001b[49m\n",
      "File \u001b[0;32m/usr/local/lib/python3.10/site-packages/pandas/core/computation/expr.py:718\u001b[0m, in \u001b[0;36mBaseExprVisitor.visit_Compare\u001b[0;34m(self, node, **kwargs)\u001b[0m\n\u001b[1;32m    716\u001b[0m     op \u001b[38;5;241m=\u001b[39m \u001b[38;5;28mself\u001b[39m\u001b[38;5;241m.\u001b[39mtranslate_In(ops[\u001b[38;5;241m0\u001b[39m])\n\u001b[1;32m    717\u001b[0m     binop \u001b[38;5;241m=\u001b[39m ast\u001b[38;5;241m.\u001b[39mBinOp(op\u001b[38;5;241m=\u001b[39mop, left\u001b[38;5;241m=\u001b[39mnode\u001b[38;5;241m.\u001b[39mleft, right\u001b[38;5;241m=\u001b[39mcomps[\u001b[38;5;241m0\u001b[39m])\n\u001b[0;32m--> 718\u001b[0m     \u001b[38;5;28;01mreturn\u001b[39;00m \u001b[38;5;28;43mself\u001b[39;49m\u001b[38;5;241;43m.\u001b[39;49m\u001b[43mvisit\u001b[49m\u001b[43m(\u001b[49m\u001b[43mbinop\u001b[49m\u001b[43m)\u001b[49m\n\u001b[1;32m    720\u001b[0m \u001b[38;5;66;03m# recursive case: we have a chained comparison, a CMP b CMP c, etc.\u001b[39;00m\n\u001b[1;32m    721\u001b[0m left \u001b[38;5;241m=\u001b[39m node\u001b[38;5;241m.\u001b[39mleft\n",
      "File \u001b[0;32m/usr/local/lib/python3.10/site-packages/pandas/core/computation/expr.py:411\u001b[0m, in \u001b[0;36mBaseExprVisitor.visit\u001b[0;34m(self, node, **kwargs)\u001b[0m\n\u001b[1;32m    409\u001b[0m method \u001b[38;5;241m=\u001b[39m \u001b[38;5;124mf\u001b[39m\u001b[38;5;124m\"\u001b[39m\u001b[38;5;124mvisit_\u001b[39m\u001b[38;5;132;01m{\u001b[39;00m\u001b[38;5;28mtype\u001b[39m(node)\u001b[38;5;241m.\u001b[39m\u001b[38;5;18m__name__\u001b[39m\u001b[38;5;132;01m}\u001b[39;00m\u001b[38;5;124m\"\u001b[39m\n\u001b[1;32m    410\u001b[0m visitor \u001b[38;5;241m=\u001b[39m \u001b[38;5;28mgetattr\u001b[39m(\u001b[38;5;28mself\u001b[39m, method)\n\u001b[0;32m--> 411\u001b[0m \u001b[38;5;28;01mreturn\u001b[39;00m \u001b[43mvisitor\u001b[49m\u001b[43m(\u001b[49m\u001b[43mnode\u001b[49m\u001b[43m,\u001b[49m\u001b[43m \u001b[49m\u001b[38;5;241;43m*\u001b[39;49m\u001b[38;5;241;43m*\u001b[39;49m\u001b[43mkwargs\u001b[49m\u001b[43m)\u001b[49m\n",
      "File \u001b[0;32m/usr/local/lib/python3.10/site-packages/pandas/core/computation/expr.py:531\u001b[0m, in \u001b[0;36mBaseExprVisitor.visit_BinOp\u001b[0;34m(self, node, **kwargs)\u001b[0m\n\u001b[1;32m    530\u001b[0m \u001b[38;5;28;01mdef\u001b[39;00m \u001b[38;5;21mvisit_BinOp\u001b[39m(\u001b[38;5;28mself\u001b[39m, node, \u001b[38;5;241m*\u001b[39m\u001b[38;5;241m*\u001b[39mkwargs):\n\u001b[0;32m--> 531\u001b[0m     op, op_class, left, right \u001b[38;5;241m=\u001b[39m \u001b[38;5;28;43mself\u001b[39;49m\u001b[38;5;241;43m.\u001b[39;49m\u001b[43m_maybe_transform_eq_ne\u001b[49m\u001b[43m(\u001b[49m\u001b[43mnode\u001b[49m\u001b[43m)\u001b[49m\n\u001b[1;32m    532\u001b[0m     left, right \u001b[38;5;241m=\u001b[39m \u001b[38;5;28mself\u001b[39m\u001b[38;5;241m.\u001b[39m_maybe_downcast_constants(left, right)\n\u001b[1;32m    533\u001b[0m     \u001b[38;5;28;01mreturn\u001b[39;00m \u001b[38;5;28mself\u001b[39m\u001b[38;5;241m.\u001b[39m_maybe_evaluate_binop(op, op_class, left, right)\n",
      "File \u001b[0;32m/usr/local/lib/python3.10/site-packages/pandas/core/computation/expr.py:451\u001b[0m, in \u001b[0;36mBaseExprVisitor._maybe_transform_eq_ne\u001b[0;34m(self, node, left, right)\u001b[0m\n\u001b[1;32m    449\u001b[0m \u001b[38;5;28;01mdef\u001b[39;00m \u001b[38;5;21m_maybe_transform_eq_ne\u001b[39m(\u001b[38;5;28mself\u001b[39m, node, left\u001b[38;5;241m=\u001b[39m\u001b[38;5;28;01mNone\u001b[39;00m, right\u001b[38;5;241m=\u001b[39m\u001b[38;5;28;01mNone\u001b[39;00m):\n\u001b[1;32m    450\u001b[0m     \u001b[38;5;28;01mif\u001b[39;00m left \u001b[38;5;129;01mis\u001b[39;00m \u001b[38;5;28;01mNone\u001b[39;00m:\n\u001b[0;32m--> 451\u001b[0m         left \u001b[38;5;241m=\u001b[39m \u001b[38;5;28;43mself\u001b[39;49m\u001b[38;5;241;43m.\u001b[39;49m\u001b[43mvisit\u001b[49m\u001b[43m(\u001b[49m\u001b[43mnode\u001b[49m\u001b[38;5;241;43m.\u001b[39;49m\u001b[43mleft\u001b[49m\u001b[43m,\u001b[49m\u001b[43m \u001b[49m\u001b[43mside\u001b[49m\u001b[38;5;241;43m=\u001b[39;49m\u001b[38;5;124;43m\"\u001b[39;49m\u001b[38;5;124;43mleft\u001b[39;49m\u001b[38;5;124;43m\"\u001b[39;49m\u001b[43m)\u001b[49m\n\u001b[1;32m    452\u001b[0m     \u001b[38;5;28;01mif\u001b[39;00m right \u001b[38;5;129;01mis\u001b[39;00m \u001b[38;5;28;01mNone\u001b[39;00m:\n\u001b[1;32m    453\u001b[0m         right \u001b[38;5;241m=\u001b[39m \u001b[38;5;28mself\u001b[39m\u001b[38;5;241m.\u001b[39mvisit(node\u001b[38;5;241m.\u001b[39mright, side\u001b[38;5;241m=\u001b[39m\u001b[38;5;124m\"\u001b[39m\u001b[38;5;124mright\u001b[39m\u001b[38;5;124m\"\u001b[39m)\n",
      "File \u001b[0;32m/usr/local/lib/python3.10/site-packages/pandas/core/computation/expr.py:411\u001b[0m, in \u001b[0;36mBaseExprVisitor.visit\u001b[0;34m(self, node, **kwargs)\u001b[0m\n\u001b[1;32m    409\u001b[0m method \u001b[38;5;241m=\u001b[39m \u001b[38;5;124mf\u001b[39m\u001b[38;5;124m\"\u001b[39m\u001b[38;5;124mvisit_\u001b[39m\u001b[38;5;132;01m{\u001b[39;00m\u001b[38;5;28mtype\u001b[39m(node)\u001b[38;5;241m.\u001b[39m\u001b[38;5;18m__name__\u001b[39m\u001b[38;5;132;01m}\u001b[39;00m\u001b[38;5;124m\"\u001b[39m\n\u001b[1;32m    410\u001b[0m visitor \u001b[38;5;241m=\u001b[39m \u001b[38;5;28mgetattr\u001b[39m(\u001b[38;5;28mself\u001b[39m, method)\n\u001b[0;32m--> 411\u001b[0m \u001b[38;5;28;01mreturn\u001b[39;00m \u001b[43mvisitor\u001b[49m\u001b[43m(\u001b[49m\u001b[43mnode\u001b[49m\u001b[43m,\u001b[49m\u001b[43m \u001b[49m\u001b[38;5;241;43m*\u001b[39;49m\u001b[38;5;241;43m*\u001b[39;49m\u001b[43mkwargs\u001b[49m\u001b[43m)\u001b[49m\n",
      "File \u001b[0;32m/usr/local/lib/python3.10/site-packages/pandas/core/computation/expr.py:544\u001b[0m, in \u001b[0;36mBaseExprVisitor.visit_Name\u001b[0;34m(self, node, **kwargs)\u001b[0m\n\u001b[1;32m    543\u001b[0m \u001b[38;5;28;01mdef\u001b[39;00m \u001b[38;5;21mvisit_Name\u001b[39m(\u001b[38;5;28mself\u001b[39m, node, \u001b[38;5;241m*\u001b[39m\u001b[38;5;241m*\u001b[39mkwargs):\n\u001b[0;32m--> 544\u001b[0m     \u001b[38;5;28;01mreturn\u001b[39;00m \u001b[38;5;28;43mself\u001b[39;49m\u001b[38;5;241;43m.\u001b[39;49m\u001b[43mterm_type\u001b[49m\u001b[43m(\u001b[49m\u001b[43mnode\u001b[49m\u001b[38;5;241;43m.\u001b[39;49m\u001b[43mid\u001b[49m\u001b[43m,\u001b[49m\u001b[43m \u001b[49m\u001b[38;5;28;43mself\u001b[39;49m\u001b[38;5;241;43m.\u001b[39;49m\u001b[43menv\u001b[49m\u001b[43m,\u001b[49m\u001b[43m \u001b[49m\u001b[38;5;241;43m*\u001b[39;49m\u001b[38;5;241;43m*\u001b[39;49m\u001b[43mkwargs\u001b[49m\u001b[43m)\u001b[49m\n",
      "File \u001b[0;32m/usr/local/lib/python3.10/site-packages/pandas/core/computation/ops.py:91\u001b[0m, in \u001b[0;36mTerm.__init__\u001b[0;34m(self, name, env, side, encoding)\u001b[0m\n\u001b[1;32m     89\u001b[0m tname \u001b[38;5;241m=\u001b[39m \u001b[38;5;28mstr\u001b[39m(name)\n\u001b[1;32m     90\u001b[0m \u001b[38;5;28mself\u001b[39m\u001b[38;5;241m.\u001b[39mis_local \u001b[38;5;241m=\u001b[39m tname\u001b[38;5;241m.\u001b[39mstartswith(LOCAL_TAG) \u001b[38;5;129;01mor\u001b[39;00m tname \u001b[38;5;129;01min\u001b[39;00m DEFAULT_GLOBALS\n\u001b[0;32m---> 91\u001b[0m \u001b[38;5;28mself\u001b[39m\u001b[38;5;241m.\u001b[39m_value \u001b[38;5;241m=\u001b[39m \u001b[38;5;28;43mself\u001b[39;49m\u001b[38;5;241;43m.\u001b[39;49m\u001b[43m_resolve_name\u001b[49m\u001b[43m(\u001b[49m\u001b[43m)\u001b[49m\n\u001b[1;32m     92\u001b[0m \u001b[38;5;28mself\u001b[39m\u001b[38;5;241m.\u001b[39mencoding \u001b[38;5;241m=\u001b[39m encoding\n",
      "File \u001b[0;32m/usr/local/lib/python3.10/site-packages/pandas/core/computation/ops.py:115\u001b[0m, in \u001b[0;36mTerm._resolve_name\u001b[0;34m(self)\u001b[0m\n\u001b[1;32m    110\u001b[0m \u001b[38;5;28;01mif\u001b[39;00m local_name \u001b[38;5;129;01min\u001b[39;00m \u001b[38;5;28mself\u001b[39m\u001b[38;5;241m.\u001b[39menv\u001b[38;5;241m.\u001b[39mscope \u001b[38;5;129;01mand\u001b[39;00m \u001b[38;5;28misinstance\u001b[39m(\n\u001b[1;32m    111\u001b[0m     \u001b[38;5;28mself\u001b[39m\u001b[38;5;241m.\u001b[39menv\u001b[38;5;241m.\u001b[39mscope[local_name], \u001b[38;5;28mtype\u001b[39m\n\u001b[1;32m    112\u001b[0m ):\n\u001b[1;32m    113\u001b[0m     is_local \u001b[38;5;241m=\u001b[39m \u001b[38;5;28;01mFalse\u001b[39;00m\n\u001b[0;32m--> 115\u001b[0m res \u001b[38;5;241m=\u001b[39m \u001b[38;5;28;43mself\u001b[39;49m\u001b[38;5;241;43m.\u001b[39;49m\u001b[43menv\u001b[49m\u001b[38;5;241;43m.\u001b[39;49m\u001b[43mresolve\u001b[49m\u001b[43m(\u001b[49m\u001b[43mlocal_name\u001b[49m\u001b[43m,\u001b[49m\u001b[43m \u001b[49m\u001b[43mis_local\u001b[49m\u001b[38;5;241;43m=\u001b[39;49m\u001b[43mis_local\u001b[49m\u001b[43m)\u001b[49m\n\u001b[1;32m    116\u001b[0m \u001b[38;5;28mself\u001b[39m\u001b[38;5;241m.\u001b[39mupdate(res)\n\u001b[1;32m    118\u001b[0m \u001b[38;5;28;01mif\u001b[39;00m \u001b[38;5;28mhasattr\u001b[39m(res, \u001b[38;5;124m\"\u001b[39m\u001b[38;5;124mndim\u001b[39m\u001b[38;5;124m\"\u001b[39m) \u001b[38;5;129;01mand\u001b[39;00m res\u001b[38;5;241m.\u001b[39mndim \u001b[38;5;241m>\u001b[39m \u001b[38;5;241m2\u001b[39m:\n",
      "File \u001b[0;32m/usr/local/lib/python3.10/site-packages/pandas/core/computation/scope.py:244\u001b[0m, in \u001b[0;36mScope.resolve\u001b[0;34m(self, key, is_local)\u001b[0m\n\u001b[1;32m    242\u001b[0m     \u001b[38;5;28;01mreturn\u001b[39;00m \u001b[38;5;28mself\u001b[39m\u001b[38;5;241m.\u001b[39mtemps[key]\n\u001b[1;32m    243\u001b[0m \u001b[38;5;28;01mexcept\u001b[39;00m \u001b[38;5;167;01mKeyError\u001b[39;00m \u001b[38;5;28;01mas\u001b[39;00m err:\n\u001b[0;32m--> 244\u001b[0m     \u001b[38;5;28;01mraise\u001b[39;00m UndefinedVariableError(key, is_local) \u001b[38;5;28;01mfrom\u001b[39;00m \u001b[38;5;21;01merr\u001b[39;00m\n",
      "\u001b[0;31mUndefinedVariableError\u001b[0m: name 'AGNOMES_INI' is not defined"
     ]
    }
   ],
   "source": [
    "# ultimo desde el inicio de la fiscalización\n",
    "dj1887_u_ini_fisc = df_count_rentas.query(\"`AGNOMES_INI` >= `PERI_AGNO_MES_TRIBUTARIO`\")\\\n",
    "                                    .sort_values(by=['CONT_RUT', 'PERI_AGNO_MES_TRIBUTARIO'], ascending=False) \\\n",
    "                                    .groupby(['CONT_RUT','CONT_DV'])\\\n",
    "                                    .first()\n",
    "\n",
    "# ultimo desde el f29 asociado \n",
    "dj1887_u_f29 = df_count_rentas.query(\"`F29_AGNO_MES_TRIBUTARIO` >= `PERI_AGNO_MES_TRIBUTARIO`\")\\\n",
    "                                .sort_values(by=['CONT_RUT', 'PERI_AGNO_MES_TRIBUTARIO'], ascending=False) \\\n",
    "                                .groupby(['CONT_RUT','CONT_DV'])\\\n",
    "                                .first()"
   ]
  },
  {
   "cell_type": "markdown",
   "id": "c6e93e73-fde5-44f1-b606-6f87d2e37e5c",
   "metadata": {},
   "source": [
    "Se guarda en un archivo .csv"
   ]
  },
  {
   "cell_type": "code",
   "execution_count": null,
   "id": "457edba5-0fee-4cbd-b26f-6bd39f4f2cef",
   "metadata": {
    "tags": []
   },
   "outputs": [],
   "source": [
    "dj1887_u_ini_fisc.iloc[:,:20].to_csv(PATH+\"data/raw/dj1887_u_ini_fisc.csv\")\n",
    "dj1887_u_f29.iloc[:,:20].to_csv(PATH+\"data/raw/dj1887_u_f29.csv\")"
   ]
  },
  {
   "cell_type": "markdown",
   "id": "bb3f97d8-9921-48a5-9844-4420ff2e49b3",
   "metadata": {},
   "source": [
    "#### DJ1879"
   ]
  },
  {
   "cell_type": "markdown",
   "id": "39431960-e9a8-469b-8316-970a77290930",
   "metadata": {},
   "source": [
    "Se cargan las DJ1889 para los periodos de estudio"
   ]
  },
  {
   "cell_type": "code",
   "execution_count": null,
   "id": "1d2765ef-a8f6-45c1-ad73-db47b0057cf6",
   "metadata": {
    "tags": []
   },
   "outputs": [],
   "source": [
    "EXAMPLE_SQL_QUERY = \"\"\"\n",
    "select *\n",
    "from dw.dw_trn_djr_f1879_e\n",
    "where PERI_AGNO_MES_TRIBUTARIO BETWEEN 202100 AND 202200\n",
    "\"\"\"\n",
    "dj1879 = spark.sql(EXAMPLE_SQL_QUERY)"
   ]
  },
  {
   "cell_type": "markdown",
   "id": "0be6b26e-84f4-49ac-97e1-d04dceb043e0",
   "metadata": {},
   "source": [
    "Se hace el join con el vector objetivo"
   ]
  },
  {
   "cell_type": "code",
   "execution_count": null,
   "id": "870e5b59-5e28-4faf-8d9f-11c7bdc53bf9",
   "metadata": {
    "tags": []
   },
   "outputs": [],
   "source": [
    "dj1879_vo = vo_spark.join(dj1879, (vo_spark.CONT_RUT_E == dj1879.CONT_RUT) & (vo_spark.CONT_DV_E == dj1879.CONT_DV), 'left')\n",
    "dj1879_vo.createOrReplaceTempView('DJ1879_VO')\n",
    "# dj1879_vo_pd = dj1879_vo.toPandas()"
   ]
  },
  {
   "cell_type": "markdown",
   "id": "17e80749-08e8-473b-baa8-a86c0638d8bf",
   "metadata": {},
   "source": [
    "Se filtra para el mismo año del F29 asociado, se agrupa por rut y periodo, luego se calculan las retenciones a honorarios y la cantidad de estos."
   ]
  },
  {
   "cell_type": "code",
   "execution_count": null,
   "id": "f9caf4de-8b73-4f65-bd7f-9e8ef175c04e",
   "metadata": {
    "tags": []
   },
   "outputs": [],
   "source": [
    "EXAMPLE_SQL_QUERY = \"\"\"\n",
    "select CONT_RUT_E,\n",
    "PERI_AGNO_MES_TRIBUTARIO,\n",
    "count(distinct CONT_RUT_INFO) CANT_TRABAJ_HONO,\n",
    "sum(F1879_RETE_HONO)\n",
    "from DJ1879_VO\n",
    "where cast(left(F29_AGNO_MES_TRIBUTARIO,4) as int)*100 = PERI_AGNO_MES_TRIBUTARIO\n",
    "group by CONT_RUT_E,PERI_AGNO_MES_TRIBUTARIO\n",
    "\"\"\"\n",
    "var_dj1879 = spark.sql(EXAMPLE_SQL_QUERY)"
   ]
  },
  {
   "cell_type": "code",
   "execution_count": null,
   "id": "816ae9b4-20f1-48a2-8efe-e329774f3499",
   "metadata": {
    "tags": []
   },
   "outputs": [],
   "source": [
    "var_dj1879_pd = var_dj1879.toPandas()"
   ]
  },
  {
   "cell_type": "markdown",
   "id": "1cd0048b-a693-4ffd-96d4-040591a9e800",
   "metadata": {},
   "source": [
    "Se guarda en un archivo .csv"
   ]
  },
  {
   "cell_type": "code",
   "execution_count": null,
   "id": "e65f155e-f633-4c1e-b8a3-fd4a416796b9",
   "metadata": {
    "tags": []
   },
   "outputs": [],
   "source": [
    "var_dj1879_pd.to_csv(PATH+\"data/raw/var_dj1879_f29.csv\")"
   ]
  },
  {
   "cell_type": "markdown",
   "id": "6f3eec89-a733-4074-93dc-a199661a90ba",
   "metadata": {},
   "source": [
    "Igual que antes pero tomando como referencia el inicio de la fiscalización"
   ]
  },
  {
   "cell_type": "code",
   "execution_count": null,
   "id": "c665fa1f-9673-4eea-ab6f-b7d4cc6c87c9",
   "metadata": {
    "tags": []
   },
   "outputs": [],
   "source": [
    "EXAMPLE_SQL_QUERY = \"\"\"\n",
    "select CONT_RUT_E,\n",
    "--AGNOMES_INI,\n",
    "PERI_AGNO_MES_TRIBUTARIO,\n",
    "count(distinct CONT_RUT_INFO) CANT_TRABAJ_HONO,\n",
    "sum(F1879_RETE_HONO)\n",
    "from DJ1879_VO\n",
    "where cast(left(AGNOMES_INI,4) as int)*100 = PERI_AGNO_MES_TRIBUTARIO\n",
    "group by CONT_RUT_E,AGNOMES_INI,PERI_AGNO_MES_TRIBUTARIO\n",
    "\"\"\"\n",
    "var_dj1879_ini_fisc = spark.sql(EXAMPLE_SQL_QUERY)"
   ]
  },
  {
   "cell_type": "code",
   "execution_count": 2,
   "id": "d55f07c7-bf3f-4e9a-be48-574354812f0d",
   "metadata": {
    "tags": []
   },
   "outputs": [
    {
     "ename": "NameError",
     "evalue": "name 'var_dj1879_ini_fisc' is not defined",
     "output_type": "error",
     "traceback": [
      "\u001b[0;31m---------------------------------------------------------------------------\u001b[0m",
      "\u001b[0;31mNameError\u001b[0m                                 Traceback (most recent call last)",
      "Cell \u001b[0;32mIn[2], line 1\u001b[0m\n\u001b[0;32m----> 1\u001b[0m var_dj1879_ini_fisc_pd \u001b[38;5;241m=\u001b[39m \u001b[43mvar_dj1879_ini_fisc\u001b[49m\u001b[38;5;241m.\u001b[39mtoPandas()\n",
      "\u001b[0;31mNameError\u001b[0m: name 'var_dj1879_ini_fisc' is not defined"
     ]
    }
   ],
   "source": [
    "var_dj1879_ini_fisc_pd = var_dj1879_ini_fisc.toPandas()"
   ]
  },
  {
   "cell_type": "code",
   "execution_count": null,
   "id": "c96d124c-701a-4b2f-8d31-0fb8e0df0790",
   "metadata": {
    "tags": []
   },
   "outputs": [],
   "source": [
    "var_dj1879_ini_fisc_pd.to_csv(PATH+\"data/raw/var_dj1879_ini_fisc.csv\")"
   ]
  },
  {
   "cell_type": "markdown",
   "id": "075d8035-42a9-455f-a038-911a8a9b5177",
   "metadata": {},
   "source": [
    "### Cantidad de empleados con contrato que tienen multiples trabajos"
   ]
  },
  {
   "cell_type": "markdown",
   "id": "08d3efc6-0600-45db-b47d-6656dd6b5ff3",
   "metadata": {},
   "source": [
    "Se obtienen todas las DJ1887 de los contribuyentes del vector objetivo"
   ]
  },
  {
   "cell_type": "code",
   "execution_count": null,
   "id": "13b1eae1-b9c3-4d5b-b8e0-5d250c507ee8",
   "metadata": {
    "tags": []
   },
   "outputs": [],
   "source": [
    "dj1887_vo = vo_spark.join(dj1887, (vo_spark.CONT_RUT_E == dj1887.CONT_RUT) & (vo_spark.CONT_DV_E == dj1887.CONT_DV) & (vo_spark.AGNOMES_INI >= dj1887.PERI_AGNO_MES_TRIBUTARIO), 'left')"
   ]
  },
  {
   "cell_type": "code",
   "execution_count": null,
   "id": "4939ef26-f150-4847-b970-b48b7e4d5bcb",
   "metadata": {
    "tags": []
   },
   "outputs": [],
   "source": [
    "dj1887_vo.createOrReplaceTempView('DJ1887_VO')"
   ]
  },
  {
   "cell_type": "markdown",
   "id": "331c4698-a890-4aba-b821-d3f7c3a7f904",
   "metadata": {},
   "source": [
    "Ruts de los empleados en las DJ1887s"
   ]
  },
  {
   "cell_type": "code",
   "execution_count": null,
   "id": "360d0bfe-8747-4330-a98e-5847f606a08e",
   "metadata": {
    "tags": []
   },
   "outputs": [],
   "source": [
    "EXAMPLE_SQL_QUERY = \"\"\"\n",
    "SELECT distinct CONT_RUT_E, CONT_RUT_INFO AS RUT_EMPLEADO, CONT_DV_INFO AS DV_EMPLEADOS, PERI_AGNO_MES_TRIBUTARIO PT\n",
    "from DJ1887_VO\n",
    "where cast(left(F29_AGNO_MES_TRIBUTARIO,4) as int)*100 = PERI_AGNO_MES_TRIBUTARIO\n",
    "\"\"\"\n",
    "ruts_empleados = spark.sql(EXAMPLE_SQL_QUERY)"
   ]
  },
  {
   "cell_type": "markdown",
   "id": "2c90ecb6-30ee-47a9-aa8c-143a4109e148",
   "metadata": {},
   "source": [
    "Con el listado de ruts se va a buscar si los empleados se encuentran en DJs de otros contribuyentes"
   ]
  },
  {
   "cell_type": "code",
   "execution_count": null,
   "id": "fc285bca-a71a-466e-b1a3-0b68d1b02675",
   "metadata": {
    "tags": []
   },
   "outputs": [],
   "source": [
    "ruts_empleados.join(dj1887, (ruts_empleados.RUT_EMPLEADO == dj1887.CONT_RUT_INFO) & (ruts_empleados.DV_EMPLEADOS == dj1887.CONT_DV_INFO) & (ruts_empleados.PT == dj1887.PERI_AGNO_MES_TRIBUTARIO), 'left').createOrReplaceTempView('DECLA_EMPLEADOS')"
   ]
  },
  {
   "cell_type": "markdown",
   "id": "bef1c0f1-a4b0-4d5a-bc44-72f2075ac17a",
   "metadata": {},
   "source": [
    "Se cuentan la cantidad de ruts de contribuyentes para cada empleado"
   ]
  },
  {
   "cell_type": "code",
   "execution_count": null,
   "id": "f90c2d8f-7085-41ad-b3cc-d8cb54a93a7e",
   "metadata": {
    "tags": []
   },
   "outputs": [],
   "source": [
    "EXAMPLE_SQL_QUERY = \"\"\"\n",
    "SELECT CONT_RUT_E, CONT_RUT_INFO, CONT_DV_INFO, PERI_AGNO_MES_TRIBUTARIO, COUNT(DISTINCT CONT_RUT) CANT_EMPRESAS\n",
    "from DECLA_EMPLEADOS\n",
    "GROUP BY CONT_RUT_E, CONT_RUT_INFO, CONT_DV_INFO, PERI_AGNO_MES_TRIBUTARIO\n",
    "\"\"\"\n",
    "cant_trabajos_empleados = spark.sql(EXAMPLE_SQL_QUERY)"
   ]
  },
  {
   "cell_type": "code",
   "execution_count": null,
   "id": "e7ced8cc-d063-4db7-a43b-c21678bfa325",
   "metadata": {
    "tags": []
   },
   "outputs": [],
   "source": [
    "cant_trabajos_empleados_pd = cant_trabajos_empleados.toPandas()"
   ]
  },
  {
   "cell_type": "markdown",
   "id": "9d5e926d-699c-4c25-9ab0-f85b43eb628e",
   "metadata": {},
   "source": [
    "Se agrupa por contribuyente del vector objetivo"
   ]
  },
  {
   "cell_type": "code",
   "execution_count": null,
   "id": "024fc552-7c3f-4356-b5a2-916722cfae83",
   "metadata": {
    "tags": []
   },
   "outputs": [],
   "source": [
    "cant_trabajos_empleados_pd_agg = cant_trabajos_empleados_pd[['CONT_RUT_E', 'PERI_AGNO_MES_TRIBUTARIO', 'CANT_EMPRESAS']].value_counts().reset_index().rename({0:'CANT_EMPLEADOS'}, axis=1)"
   ]
  },
  {
   "cell_type": "markdown",
   "id": "8886731a-bdce-4993-bb37-b2edf3e667ef",
   "metadata": {},
   "source": [
    "Se crea indicador de si el contribuyente cuenta con empleados que tienen contratos en 1,3 o 5 empresas, y se cuentan la cantidad de empleados en estas categorias"
   ]
  },
  {
   "cell_type": "code",
   "execution_count": null,
   "id": "5768266f-bc06-44b8-82cc-7d9272c7a1de",
   "metadata": {
    "tags": []
   },
   "outputs": [],
   "source": [
    "cant_trabajos_empleados_pd_agg['MAS_DE_1_EMPLEO'] = (cant_trabajos_empleados_pd_agg['CANT_EMPRESAS'] > 1).astype(int)\n",
    "cant_trabajos_empleados_pd_agg['MAS_DE_3_EMPLEO'] = (cant_trabajos_empleados_pd_agg['CANT_EMPRESAS'] > 3).astype(int)\n",
    "cant_trabajos_empleados_pd_agg['MAS_DE_5_EMPLEO'] = (cant_trabajos_empleados_pd_agg['CANT_EMPRESAS'] > 5).astype(int)"
   ]
  },
  {
   "cell_type": "code",
   "execution_count": null,
   "id": "7f1167ef-9d9e-4c09-8ba1-db496928cdbc",
   "metadata": {
    "tags": []
   },
   "outputs": [],
   "source": [
    "cant_trabajos_empleados_pd_agg.groupby(['CONT_RUT_E', 'PERI_AGNO_MES_TRIBUTARIO']).agg({'CANT_EMPLEADOS':'sum','MAS_DE_1_EMPLEO':'max'}).reset_index().rename({'CANT_EMPLEADOS':'CANT_EMPLEADOS_MAS_DE_1_EMPLEO'}).to_csv(PATH+\"data/raw/MAS_DE_1_EMPLEO.csv\", index=False)\n",
    "cant_trabajos_empleados_pd_agg.groupby(['CONT_RUT_E', 'PERI_AGNO_MES_TRIBUTARIO']).agg({'CANT_EMPLEADOS':'sum','MAS_DE_3_EMPLEO':'max'}).reset_index().rename({'CANT_EMPLEADOS':'CANT_EMPLEADOS_MAS_DE_3_EMPLEO'}).to_csv(PATH+\"data/raw/MAS_DE_3_EMPLEO.csv\", index=False)\n",
    "cant_trabajos_empleados_pd_agg.groupby(['CONT_RUT_E', 'PERI_AGNO_MES_TRIBUTARIO']).agg({'CANT_EMPLEADOS':'sum','MAS_DE_5_EMPLEO':'max'}).reset_index().rename({'CANT_EMPLEADOS':'CANT_EMPLEADOS_MAS_DE_5_EMPLEO'}).to_csv(PATH+\"data/raw/MAS_DE_5_EMPLEO.csv\", index=False)"
   ]
  },
  {
   "cell_type": "markdown",
   "id": "78a1bebb-e11d-49cb-a3e3-4964b2c8f36b",
   "metadata": {},
   "source": [
    "### Cantidad de menores de edad y fallecidos por empresa"
   ]
  },
  {
   "cell_type": "markdown",
   "id": "7a77e1c4-8b86-4224-8d3e-ab1ebfb5777a",
   "metadata": {},
   "source": [
    "Se obtienen los empleados de los contribuyentes"
   ]
  },
  {
   "cell_type": "code",
   "execution_count": null,
   "id": "88b71945-6d47-486a-961f-00ecc5493ab2",
   "metadata": {
    "tags": []
   },
   "outputs": [],
   "source": [
    "EXAMPLE_SQL_QUERY = \"\"\"\n",
    "SELECT \n",
    "distinct \n",
    "CONT_RUT_E,\n",
    "CONT_RUT_INFO AS RUT_EMPLEADO, \n",
    "CONT_DV_INFO AS DV_EMPLEADOS,\n",
    "last_day(to_date(substr(F29_AGNO_MES_TRIBUTARIO,1,4) || '-' || substr(F29_AGNO_MES_TRIBUTARIO,5,2) || '-01')) F29_FECHA,\n",
    "F29_AGNO_MES_TRIBUTARIO,\n",
    "PERI_AGNO_MES_TRIBUTARIO,\n",
    "CONT_FECHA_NACIMIENTO_VO,\n",
    "CONT_FECHA_DEFUNCION_VO\n",
    "from DJ1887_VO a\n",
    "left join dw.dw_trn_contribuyentes_e b on (a.CONT_RUT_INFO = b.CONT_RUT) and (a.CONT_DV_INFO = b.CONT_DV)\n",
    "where cast(left(F29_AGNO_MES_TRIBUTARIO,4) as int)*100 = PERI_AGNO_MES_TRIBUTARIO\n",
    "\"\"\"\n",
    "spark.sql(EXAMPLE_SQL_QUERY).createOrReplaceTempView('EMPLEADOS')"
   ]
  },
  {
   "cell_type": "markdown",
   "id": "d7eb0ed6-d191-4e77-bae0-b564c9704b2c",
   "metadata": {},
   "source": [
    "Se crea indicador de menor de edad y fallecimiento"
   ]
  },
  {
   "cell_type": "code",
   "execution_count": null,
   "id": "5a114cdc-8d3e-4d88-9e7c-7590eb9e5d3c",
   "metadata": {
    "tags": []
   },
   "outputs": [],
   "source": [
    "EXAMPLE_SQL_QUERY = \"\"\"\n",
    "SELECT \n",
    "distinct \n",
    "CONT_RUT_E,\n",
    "RUT_EMPLEADO, \n",
    "DV_EMPLEADOS,\n",
    "case when CAST(months_between( F29_FECHA, CONT_FECHA_NACIMIENTO_VO ) AS INT )/12 < 18 then 1 else 0 end MENOR_DE_EDAD,\n",
    "CAST((PERI_AGNO_MES_TRIBUTARIO - 100 > YEAR(CONT_FECHA_DEFUNCION_VO)*100+MONTH(CONT_FECHA_DEFUNCION_VO)) AS INT) FALLECIDO,\n",
    "F29_FECHA,\n",
    "F29_AGNO_MES_TRIBUTARIO,\n",
    "PERI_AGNO_MES_TRIBUTARIO,\n",
    "CONT_FECHA_NACIMIENTO_VO,\n",
    "CONT_FECHA_DEFUNCION_VO\n",
    "from EMPLEADOS\n",
    "\"\"\"\n",
    "empleados = spark.sql(EXAMPLE_SQL_QUERY)"
   ]
  },
  {
   "cell_type": "code",
   "execution_count": null,
   "id": "55dfc5bf-ee78-40d3-b0e1-74692155524c",
   "metadata": {
    "tags": []
   },
   "outputs": [],
   "source": [
    "empleados_pd = empleados.toPandas()"
   ]
  },
  {
   "cell_type": "markdown",
   "id": "6fad6a31-5e6a-486a-9532-456b2ac27914",
   "metadata": {},
   "source": [
    "Se agrupa a nivel de contribuyente, se genera si el contribuyente cuenta con menores de edad y fallecidos y se suman"
   ]
  },
  {
   "cell_type": "code",
   "execution_count": null,
   "id": "f06c57bb-efe4-4c99-8383-ec6378a34dfc",
   "metadata": {
    "tags": []
   },
   "outputs": [],
   "source": [
    "menores_y_fallecidos = empleados_pd.groupby(['CONT_RUT_E', 'F29_AGNO_MES_TRIBUTARIO', 'F29_FECHA', 'PERI_AGNO_MES_TRIBUTARIO']).agg({'MENOR_DE_EDAD':['sum', 'max'], 'FALLECIDO':['sum', 'max']}).fillna(0).reset_index()\n",
    "menores_y_fallecidos.columns = ['_'.join(col).upper() for col in menores_y_fallecidos.columns.values]\n",
    "menores_y_fallecidos.to_csv(PATH+\"data/raw/MENORES_FALLECIDOS.csv\", index=False)"
   ]
  }
 ],
 "metadata": {
  "kernelspec": {
   "display_name": "Python 3 (ipykernel)",
   "language": "python",
   "name": "python3"
  },
  "language_info": {
   "codemirror_mode": {
    "name": "ipython",
    "version": 3
   },
   "file_extension": ".py",
   "mimetype": "text/x-python",
   "name": "python",
   "nbconvert_exporter": "python",
   "pygments_lexer": "ipython3",
   "version": "3.10.13"
  }
 },
 "nbformat": 4,
 "nbformat_minor": 5
}
